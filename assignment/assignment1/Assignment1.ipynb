{
 "cells": [
  {
   "cell_type": "markdown",
   "id": "ffe49d77",
   "metadata": {},
   "source": [
    "# Assignment 1"
   ]
  },
  {
   "cell_type": "markdown",
   "id": "6817755f",
   "metadata": {},
   "source": [
    "Author: Dipesh Poudel\n",
    "\n",
    "Roll No: 10"
   ]
  },
  {
   "cell_type": "markdown",
   "id": "e0bff168",
   "metadata": {},
   "source": [
    "## Q.No 1\n",
    "Write python programs to implement linear regression using Stochastic GD, Batch GD, and mini-batch GD. Capture time needed to train the predict the models and compare each approach (Use data.csv)."
   ]
  },
  {
   "cell_type": "markdown",
   "id": "7b30b678",
   "metadata": {},
   "source": [
    "### Importing the required Libaries "
   ]
  },
  {
   "cell_type": "code",
   "execution_count": 1,
   "id": "0088f20a",
   "metadata": {},
   "outputs": [],
   "source": [
    "import pandas as pd\n",
    "import numpy as np\n",
    "import matplotlib.pyplot as plt\n",
    "from sklearn import metrics"
   ]
  },
  {
   "cell_type": "markdown",
   "id": "cbf191b3",
   "metadata": {},
   "source": [
    "### Gettting the Data\n",
    "\n",
    "Reading the CSV file into pandas dataframe"
   ]
  },
  {
   "cell_type": "code",
   "execution_count": 2,
   "id": "f17cb8db",
   "metadata": {},
   "outputs": [
    {
     "data": {
      "text/html": [
       "<div>\n",
       "<style scoped>\n",
       "    .dataframe tbody tr th:only-of-type {\n",
       "        vertical-align: middle;\n",
       "    }\n",
       "\n",
       "    .dataframe tbody tr th {\n",
       "        vertical-align: top;\n",
       "    }\n",
       "\n",
       "    .dataframe thead th {\n",
       "        text-align: right;\n",
       "    }\n",
       "</style>\n",
       "<table border=\"1\" class=\"dataframe\">\n",
       "  <thead>\n",
       "    <tr style=\"text-align: right;\">\n",
       "      <th></th>\n",
       "      <th>0</th>\n",
       "      <th>1</th>\n",
       "    </tr>\n",
       "  </thead>\n",
       "  <tbody>\n",
       "    <tr>\n",
       "      <th>0</th>\n",
       "      <td>32.502345</td>\n",
       "      <td>31.707006</td>\n",
       "    </tr>\n",
       "    <tr>\n",
       "      <th>1</th>\n",
       "      <td>53.426804</td>\n",
       "      <td>68.777596</td>\n",
       "    </tr>\n",
       "    <tr>\n",
       "      <th>2</th>\n",
       "      <td>61.530358</td>\n",
       "      <td>62.562382</td>\n",
       "    </tr>\n",
       "    <tr>\n",
       "      <th>3</th>\n",
       "      <td>47.475640</td>\n",
       "      <td>71.546632</td>\n",
       "    </tr>\n",
       "    <tr>\n",
       "      <th>4</th>\n",
       "      <td>59.813208</td>\n",
       "      <td>87.230925</td>\n",
       "    </tr>\n",
       "  </tbody>\n",
       "</table>\n",
       "</div>"
      ],
      "text/plain": [
       "           0          1\n",
       "0  32.502345  31.707006\n",
       "1  53.426804  68.777596\n",
       "2  61.530358  62.562382\n",
       "3  47.475640  71.546632\n",
       "4  59.813208  87.230925"
      ]
     },
     "execution_count": 2,
     "metadata": {},
     "output_type": "execute_result"
    }
   ],
   "source": [
    "df = pd.read_csv('data/data.csv',header=None)\n",
    "df.head()"
   ]
  },
  {
   "cell_type": "markdown",
   "id": "ce857f73",
   "metadata": {},
   "source": [
    "Assigning first column as $X$(Independent Variable) and second column as $y$(Dependent Variable)  "
   ]
  },
  {
   "cell_type": "code",
   "execution_count": 3,
   "id": "35201497",
   "metadata": {},
   "outputs": [],
   "source": [
    "X = df.iloc[:,0]\n",
    "y = df.iloc[:,1]"
   ]
  },
  {
   "cell_type": "markdown",
   "id": "7a77b35f",
   "metadata": {},
   "source": [
    "### Plotting the Data"
   ]
  },
  {
   "cell_type": "code",
   "execution_count": 4,
   "id": "facfc51f",
   "metadata": {},
   "outputs": [
    {
     "data": {
      "image/png": "[encoded data removed]",
      "text/plain": [
       "<Figure size 360x360 with 1 Axes>"
      ]
     },
     "metadata": {
      "needs_background": "light"
     },
     "output_type": "display_data"
    }
   ],
   "source": [
    "plt.figure(figsize=(5,5))\n",
    "plt.scatter(X,y)\n",
    "plt.title(\"Scatter Plot of X and y\")\n",
    "plt.xlabel('X')\n",
    "plt.ylabel('y')\n",
    "plt.show()"
   ]
  },
  {
   "cell_type": "markdown",
   "id": "6f9920eb",
   "metadata": {},
   "source": [
    "From the scatter plot we can see that the relationship between $X$ and $y$ is linear."
   ]
  },
  {
   "cell_type": "markdown",
   "id": "6d7921c1",
   "metadata": {},
   "source": [
    "### Batch Gradient Descent\n",
    "\n",
    "In batch gradient descent we update the parameters(weights) once per epoch "
   ]
  },
  {
   "cell_type": "markdown",
   "id": "2a67d534",
   "metadata": {},
   "source": [
    "#### Training the Model"
   ]
  },
  {
   "cell_type": "code",
   "execution_count": 5,
   "id": "d5fe833c",
   "metadata": {},
   "outputs": [
    {
     "name": "stdout",
     "output_type": "stream",
     "text": [
      "Iteration 0\n",
      " w0 = 0.014547010110737297\tw1 = 0.7370702973591055\n",
      "Iteration 100\n",
      " w0 = 0.03513502002912928\tw1 = 1.4788015372774521\n",
      "Iteration 200\n",
      " w0 = 0.04113767542736797\tw1 = 1.4786835569145387\n",
      "Iteration 300\n",
      " w0 = 0.047135801867800996\tw1 = 1.4785656655669113\n",
      "Iteration 400\n",
      " w0 = 0.05312940276749255\tw1 = 1.4784478631674083\n",
      "Iteration 500\n",
      " w0 = 0.059118481540928546\tw1 = 1.478330149648919\n",
      "Iteration 600\n",
      " w0 = 0.06510304160001894\tw1 = 1.4782125249443832\n",
      "Iteration 700\n",
      " w0 = 0.07108308635409932\tw1 = 1.4780949889867918\n",
      "Iteration 800\n",
      " w0 = 0.07705861920993279\tw1 = 1.4779775417091856\n",
      "Iteration 900\n",
      " w0 = 0.08302964357171239\tw1 = 1.4778601830446565\n"
     ]
    }
   ],
   "source": [
    "## %%timeit\n",
    "w0 = 0 \n",
    "w1 = 0\n",
    "lr = 0.0001\n",
    "epochs = 1000\n",
    "n=float(len(X))\n",
    "for i in range(epochs):\n",
    "    y_pred = w0+w1*X\n",
    "    delw0 = (-2/n)*sum(y-y_pred)\n",
    "    delw1 = (-2/n)*sum(X*(y-y_pred))\n",
    "    w0=w0-lr*delw0\n",
    "    w1=w1-lr*delw1\n",
    "    if i%100==0:\n",
    "        print(f\"Iteration {i}\\n w0 = {w0}\\tw1 = {w1}\")"
   ]
  },
  {
   "cell_type": "markdown",
   "id": "32a05acc",
   "metadata": {},
   "source": [
    "#### Making the Predictions"
   ]
  },
  {
   "cell_type": "code",
   "execution_count": 6,
   "id": "1bda9350",
   "metadata": {},
   "outputs": [],
   "source": [
    "y_pred = w0+w1*X"
   ]
  },
  {
   "cell_type": "markdown",
   "id": "64e1caa3",
   "metadata": {},
   "source": [
    "#### Plotting the Result"
   ]
  },
  {
   "cell_type": "code",
   "execution_count": 7,
   "id": "2b3acabc",
   "metadata": {},
   "outputs": [
    {
     "data": {
      "image/png": "[encoded data removed]",
      "text/plain": [
       "<Figure size 360x360 with 1 Axes>"
      ]
     },
     "metadata": {
      "needs_background": "light"
     },
     "output_type": "display_data"
    }
   ],
   "source": [
    "plt.figure(figsize=(5,5))\n",
    "plt.scatter(X,y)\n",
    "plt.plot([min(X),max(X)],[min(y_pred),max(y_pred)],color='red')\n",
    "plt.title(\"Scatter Plot of X and y with Regression Line\")\n",
    "plt.xlabel('X')\n",
    "plt.ylabel('y')\n",
    "plt.show()"
   ]
  },
  {
   "cell_type": "markdown",
   "id": "725aae64",
   "metadata": {},
   "source": [
    "#### Model Evaluation"
   ]
  },
  {
   "cell_type": "code",
   "execution_count": 8,
   "id": "efa38274",
   "metadata": {},
   "outputs": [],
   "source": [
    "def model_evaluate(y,y_pred):\n",
    "    mae = metrics.mean_absolute_error(y, y_pred)\n",
    "    mse = metrics.mean_squared_error(y, y_pred)\n",
    "    r2 = metrics.r2_score(y, y_pred)\n",
    "    print(\"The model performance\")\n",
    "    print(\"--------------------------------------\")\n",
    "    print(f'MAE is {mae}')\n",
    "    print(f'MSE is {mse}')\n",
    "    print('R2 score is {}'.format(r2))"
   ]
  },
  {
   "cell_type": "code",
   "execution_count": 9,
   "id": "45410921",
   "metadata": {},
   "outputs": [
    {
     "name": "stdout",
     "output_type": "stream",
     "text": [
      "The model performance\n",
      "--------------------------------------\n",
      "MAE is 8.422711763776555\n",
      "MSE is 112.6148101161347\n",
      "R2 score is 0.5900746017527791\n"
     ]
    }
   ],
   "source": [
    "model_evaluate(y,y_pred)"
   ]
  },
  {
   "cell_type": "markdown",
   "id": "0eecb67c",
   "metadata": {},
   "source": [
    "The value of R2 is 0.59 which means the model was able to explain 59% variance in dependent variable caused by independent variable"
   ]
  },
  {
   "cell_type": "markdown",
   "id": "dc81ebb0",
   "metadata": {},
   "source": [
    "### Stochastic Gradient Descent\n",
    "\n",
    "In Stochastic Gradient Descent, we update the weights for each data point"
   ]
  },
  {
   "cell_type": "code",
   "execution_count": 10,
   "id": "0bbfd1d9",
   "metadata": {},
   "outputs": [
    {
     "name": "stdout",
     "output_type": "stream",
     "text": [
      "Iteration 0\n",
      " w0 = 0.09153650246648085\tw1 = 1.6369825710274306\n",
      "Iteration 100\n",
      " w0 = 5.635380287741265\tw1 = 1.5120550290228583\n",
      "Iteration 200\n",
      " w0 = 10.75614151269468\tw1 = 1.3966614252699978\n",
      "Iteration 300\n",
      " w0 = 15.486108037479578\tw1 = 1.2900741701826863\n",
      "Iteration 400\n",
      " w0 = 19.855103650195204\tw1 = 1.1916212007149922\n",
      "Iteration 500\n",
      " w0 = 23.89067611437804\tw1 = 1.100681742812011\n",
      "Iteration 600\n",
      " w0 = 27.618270865508453\tw1 = 1.0166823972523873\n",
      "Iteration 700\n",
      " w0 = 31.061391451739492\tw1 = 0.939093524202663\n",
      "Iteration 800\n",
      " w0 = 34.24174773047183\tw1 = 0.8674259036870631\n",
      "Iteration 900\n",
      " w0 = 37.17939275519749\tw1 = 0.8012276509159942\n"
     ]
    }
   ],
   "source": [
    "##%%timeit\n",
    "w0 = 0\n",
    "w1 = 0\n",
    "lr = 0.0001\n",
    "epochs = 1000\n",
    "n=float(len(X))\n",
    "for i in range(epochs):\n",
    "    for j in range(len(X)):\n",
    "        y_pred = w0+w1*X[j]\n",
    "        delw0 = (-2/n)*sum(y-y_pred)\n",
    "        delw1 = (-2/n)*sum(X[j]*(y-y_pred))\n",
    "        w0=w0-lr*delw0\n",
    "        w1=w1-lr*delw1\n",
    "    if i%100==0:\n",
    "        print(f\"Iteration {i}\\n w0 = {w0}\\tw1 = {w1}\")"
   ]
  },
  {
   "cell_type": "code",
   "execution_count": 11,
   "id": "1a4da688",
   "metadata": {},
   "outputs": [],
   "source": [
    "y_pred = w0+w1*X"
   ]
  },
  {
   "cell_type": "code",
   "execution_count": 12,
   "id": "4a4884a0",
   "metadata": {},
   "outputs": [
    {
     "data": {
      "image/png": "[encoded data removed]",
      "text/plain": [
       "<Figure size 432x288 with 1 Axes>"
      ]
     },
     "metadata": {
      "needs_background": "light"
     },
     "output_type": "display_data"
    }
   ],
   "source": [
    "plt.scatter(X,y)\n",
    "plt.plot([min(X),max(X)],[min(y_pred),max(y_pred)],color='red')\n",
    "plt.show()"
   ]
  },
  {
   "cell_type": "code",
   "execution_count": 13,
   "id": "0b1b7df9",
   "metadata": {},
   "outputs": [
    {
     "name": "stdout",
     "output_type": "stream",
     "text": [
      "The model performance\n",
      "--------------------------------------\n",
      "MAE is 10.234735478223454\n",
      "MSE is 153.60245153544815\n",
      "R2 score is 0.4408768611119228\n"
     ]
    }
   ],
   "source": [
    "model_evaluate(y,y_pred)"
   ]
  },
  {
   "cell_type": "markdown",
   "id": "18e7827d",
   "metadata": {},
   "source": [
    "### Mini Batch Gradient Descent\n",
    "\n",
    "In Mini Batch Gradi"
   ]
  }
 ],
 "metadata": {
  "kernelspec": {
   "display_name": "Python 3",
   "language": "python",
   "name": "python3"
  },
  "language_info": {
   "codemirror_mode": {
    "name": "ipython",
    "version": 3
   },
   "file_extension": ".py",
   "mimetype": "text/x-python",
   "name": "python",
   "nbconvert_exporter": "python",
   "pygments_lexer": "ipython3",
   "version": "3.8.8"
  }
 },
 "nbformat": 4,
 "nbformat_minor": 5
}
