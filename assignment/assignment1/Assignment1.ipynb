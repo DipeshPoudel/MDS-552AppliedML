{
 "cells": [
  {
   "cell_type": "markdown",
   "id": "ffe49d77",
   "metadata": {},
   "source": [
    "# Assignment 1"
   ]
  },
  {
   "cell_type": "markdown",
   "id": "6817755f",
   "metadata": {},
   "source": [
    "Author: Dipesh Poudel\n",
    "\n",
    "Roll No: 10"
   ]
  },
  {
   "cell_type": "markdown",
   "id": "e0bff168",
   "metadata": {},
   "source": [
    "## Q.No 1\n",
    "Write python programs to implement linear regression using Stochastic GD, Batch GD, and mini-batch GD. Capture time needed to train the predict the models and compare each approach (Use data.csv)."
   ]
  },
  {
   "cell_type": "markdown",
   "id": "7b30b678",
   "metadata": {},
   "source": [
    "### Importing the required Libaries "
   ]
  },
  {
   "cell_type": "code",
   "execution_count": 1,
   "id": "0088f20a",
   "metadata": {},
   "outputs": [],
   "source": [
    "import pandas as pd\n",
    "import numpy as np\n",
    "import matplotlib.pyplot as plt\n",
    "from sklearn import metrics"
   ]
  },
  {
   "cell_type": "markdown",
   "id": "cbf191b3",
   "metadata": {},
   "source": [
    "### Gettting the Data\n",
    "\n",
    "Reading the CSV file into pandas dataframe"
   ]
  },
  {
   "cell_type": "code",
   "execution_count": 2,
   "id": "f17cb8db",
   "metadata": {},
   "outputs": [
    {
     "data": {
      "text/html": [
       "<div>\n",
       "<style scoped>\n",
       "    .dataframe tbody tr th:only-of-type {\n",
       "        vertical-align: middle;\n",
       "    }\n",
       "\n",
       "    .dataframe tbody tr th {\n",
       "        vertical-align: top;\n",
       "    }\n",
       "\n",
       "    .dataframe thead th {\n",
       "        text-align: right;\n",
       "    }\n",
       "</style>\n",
       "<table border=\"1\" class=\"dataframe\">\n",
       "  <thead>\n",
       "    <tr style=\"text-align: right;\">\n",
       "      <th></th>\n",
       "      <th>0</th>\n",
       "      <th>1</th>\n",
       "    </tr>\n",
       "  </thead>\n",
       "  <tbody>\n",
       "    <tr>\n",
       "      <th>0</th>\n",
       "      <td>32.502345</td>\n",
       "      <td>31.707006</td>\n",
       "    </tr>\n",
       "    <tr>\n",
       "      <th>1</th>\n",
       "      <td>53.426804</td>\n",
       "      <td>68.777596</td>\n",
       "    </tr>\n",
       "    <tr>\n",
       "      <th>2</th>\n",
       "      <td>61.530358</td>\n",
       "      <td>62.562382</td>\n",
       "    </tr>\n",
       "    <tr>\n",
       "      <th>3</th>\n",
       "      <td>47.475640</td>\n",
       "      <td>71.546632</td>\n",
       "    </tr>\n",
       "    <tr>\n",
       "      <th>4</th>\n",
       "      <td>59.813208</td>\n",
       "      <td>87.230925</td>\n",
       "    </tr>\n",
       "  </tbody>\n",
       "</table>\n",
       "</div>"
      ],
      "text/plain": [
       "           0          1\n",
       "0  32.502345  31.707006\n",
       "1  53.426804  68.777596\n",
       "2  61.530358  62.562382\n",
       "3  47.475640  71.546632\n",
       "4  59.813208  87.230925"
      ]
     },
     "execution_count": 2,
     "metadata": {},
     "output_type": "execute_result"
    }
   ],
   "source": [
    "df = pd.read_csv('data/data.csv',header=None)\n",
    "df.head()"
   ]
  },
  {
   "cell_type": "markdown",
   "id": "ce857f73",
   "metadata": {},
   "source": [
    "Assigning first column as $X$(Independent Variable) and second column as $y$(Dependent Variable)  "
   ]
  },
  {
   "cell_type": "code",
   "execution_count": 3,
   "id": "35201497",
   "metadata": {},
   "outputs": [],
   "source": [
    "X = df.iloc[:,0]\n",
    "y = df.iloc[:,1]"
   ]
  },
  {
   "cell_type": "markdown",
   "id": "7a77b35f",
   "metadata": {},
   "source": [
    "### Plotting the Data"
   ]
  },
  {
   "cell_type": "code",
   "execution_count": 4,
   "id": "facfc51f",
   "metadata": {},
   "outputs": [
    {
     "data": {
      "image/png": "[encoded data removed]",
      "text/plain": [
       "<Figure size 360x360 with 1 Axes>"
      ]
     },
     "metadata": {
      "needs_background": "light"
     },
     "output_type": "display_data"
    }
   ],
   "source": [
    "plt.figure(figsize=(5,5))\n",
    "plt.scatter(X,y)\n",
    "plt.title(\"Scatter Plot of X and y\")\n",
    "plt.xlabel('X')\n",
    "plt.ylabel('y')\n",
    "plt.show()"
   ]
  },
  {
   "cell_type": "markdown",
   "id": "6f9920eb",
   "metadata": {},
   "source": [
    "From the scatter plot we can see that the relationship between $X$ and $y$ is linear."
   ]
  },
  {
   "cell_type": "markdown",
   "id": "6d7921c1",
   "metadata": {},
   "source": [
    "### Batch Gradient Descent\n",
    "\n",
    "In batch gradient descent we update the parameters(weights) once per epoch "
   ]
  },
  {
   "cell_type": "markdown",
   "id": "2a67d534",
   "metadata": {},
   "source": [
    "#### Training the Model"
   ]
  },
  {
   "cell_type": "code",
   "execution_count": 5,
   "id": "d5fe833c",
   "metadata": {},
   "outputs": [
    {
     "name": "stdout",
     "output_type": "stream",
     "text": [
      "Iteration 0\n",
      " w0 = 0.014547010110737297\tw1 = 0.7370702973591055\n",
      "Iteration 100\n",
      " w0 = 0.03513502002912928\tw1 = 1.4788015372774521\n",
      "Iteration 200\n",
      " w0 = 0.04113767542736797\tw1 = 1.4786835569145387\n",
      "Iteration 300\n",
      " w0 = 0.047135801867800996\tw1 = 1.4785656655669113\n",
      "Iteration 400\n",
      " w0 = 0.05312940276749255\tw1 = 1.4784478631674083\n",
      "Iteration 500\n",
      " w0 = 0.059118481540928546\tw1 = 1.478330149648919\n",
      "Iteration 600\n",
      " w0 = 0.06510304160001894\tw1 = 1.4782125249443832\n",
      "Iteration 700\n",
      " w0 = 0.07108308635409932\tw1 = 1.4780949889867918\n",
      "Iteration 800\n",
      " w0 = 0.07705861920993279\tw1 = 1.4779775417091856\n",
      "Iteration 900\n",
      " w0 = 0.08302964357171239\tw1 = 1.4778601830446565\n"
     ]
    }
   ],
   "source": [
    "## %%timeit\n",
    "w0 = 0 \n",
    "w1 = 0\n",
    "lr = 0.0001\n",
    "epochs = 1000\n",
    "n=float(len(X))\n",
    "for i in range(epochs):\n",
    "    y_pred = w0+w1*X\n",
    "    delw0 = (-2/n)*sum(y-y_pred)\n",
    "    delw1 = (-2/n)*sum(X*(y-y_pred))\n",
    "    w0=w0-lr*delw0\n",
    "    w1=w1-lr*delw1\n",
    "    if i%100==0:\n",
    "        print(f\"Iteration {i}\\n w0 = {w0}\\tw1 = {w1}\")"
   ]
  },
  {
   "cell_type": "markdown",
   "id": "32a05acc",
   "metadata": {},
   "source": [
    "#### Making the Predictions"
   ]
  },
  {
   "cell_type": "code",
   "execution_count": 6,
   "id": "1bda9350",
   "metadata": {},
   "outputs": [],
   "source": [
    "y_pred = w0+w1*X"
   ]
  },
  {
   "cell_type": "markdown",
   "id": "64e1caa3",
   "metadata": {},
   "source": [
    "#### Plotting the Result"
   ]
  },
  {
   "cell_type": "code",
   "execution_count": 7,
   "id": "2b3acabc",
   "metadata": {},
   "outputs": [
    {
     "data": {
      "image/png": "[encoded data removed]",
      "text/plain": [
       "<Figure size 360x360 with 1 Axes>"
      ]
     },
     "metadata": {
      "needs_background": "light"
     },
     "output_type": "display_data"
    }
   ],
   "source": [
    "plt.figure(figsize=(5,5))\n",
    "plt.scatter(X,y)\n",
    "plt.plot([min(X),max(X)],[min(y_pred),max(y_pred)],color='red')\n",
    "plt.title(\"Scatter Plot of X and y with Regression Line\")\n",
    "plt.xlabel('X')\n",
    "plt.ylabel('y')\n",
    "plt.show()"
   ]
  },
  {
   "cell_type": "markdown",
   "id": "725aae64",
   "metadata": {},
   "source": [
    "**A function to perform model evaluation**"
   ]
  },
  {
   "cell_type": "code",
   "execution_count": 8,
   "id": "efa38274",
   "metadata": {},
   "outputs": [],
   "source": [
    "def model_evaluate(y,y_pred):\n",
    "    mae = metrics.mean_absolute_error(y, y_pred)\n",
    "    mse = metrics.mean_squared_error(y, y_pred)\n",
    "    r2 = metrics.r2_score(y, y_pred)\n",
    "    print(\"The model performance\")\n",
    "    print(\"--------------------------------------\")\n",
    "    print(f'MAE is {mae}')\n",
    "    print(f'MSE is {mse}')\n",
    "    print('R2 score is {}'.format(r2))"
   ]
  },
  {
   "cell_type": "markdown",
   "id": "d139104f",
   "metadata": {},
   "source": [
    "#### Model Evaluation"
   ]
  },
  {
   "cell_type": "code",
   "execution_count": 9,
   "id": "45410921",
   "metadata": {},
   "outputs": [
    {
     "name": "stdout",
     "output_type": "stream",
     "text": [
      "The model performance\n",
      "--------------------------------------\n",
      "MAE is 8.422711763776555\n",
      "MSE is 112.6148101161347\n",
      "R2 score is 0.5900746017527791\n"
     ]
    }
   ],
   "source": [
    "model_evaluate(y,y_pred)"
   ]
  },
  {
   "cell_type": "markdown",
   "id": "0eecb67c",
   "metadata": {},
   "source": [
    "The value of R2 is 0.59 which means the model was able to explain 59% variance in dependent variable caused by independent variable"
   ]
  },
  {
   "cell_type": "markdown",
   "id": "dc81ebb0",
   "metadata": {},
   "source": [
    "### Stochastic Gradient Descent\n",
    "\n",
    "In Stochastic Gradient Descent, we update the weights for each data point"
   ]
  },
  {
   "cell_type": "code",
   "execution_count": 10,
   "id": "0bbfd1d9",
   "metadata": {},
   "outputs": [
    {
     "name": "stdout",
     "output_type": "stream",
     "text": [
      "Iteration 0\n",
      " w0 = 0.011535171934851532\tw1 = 0.584587889442503\n",
      "Iteration 100\n",
      " w0 = 0.03523614521353354\tw1 = 1.4860346596605525\n",
      "Iteration 200\n",
      " w0 = 0.041235436305053094\tw1 = 1.4859166759703657\n",
      "Iteration 300\n",
      " w0 = 0.04723019163675254\tw1 = 1.4857987814816669\n",
      "Iteration 400\n",
      " w0 = 0.05322041463788957\tw1 = 1.485680976127012\n",
      "Iteration 500\n",
      " w0 = 0.05920610873512941\tw1 = 1.4855632598390125\n",
      "Iteration 600\n",
      " w0 = 0.06518727735254774\tw1 = 1.48544563255033\n",
      "Iteration 700\n",
      " w0 = 0.07116392391162962\tw1 = 1.4853280941936795\n",
      "Iteration 800\n",
      " w0 = 0.0771360518312743\tw1 = 1.4852106447018176\n",
      "Iteration 900\n",
      " w0 = 0.08310366452779498\tw1 = 1.4850932840075641\n"
     ]
    }
   ],
   "source": [
    "##%%timeit\n",
    "w0 = 0\n",
    "w1 = 0\n",
    "lr = 0.0001\n",
    "epochs = 1000\n",
    "n=float(len(X))\n",
    "for i in range(epochs):\n",
    "    for j in range(len(X)):\n",
    "        y_pred = w0+w1*X[j]\n",
    "        delw0 = (-2/n)*(y[j]-y_pred)\n",
    "        delw1 = (-2/n)*(X[j]*(y[j]-y_pred))\n",
    "        w0=w0-lr*delw0\n",
    "        w1=w1-lr*delw1\n",
    "    if i%100==0:\n",
    "        print(f\"Iteration {i}\\n w0 = {w0}\\tw1 = {w1}\")"
   ]
  },
  {
   "cell_type": "code",
   "execution_count": 11,
   "id": "1a4da688",
   "metadata": {},
   "outputs": [],
   "source": [
    "y_pred = w0+w1*X"
   ]
  },
  {
   "cell_type": "code",
   "execution_count": 12,
   "id": "4a4884a0",
   "metadata": {},
   "outputs": [
    {
     "data": {
      "image/png": "[encoded data removed]",
      "text/plain": [
       "<Figure size 432x288 with 1 Axes>"
      ]
     },
     "metadata": {
      "needs_background": "light"
     },
     "output_type": "display_data"
    }
   ],
   "source": [
    "plt.scatter(X,y)\n",
    "plt.plot([min(X),max(X)],[min(y_pred),max(y_pred)],color='red')\n",
    "plt.show()"
   ]
  },
  {
   "cell_type": "code",
   "execution_count": 13,
   "id": "0b1b7df9",
   "metadata": {},
   "outputs": [
    {
     "name": "stdout",
     "output_type": "stream",
     "text": [
      "The model performance\n",
      "--------------------------------------\n",
      "MAE is 8.453062495891446\n",
      "MSE is 112.74522422785401\n",
      "R2 score is 0.5895998857129575\n"
     ]
    }
   ],
   "source": [
    "model_evaluate(y,y_pred)"
   ]
  },
  {
   "cell_type": "markdown",
   "id": "18e7827d",
   "metadata": {},
   "source": [
    "### Mini Batch Gradient Descent\n",
    "\n",
    "In Mini Batch Gradient descent we create small batches and update weights for each batch "
   ]
  },
  {
   "cell_type": "code",
   "execution_count": 14,
   "id": "60206a94",
   "metadata": {},
   "outputs": [
    {
     "name": "stdout",
     "output_type": "stream",
     "text": [
      "Iteration 0\n",
      " w0 = 0.0013709632886396014\tw1 = 0.07067196410837259\n",
      "Iteration 100\n",
      " w0 = 0.026467223749741465\tw1 = 1.3567149469196205\n",
      "Iteration 200\n",
      " w0 = 0.026769888160102662\tw1 = 1.362977176826608\n",
      "Iteration 300\n",
      " w0 = 0.026951745926235903\tw1 = 1.3630041923927687\n",
      "Iteration 400\n",
      " w0 = 0.0271330052442667\tw1 = 1.3630008295879839\n",
      "Iteration 500\n",
      " w0 = 0.027314251780591662\tw1 = 1.3629973189679998\n",
      "Iteration 600\n",
      " w0 = 0.027495488389173314\tw1 = 1.3629938078189732\n",
      "Iteration 700\n",
      " w0 = 0.027676715084456016\tw1 = 1.3629902968584853\n",
      "Iteration 800\n",
      " w0 = 0.02785793186704974\tw1 = 1.3629867860900216\n",
      "Iteration 900\n",
      " w0 = 0.028039138737497037\tw1 = 1.362983275513589\n"
     ]
    }
   ],
   "source": [
    "## %%timeit\n",
    "w0 = 0\n",
    "w1 = 0\n",
    "lr = 0.0001\n",
    "epochs = 1000\n",
    "batch_size=10\n",
    "start=0\n",
    "end=batch_size\n",
    "n=float(len(X))\n",
    "for i in range(epochs):\n",
    "    X_batch = X[start:end]\n",
    "    y_batch = y[start:end]\n",
    "    y_pred = w0+w1*X_batch\n",
    "    delw0 = (-2/n)*sum(y_batch-y_pred)\n",
    "    delw1 = (-2/n)*sum(X_batch*(y_batch-y_pred))\n",
    "    w0=w0-lr*delw0\n",
    "    w1=w1-lr*delw1\n",
    "    if i%100==0:\n",
    "        print(f\"Iteration {i}\\n w0 = {w0}\\tw1 = {w1}\")"
   ]
  },
  {
   "cell_type": "code",
   "execution_count": 15,
   "id": "146a60cc",
   "metadata": {},
   "outputs": [],
   "source": [
    "y_pred = w0+w1*X"
   ]
  },
  {
   "cell_type": "code",
   "execution_count": 16,
   "id": "420133ad",
   "metadata": {},
   "outputs": [
    {
     "data": {
      "image/png": "[encoded data removed]",
      "text/plain": [
       "<Figure size 432x288 with 1 Axes>"
      ]
     },
     "metadata": {
      "needs_background": "light"
     },
     "output_type": "display_data"
    }
   ],
   "source": [
    "plt.scatter(X,y)\n",
    "plt.plot([min(X),max(X)],[min(y_pred),max(y_pred)],color='red')\n",
    "plt.show()"
   ]
  },
  {
   "cell_type": "code",
   "execution_count": 17,
   "id": "66a589d6",
   "metadata": {},
   "outputs": [
    {
     "name": "stdout",
     "output_type": "stream",
     "text": [
      "The model performance\n",
      "--------------------------------------\n",
      "MAE is 9.675271274449019\n",
      "MSE is 146.1437280915331\n",
      "R2 score is 0.46802711048862267\n"
     ]
    }
   ],
   "source": [
    "model_evaluate(y,y_pred)"
   ]
  },
  {
   "cell_type": "markdown",
   "id": "03b1adcc",
   "metadata": {},
   "source": [
    "### Conclusion:\n",
    "\n",
    "Based on the R2 value we can say that the model trained using batch gradient descent is the best.\n",
    "\n",
    "The run time obtained from using `%%timeit` magic function in jupyter notebook is given below\n",
    "1. **Batch GD**: 842 ms ± 51.2 ms per loop (mean ± std. dev. of 7 runs, 1 loop each)\n",
    "2. **Stocastic GD**: 913 ms ± 49.9 ms per loop (mean ± std. dev. of 7 runs, 1 loop each) \n",
    "3. **Mini Batch GD**: 52.2 s ± 154 ms per loop (mean ± std. dev. of 7 runs, 1 loop each)"
   ]
  },
  {
   "cell_type": "markdown",
   "id": "75809837",
   "metadata": {},
   "source": [
    "## Q.NO 2\n",
    "\n",
    "Write python programs to predict diabetes using logistic regression. Implement the algorithm using library and without using library. Find accuracy, precision, recall, and F1-score and compare both strategies (Use diabetes.csv). Assume train/test split is 70:30."
   ]
  },
  {
   "cell_type": "code",
   "execution_count": 18,
   "id": "204315a3",
   "metadata": {},
   "outputs": [],
   "source": [
    "db_df = pd.read_csv('data/Diabetes.csv')"
   ]
  },
  {
   "cell_type": "code",
   "execution_count": 19,
   "id": "0db8d386",
   "metadata": {},
   "outputs": [
    {
     "data": {
      "text/html": [
       "<div>\n",
       "<style scoped>\n",
       "    .dataframe tbody tr th:only-of-type {\n",
       "        vertical-align: middle;\n",
       "    }\n",
       "\n",
       "    .dataframe tbody tr th {\n",
       "        vertical-align: top;\n",
       "    }\n",
       "\n",
       "    .dataframe thead th {\n",
       "        text-align: right;\n",
       "    }\n",
       "</style>\n",
       "<table border=\"1\" class=\"dataframe\">\n",
       "  <thead>\n",
       "    <tr style=\"text-align: right;\">\n",
       "      <th></th>\n",
       "      <th>Pragnency</th>\n",
       "      <th>Glucose</th>\n",
       "      <th>Blod Pressure</th>\n",
       "      <th>Skin Thikness</th>\n",
       "      <th>Insulin</th>\n",
       "      <th>BMI</th>\n",
       "      <th>DFP</th>\n",
       "      <th>Age</th>\n",
       "      <th>Diabetes</th>\n",
       "    </tr>\n",
       "  </thead>\n",
       "  <tbody>\n",
       "    <tr>\n",
       "      <th>0</th>\n",
       "      <td>1</td>\n",
       "      <td>85</td>\n",
       "      <td>66</td>\n",
       "      <td>29</td>\n",
       "      <td>0</td>\n",
       "      <td>26.6</td>\n",
       "      <td>0.351</td>\n",
       "      <td>31</td>\n",
       "      <td>0</td>\n",
       "    </tr>\n",
       "    <tr>\n",
       "      <th>1</th>\n",
       "      <td>8</td>\n",
       "      <td>183</td>\n",
       "      <td>64</td>\n",
       "      <td>0</td>\n",
       "      <td>0</td>\n",
       "      <td>23.3</td>\n",
       "      <td>0.672</td>\n",
       "      <td>32</td>\n",
       "      <td>1</td>\n",
       "    </tr>\n",
       "    <tr>\n",
       "      <th>2</th>\n",
       "      <td>1</td>\n",
       "      <td>89</td>\n",
       "      <td>66</td>\n",
       "      <td>23</td>\n",
       "      <td>94</td>\n",
       "      <td>28.1</td>\n",
       "      <td>0.167</td>\n",
       "      <td>21</td>\n",
       "      <td>0</td>\n",
       "    </tr>\n",
       "    <tr>\n",
       "      <th>3</th>\n",
       "      <td>0</td>\n",
       "      <td>137</td>\n",
       "      <td>40</td>\n",
       "      <td>35</td>\n",
       "      <td>168</td>\n",
       "      <td>43.1</td>\n",
       "      <td>2.288</td>\n",
       "      <td>33</td>\n",
       "      <td>1</td>\n",
       "    </tr>\n",
       "    <tr>\n",
       "      <th>4</th>\n",
       "      <td>5</td>\n",
       "      <td>116</td>\n",
       "      <td>74</td>\n",
       "      <td>0</td>\n",
       "      <td>0</td>\n",
       "      <td>25.6</td>\n",
       "      <td>0.201</td>\n",
       "      <td>30</td>\n",
       "      <td>0</td>\n",
       "    </tr>\n",
       "  </tbody>\n",
       "</table>\n",
       "</div>"
      ],
      "text/plain": [
       "   Pragnency  Glucose  Blod Pressure  Skin Thikness  Insulin   BMI    DFP  \\\n",
       "0          1       85             66             29        0  26.6  0.351   \n",
       "1          8      183             64              0        0  23.3  0.672   \n",
       "2          1       89             66             23       94  28.1  0.167   \n",
       "3          0      137             40             35      168  43.1  2.288   \n",
       "4          5      116             74              0        0  25.6  0.201   \n",
       "\n",
       "   Age  Diabetes  \n",
       "0   31         0  \n",
       "1   32         1  \n",
       "2   21         0  \n",
       "3   33         1  \n",
       "4   30         0  "
      ]
     },
     "execution_count": 19,
     "metadata": {},
     "output_type": "execute_result"
    }
   ],
   "source": [
    "db_df.head()"
   ]
  },
  {
   "cell_type": "code",
   "execution_count": 22,
   "id": "87a6ee20",
   "metadata": {},
   "outputs": [
    {
     "data": {
      "text/html": [
       "<div>\n",
       "<style scoped>\n",
       "    .dataframe tbody tr th:only-of-type {\n",
       "        vertical-align: middle;\n",
       "    }\n",
       "\n",
       "    .dataframe tbody tr th {\n",
       "        vertical-align: top;\n",
       "    }\n",
       "\n",
       "    .dataframe thead th {\n",
       "        text-align: right;\n",
       "    }\n",
       "</style>\n",
       "<table border=\"1\" class=\"dataframe\">\n",
       "  <thead>\n",
       "    <tr style=\"text-align: right;\">\n",
       "      <th></th>\n",
       "      <th>Pragnency</th>\n",
       "      <th>Glucose</th>\n",
       "      <th>Blod Pressure</th>\n",
       "      <th>Skin Thikness</th>\n",
       "      <th>Insulin</th>\n",
       "      <th>BMI</th>\n",
       "      <th>DFP</th>\n",
       "      <th>Age</th>\n",
       "      <th>Diabetes</th>\n",
       "    </tr>\n",
       "  </thead>\n",
       "  <tbody>\n",
       "    <tr>\n",
       "      <th>count</th>\n",
       "      <td>767.000000</td>\n",
       "      <td>767.000000</td>\n",
       "      <td>767.000000</td>\n",
       "      <td>767.000000</td>\n",
       "      <td>767.000000</td>\n",
       "      <td>767.000000</td>\n",
       "      <td>767.000000</td>\n",
       "      <td>767.000000</td>\n",
       "      <td>767.000000</td>\n",
       "    </tr>\n",
       "    <tr>\n",
       "      <th>mean</th>\n",
       "      <td>3.842243</td>\n",
       "      <td>120.859192</td>\n",
       "      <td>69.101695</td>\n",
       "      <td>20.517601</td>\n",
       "      <td>79.903520</td>\n",
       "      <td>31.990482</td>\n",
       "      <td>0.471674</td>\n",
       "      <td>33.219035</td>\n",
       "      <td>0.348110</td>\n",
       "    </tr>\n",
       "    <tr>\n",
       "      <th>std</th>\n",
       "      <td>3.370877</td>\n",
       "      <td>31.978468</td>\n",
       "      <td>19.368155</td>\n",
       "      <td>15.954059</td>\n",
       "      <td>115.283105</td>\n",
       "      <td>7.889091</td>\n",
       "      <td>0.331497</td>\n",
       "      <td>11.752296</td>\n",
       "      <td>0.476682</td>\n",
       "    </tr>\n",
       "    <tr>\n",
       "      <th>min</th>\n",
       "      <td>0.000000</td>\n",
       "      <td>0.000000</td>\n",
       "      <td>0.000000</td>\n",
       "      <td>0.000000</td>\n",
       "      <td>0.000000</td>\n",
       "      <td>0.000000</td>\n",
       "      <td>0.078000</td>\n",
       "      <td>21.000000</td>\n",
       "      <td>0.000000</td>\n",
       "    </tr>\n",
       "    <tr>\n",
       "      <th>25%</th>\n",
       "      <td>1.000000</td>\n",
       "      <td>99.000000</td>\n",
       "      <td>62.000000</td>\n",
       "      <td>0.000000</td>\n",
       "      <td>0.000000</td>\n",
       "      <td>27.300000</td>\n",
       "      <td>0.243500</td>\n",
       "      <td>24.000000</td>\n",
       "      <td>0.000000</td>\n",
       "    </tr>\n",
       "    <tr>\n",
       "      <th>50%</th>\n",
       "      <td>3.000000</td>\n",
       "      <td>117.000000</td>\n",
       "      <td>72.000000</td>\n",
       "      <td>23.000000</td>\n",
       "      <td>32.000000</td>\n",
       "      <td>32.000000</td>\n",
       "      <td>0.371000</td>\n",
       "      <td>29.000000</td>\n",
       "      <td>0.000000</td>\n",
       "    </tr>\n",
       "    <tr>\n",
       "      <th>75%</th>\n",
       "      <td>6.000000</td>\n",
       "      <td>140.000000</td>\n",
       "      <td>80.000000</td>\n",
       "      <td>32.000000</td>\n",
       "      <td>127.500000</td>\n",
       "      <td>36.600000</td>\n",
       "      <td>0.625000</td>\n",
       "      <td>41.000000</td>\n",
       "      <td>1.000000</td>\n",
       "    </tr>\n",
       "    <tr>\n",
       "      <th>max</th>\n",
       "      <td>17.000000</td>\n",
       "      <td>199.000000</td>\n",
       "      <td>122.000000</td>\n",
       "      <td>99.000000</td>\n",
       "      <td>846.000000</td>\n",
       "      <td>67.100000</td>\n",
       "      <td>2.420000</td>\n",
       "      <td>81.000000</td>\n",
       "      <td>1.000000</td>\n",
       "    </tr>\n",
       "  </tbody>\n",
       "</table>\n",
       "</div>"
      ],
      "text/plain": [
       "        Pragnency     Glucose  Blod Pressure  Skin Thikness     Insulin  \\\n",
       "count  767.000000  767.000000     767.000000     767.000000  767.000000   \n",
       "mean     3.842243  120.859192      69.101695      20.517601   79.903520   \n",
       "std      3.370877   31.978468      19.368155      15.954059  115.283105   \n",
       "min      0.000000    0.000000       0.000000       0.000000    0.000000   \n",
       "25%      1.000000   99.000000      62.000000       0.000000    0.000000   \n",
       "50%      3.000000  117.000000      72.000000      23.000000   32.000000   \n",
       "75%      6.000000  140.000000      80.000000      32.000000  127.500000   \n",
       "max     17.000000  199.000000     122.000000      99.000000  846.000000   \n",
       "\n",
       "              BMI         DFP         Age    Diabetes  \n",
       "count  767.000000  767.000000  767.000000  767.000000  \n",
       "mean    31.990482    0.471674   33.219035    0.348110  \n",
       "std      7.889091    0.331497   11.752296    0.476682  \n",
       "min      0.000000    0.078000   21.000000    0.000000  \n",
       "25%     27.300000    0.243500   24.000000    0.000000  \n",
       "50%     32.000000    0.371000   29.000000    0.000000  \n",
       "75%     36.600000    0.625000   41.000000    1.000000  \n",
       "max     67.100000    2.420000   81.000000    1.000000  "
      ]
     },
     "execution_count": 22,
     "metadata": {},
     "output_type": "execute_result"
    }
   ],
   "source": [
    "db_df.describe()"
   ]
  },
  {
   "cell_type": "markdown",
   "id": "2a3f2512",
   "metadata": {},
   "source": []
  },
  {
   "cell_type": "code",
   "execution_count": 36,
   "id": "6f638b3e",
   "metadata": {},
   "outputs": [],
   "source": [
    "from sklearn.model_selection import train_test_split\n",
    "from sklearn.linear_model import LogisticRegression\n",
    "from sklearn.metrics import classification_report,plot_confusion_matrix"
   ]
  },
  {
   "cell_type": "code",
   "execution_count": 51,
   "id": "ef0a9e58",
   "metadata": {},
   "outputs": [],
   "source": [
    "X=db_df.drop(columns=['Diabetes']).values\n",
    "y=db_df['Diabetes'].values"
   ]
  },
  {
   "cell_type": "code",
   "execution_count": 60,
   "id": "927f910d",
   "metadata": {},
   "outputs": [],
   "source": [
    "X_train,X_test,y_train,y_test = train_test_split(X,y,test_size=0.3,random_state=0)"
   ]
  },
  {
   "cell_type": "markdown",
   "id": "4921d0a0",
   "metadata": {},
   "source": [
    "### Logistic Regression Using Scikit-Learn Library"
   ]
  },
  {
   "cell_type": "code",
   "execution_count": 61,
   "id": "dab6ed11",
   "metadata": {},
   "outputs": [],
   "source": [
    "sk_lgr = LogisticRegression()"
   ]
  },
  {
   "cell_type": "code",
   "execution_count": 62,
   "id": "2dbddf03",
   "metadata": {},
   "outputs": [
    {
     "name": "stderr",
     "output_type": "stream",
     "text": [
      "/home/xenon/anaconda3/lib/python3.8/site-packages/sklearn/linear_model/_logistic.py:763: ConvergenceWarning: lbfgs failed to converge (status=1):\n",
      "STOP: TOTAL NO. of ITERATIONS REACHED LIMIT.\n",
      "\n",
      "Increase the number of iterations (max_iter) or scale the data as shown in:\n",
      "    https://scikit-learn.org/stable/modules/preprocessing.html\n",
      "Please also refer to the documentation for alternative solver options:\n",
      "    https://scikit-learn.org/stable/modules/linear_model.html#logistic-regression\n",
      "  n_iter_i = _check_optimize_result(\n"
     ]
    },
    {
     "data": {
      "text/plain": [
       "LogisticRegression()"
      ]
     },
     "execution_count": 62,
     "metadata": {},
     "output_type": "execute_result"
    }
   ],
   "source": [
    "sk_lgr.fit(X_train,y_train)"
   ]
  },
  {
   "cell_type": "code",
   "execution_count": 63,
   "id": "cb8032a8",
   "metadata": {},
   "outputs": [],
   "source": [
    "y_pred = sk_lgr.predict(X_test)"
   ]
  },
  {
   "cell_type": "code",
   "execution_count": 64,
   "id": "b8944297",
   "metadata": {},
   "outputs": [
    {
     "name": "stdout",
     "output_type": "stream",
     "text": [
      "              precision    recall  f1-score   support\n",
      "\n",
      "           0       0.80      0.88      0.84       159\n",
      "           1       0.66      0.51      0.58        72\n",
      "\n",
      "    accuracy                           0.77       231\n",
      "   macro avg       0.73      0.70      0.71       231\n",
      "weighted avg       0.76      0.77      0.76       231\n",
      "\n"
     ]
    }
   ],
   "source": [
    "print(classification_report(y_test,y_pred))"
   ]
  },
  {
   "cell_type": "code",
   "execution_count": 65,
   "id": "57aa880d",
   "metadata": {},
   "outputs": [
    {
     "data": {
      "image/png": "[encoded data removed]",
      "text/plain": [
       "<Figure size 432x288 with 2 Axes>"
      ]
     },
     "metadata": {
      "needs_background": "light"
     },
     "output_type": "display_data"
    }
   ],
   "source": [
    "plot_confusion_matrix(sk_lgr,X_test,y_test)\n",
    "plt.show()"
   ]
  },
  {
   "cell_type": "markdown",
   "id": "05f9491f",
   "metadata": {},
   "source": [
    "### Logistic Regression From Scratch"
   ]
  },
  {
   "cell_type": "code",
   "execution_count": 66,
   "id": "0e23ad0d",
   "metadata": {},
   "outputs": [],
   "source": [
    "# Define the sigmoid function\n",
    "def sigmoid(input):    \n",
    "    output = 1 / (1 + np.exp(-input))\n",
    "    return output"
   ]
  },
  {
   "cell_type": "code",
   "execution_count": 76,
   "id": "2bb494d1",
   "metadata": {},
   "outputs": [],
   "source": [
    "# Initializing weights and bias to zeros.\n",
    "m,n=X_train.shape\n",
    "w = np.zeros((n,1))\n",
    "b = 0\n",
    "# Reshaping y so that the dot product is possible\n",
    "y_train = y_train.reshape(m,1)\n",
    "epochs = 10000\n",
    "lr = 0.0001\n",
    "for epoch in range(epochs):\n",
    "    y_hat = sigmoid(np.dot(X_train, w) + b)\n",
    "    dw = (1/m)*np.dot(X_train.T, (y_hat - y_train))\n",
    "    db = (1/m)*np.sum((y_hat - y_train)) \n",
    "    # Updating the weights\n",
    "    w -= lr*dw\n",
    "    b -= lr*db"
   ]
  },
  {
   "cell_type": "code",
   "execution_count": 77,
   "id": "a4b61ee2",
   "metadata": {},
   "outputs": [],
   "source": [
    "preds = sigmoid(np.dot(X_test, w) + b)"
   ]
  },
  {
   "cell_type": "code",
   "execution_count": 78,
   "id": "720ee796",
   "metadata": {},
   "outputs": [],
   "source": [
    "pred_class = [1 if i > 0.5 else 0 for i in preds]"
   ]
  },
  {
   "cell_type": "code",
   "execution_count": 79,
   "id": "f307bf48",
   "metadata": {},
   "outputs": [
    {
     "name": "stdout",
     "output_type": "stream",
     "text": [
      "              precision    recall  f1-score   support\n",
      "\n",
      "           0       0.76      0.86      0.81       159\n",
      "           1       0.57      0.40      0.47        72\n",
      "\n",
      "    accuracy                           0.72       231\n",
      "   macro avg       0.66      0.63      0.64       231\n",
      "weighted avg       0.70      0.72      0.70       231\n",
      "\n"
     ]
    }
   ],
   "source": [
    "print(classification_report(y_test,pred_class))"
   ]
  },
  {
   "cell_type": "markdown",
   "id": "79f5e44c",
   "metadata": {},
   "source": [
    "### Conclusion\n",
    "\n",
    "The accuracy of Scikit Learn is 77% and model implemented from scratch is 72%. "
   ]
  }
 ],
 "metadata": {
  "kernelspec": {
   "display_name": "Python 3",
   "language": "python",
   "name": "python3"
  },
  "language_info": {
   "codemirror_mode": {
    "name": "ipython",
    "version": 3
   },
   "file_extension": ".py",
   "mimetype": "text/x-python",
   "name": "python",
   "nbconvert_exporter": "python",
   "pygments_lexer": "ipython3",
   "version": "3.8.8"
  }
 },
 "nbformat": 4,
 "nbformat_minor": 5
}
