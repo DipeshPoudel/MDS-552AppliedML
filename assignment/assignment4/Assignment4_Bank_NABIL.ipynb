{
 "cells": [
  {
   "cell_type": "markdown",
   "id": "14bc04ea",
   "metadata": {},
   "source": [
    "# Stock Price Prediction of NABIL BANK"
   ]
  },
  {
   "cell_type": "markdown",
   "id": "ef2a8339",
   "metadata": {},
   "source": [
    "## Import the Required Libraries"
   ]
  },
  {
   "cell_type": "code",
   "execution_count": 106,
   "id": "f78cccc9",
   "metadata": {},
   "outputs": [],
   "source": [
    "import warnings\n",
    "warnings.filterwarnings('ignore')"
   ]
  },
  {
   "cell_type": "code",
   "execution_count": 107,
   "id": "53ea5d1b",
   "metadata": {},
   "outputs": [],
   "source": [
    "import pandas as pd\n",
    "from keras import Sequential\n",
    "from keras.layers import GRU, LSTM, SimpleRNN,  Dense, Dropout\n",
    "from sklearn.model_selection import train_test_split\n",
    "import numpy as np\n",
    "from sklearn.metrics import accuracy_score, mean_absolute_error, mean_squared_error\n",
    "from sklearn.preprocessing import StandardScaler\n",
    "from matplotlib import pyplot as plt"
   ]
  },
  {
   "cell_type": "markdown",
   "id": "317f76e1",
   "metadata": {},
   "source": [
    "## Load Data"
   ]
  },
  {
   "cell_type": "code",
   "execution_count": 108,
   "id": "410d3020",
   "metadata": {},
   "outputs": [
    {
     "data": {
      "text/plain": [
       "(2392, 8)"
      ]
     },
     "execution_count": 108,
     "metadata": {},
     "output_type": "execute_result"
    }
   ],
   "source": [
    "nabil_df = pd.read_csv(\"data/nabil.csv\")\n",
    "nabil_df.shape"
   ]
  },
  {
   "cell_type": "code",
   "execution_count": 109,
   "id": "27463371",
   "metadata": {},
   "outputs": [
    {
     "data": {
      "text/html": [
       "<div>\n",
       "<style scoped>\n",
       "    .dataframe tbody tr th:only-of-type {\n",
       "        vertical-align: middle;\n",
       "    }\n",
       "\n",
       "    .dataframe tbody tr th {\n",
       "        vertical-align: top;\n",
       "    }\n",
       "\n",
       "    .dataframe thead th {\n",
       "        text-align: right;\n",
       "    }\n",
       "</style>\n",
       "<table border=\"1\" class=\"dataframe\">\n",
       "  <thead>\n",
       "    <tr style=\"text-align: right;\">\n",
       "      <th></th>\n",
       "      <th>Symbol</th>\n",
       "      <th>Date</th>\n",
       "      <th>Open</th>\n",
       "      <th>High</th>\n",
       "      <th>Low</th>\n",
       "      <th>Close</th>\n",
       "      <th>Percent Change</th>\n",
       "      <th>Volume</th>\n",
       "    </tr>\n",
       "  </thead>\n",
       "  <tbody>\n",
       "    <tr>\n",
       "      <th>0</th>\n",
       "      <td>NABIL</td>\n",
       "      <td>2022-07-12</td>\n",
       "      <td>796.0</td>\n",
       "      <td>804.9</td>\n",
       "      <td>787.0</td>\n",
       "      <td>796.9</td>\n",
       "      <td>0.62</td>\n",
       "      <td>42720</td>\n",
       "    </tr>\n",
       "    <tr>\n",
       "      <th>1</th>\n",
       "      <td>NABIL</td>\n",
       "      <td>2022-07-11</td>\n",
       "      <td>831.0</td>\n",
       "      <td>831.0</td>\n",
       "      <td>792.0</td>\n",
       "      <td>792.0</td>\n",
       "      <td>-4.12</td>\n",
       "      <td>69864</td>\n",
       "    </tr>\n",
       "    <tr>\n",
       "      <th>2</th>\n",
       "      <td>NABIL</td>\n",
       "      <td>2022-07-08</td>\n",
       "      <td>845.0</td>\n",
       "      <td>847.0</td>\n",
       "      <td>825.5</td>\n",
       "      <td>826.0</td>\n",
       "      <td>-2.25</td>\n",
       "      <td>30318</td>\n",
       "    </tr>\n",
       "    <tr>\n",
       "      <th>3</th>\n",
       "      <td>NABIL</td>\n",
       "      <td>2022-07-07</td>\n",
       "      <td>864.0</td>\n",
       "      <td>886.0</td>\n",
       "      <td>844.0</td>\n",
       "      <td>845.0</td>\n",
       "      <td>-2.20</td>\n",
       "      <td>51271</td>\n",
       "    </tr>\n",
       "    <tr>\n",
       "      <th>4</th>\n",
       "      <td>NABIL</td>\n",
       "      <td>2022-07-06</td>\n",
       "      <td>885.0</td>\n",
       "      <td>889.0</td>\n",
       "      <td>837.0</td>\n",
       "      <td>864.0</td>\n",
       "      <td>-0.92</td>\n",
       "      <td>58061</td>\n",
       "    </tr>\n",
       "  </tbody>\n",
       "</table>\n",
       "</div>"
      ],
      "text/plain": [
       "  Symbol        Date   Open   High    Low  Close Percent Change  Volume\n",
       "0  NABIL  2022-07-12  796.0  804.9  787.0  796.9           0.62   42720\n",
       "1  NABIL  2022-07-11  831.0  831.0  792.0  792.0          -4.12   69864\n",
       "2  NABIL  2022-07-08  845.0  847.0  825.5  826.0          -2.25   30318\n",
       "3  NABIL  2022-07-07  864.0  886.0  844.0  845.0          -2.20   51271\n",
       "4  NABIL  2022-07-06  885.0  889.0  837.0  864.0          -0.92   58061"
      ]
     },
     "execution_count": 109,
     "metadata": {},
     "output_type": "execute_result"
    }
   ],
   "source": [
    "nabil_df.head()"
   ]
  },
  {
   "cell_type": "markdown",
   "id": "a36bd916",
   "metadata": {},
   "source": [
    "## Removing the Unwanted Columns "
   ]
  },
  {
   "cell_type": "code",
   "execution_count": 110,
   "id": "e003d377",
   "metadata": {},
   "outputs": [],
   "source": [
    "nabil_df.drop(columns=['Symbol','Percent Change','Volume'],inplace=True)"
   ]
  },
  {
   "cell_type": "code",
   "execution_count": 111,
   "id": "5757c133",
   "metadata": {},
   "outputs": [
    {
     "data": {
      "text/html": [
       "<div>\n",
       "<style scoped>\n",
       "    .dataframe tbody tr th:only-of-type {\n",
       "        vertical-align: middle;\n",
       "    }\n",
       "\n",
       "    .dataframe tbody tr th {\n",
       "        vertical-align: top;\n",
       "    }\n",
       "\n",
       "    .dataframe thead th {\n",
       "        text-align: right;\n",
       "    }\n",
       "</style>\n",
       "<table border=\"1\" class=\"dataframe\">\n",
       "  <thead>\n",
       "    <tr style=\"text-align: right;\">\n",
       "      <th></th>\n",
       "      <th>Date</th>\n",
       "      <th>Open</th>\n",
       "      <th>High</th>\n",
       "      <th>Low</th>\n",
       "      <th>Close</th>\n",
       "    </tr>\n",
       "  </thead>\n",
       "  <tbody>\n",
       "    <tr>\n",
       "      <th>0</th>\n",
       "      <td>2022-07-12</td>\n",
       "      <td>796.0</td>\n",
       "      <td>804.9</td>\n",
       "      <td>787.0</td>\n",
       "      <td>796.9</td>\n",
       "    </tr>\n",
       "    <tr>\n",
       "      <th>1</th>\n",
       "      <td>2022-07-11</td>\n",
       "      <td>831.0</td>\n",
       "      <td>831.0</td>\n",
       "      <td>792.0</td>\n",
       "      <td>792.0</td>\n",
       "    </tr>\n",
       "    <tr>\n",
       "      <th>2</th>\n",
       "      <td>2022-07-08</td>\n",
       "      <td>845.0</td>\n",
       "      <td>847.0</td>\n",
       "      <td>825.5</td>\n",
       "      <td>826.0</td>\n",
       "    </tr>\n",
       "    <tr>\n",
       "      <th>3</th>\n",
       "      <td>2022-07-07</td>\n",
       "      <td>864.0</td>\n",
       "      <td>886.0</td>\n",
       "      <td>844.0</td>\n",
       "      <td>845.0</td>\n",
       "    </tr>\n",
       "    <tr>\n",
       "      <th>4</th>\n",
       "      <td>2022-07-06</td>\n",
       "      <td>885.0</td>\n",
       "      <td>889.0</td>\n",
       "      <td>837.0</td>\n",
       "      <td>864.0</td>\n",
       "    </tr>\n",
       "  </tbody>\n",
       "</table>\n",
       "</div>"
      ],
      "text/plain": [
       "         Date   Open   High    Low  Close\n",
       "0  2022-07-12  796.0  804.9  787.0  796.9\n",
       "1  2022-07-11  831.0  831.0  792.0  792.0\n",
       "2  2022-07-08  845.0  847.0  825.5  826.0\n",
       "3  2022-07-07  864.0  886.0  844.0  845.0\n",
       "4  2022-07-06  885.0  889.0  837.0  864.0"
      ]
     },
     "execution_count": 111,
     "metadata": {},
     "output_type": "execute_result"
    }
   ],
   "source": [
    "nabil_df.head()"
   ]
  },
  {
   "cell_type": "code",
   "execution_count": 112,
   "id": "3849eeae",
   "metadata": {},
   "outputs": [
    {
     "data": {
      "text/plain": [
       "(2392, 5)"
      ]
     },
     "execution_count": 112,
     "metadata": {},
     "output_type": "execute_result"
    }
   ],
   "source": [
    "nabil_df.shape"
   ]
  },
  {
   "cell_type": "markdown",
   "id": "61f334f5",
   "metadata": {},
   "source": [
    "Converting the Date into Panda's Date Time "
   ]
  },
  {
   "cell_type": "code",
   "execution_count": 113,
   "id": "4d4ab0fe",
   "metadata": {},
   "outputs": [],
   "source": [
    "nabil_df['Date'] = pd.to_datetime(nabil_df['Date'])"
   ]
  },
  {
   "cell_type": "markdown",
   "id": "762decf1",
   "metadata": {},
   "source": [
    "## Sorting the Date by Date in Ascending Order"
   ]
  },
  {
   "cell_type": "code",
   "execution_count": 114,
   "id": "e824faea",
   "metadata": {},
   "outputs": [],
   "source": [
    "nabil_df=nabil_df.sort_values(by='Date')"
   ]
  },
  {
   "cell_type": "markdown",
   "id": "5fb2f0b6",
   "metadata": {},
   "source": [
    "## Setting Features and Target Column"
   ]
  },
  {
   "cell_type": "code",
   "execution_count": 115,
   "id": "55bbed92",
   "metadata": {},
   "outputs": [],
   "source": [
    "features = ['Date','Close']"
   ]
  },
  {
   "cell_type": "code",
   "execution_count": 116,
   "id": "0ed38d97",
   "metadata": {},
   "outputs": [],
   "source": [
    "X = nabil_df[features]"
   ]
  },
  {
   "cell_type": "code",
   "execution_count": 117,
   "id": "0a6a9209",
   "metadata": {},
   "outputs": [],
   "source": [
    "X.set_index(\"Date\",inplace=True)"
   ]
  },
  {
   "cell_type": "markdown",
   "id": "0ec8ce87",
   "metadata": {},
   "source": [
    "## Splitting the Data Into Training, Validation and Test Set"
   ]
  },
  {
   "cell_type": "code",
   "execution_count": 118,
   "id": "9ef9afa9",
   "metadata": {},
   "outputs": [],
   "source": [
    "X_train_split, X_test_split = train_test_split(X, train_size=0.8,shuffle=False)\n",
    "X_test_split, X_valid_split = train_test_split(X_test_split, train_size=0.5,shuffle=False)"
   ]
  },
  {
   "cell_type": "markdown",
   "id": "db993070",
   "metadata": {},
   "source": [
    "## Fucntion to slice data to Predict next day’s closing price by looking into previous 5 day’s data"
   ]
  },
  {
   "cell_type": "code",
   "execution_count": 119,
   "id": "3ee0db51",
   "metadata": {},
   "outputs": [],
   "source": [
    "def SliceData(data,step):     \n",
    "    X,Y = [],[]\n",
    "    for i in range(len(data)-step):\n",
    "        X.append(data[i:(i+step),])\n",
    "        Y.append(data[(i+step),])\n",
    "    return np.array(X),np.array(Y)"
   ]
  },
  {
   "cell_type": "markdown",
   "id": "4f35f138",
   "metadata": {},
   "source": [
    "## Normalizing the Data Using Standard Scalar"
   ]
  },
  {
   "cell_type": "code",
   "execution_count": 120,
   "id": "d25228e5",
   "metadata": {},
   "outputs": [],
   "source": [
    "std_scalar = StandardScaler()\n",
    "X_train = std_scalar.fit_transform(X_train_split)\n",
    "X_valid = std_scalar.fit_transform(X_valid_split)\n",
    "X_test = std_scalar.fit_transform(X_test_split)"
   ]
  },
  {
   "cell_type": "markdown",
   "id": "698f3a82",
   "metadata": {},
   "source": [
    "## Getting the Sliced Data"
   ]
  },
  {
   "cell_type": "code",
   "execution_count": 121,
   "id": "1d24bd2d",
   "metadata": {},
   "outputs": [],
   "source": [
    "steps = 5\n",
    "X_train,y_train = SliceData(X_train,steps)\n",
    "X_test,y_test = SliceData(X_test,steps)\n",
    "X_valid,y_valid = SliceData(X_valid,steps)"
   ]
  },
  {
   "cell_type": "markdown",
   "id": "c1ffb863",
   "metadata": {},
   "source": [
    "## Building the RNN Model"
   ]
  },
  {
   "cell_type": "code",
   "execution_count": 122,
   "id": "cbc27e96",
   "metadata": {},
   "outputs": [],
   "source": [
    "RNN_Model = Sequential()\n",
    "RNN_Model.add(SimpleRNN(50,input_shape=(steps,1),return_sequences=True ))\n",
    "RNN_Model.add(Dropout(0.5))\n",
    "RNN_Model.add(SimpleRNN(50))\n",
    "RNN_Model.add(Dropout(0.5))\n",
    "RNN_Model.add(Dense(50))\n",
    "RNN_Model.compile(optimizer='adam',loss='mean_squared_error', metrics=['mae'])"
   ]
  },
  {
   "cell_type": "code",
   "execution_count": 123,
   "id": "b711f875",
   "metadata": {},
   "outputs": [
    {
     "name": "stdout",
     "output_type": "stream",
     "text": [
      "Model: \"sequential_6\"\n",
      "_________________________________________________________________\n",
      " Layer (type)                Output Shape              Param #   \n",
      "=================================================================\n",
      " simple_rnn_6 (SimpleRNN)    (None, 5, 50)             2600      \n",
      "                                                                 \n",
      " dropout_10 (Dropout)        (None, 5, 50)             0         \n",
      "                                                                 \n",
      " simple_rnn_7 (SimpleRNN)    (None, 50)                5050      \n",
      "                                                                 \n",
      " dropout_11 (Dropout)        (None, 50)                0         \n",
      "                                                                 \n",
      " dense_5 (Dense)             (None, 50)                2550      \n",
      "                                                                 \n",
      "=================================================================\n",
      "Total params: 10,200\n",
      "Trainable params: 10,200\n",
      "Non-trainable params: 0\n",
      "_________________________________________________________________\n"
     ]
    }
   ],
   "source": [
    "RNN_Model.summary()"
   ]
  },
  {
   "cell_type": "markdown",
   "id": "c57b2d0b",
   "metadata": {},
   "source": [
    "## Building LSTM Model"
   ]
  },
  {
   "cell_type": "code",
   "execution_count": 124,
   "id": "45454efa",
   "metadata": {},
   "outputs": [],
   "source": [
    "LSTM_Model = Sequential()\n",
    "LSTM_Model.add(LSTM(50,input_shape=(steps,1),return_sequences=True ))\n",
    "LSTM_Model.add(Dropout(0.5))\n",
    "LSTM_Model.add(LSTM(50))\n",
    "LSTM_Model.add(Dropout(0.5))\n",
    "LSTM_Model.add(Dense(50))\n",
    "LSTM_Model.compile(optimizer='adam',loss='mean_squared_error', metrics=['mae'])"
   ]
  },
  {
   "cell_type": "code",
   "execution_count": 125,
   "id": "104b1232",
   "metadata": {},
   "outputs": [
    {
     "name": "stdout",
     "output_type": "stream",
     "text": [
      "Model: \"sequential_7\"\n",
      "_________________________________________________________________\n",
      " Layer (type)                Output Shape              Param #   \n",
      "=================================================================\n",
      " lstm_4 (LSTM)               (None, 5, 50)             10400     \n",
      "                                                                 \n",
      " dropout_12 (Dropout)        (None, 5, 50)             0         \n",
      "                                                                 \n",
      " lstm_5 (LSTM)               (None, 50)                20200     \n",
      "                                                                 \n",
      " dropout_13 (Dropout)        (None, 50)                0         \n",
      "                                                                 \n",
      " dense_6 (Dense)             (None, 50)                2550      \n",
      "                                                                 \n",
      "=================================================================\n",
      "Total params: 33,150\n",
      "Trainable params: 33,150\n",
      "Non-trainable params: 0\n",
      "_________________________________________________________________\n"
     ]
    }
   ],
   "source": [
    "LSTM_Model.summary()"
   ]
  },
  {
   "cell_type": "markdown",
   "id": "0bf04f72",
   "metadata": {},
   "source": [
    "## Fitting the RNN Model"
   ]
  },
  {
   "cell_type": "code",
   "execution_count": 126,
   "id": "7d6c1562",
   "metadata": {},
   "outputs": [
    {
     "name": "stdout",
     "output_type": "stream",
     "text": [
      "Epoch 1/100\n",
      "39/39 - 2s - loss: 0.7526 - mae: 0.6569 - val_loss: 0.1520 - val_mae: 0.2931 - 2s/epoch - 55ms/step\n",
      "Epoch 2/100\n",
      "39/39 - 0s - loss: 0.3223 - mae: 0.4272 - val_loss: 0.0657 - val_mae: 0.1782 - 225ms/epoch - 6ms/step\n",
      "Epoch 3/100\n",
      "39/39 - 0s - loss: 0.2306 - mae: 0.3600 - val_loss: 0.0489 - val_mae: 0.1455 - 219ms/epoch - 6ms/step\n",
      "Epoch 4/100\n",
      "39/39 - 0s - loss: 0.1781 - mae: 0.3145 - val_loss: 0.0384 - val_mae: 0.1217 - 216ms/epoch - 6ms/step\n",
      "Epoch 5/100\n",
      "39/39 - 0s - loss: 0.1486 - mae: 0.2865 - val_loss: 0.0362 - val_mae: 0.1226 - 217ms/epoch - 6ms/step\n",
      "Epoch 6/100\n",
      "39/39 - 0s - loss: 0.1268 - mae: 0.2644 - val_loss: 0.0324 - val_mae: 0.1174 - 219ms/epoch - 6ms/step\n",
      "Epoch 7/100\n",
      "39/39 - 0s - loss: 0.1124 - mae: 0.2476 - val_loss: 0.0261 - val_mae: 0.1038 - 220ms/epoch - 6ms/step\n",
      "Epoch 8/100\n",
      "39/39 - 0s - loss: 0.0997 - mae: 0.2322 - val_loss: 0.0291 - val_mae: 0.1225 - 218ms/epoch - 6ms/step\n",
      "Epoch 9/100\n",
      "39/39 - 0s - loss: 0.0924 - mae: 0.2240 - val_loss: 0.0205 - val_mae: 0.0900 - 219ms/epoch - 6ms/step\n",
      "Epoch 10/100\n",
      "39/39 - 0s - loss: 0.0889 - mae: 0.2178 - val_loss: 0.0266 - val_mae: 0.1182 - 224ms/epoch - 6ms/step\n",
      "Epoch 11/100\n",
      "39/39 - 0s - loss: 0.0866 - mae: 0.2173 - val_loss: 0.0279 - val_mae: 0.1219 - 221ms/epoch - 6ms/step\n",
      "Epoch 12/100\n",
      "39/39 - 0s - loss: 0.0914 - mae: 0.2269 - val_loss: 0.0294 - val_mae: 0.1273 - 225ms/epoch - 6ms/step\n",
      "Epoch 13/100\n",
      "39/39 - 0s - loss: 0.0876 - mae: 0.2241 - val_loss: 0.0288 - val_mae: 0.1226 - 214ms/epoch - 5ms/step\n",
      "Epoch 14/100\n",
      "39/39 - 0s - loss: 0.0742 - mae: 0.2039 - val_loss: 0.0209 - val_mae: 0.0941 - 220ms/epoch - 6ms/step\n",
      "Epoch 15/100\n",
      "39/39 - 0s - loss: 0.0655 - mae: 0.1886 - val_loss: 0.0211 - val_mae: 0.0988 - 225ms/epoch - 6ms/step\n",
      "Epoch 16/100\n",
      "39/39 - 0s - loss: 0.0682 - mae: 0.1934 - val_loss: 0.0257 - val_mae: 0.1122 - 216ms/epoch - 6ms/step\n",
      "Epoch 17/100\n",
      "39/39 - 0s - loss: 0.0653 - mae: 0.1894 - val_loss: 0.0218 - val_mae: 0.0931 - 217ms/epoch - 6ms/step\n",
      "Epoch 18/100\n",
      "39/39 - 0s - loss: 0.0629 - mae: 0.1848 - val_loss: 0.0227 - val_mae: 0.1009 - 218ms/epoch - 6ms/step\n",
      "Epoch 19/100\n",
      "39/39 - 0s - loss: 0.0566 - mae: 0.1740 - val_loss: 0.0163 - val_mae: 0.0773 - 217ms/epoch - 6ms/step\n",
      "Epoch 20/100\n",
      "39/39 - 0s - loss: 0.0522 - mae: 0.1669 - val_loss: 0.0173 - val_mae: 0.0835 - 228ms/epoch - 6ms/step\n",
      "Epoch 21/100\n",
      "39/39 - 0s - loss: 0.0552 - mae: 0.1735 - val_loss: 0.0228 - val_mae: 0.1076 - 216ms/epoch - 6ms/step\n",
      "Epoch 22/100\n",
      "39/39 - 0s - loss: 0.0520 - mae: 0.1670 - val_loss: 0.0194 - val_mae: 0.0986 - 218ms/epoch - 6ms/step\n",
      "Epoch 23/100\n",
      "39/39 - 0s - loss: 0.0506 - mae: 0.1629 - val_loss: 0.0144 - val_mae: 0.0736 - 236ms/epoch - 6ms/step\n",
      "Epoch 24/100\n",
      "39/39 - 0s - loss: 0.0622 - mae: 0.1864 - val_loss: 0.0247 - val_mae: 0.1204 - 224ms/epoch - 6ms/step\n",
      "Epoch 25/100\n",
      "39/39 - 0s - loss: 0.0628 - mae: 0.1899 - val_loss: 0.0227 - val_mae: 0.1072 - 218ms/epoch - 6ms/step\n",
      "Epoch 26/100\n",
      "39/39 - 0s - loss: 0.0642 - mae: 0.1927 - val_loss: 0.0225 - val_mae: 0.1101 - 215ms/epoch - 6ms/step\n",
      "Epoch 27/100\n",
      "39/39 - 0s - loss: 0.0596 - mae: 0.1853 - val_loss: 0.0297 - val_mae: 0.1329 - 219ms/epoch - 6ms/step\n",
      "Epoch 28/100\n",
      "39/39 - 0s - loss: 0.0547 - mae: 0.1741 - val_loss: 0.0181 - val_mae: 0.0863 - 222ms/epoch - 6ms/step\n",
      "Epoch 29/100\n",
      "39/39 - 0s - loss: 0.0510 - mae: 0.1658 - val_loss: 0.0171 - val_mae: 0.0835 - 218ms/epoch - 6ms/step\n",
      "Epoch 30/100\n",
      "39/39 - 0s - loss: 0.0491 - mae: 0.1622 - val_loss: 0.0249 - val_mae: 0.1211 - 240ms/epoch - 6ms/step\n",
      "Epoch 31/100\n",
      "39/39 - 0s - loss: 0.0462 - mae: 0.1579 - val_loss: 0.0176 - val_mae: 0.0905 - 228ms/epoch - 6ms/step\n",
      "Epoch 32/100\n",
      "39/39 - 0s - loss: 0.0436 - mae: 0.1527 - val_loss: 0.0169 - val_mae: 0.0872 - 217ms/epoch - 6ms/step\n",
      "Epoch 33/100\n",
      "39/39 - 0s - loss: 0.0495 - mae: 0.1618 - val_loss: 0.0171 - val_mae: 0.0877 - 225ms/epoch - 6ms/step\n",
      "Epoch 34/100\n",
      "39/39 - 0s - loss: 0.0504 - mae: 0.1641 - val_loss: 0.0176 - val_mae: 0.0906 - 221ms/epoch - 6ms/step\n",
      "Epoch 35/100\n",
      "39/39 - 0s - loss: 0.0434 - mae: 0.1525 - val_loss: 0.0175 - val_mae: 0.0899 - 215ms/epoch - 6ms/step\n",
      "Epoch 36/100\n",
      "39/39 - 0s - loss: 0.0443 - mae: 0.1539 - val_loss: 0.0171 - val_mae: 0.0883 - 224ms/epoch - 6ms/step\n",
      "Epoch 37/100\n",
      "39/39 - 0s - loss: 0.0406 - mae: 0.1470 - val_loss: 0.0180 - val_mae: 0.0955 - 222ms/epoch - 6ms/step\n",
      "Epoch 38/100\n",
      "39/39 - 0s - loss: 0.0403 - mae: 0.1467 - val_loss: 0.0205 - val_mae: 0.1063 - 216ms/epoch - 6ms/step\n",
      "Epoch 39/100\n",
      "39/39 - 0s - loss: 0.0483 - mae: 0.1622 - val_loss: 0.0192 - val_mae: 0.0980 - 226ms/epoch - 6ms/step\n",
      "Epoch 40/100\n",
      "39/39 - 0s - loss: 0.0441 - mae: 0.1547 - val_loss: 0.0169 - val_mae: 0.0877 - 222ms/epoch - 6ms/step\n",
      "Epoch 41/100\n",
      "39/39 - 0s - loss: 0.0453 - mae: 0.1570 - val_loss: 0.0183 - val_mae: 0.0936 - 223ms/epoch - 6ms/step\n",
      "Epoch 42/100\n",
      "39/39 - 0s - loss: 0.0450 - mae: 0.1597 - val_loss: 0.0183 - val_mae: 0.0947 - 369ms/epoch - 9ms/step\n",
      "Epoch 43/100\n",
      "39/39 - 0s - loss: 0.0434 - mae: 0.1527 - val_loss: 0.0175 - val_mae: 0.0913 - 396ms/epoch - 10ms/step\n",
      "Epoch 44/100\n",
      "39/39 - 0s - loss: 0.0458 - mae: 0.1570 - val_loss: 0.0204 - val_mae: 0.1038 - 215ms/epoch - 6ms/step\n",
      "Epoch 45/100\n",
      "39/39 - 0s - loss: 0.0383 - mae: 0.1448 - val_loss: 0.0179 - val_mae: 0.0942 - 215ms/epoch - 6ms/step\n",
      "Epoch 46/100\n",
      "39/39 - 0s - loss: 0.0395 - mae: 0.1472 - val_loss: 0.0164 - val_mae: 0.0864 - 218ms/epoch - 6ms/step\n",
      "Epoch 47/100\n",
      "39/39 - 0s - loss: 0.0430 - mae: 0.1523 - val_loss: 0.0161 - val_mae: 0.0856 - 224ms/epoch - 6ms/step\n",
      "Epoch 48/100\n",
      "39/39 - 0s - loss: 0.0482 - mae: 0.1612 - val_loss: 0.0274 - val_mae: 0.1291 - 221ms/epoch - 6ms/step\n",
      "Epoch 49/100\n",
      "39/39 - 0s - loss: 0.0438 - mae: 0.1571 - val_loss: 0.0164 - val_mae: 0.0846 - 219ms/epoch - 6ms/step\n",
      "Epoch 50/100\n",
      "39/39 - 0s - loss: 0.0386 - mae: 0.1450 - val_loss: 0.0225 - val_mae: 0.1156 - 218ms/epoch - 6ms/step\n",
      "Epoch 51/100\n",
      "39/39 - 0s - loss: 0.0407 - mae: 0.1479 - val_loss: 0.0161 - val_mae: 0.0801 - 220ms/epoch - 6ms/step\n",
      "Epoch 52/100\n",
      "39/39 - 0s - loss: 0.0366 - mae: 0.1399 - val_loss: 0.0174 - val_mae: 0.0874 - 217ms/epoch - 6ms/step\n",
      "Epoch 53/100\n",
      "39/39 - 0s - loss: 0.0377 - mae: 0.1422 - val_loss: 0.0172 - val_mae: 0.0880 - 220ms/epoch - 6ms/step\n",
      "Epoch 54/100\n",
      "39/39 - 0s - loss: 0.0365 - mae: 0.1395 - val_loss: 0.0174 - val_mae: 0.0935 - 225ms/epoch - 6ms/step\n",
      "Epoch 55/100\n",
      "39/39 - 0s - loss: 0.0393 - mae: 0.1464 - val_loss: 0.0144 - val_mae: 0.0754 - 208ms/epoch - 5ms/step\n",
      "Epoch 56/100\n",
      "39/39 - 0s - loss: 0.0416 - mae: 0.1494 - val_loss: 0.0181 - val_mae: 0.0935 - 214ms/epoch - 5ms/step\n",
      "Epoch 57/100\n",
      "39/39 - 0s - loss: 0.0463 - mae: 0.1592 - val_loss: 0.0208 - val_mae: 0.1019 - 210ms/epoch - 5ms/step\n",
      "Epoch 58/100\n",
      "39/39 - 0s - loss: 0.0492 - mae: 0.1661 - val_loss: 0.0222 - val_mae: 0.1104 - 226ms/epoch - 6ms/step\n",
      "Epoch 59/100\n",
      "39/39 - 0s - loss: 0.0407 - mae: 0.1518 - val_loss: 0.0166 - val_mae: 0.0848 - 267ms/epoch - 7ms/step\n",
      "Epoch 60/100\n",
      "39/39 - 0s - loss: 0.0393 - mae: 0.1425 - val_loss: 0.0220 - val_mae: 0.1121 - 232ms/epoch - 6ms/step\n",
      "Epoch 61/100\n",
      "39/39 - 0s - loss: 0.0393 - mae: 0.1454 - val_loss: 0.0153 - val_mae: 0.0792 - 215ms/epoch - 6ms/step\n",
      "Epoch 62/100\n",
      "39/39 - 0s - loss: 0.0343 - mae: 0.1354 - val_loss: 0.0176 - val_mae: 0.0919 - 214ms/epoch - 5ms/step\n",
      "Epoch 63/100\n",
      "39/39 - 0s - loss: 0.0352 - mae: 0.1367 - val_loss: 0.0154 - val_mae: 0.0762 - 209ms/epoch - 5ms/step\n",
      "Epoch 64/100\n",
      "39/39 - 0s - loss: 0.0364 - mae: 0.1385 - val_loss: 0.0140 - val_mae: 0.0734 - 227ms/epoch - 6ms/step\n",
      "Epoch 65/100\n",
      "39/39 - 0s - loss: 0.0377 - mae: 0.1410 - val_loss: 0.0202 - val_mae: 0.1026 - 213ms/epoch - 5ms/step\n",
      "Epoch 66/100\n",
      "39/39 - 0s - loss: 0.0381 - mae: 0.1462 - val_loss: 0.0230 - val_mae: 0.1176 - 207ms/epoch - 5ms/step\n",
      "Epoch 67/100\n",
      "39/39 - 0s - loss: 0.0364 - mae: 0.1398 - val_loss: 0.0146 - val_mae: 0.0709 - 209ms/epoch - 5ms/step\n",
      "Epoch 68/100\n",
      "39/39 - 0s - loss: 0.0391 - mae: 0.1415 - val_loss: 0.0159 - val_mae: 0.0846 - 212ms/epoch - 5ms/step\n",
      "Epoch 69/100\n",
      "39/39 - 0s - loss: 0.0379 - mae: 0.1423 - val_loss: 0.0193 - val_mae: 0.1003 - 210ms/epoch - 5ms/step\n",
      "Epoch 70/100\n",
      "39/39 - 0s - loss: 0.0411 - mae: 0.1520 - val_loss: 0.0184 - val_mae: 0.0956 - 216ms/epoch - 6ms/step\n",
      "Epoch 71/100\n",
      "39/39 - 0s - loss: 0.0380 - mae: 0.1449 - val_loss: 0.0189 - val_mae: 0.1001 - 209ms/epoch - 5ms/step\n",
      "Epoch 72/100\n",
      "39/39 - 0s - loss: 0.0427 - mae: 0.1514 - val_loss: 0.0183 - val_mae: 0.0936 - 216ms/epoch - 6ms/step\n"
     ]
    },
    {
     "name": "stdout",
     "output_type": "stream",
     "text": [
      "Epoch 73/100\n",
      "39/39 - 0s - loss: 0.0412 - mae: 0.1482 - val_loss: 0.0217 - val_mae: 0.1115 - 213ms/epoch - 5ms/step\n",
      "Epoch 74/100\n",
      "39/39 - 0s - loss: 0.0381 - mae: 0.1416 - val_loss: 0.0187 - val_mae: 0.0982 - 210ms/epoch - 5ms/step\n",
      "Epoch 75/100\n",
      "39/39 - 0s - loss: 0.0370 - mae: 0.1428 - val_loss: 0.0213 - val_mae: 0.1099 - 214ms/epoch - 5ms/step\n",
      "Epoch 76/100\n",
      "39/39 - 0s - loss: 0.0405 - mae: 0.1488 - val_loss: 0.0226 - val_mae: 0.1163 - 208ms/epoch - 5ms/step\n",
      "Epoch 77/100\n",
      "39/39 - 0s - loss: 0.0392 - mae: 0.1458 - val_loss: 0.0212 - val_mae: 0.1103 - 212ms/epoch - 5ms/step\n",
      "Epoch 78/100\n",
      "39/39 - 0s - loss: 0.0404 - mae: 0.1465 - val_loss: 0.0177 - val_mae: 0.0944 - 214ms/epoch - 5ms/step\n",
      "Epoch 79/100\n",
      "39/39 - 0s - loss: 0.0402 - mae: 0.1482 - val_loss: 0.0198 - val_mae: 0.1018 - 208ms/epoch - 5ms/step\n",
      "Epoch 80/100\n",
      "39/39 - 0s - loss: 0.0413 - mae: 0.1476 - val_loss: 0.0223 - val_mae: 0.1140 - 208ms/epoch - 5ms/step\n",
      "Epoch 81/100\n",
      "39/39 - 0s - loss: 0.0391 - mae: 0.1459 - val_loss: 0.0225 - val_mae: 0.1160 - 219ms/epoch - 6ms/step\n",
      "Epoch 82/100\n",
      "39/39 - 0s - loss: 0.0418 - mae: 0.1506 - val_loss: 0.0192 - val_mae: 0.1016 - 214ms/epoch - 5ms/step\n",
      "Epoch 83/100\n",
      "39/39 - 0s - loss: 0.0365 - mae: 0.1418 - val_loss: 0.0181 - val_mae: 0.0961 - 209ms/epoch - 5ms/step\n",
      "Epoch 84/100\n",
      "39/39 - 0s - loss: 0.0414 - mae: 0.1485 - val_loss: 0.0168 - val_mae: 0.0891 - 205ms/epoch - 5ms/step\n",
      "Epoch 85/100\n",
      "39/39 - 0s - loss: 0.0372 - mae: 0.1420 - val_loss: 0.0207 - val_mae: 0.1081 - 212ms/epoch - 5ms/step\n",
      "Epoch 86/100\n",
      "39/39 - 0s - loss: 0.0373 - mae: 0.1418 - val_loss: 0.0151 - val_mae: 0.0791 - 211ms/epoch - 5ms/step\n",
      "Epoch 87/100\n",
      "39/39 - 0s - loss: 0.0431 - mae: 0.1538 - val_loss: 0.0195 - val_mae: 0.0999 - 229ms/epoch - 6ms/step\n",
      "Epoch 88/100\n",
      "39/39 - 0s - loss: 0.0411 - mae: 0.1518 - val_loss: 0.0219 - val_mae: 0.1124 - 207ms/epoch - 5ms/step\n",
      "Epoch 89/100\n",
      "39/39 - 0s - loss: 0.0389 - mae: 0.1469 - val_loss: 0.0214 - val_mae: 0.1098 - 207ms/epoch - 5ms/step\n",
      "Epoch 90/100\n",
      "39/39 - 0s - loss: 0.0349 - mae: 0.1374 - val_loss: 0.0255 - val_mae: 0.1277 - 213ms/epoch - 5ms/step\n",
      "Epoch 91/100\n",
      "39/39 - 0s - loss: 0.0350 - mae: 0.1382 - val_loss: 0.0225 - val_mae: 0.1144 - 209ms/epoch - 5ms/step\n",
      "Epoch 92/100\n",
      "39/39 - 0s - loss: 0.0370 - mae: 0.1404 - val_loss: 0.0258 - val_mae: 0.1291 - 204ms/epoch - 5ms/step\n",
      "Epoch 93/100\n",
      "39/39 - 0s - loss: 0.0365 - mae: 0.1386 - val_loss: 0.0246 - val_mae: 0.1231 - 211ms/epoch - 5ms/step\n",
      "Epoch 94/100\n",
      "39/39 - 0s - loss: 0.0374 - mae: 0.1412 - val_loss: 0.0213 - val_mae: 0.1107 - 210ms/epoch - 5ms/step\n",
      "Epoch 95/100\n",
      "39/39 - 0s - loss: 0.0359 - mae: 0.1405 - val_loss: 0.0205 - val_mae: 0.1023 - 206ms/epoch - 5ms/step\n",
      "Epoch 96/100\n",
      "39/39 - 0s - loss: 0.0359 - mae: 0.1371 - val_loss: 0.0141 - val_mae: 0.0745 - 209ms/epoch - 5ms/step\n",
      "Epoch 97/100\n",
      "39/39 - 0s - loss: 0.0373 - mae: 0.1391 - val_loss: 0.0205 - val_mae: 0.1089 - 208ms/epoch - 5ms/step\n",
      "Epoch 98/100\n",
      "39/39 - 0s - loss: 0.0363 - mae: 0.1395 - val_loss: 0.0182 - val_mae: 0.0974 - 207ms/epoch - 5ms/step\n",
      "Epoch 99/100\n",
      "39/39 - 0s - loss: 0.0348 - mae: 0.1384 - val_loss: 0.0150 - val_mae: 0.0805 - 212ms/epoch - 5ms/step\n",
      "Epoch 100/100\n",
      "39/39 - 0s - loss: 0.0378 - mae: 0.1447 - val_loss: 0.0199 - val_mae: 0.1019 - 212ms/epoch - 5ms/step\n"
     ]
    }
   ],
   "source": [
    "RNN_History = RNN_Model.fit(X_train,y_train,epochs=100,batch_size = 50,validation_data=(X_valid,y_valid),shuffle=False, \n",
    "                    verbose = 2)"
   ]
  },
  {
   "cell_type": "code",
   "execution_count": 127,
   "id": "3242dc06",
   "metadata": {},
   "outputs": [
    {
     "name": "stdout",
     "output_type": "stream",
     "text": [
      "Epoch 1/100\n",
      "39/39 - 5s - loss: 0.8346 - mae: 0.7923 - val_loss: 0.4397 - val_mae: 0.5781 - 5s/epoch - 125ms/step\n",
      "Epoch 2/100\n",
      "39/39 - 0s - loss: 0.2562 - mae: 0.3796 - val_loss: 0.0979 - val_mae: 0.2256 - 379ms/epoch - 10ms/step\n",
      "Epoch 3/100\n",
      "39/39 - 0s - loss: 0.1387 - mae: 0.2817 - val_loss: 0.0571 - val_mae: 0.1537 - 379ms/epoch - 10ms/step\n",
      "Epoch 4/100\n",
      "39/39 - 0s - loss: 0.1133 - mae: 0.2517 - val_loss: 0.0543 - val_mae: 0.1473 - 382ms/epoch - 10ms/step\n",
      "Epoch 5/100\n",
      "39/39 - 0s - loss: 0.0959 - mae: 0.2313 - val_loss: 0.0509 - val_mae: 0.1403 - 384ms/epoch - 10ms/step\n",
      "Epoch 6/100\n",
      "39/39 - 0s - loss: 0.0812 - mae: 0.2105 - val_loss: 0.0535 - val_mae: 0.1488 - 382ms/epoch - 10ms/step\n",
      "Epoch 7/100\n",
      "39/39 - 0s - loss: 0.0794 - mae: 0.2088 - val_loss: 0.0575 - val_mae: 0.1547 - 379ms/epoch - 10ms/step\n",
      "Epoch 8/100\n",
      "39/39 - 0s - loss: 0.0739 - mae: 0.2007 - val_loss: 0.0687 - val_mae: 0.1770 - 377ms/epoch - 10ms/step\n",
      "Epoch 9/100\n",
      "39/39 - 0s - loss: 0.0716 - mae: 0.1979 - val_loss: 0.0736 - val_mae: 0.1852 - 377ms/epoch - 10ms/step\n",
      "Epoch 10/100\n",
      "39/39 - 0s - loss: 0.0735 - mae: 0.2007 - val_loss: 0.1193 - val_mae: 0.2592 - 371ms/epoch - 10ms/step\n",
      "Epoch 11/100\n",
      "39/39 - 0s - loss: 0.0767 - mae: 0.2064 - val_loss: 0.1395 - val_mae: 0.2841 - 379ms/epoch - 10ms/step\n",
      "Epoch 12/100\n",
      "39/39 - 0s - loss: 0.0813 - mae: 0.2148 - val_loss: 0.1186 - val_mae: 0.2553 - 383ms/epoch - 10ms/step\n",
      "Epoch 13/100\n",
      "39/39 - 0s - loss: 0.0770 - mae: 0.2091 - val_loss: 0.0957 - val_mae: 0.2278 - 379ms/epoch - 10ms/step\n",
      "Epoch 14/100\n",
      "39/39 - 0s - loss: 0.0701 - mae: 0.1981 - val_loss: 0.0724 - val_mae: 0.1911 - 375ms/epoch - 10ms/step\n",
      "Epoch 15/100\n",
      "39/39 - 0s - loss: 0.0680 - mae: 0.1939 - val_loss: 0.0738 - val_mae: 0.1918 - 380ms/epoch - 10ms/step\n",
      "Epoch 16/100\n",
      "39/39 - 0s - loss: 0.0615 - mae: 0.1837 - val_loss: 0.0504 - val_mae: 0.1457 - 382ms/epoch - 10ms/step\n",
      "Epoch 17/100\n",
      "39/39 - 0s - loss: 0.0565 - mae: 0.1742 - val_loss: 0.0542 - val_mae: 0.1585 - 381ms/epoch - 10ms/step\n",
      "Epoch 18/100\n",
      "39/39 - 0s - loss: 0.0536 - mae: 0.1711 - val_loss: 0.0506 - val_mae: 0.1480 - 380ms/epoch - 10ms/step\n",
      "Epoch 19/100\n",
      "39/39 - 0s - loss: 0.0541 - mae: 0.1720 - val_loss: 0.0713 - val_mae: 0.1929 - 379ms/epoch - 10ms/step\n",
      "Epoch 20/100\n",
      "39/39 - 0s - loss: 0.0580 - mae: 0.1788 - val_loss: 0.0841 - val_mae: 0.2156 - 382ms/epoch - 10ms/step\n",
      "Epoch 21/100\n",
      "39/39 - 0s - loss: 0.0605 - mae: 0.1844 - val_loss: 0.1131 - val_mae: 0.2517 - 382ms/epoch - 10ms/step\n",
      "Epoch 22/100\n",
      "39/39 - 0s - loss: 0.0709 - mae: 0.1990 - val_loss: 0.0997 - val_mae: 0.2293 - 378ms/epoch - 10ms/step\n",
      "Epoch 23/100\n",
      "39/39 - 0s - loss: 0.0664 - mae: 0.1911 - val_loss: 0.0720 - val_mae: 0.1893 - 378ms/epoch - 10ms/step\n",
      "Epoch 24/100\n",
      "39/39 - 0s - loss: 0.0550 - mae: 0.1747 - val_loss: 0.0635 - val_mae: 0.1782 - 377ms/epoch - 10ms/step\n",
      "Epoch 25/100\n",
      "39/39 - 0s - loss: 0.0561 - mae: 0.1746 - val_loss: 0.0651 - val_mae: 0.1828 - 380ms/epoch - 10ms/step\n",
      "Epoch 26/100\n",
      "39/39 - 1s - loss: 0.0551 - mae: 0.1731 - val_loss: 0.0726 - val_mae: 0.1952 - 688ms/epoch - 18ms/step\n",
      "Epoch 27/100\n",
      "39/39 - 0s - loss: 0.0563 - mae: 0.1760 - val_loss: 0.0696 - val_mae: 0.1905 - 392ms/epoch - 10ms/step\n",
      "Epoch 28/100\n",
      "39/39 - 0s - loss: 0.0557 - mae: 0.1755 - val_loss: 0.0645 - val_mae: 0.1817 - 373ms/epoch - 10ms/step\n",
      "Epoch 29/100\n",
      "39/39 - 0s - loss: 0.0512 - mae: 0.1683 - val_loss: 0.0588 - val_mae: 0.1744 - 375ms/epoch - 10ms/step\n",
      "Epoch 30/100\n",
      "39/39 - 0s - loss: 0.0496 - mae: 0.1634 - val_loss: 0.0467 - val_mae: 0.1433 - 378ms/epoch - 10ms/step\n",
      "Epoch 31/100\n",
      "39/39 - 0s - loss: 0.0459 - mae: 0.1592 - val_loss: 0.0450 - val_mae: 0.1362 - 376ms/epoch - 10ms/step\n",
      "Epoch 32/100\n",
      "39/39 - 0s - loss: 0.0462 - mae: 0.1584 - val_loss: 0.0537 - val_mae: 0.1627 - 377ms/epoch - 10ms/step\n",
      "Epoch 33/100\n",
      "39/39 - 0s - loss: 0.0480 - mae: 0.1605 - val_loss: 0.0597 - val_mae: 0.1784 - 377ms/epoch - 10ms/step\n",
      "Epoch 34/100\n",
      "39/39 - 0s - loss: 0.0511 - mae: 0.1660 - val_loss: 0.0568 - val_mae: 0.1634 - 373ms/epoch - 10ms/step\n",
      "Epoch 35/100\n",
      "39/39 - 0s - loss: 0.0462 - mae: 0.1611 - val_loss: 0.0587 - val_mae: 0.1739 - 377ms/epoch - 10ms/step\n",
      "Epoch 36/100\n",
      "39/39 - 0s - loss: 0.0488 - mae: 0.1620 - val_loss: 0.0548 - val_mae: 0.1631 - 377ms/epoch - 10ms/step\n",
      "Epoch 37/100\n",
      "39/39 - 0s - loss: 0.0453 - mae: 0.1560 - val_loss: 0.0589 - val_mae: 0.1690 - 377ms/epoch - 10ms/step\n",
      "Epoch 38/100\n",
      "39/39 - 0s - loss: 0.0476 - mae: 0.1591 - val_loss: 0.0533 - val_mae: 0.1577 - 378ms/epoch - 10ms/step\n",
      "Epoch 39/100\n",
      "39/39 - 0s - loss: 0.0472 - mae: 0.1587 - val_loss: 0.0621 - val_mae: 0.1712 - 375ms/epoch - 10ms/step\n",
      "Epoch 40/100\n",
      "39/39 - 0s - loss: 0.0486 - mae: 0.1609 - val_loss: 0.0516 - val_mae: 0.1536 - 374ms/epoch - 10ms/step\n",
      "Epoch 41/100\n",
      "39/39 - 0s - loss: 0.0478 - mae: 0.1594 - val_loss: 0.0547 - val_mae: 0.1673 - 379ms/epoch - 10ms/step\n",
      "Epoch 42/100\n",
      "39/39 - 0s - loss: 0.0459 - mae: 0.1576 - val_loss: 0.0553 - val_mae: 0.1675 - 380ms/epoch - 10ms/step\n",
      "Epoch 43/100\n",
      "39/39 - 0s - loss: 0.0454 - mae: 0.1573 - val_loss: 0.0464 - val_mae: 0.1448 - 374ms/epoch - 10ms/step\n",
      "Epoch 44/100\n",
      "39/39 - 0s - loss: 0.0419 - mae: 0.1500 - val_loss: 0.0472 - val_mae: 0.1430 - 379ms/epoch - 10ms/step\n",
      "Epoch 45/100\n",
      "39/39 - 0s - loss: 0.0403 - mae: 0.1476 - val_loss: 0.0664 - val_mae: 0.1862 - 369ms/epoch - 9ms/step\n",
      "Epoch 46/100\n",
      "39/39 - 0s - loss: 0.0477 - mae: 0.1627 - val_loss: 0.0633 - val_mae: 0.1807 - 365ms/epoch - 9ms/step\n",
      "Epoch 47/100\n",
      "39/39 - 0s - loss: 0.0490 - mae: 0.1640 - val_loss: 0.0937 - val_mae: 0.2302 - 363ms/epoch - 9ms/step\n",
      "Epoch 48/100\n",
      "39/39 - 0s - loss: 0.0516 - mae: 0.1721 - val_loss: 0.0645 - val_mae: 0.1867 - 373ms/epoch - 10ms/step\n",
      "Epoch 49/100\n",
      "39/39 - 0s - loss: 0.0500 - mae: 0.1634 - val_loss: 0.0685 - val_mae: 0.1917 - 369ms/epoch - 9ms/step\n",
      "Epoch 50/100\n",
      "39/39 - 0s - loss: 0.0478 - mae: 0.1630 - val_loss: 0.0684 - val_mae: 0.1983 - 369ms/epoch - 9ms/step\n",
      "Epoch 51/100\n",
      "39/39 - 0s - loss: 0.0495 - mae: 0.1663 - val_loss: 0.0407 - val_mae: 0.1318 - 368ms/epoch - 9ms/step\n",
      "Epoch 52/100\n",
      "39/39 - 0s - loss: 0.0407 - mae: 0.1476 - val_loss: 0.0296 - val_mae: 0.1049 - 365ms/epoch - 9ms/step\n",
      "Epoch 53/100\n",
      "39/39 - 0s - loss: 0.0382 - mae: 0.1417 - val_loss: 0.0334 - val_mae: 0.1168 - 366ms/epoch - 9ms/step\n",
      "Epoch 54/100\n",
      "39/39 - 0s - loss: 0.0390 - mae: 0.1446 - val_loss: 0.0349 - val_mae: 0.1197 - 367ms/epoch - 9ms/step\n",
      "Epoch 55/100\n",
      "39/39 - 0s - loss: 0.0380 - mae: 0.1433 - val_loss: 0.0364 - val_mae: 0.1231 - 359ms/epoch - 9ms/step\n",
      "Epoch 56/100\n",
      "39/39 - 0s - loss: 0.0380 - mae: 0.1412 - val_loss: 0.0405 - val_mae: 0.1331 - 381ms/epoch - 10ms/step\n",
      "Epoch 57/100\n",
      "39/39 - 0s - loss: 0.0385 - mae: 0.1449 - val_loss: 0.0475 - val_mae: 0.1588 - 428ms/epoch - 11ms/step\n",
      "Epoch 58/100\n",
      "39/39 - 0s - loss: 0.0417 - mae: 0.1498 - val_loss: 0.0457 - val_mae: 0.1518 - 360ms/epoch - 9ms/step\n",
      "Epoch 59/100\n",
      "39/39 - 0s - loss: 0.0407 - mae: 0.1487 - val_loss: 0.0403 - val_mae: 0.1339 - 359ms/epoch - 9ms/step\n",
      "Epoch 60/100\n",
      "39/39 - 0s - loss: 0.0402 - mae: 0.1483 - val_loss: 0.0506 - val_mae: 0.1622 - 353ms/epoch - 9ms/step\n",
      "Epoch 61/100\n",
      "39/39 - 0s - loss: 0.0444 - mae: 0.1542 - val_loss: 0.0523 - val_mae: 0.1636 - 361ms/epoch - 9ms/step\n",
      "Epoch 62/100\n",
      "39/39 - 0s - loss: 0.0398 - mae: 0.1478 - val_loss: 0.0548 - val_mae: 0.1694 - 364ms/epoch - 9ms/step\n",
      "Epoch 63/100\n",
      "39/39 - 0s - loss: 0.0432 - mae: 0.1522 - val_loss: 0.0538 - val_mae: 0.1640 - 367ms/epoch - 9ms/step\n",
      "Epoch 64/100\n",
      "39/39 - 0s - loss: 0.0432 - mae: 0.1541 - val_loss: 0.0701 - val_mae: 0.1967 - 365ms/epoch - 9ms/step\n",
      "Epoch 65/100\n",
      "39/39 - 0s - loss: 0.0480 - mae: 0.1633 - val_loss: 0.0721 - val_mae: 0.1950 - 372ms/epoch - 10ms/step\n",
      "Epoch 66/100\n",
      "39/39 - 0s - loss: 0.0499 - mae: 0.1683 - val_loss: 0.0790 - val_mae: 0.2176 - 368ms/epoch - 9ms/step\n",
      "Epoch 67/100\n",
      "39/39 - 0s - loss: 0.0468 - mae: 0.1596 - val_loss: 0.0570 - val_mae: 0.1726 - 379ms/epoch - 10ms/step\n",
      "Epoch 68/100\n",
      "39/39 - 0s - loss: 0.0442 - mae: 0.1554 - val_loss: 0.0474 - val_mae: 0.1555 - 363ms/epoch - 9ms/step\n",
      "Epoch 69/100\n",
      "39/39 - 0s - loss: 0.0405 - mae: 0.1479 - val_loss: 0.0421 - val_mae: 0.1444 - 373ms/epoch - 10ms/step\n",
      "Epoch 70/100\n",
      "39/39 - 0s - loss: 0.0401 - mae: 0.1472 - val_loss: 0.0419 - val_mae: 0.1443 - 367ms/epoch - 9ms/step\n",
      "Epoch 71/100\n",
      "39/39 - 0s - loss: 0.0375 - mae: 0.1442 - val_loss: 0.0425 - val_mae: 0.1436 - 370ms/epoch - 9ms/step\n"
     ]
    },
    {
     "name": "stdout",
     "output_type": "stream",
     "text": [
      "Epoch 72/100\n",
      "39/39 - 0s - loss: 0.0417 - mae: 0.1493 - val_loss: 0.0529 - val_mae: 0.1616 - 366ms/epoch - 9ms/step\n",
      "Epoch 73/100\n",
      "39/39 - 0s - loss: 0.0443 - mae: 0.1570 - val_loss: 0.0547 - val_mae: 0.1728 - 366ms/epoch - 9ms/step\n",
      "Epoch 74/100\n",
      "39/39 - 0s - loss: 0.0439 - mae: 0.1568 - val_loss: 0.0574 - val_mae: 0.1763 - 355ms/epoch - 9ms/step\n",
      "Epoch 75/100\n",
      "39/39 - 0s - loss: 0.0443 - mae: 0.1586 - val_loss: 0.0640 - val_mae: 0.1874 - 355ms/epoch - 9ms/step\n",
      "Epoch 76/100\n",
      "39/39 - 0s - loss: 0.0446 - mae: 0.1567 - val_loss: 0.0487 - val_mae: 0.1642 - 356ms/epoch - 9ms/step\n",
      "Epoch 77/100\n",
      "39/39 - 0s - loss: 0.0425 - mae: 0.1527 - val_loss: 0.0368 - val_mae: 0.1359 - 357ms/epoch - 9ms/step\n",
      "Epoch 78/100\n",
      "39/39 - 0s - loss: 0.0406 - mae: 0.1482 - val_loss: 0.0341 - val_mae: 0.1249 - 362ms/epoch - 9ms/step\n",
      "Epoch 79/100\n",
      "39/39 - 0s - loss: 0.0379 - mae: 0.1421 - val_loss: 0.0355 - val_mae: 0.1270 - 458ms/epoch - 12ms/step\n",
      "Epoch 80/100\n",
      "39/39 - 0s - loss: 0.0383 - mae: 0.1407 - val_loss: 0.0322 - val_mae: 0.1205 - 424ms/epoch - 11ms/step\n",
      "Epoch 81/100\n",
      "39/39 - 0s - loss: 0.0375 - mae: 0.1400 - val_loss: 0.0303 - val_mae: 0.1161 - 374ms/epoch - 10ms/step\n",
      "Epoch 82/100\n",
      "39/39 - 0s - loss: 0.0354 - mae: 0.1384 - val_loss: 0.0231 - val_mae: 0.0895 - 390ms/epoch - 10ms/step\n",
      "Epoch 83/100\n",
      "39/39 - 0s - loss: 0.0348 - mae: 0.1356 - val_loss: 0.0267 - val_mae: 0.1071 - 493ms/epoch - 13ms/step\n",
      "Epoch 84/100\n",
      "39/39 - 0s - loss: 0.0362 - mae: 0.1378 - val_loss: 0.0239 - val_mae: 0.0934 - 381ms/epoch - 10ms/step\n",
      "Epoch 85/100\n",
      "39/39 - 1s - loss: 0.0333 - mae: 0.1338 - val_loss: 0.0256 - val_mae: 0.0981 - 504ms/epoch - 13ms/step\n",
      "Epoch 86/100\n",
      "39/39 - 1s - loss: 0.0336 - mae: 0.1336 - val_loss: 0.0336 - val_mae: 0.1277 - 519ms/epoch - 13ms/step\n",
      "Epoch 87/100\n",
      "39/39 - 0s - loss: 0.0380 - mae: 0.1440 - val_loss: 0.0428 - val_mae: 0.1475 - 402ms/epoch - 10ms/step\n",
      "Epoch 88/100\n",
      "39/39 - 0s - loss: 0.0396 - mae: 0.1476 - val_loss: 0.0506 - val_mae: 0.1692 - 476ms/epoch - 12ms/step\n",
      "Epoch 89/100\n",
      "39/39 - 0s - loss: 0.0400 - mae: 0.1489 - val_loss: 0.0512 - val_mae: 0.1654 - 427ms/epoch - 11ms/step\n",
      "Epoch 90/100\n",
      "39/39 - 0s - loss: 0.0428 - mae: 0.1516 - val_loss: 0.0712 - val_mae: 0.2132 - 441ms/epoch - 11ms/step\n",
      "Epoch 91/100\n",
      "39/39 - 0s - loss: 0.0479 - mae: 0.1631 - val_loss: 0.0649 - val_mae: 0.1897 - 474ms/epoch - 12ms/step\n",
      "Epoch 92/100\n",
      "39/39 - 0s - loss: 0.0469 - mae: 0.1623 - val_loss: 0.0362 - val_mae: 0.1333 - 466ms/epoch - 12ms/step\n",
      "Epoch 93/100\n",
      "39/39 - 0s - loss: 0.0370 - mae: 0.1418 - val_loss: 0.0294 - val_mae: 0.1103 - 382ms/epoch - 10ms/step\n",
      "Epoch 94/100\n",
      "39/39 - 0s - loss: 0.0367 - mae: 0.1388 - val_loss: 0.0424 - val_mae: 0.1489 - 469ms/epoch - 12ms/step\n",
      "Epoch 95/100\n",
      "39/39 - 0s - loss: 0.0390 - mae: 0.1430 - val_loss: 0.0347 - val_mae: 0.1264 - 358ms/epoch - 9ms/step\n",
      "Epoch 96/100\n",
      "39/39 - 0s - loss: 0.0402 - mae: 0.1469 - val_loss: 0.0367 - val_mae: 0.1350 - 361ms/epoch - 9ms/step\n",
      "Epoch 97/100\n",
      "39/39 - 0s - loss: 0.0365 - mae: 0.1420 - val_loss: 0.0522 - val_mae: 0.1821 - 493ms/epoch - 13ms/step\n",
      "Epoch 98/100\n",
      "39/39 - 0s - loss: 0.0403 - mae: 0.1488 - val_loss: 0.0417 - val_mae: 0.1445 - 473ms/epoch - 12ms/step\n",
      "Epoch 99/100\n",
      "39/39 - 0s - loss: 0.0397 - mae: 0.1458 - val_loss: 0.0301 - val_mae: 0.1184 - 496ms/epoch - 13ms/step\n",
      "Epoch 100/100\n",
      "39/39 - 1s - loss: 0.0370 - mae: 0.1400 - val_loss: 0.0304 - val_mae: 0.1220 - 525ms/epoch - 13ms/step\n"
     ]
    }
   ],
   "source": [
    "LSTM_History = LSTM_Model.fit(X_train,y_train,epochs=100,batch_size = 50,validation_data=(X_valid,y_valid),shuffle=False, \n",
    "                    verbose = 2)"
   ]
  },
  {
   "cell_type": "markdown",
   "id": "faf4ba73",
   "metadata": {},
   "source": [
    "## Make Predictions"
   ]
  },
  {
   "cell_type": "code",
   "execution_count": 128,
   "id": "a1de18c6",
   "metadata": {},
   "outputs": [],
   "source": [
    "RNN_Predictions = RNN_Model.predict(X_test)\n",
    "LSTM_predictions = LSTM_Model.predict(X_test)"
   ]
  },
  {
   "cell_type": "markdown",
   "id": "c4439bc0",
   "metadata": {},
   "source": [
    "## Inverse Transform the Values"
   ]
  },
  {
   "cell_type": "code",
   "execution_count": 129,
   "id": "e5a0787e",
   "metadata": {},
   "outputs": [],
   "source": [
    "RNN_act_prd = std_scalar.inverse_transform(RNN_Predictions)\n",
    "LSTM_act_prd = std_scalar.inverse_transform(LSTM_predictions)"
   ]
  },
  {
   "cell_type": "markdown",
   "id": "1351476f",
   "metadata": {},
   "source": [
    "## Evalation Metrics (RMSE and MAE)"
   ]
  },
  {
   "cell_type": "code",
   "execution_count": 130,
   "id": "22ee211a",
   "metadata": {},
   "outputs": [
    {
     "name": "stdout",
     "output_type": "stream",
     "text": [
      "### RNN Model ###\n",
      "RMSE 38.98487522765638\n",
      "MAE 24.33409862029247\n"
     ]
    }
   ],
   "source": [
    "print(\"### RNN Model ###\")\n",
    "Y_test_res_RNN = std_scalar.inverse_transform(y_test)\n",
    "pre_RNN = RNN_act_prd[:,:1]\n",
    "\n",
    "rmse=np.sqrt(np.mean(((pre_RNN- Y_test_res_RNN)**2)))\n",
    "print(f\"RMSE {rmse}\"  )\n",
    "\n",
    "print(f\"MAE {mean_absolute_error(Y_test_res_RNN, pre_RNN)}\")"
   ]
  },
  {
   "cell_type": "code",
   "execution_count": 131,
   "id": "21b80903",
   "metadata": {},
   "outputs": [
    {
     "name": "stdout",
     "output_type": "stream",
     "text": [
      "### LSTM Model ###\n",
      "RMSE 46.422508767438416\n",
      "MAE 30.296848655765892\n"
     ]
    }
   ],
   "source": [
    "print(\"### LSTM Model ###\")\n",
    "Y_test_res_LSTM = std_scalar.inverse_transform(y_test)\n",
    "pre_LSTM = LSTM_act_prd[:,:1]\n",
    "\n",
    "rmse=np.sqrt(np.mean(((pre_LSTM- Y_test_res_LSTM)**2)))\n",
    "print(f\"RMSE {rmse}\"  )\n",
    "\n",
    "print(f\"MAE {mean_absolute_error(Y_test_res_LSTM, pre_LSTM)}\")"
   ]
  },
  {
   "cell_type": "code",
   "execution_count": 136,
   "id": "5e5e8c5e",
   "metadata": {},
   "outputs": [
    {
     "data": {
      "image/png": "[encoded data removed]",
      "text/plain": [
       "<Figure size 432x288 with 1 Axes>"
      ]
     },
     "metadata": {
      "needs_background": "light"
     },
     "output_type": "display_data"
    }
   ],
   "source": [
    "plot =pd.DataFrame()\n",
    "plot[\"pred\"]=list(map(float, pre_LSTM))\n",
    "plot[\"real\"]=list(map(float, Y_test_res_LSTM))\n",
    "plot[\"date\"]=X_test_split.index[:-steps]\n",
    "plot.plot(kind=\"line\", x=\"date\", title=\"Plot curve of predicted and actual close prices using LSTM\")\n",
    "plt.show()"
   ]
  },
  {
   "cell_type": "code",
   "execution_count": 137,
   "id": "16738d2b",
   "metadata": {},
   "outputs": [
    {
     "data": {
      "image/png": "[encoded data removed]",
      "text/plain": [
       "<Figure size 432x288 with 1 Axes>"
      ]
     },
     "metadata": {
      "needs_background": "light"
     },
     "output_type": "display_data"
    }
   ],
   "source": [
    "plot =pd.DataFrame()\n",
    "plot[\"pred\"]=list(map(float, pre_RNN))\n",
    "plot[\"real\"]=list(map(float, Y_test_res_RNN))\n",
    "plot[\"date\"]=X_test_split.index[:-steps]\n",
    "plot.plot(kind=\"line\", x=\"date\", title=\"Plot curve of predicted and actual close prices using RNN\")\n",
    "plt.show()"
   ]
  },
  {
   "cell_type": "code",
   "execution_count": 147,
   "id": "6a9be8ed",
   "metadata": {},
   "outputs": [
    {
     "data": {
      "image/png": "[encoded data removed]",
      "text/plain": [
       "<Figure size 432x288 with 1 Axes>"
      ]
     },
     "metadata": {
      "needs_background": "light"
     },
     "output_type": "display_data"
    }
   ],
   "source": [
    "plt.plot(LSTM_History.history['loss'])\n",
    "plt.plot(LSTM_History.history['val_loss'])\n",
    "plt.title('Model Loss LSTM')\n",
    "plt.ylabel('Loss')\n",
    "plt.xlabel('Epochs')\n",
    "plt.legend(['Train', 'Validation'], loc='upper right')\n",
    "plt.show()"
   ]
  },
  {
   "cell_type": "code",
   "execution_count": 148,
   "id": "57b535a4",
   "metadata": {},
   "outputs": [
    {
     "data": {
      "image/png": "[encoded data removed]",
      "text/plain": [
       "<Figure size 432x288 with 1 Axes>"
      ]
     },
     "metadata": {
      "needs_background": "light"
     },
     "output_type": "display_data"
    }
   ],
   "source": [
    "plt.plot(RNN_History.history['loss'])\n",
    "plt.plot(RNN_History.history['val_loss'])\n",
    "plt.title('Model Loss RNN')\n",
    "plt.ylabel('Loss')\n",
    "plt.xlabel('Epoch')\n",
    "plt.legend(['Train', 'Validation'], loc='upper right')\n",
    "plt.show()"
   ]
  },
  {
   "cell_type": "code",
   "execution_count": 149,
   "id": "d301aca8",
   "metadata": {},
   "outputs": [
    {
     "data": {
      "image/png": "[encoded data removed]",
      "text/plain": [
       "<Figure size 432x288 with 1 Axes>"
      ]
     },
     "metadata": {
      "needs_background": "light"
     },
     "output_type": "display_data"
    }
   ],
   "source": [
    "plt.plot(LSTM_History.history['mae'])\n",
    "plt.plot(LSTM_History.history['val_mae'])\n",
    "plt.title('Model MAE  LSTM')\n",
    "plt.ylabel('MAE')\n",
    "plt.xlabel('Epochs')\n",
    "plt.legend(['Train', 'validation'], loc='upper right')\n",
    "plt.show()"
   ]
  },
  {
   "cell_type": "code",
   "execution_count": 150,
   "id": "54c98c45",
   "metadata": {},
   "outputs": [
    {
     "data": {
      "image/png": "[encoded data removed]",
      "text/plain": [
       "<Figure size 432x288 with 1 Axes>"
      ]
     },
     "metadata": {
      "needs_background": "light"
     },
     "output_type": "display_data"
    }
   ],
   "source": [
    "plt.plot(RNN_History.history['mae'])\n",
    "plt.plot(RNN_History.history['val_mae'])\n",
    "plt.title('Model MAE RNN')\n",
    "plt.ylabel('MAE')\n",
    "plt.xlabel('Epochs')\n",
    "plt.legend(['Train', 'Validation'], loc='upper left')\n",
    "plt.show()"
   ]
  },
  {
   "cell_type": "markdown",
   "id": "1da1e317",
   "metadata": {},
   "source": [
    "## Conclusion\n",
    "\n",
    "1. For NABIL Bank LSTM and RNN Models used for Stock Price Prediction\n",
    "2. The Error is Low for RNN Model"
   ]
  }
 ],
 "metadata": {
  "kernelspec": {
   "display_name": "Python 3 (ipykernel)",
   "language": "python",
   "name": "python3"
  },
  "language_info": {
   "codemirror_mode": {
    "name": "ipython",
    "version": 3
   },
   "file_extension": ".py",
   "mimetype": "text/x-python",
   "name": "python",
   "nbconvert_exporter": "python",
   "pygments_lexer": "ipython3",
   "version": "3.8.10"
  }
 },
 "nbformat": 4,
 "nbformat_minor": 5
}
