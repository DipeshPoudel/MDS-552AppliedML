{
 "cells": [
  {
   "cell_type": "markdown",
   "id": "14bc04ea",
   "metadata": {},
   "source": [
    "# Stock Price Prediction of UPPER"
   ]
  },
  {
   "cell_type": "markdown",
   "id": "ef2a8339",
   "metadata": {},
   "source": [
    "## Import the Required Libraries"
   ]
  },
  {
   "cell_type": "code",
   "execution_count": 1,
   "id": "f78cccc9",
   "metadata": {},
   "outputs": [],
   "source": [
    "import warnings\n",
    "warnings.filterwarnings('ignore')"
   ]
  },
  {
   "cell_type": "code",
   "execution_count": 2,
   "id": "53ea5d1b",
   "metadata": {},
   "outputs": [
    {
     "name": "stderr",
     "output_type": "stream",
     "text": [
      "2022-07-30 05:07:22.955277: W tensorflow/stream_executor/platform/default/dso_loader.cc:64] Could not load dynamic library 'libcudart.so.11.0'; dlerror: libcudart.so.11.0: cannot open shared object file: No such file or directory\n",
      "2022-07-30 05:07:22.955316: I tensorflow/stream_executor/cuda/cudart_stub.cc:29] Ignore above cudart dlerror if you do not have a GPU set up on your machine.\n"
     ]
    }
   ],
   "source": [
    "import pandas as pd\n",
    "from keras import Sequential\n",
    "from keras.layers import GRU, LSTM, SimpleRNN,  Dense, Dropout\n",
    "from sklearn.model_selection import train_test_split\n",
    "import numpy as np\n",
    "from sklearn.metrics import accuracy_score, mean_absolute_error, mean_squared_error\n",
    "from sklearn.preprocessing import StandardScaler\n",
    "import matplotlib.pyplot as plt"
   ]
  },
  {
   "cell_type": "markdown",
   "id": "317f76e1",
   "metadata": {},
   "source": [
    "## Load Data"
   ]
  },
  {
   "cell_type": "code",
   "execution_count": 3,
   "id": "410d3020",
   "metadata": {},
   "outputs": [
    {
     "data": {
      "text/plain": [
       "(661, 8)"
      ]
     },
     "execution_count": 3,
     "metadata": {},
     "output_type": "execute_result"
    }
   ],
   "source": [
    "upper_df = pd.read_csv(\"data/UPPER.csv\")\n",
    "upper_df.shape"
   ]
  },
  {
   "cell_type": "code",
   "execution_count": 4,
   "id": "27463371",
   "metadata": {},
   "outputs": [
    {
     "data": {
      "text/html": [
       "<div>\n",
       "<style scoped>\n",
       "    .dataframe tbody tr th:only-of-type {\n",
       "        vertical-align: middle;\n",
       "    }\n",
       "\n",
       "    .dataframe tbody tr th {\n",
       "        vertical-align: top;\n",
       "    }\n",
       "\n",
       "    .dataframe thead th {\n",
       "        text-align: right;\n",
       "    }\n",
       "</style>\n",
       "<table border=\"1\" class=\"dataframe\">\n",
       "  <thead>\n",
       "    <tr style=\"text-align: right;\">\n",
       "      <th></th>\n",
       "      <th>S.N.</th>\n",
       "      <th>Date</th>\n",
       "      <th>Total Transactions</th>\n",
       "      <th>Total Traded Shares</th>\n",
       "      <th>Total Traded Amount</th>\n",
       "      <th>Max. Price</th>\n",
       "      <th>Min. Price</th>\n",
       "      <th>Close Price</th>\n",
       "    </tr>\n",
       "  </thead>\n",
       "  <tbody>\n",
       "    <tr>\n",
       "      <th>0</th>\n",
       "      <td>1</td>\n",
       "      <td>2021-12-29</td>\n",
       "      <td>412</td>\n",
       "      <td>57495.0</td>\n",
       "      <td>35461484.7</td>\n",
       "      <td>633.0</td>\n",
       "      <td>612.0</td>\n",
       "      <td>618.0</td>\n",
       "    </tr>\n",
       "    <tr>\n",
       "      <th>1</th>\n",
       "      <td>2</td>\n",
       "      <td>2021-12-28</td>\n",
       "      <td>624</td>\n",
       "      <td>64439.0</td>\n",
       "      <td>39617082.6</td>\n",
       "      <td>625.0</td>\n",
       "      <td>606.0</td>\n",
       "      <td>624.0</td>\n",
       "    </tr>\n",
       "    <tr>\n",
       "      <th>2</th>\n",
       "      <td>3</td>\n",
       "      <td>2021-12-27</td>\n",
       "      <td>759</td>\n",
       "      <td>125794.0</td>\n",
       "      <td>79522847.0</td>\n",
       "      <td>650.0</td>\n",
       "      <td>616.1</td>\n",
       "      <td>617.0</td>\n",
       "    </tr>\n",
       "    <tr>\n",
       "      <th>3</th>\n",
       "      <td>4</td>\n",
       "      <td>2021-12-26</td>\n",
       "      <td>797</td>\n",
       "      <td>145788.0</td>\n",
       "      <td>93525227.6</td>\n",
       "      <td>650.0</td>\n",
       "      <td>630.0</td>\n",
       "      <td>642.0</td>\n",
       "    </tr>\n",
       "    <tr>\n",
       "      <th>4</th>\n",
       "      <td>5</td>\n",
       "      <td>2021-12-23</td>\n",
       "      <td>1113</td>\n",
       "      <td>151904.0</td>\n",
       "      <td>98281767.0</td>\n",
       "      <td>675.0</td>\n",
       "      <td>636.0</td>\n",
       "      <td>637.0</td>\n",
       "    </tr>\n",
       "  </tbody>\n",
       "</table>\n",
       "</div>"
      ],
      "text/plain": [
       "   S.N.        Date  Total Transactions  Total Traded Shares  \\\n",
       "0     1  2021-12-29                 412              57495.0   \n",
       "1     2  2021-12-28                 624              64439.0   \n",
       "2     3  2021-12-27                 759             125794.0   \n",
       "3     4  2021-12-26                 797             145788.0   \n",
       "4     5  2021-12-23                1113             151904.0   \n",
       "\n",
       "   Total Traded Amount  Max. Price  Min. Price  Close Price  \n",
       "0           35461484.7       633.0       612.0        618.0  \n",
       "1           39617082.6       625.0       606.0        624.0  \n",
       "2           79522847.0       650.0       616.1        617.0  \n",
       "3           93525227.6       650.0       630.0        642.0  \n",
       "4           98281767.0       675.0       636.0        637.0  "
      ]
     },
     "execution_count": 4,
     "metadata": {},
     "output_type": "execute_result"
    }
   ],
   "source": [
    "upper_df.head()"
   ]
  },
  {
   "cell_type": "markdown",
   "id": "a36bd916",
   "metadata": {},
   "source": [
    "## Renaming the Columns "
   ]
  },
  {
   "cell_type": "code",
   "execution_count": 5,
   "id": "e003d377",
   "metadata": {},
   "outputs": [],
   "source": [
    "upper_df.columns = ['SN', 'Date', 'TTrans', 'TTS','TTA', 'MaxPrice', 'MinPrice', 'ClosePrice']"
   ]
  },
  {
   "cell_type": "code",
   "execution_count": 6,
   "id": "5757c133",
   "metadata": {},
   "outputs": [
    {
     "data": {
      "text/html": [
       "<div>\n",
       "<style scoped>\n",
       "    .dataframe tbody tr th:only-of-type {\n",
       "        vertical-align: middle;\n",
       "    }\n",
       "\n",
       "    .dataframe tbody tr th {\n",
       "        vertical-align: top;\n",
       "    }\n",
       "\n",
       "    .dataframe thead th {\n",
       "        text-align: right;\n",
       "    }\n",
       "</style>\n",
       "<table border=\"1\" class=\"dataframe\">\n",
       "  <thead>\n",
       "    <tr style=\"text-align: right;\">\n",
       "      <th></th>\n",
       "      <th>SN</th>\n",
       "      <th>Date</th>\n",
       "      <th>TTrans</th>\n",
       "      <th>TTS</th>\n",
       "      <th>TTA</th>\n",
       "      <th>MaxPrice</th>\n",
       "      <th>MinPrice</th>\n",
       "      <th>ClosePrice</th>\n",
       "    </tr>\n",
       "  </thead>\n",
       "  <tbody>\n",
       "    <tr>\n",
       "      <th>0</th>\n",
       "      <td>1</td>\n",
       "      <td>2021-12-29</td>\n",
       "      <td>412</td>\n",
       "      <td>57495.0</td>\n",
       "      <td>35461484.7</td>\n",
       "      <td>633.0</td>\n",
       "      <td>612.0</td>\n",
       "      <td>618.0</td>\n",
       "    </tr>\n",
       "    <tr>\n",
       "      <th>1</th>\n",
       "      <td>2</td>\n",
       "      <td>2021-12-28</td>\n",
       "      <td>624</td>\n",
       "      <td>64439.0</td>\n",
       "      <td>39617082.6</td>\n",
       "      <td>625.0</td>\n",
       "      <td>606.0</td>\n",
       "      <td>624.0</td>\n",
       "    </tr>\n",
       "    <tr>\n",
       "      <th>2</th>\n",
       "      <td>3</td>\n",
       "      <td>2021-12-27</td>\n",
       "      <td>759</td>\n",
       "      <td>125794.0</td>\n",
       "      <td>79522847.0</td>\n",
       "      <td>650.0</td>\n",
       "      <td>616.1</td>\n",
       "      <td>617.0</td>\n",
       "    </tr>\n",
       "    <tr>\n",
       "      <th>3</th>\n",
       "      <td>4</td>\n",
       "      <td>2021-12-26</td>\n",
       "      <td>797</td>\n",
       "      <td>145788.0</td>\n",
       "      <td>93525227.6</td>\n",
       "      <td>650.0</td>\n",
       "      <td>630.0</td>\n",
       "      <td>642.0</td>\n",
       "    </tr>\n",
       "    <tr>\n",
       "      <th>4</th>\n",
       "      <td>5</td>\n",
       "      <td>2021-12-23</td>\n",
       "      <td>1113</td>\n",
       "      <td>151904.0</td>\n",
       "      <td>98281767.0</td>\n",
       "      <td>675.0</td>\n",
       "      <td>636.0</td>\n",
       "      <td>637.0</td>\n",
       "    </tr>\n",
       "  </tbody>\n",
       "</table>\n",
       "</div>"
      ],
      "text/plain": [
       "   SN        Date  TTrans       TTS         TTA  MaxPrice  MinPrice  \\\n",
       "0   1  2021-12-29     412   57495.0  35461484.7     633.0     612.0   \n",
       "1   2  2021-12-28     624   64439.0  39617082.6     625.0     606.0   \n",
       "2   3  2021-12-27     759  125794.0  79522847.0     650.0     616.1   \n",
       "3   4  2021-12-26     797  145788.0  93525227.6     650.0     630.0   \n",
       "4   5  2021-12-23    1113  151904.0  98281767.0     675.0     636.0   \n",
       "\n",
       "   ClosePrice  \n",
       "0       618.0  \n",
       "1       624.0  \n",
       "2       617.0  \n",
       "3       642.0  \n",
       "4       637.0  "
      ]
     },
     "execution_count": 6,
     "metadata": {},
     "output_type": "execute_result"
    }
   ],
   "source": [
    "upper_df.head()"
   ]
  },
  {
   "cell_type": "code",
   "execution_count": 7,
   "id": "3849eeae",
   "metadata": {},
   "outputs": [
    {
     "data": {
      "text/plain": [
       "(661, 8)"
      ]
     },
     "execution_count": 7,
     "metadata": {},
     "output_type": "execute_result"
    }
   ],
   "source": [
    "upper_df.shape"
   ]
  },
  {
   "cell_type": "markdown",
   "id": "61f334f5",
   "metadata": {},
   "source": [
    "Converting the Date into Panda's Date Time "
   ]
  },
  {
   "cell_type": "code",
   "execution_count": 8,
   "id": "4d4ab0fe",
   "metadata": {},
   "outputs": [],
   "source": [
    "upper_df['Date'] = pd.to_datetime(upper_df['Date'])"
   ]
  },
  {
   "cell_type": "markdown",
   "id": "762decf1",
   "metadata": {},
   "source": [
    "## Sorting the Date by Date in Ascending Order"
   ]
  },
  {
   "cell_type": "code",
   "execution_count": 9,
   "id": "e824faea",
   "metadata": {},
   "outputs": [],
   "source": [
    "upper_df=upper_df.sort_values(by='Date')"
   ]
  },
  {
   "cell_type": "markdown",
   "id": "5fb2f0b6",
   "metadata": {},
   "source": [
    "## Setting Features and Target Column"
   ]
  },
  {
   "cell_type": "code",
   "execution_count": 10,
   "id": "55bbed92",
   "metadata": {},
   "outputs": [],
   "source": [
    "features = ['Date','ClosePrice']"
   ]
  },
  {
   "cell_type": "code",
   "execution_count": 11,
   "id": "0ed38d97",
   "metadata": {},
   "outputs": [],
   "source": [
    "X = upper_df[features]"
   ]
  },
  {
   "cell_type": "code",
   "execution_count": 12,
   "id": "0a6a9209",
   "metadata": {},
   "outputs": [],
   "source": [
    "X.set_index(\"Date\",inplace=True)"
   ]
  },
  {
   "cell_type": "markdown",
   "id": "0ec8ce87",
   "metadata": {},
   "source": [
    "## Splitting the Data Into Training, Validation and Test Set"
   ]
  },
  {
   "cell_type": "code",
   "execution_count": 13,
   "id": "9ef9afa9",
   "metadata": {},
   "outputs": [],
   "source": [
    "X_train_split, X_test_split = train_test_split(X, train_size=0.8,shuffle=False)\n",
    "X_test_split, X_valid_split = train_test_split(X_test_split, train_size=0.5,shuffle=False)"
   ]
  },
  {
   "cell_type": "markdown",
   "id": "db993070",
   "metadata": {},
   "source": [
    "## Fucntion to slice data to Predict next day’s closing price by looking into previous 5 day’s data"
   ]
  },
  {
   "cell_type": "code",
   "execution_count": 14,
   "id": "3ee0db51",
   "metadata": {},
   "outputs": [],
   "source": [
    "def SliceData(data,step):     \n",
    "    X,Y = [],[]\n",
    "    for i in range(len(data)-step):\n",
    "        X.append(data[i:(i+step),])\n",
    "        Y.append(data[(i+step),])\n",
    "    return np.array(X),np.array(Y)"
   ]
  },
  {
   "cell_type": "markdown",
   "id": "4f35f138",
   "metadata": {},
   "source": [
    "## Normalizing the Data Using Standard Scalar"
   ]
  },
  {
   "cell_type": "code",
   "execution_count": 15,
   "id": "d25228e5",
   "metadata": {},
   "outputs": [],
   "source": [
    "std_scalar = StandardScaler()\n",
    "X_train = std_scalar.fit_transform(X_train_split)\n",
    "X_valid = std_scalar.fit_transform(X_valid_split)\n",
    "X_test = std_scalar.fit_transform(X_test_split)"
   ]
  },
  {
   "cell_type": "markdown",
   "id": "698f3a82",
   "metadata": {},
   "source": [
    "## Getting the Sliced Data"
   ]
  },
  {
   "cell_type": "code",
   "execution_count": 16,
   "id": "1d24bd2d",
   "metadata": {},
   "outputs": [],
   "source": [
    "steps = 5\n",
    "X_train,y_train = SliceData(X_train,steps)\n",
    "X_test,y_test = SliceData(X_test,steps)\n",
    "X_valid,y_valid = SliceData(X_valid,steps)"
   ]
  },
  {
   "cell_type": "markdown",
   "id": "c1ffb863",
   "metadata": {},
   "source": [
    "## Building the RNN Model"
   ]
  },
  {
   "cell_type": "code",
   "execution_count": 17,
   "id": "cbc27e96",
   "metadata": {},
   "outputs": [
    {
     "name": "stderr",
     "output_type": "stream",
     "text": [
      "2022-07-30 05:08:02.197798: W tensorflow/stream_executor/platform/default/dso_loader.cc:64] Could not load dynamic library 'libcuda.so.1'; dlerror: libcuda.so.1: cannot open shared object file: No such file or directory\n",
      "2022-07-30 05:08:02.197876: W tensorflow/stream_executor/cuda/cuda_driver.cc:269] failed call to cuInit: UNKNOWN ERROR (303)\n",
      "2022-07-30 05:08:02.197916: I tensorflow/stream_executor/cuda/cuda_diagnostics.cc:156] kernel driver does not appear to be running on this host (xenon-Inspiron-3442): /proc/driver/nvidia/version does not exist\n",
      "2022-07-30 05:08:02.198324: I tensorflow/core/platform/cpu_feature_guard.cc:151] This TensorFlow binary is optimized with oneAPI Deep Neural Network Library (oneDNN) to use the following CPU instructions in performance-critical operations:  AVX2 FMA\n",
      "To enable them in other operations, rebuild TensorFlow with the appropriate compiler flags.\n"
     ]
    }
   ],
   "source": [
    "RNN_Model = Sequential()\n",
    "RNN_Model.add(SimpleRNN(50,input_shape=(steps,1),return_sequences=True ))\n",
    "RNN_Model.add(Dropout(0.5))\n",
    "RNN_Model.add(SimpleRNN(50))\n",
    "RNN_Model.add(Dropout(0.5))\n",
    "RNN_Model.add(Dense(50))\n",
    "RNN_Model.compile(optimizer='adam',loss='mean_squared_error', metrics=['mae'])"
   ]
  },
  {
   "cell_type": "code",
   "execution_count": 18,
   "id": "b711f875",
   "metadata": {},
   "outputs": [
    {
     "name": "stdout",
     "output_type": "stream",
     "text": [
      "Model: \"sequential\"\n",
      "_________________________________________________________________\n",
      " Layer (type)                Output Shape              Param #   \n",
      "=================================================================\n",
      " simple_rnn (SimpleRNN)      (None, 5, 50)             2600      \n",
      "                                                                 \n",
      " dropout (Dropout)           (None, 5, 50)             0         \n",
      "                                                                 \n",
      " simple_rnn_1 (SimpleRNN)    (None, 50)                5050      \n",
      "                                                                 \n",
      " dropout_1 (Dropout)         (None, 50)                0         \n",
      "                                                                 \n",
      " dense (Dense)               (None, 50)                2550      \n",
      "                                                                 \n",
      "=================================================================\n",
      "Total params: 10,200\n",
      "Trainable params: 10,200\n",
      "Non-trainable params: 0\n",
      "_________________________________________________________________\n"
     ]
    }
   ],
   "source": [
    "RNN_Model.summary()"
   ]
  },
  {
   "cell_type": "markdown",
   "id": "c57b2d0b",
   "metadata": {},
   "source": [
    "## Building LSTM Model"
   ]
  },
  {
   "cell_type": "code",
   "execution_count": 19,
   "id": "45454efa",
   "metadata": {},
   "outputs": [],
   "source": [
    "LSTM_Model = Sequential()\n",
    "LSTM_Model.add(LSTM(50,input_shape=(steps,1),return_sequences=True ))\n",
    "LSTM_Model.add(Dropout(0.5))\n",
    "LSTM_Model.add(LSTM(50))\n",
    "LSTM_Model.add(Dropout(0.5))\n",
    "LSTM_Model.add(Dense(50))\n",
    "LSTM_Model.compile(optimizer='adam',loss='mean_squared_error', metrics=['mae'])"
   ]
  },
  {
   "cell_type": "code",
   "execution_count": 20,
   "id": "104b1232",
   "metadata": {},
   "outputs": [
    {
     "name": "stdout",
     "output_type": "stream",
     "text": [
      "Model: \"sequential_1\"\n",
      "_________________________________________________________________\n",
      " Layer (type)                Output Shape              Param #   \n",
      "=================================================================\n",
      " lstm (LSTM)                 (None, 5, 50)             10400     \n",
      "                                                                 \n",
      " dropout_2 (Dropout)         (None, 5, 50)             0         \n",
      "                                                                 \n",
      " lstm_1 (LSTM)               (None, 50)                20200     \n",
      "                                                                 \n",
      " dropout_3 (Dropout)         (None, 50)                0         \n",
      "                                                                 \n",
      " dense_1 (Dense)             (None, 50)                2550      \n",
      "                                                                 \n",
      "=================================================================\n",
      "Total params: 33,150\n",
      "Trainable params: 33,150\n",
      "Non-trainable params: 0\n",
      "_________________________________________________________________\n"
     ]
    }
   ],
   "source": [
    "LSTM_Model.summary()"
   ]
  },
  {
   "cell_type": "markdown",
   "id": "0bf04f72",
   "metadata": {},
   "source": [
    "## Fitting the RNN Model"
   ]
  },
  {
   "cell_type": "code",
   "execution_count": 21,
   "id": "7d6c1562",
   "metadata": {},
   "outputs": [
    {
     "name": "stdout",
     "output_type": "stream",
     "text": [
      "Epoch 1/100\n",
      "11/11 - 2s - loss: 1.0581 - mae: 0.7296 - val_loss: 0.8030 - val_mae: 0.7116 - 2s/epoch - 194ms/step\n",
      "Epoch 2/100\n",
      "11/11 - 0s - loss: 0.7770 - mae: 0.5907 - val_loss: 0.7831 - val_mae: 0.7048 - 102ms/epoch - 9ms/step\n",
      "Epoch 3/100\n",
      "11/11 - 0s - loss: 0.5997 - mae: 0.5100 - val_loss: 0.8085 - val_mae: 0.7212 - 91ms/epoch - 8ms/step\n",
      "Epoch 4/100\n",
      "11/11 - 0s - loss: 0.5247 - mae: 0.4738 - val_loss: 0.8471 - val_mae: 0.7474 - 93ms/epoch - 8ms/step\n",
      "Epoch 5/100\n",
      "11/11 - 0s - loss: 0.4536 - mae: 0.4396 - val_loss: 0.8658 - val_mae: 0.7632 - 96ms/epoch - 9ms/step\n",
      "Epoch 6/100\n",
      "11/11 - 0s - loss: 0.3882 - mae: 0.4132 - val_loss: 0.8800 - val_mae: 0.7723 - 89ms/epoch - 8ms/step\n",
      "Epoch 7/100\n",
      "11/11 - 0s - loss: 0.3468 - mae: 0.3891 - val_loss: 0.8360 - val_mae: 0.7549 - 89ms/epoch - 8ms/step\n",
      "Epoch 8/100\n",
      "11/11 - 0s - loss: 0.3001 - mae: 0.3619 - val_loss: 0.8284 - val_mae: 0.7521 - 90ms/epoch - 8ms/step\n",
      "Epoch 9/100\n",
      "11/11 - 0s - loss: 0.2959 - mae: 0.3563 - val_loss: 0.8273 - val_mae: 0.7552 - 84ms/epoch - 8ms/step\n",
      "Epoch 10/100\n",
      "11/11 - 0s - loss: 0.2629 - mae: 0.3417 - val_loss: 0.7992 - val_mae: 0.7422 - 92ms/epoch - 8ms/step\n",
      "Epoch 11/100\n",
      "11/11 - 0s - loss: 0.2600 - mae: 0.3323 - val_loss: 0.7187 - val_mae: 0.6997 - 92ms/epoch - 8ms/step\n",
      "Epoch 12/100\n",
      "11/11 - 0s - loss: 0.2171 - mae: 0.3109 - val_loss: 0.6928 - val_mae: 0.6860 - 95ms/epoch - 9ms/step\n",
      "Epoch 13/100\n",
      "11/11 - 0s - loss: 0.2009 - mae: 0.2926 - val_loss: 0.6177 - val_mae: 0.6395 - 94ms/epoch - 9ms/step\n",
      "Epoch 14/100\n",
      "11/11 - 0s - loss: 0.1988 - mae: 0.2949 - val_loss: 0.6451 - val_mae: 0.6585 - 95ms/epoch - 9ms/step\n",
      "Epoch 15/100\n",
      "11/11 - 0s - loss: 0.1895 - mae: 0.2868 - val_loss: 0.5852 - val_mae: 0.6267 - 92ms/epoch - 8ms/step\n",
      "Epoch 16/100\n",
      "11/11 - 0s - loss: 0.1659 - mae: 0.2678 - val_loss: 0.5250 - val_mae: 0.5782 - 93ms/epoch - 8ms/step\n",
      "Epoch 17/100\n",
      "11/11 - 0s - loss: 0.1701 - mae: 0.2732 - val_loss: 0.5123 - val_mae: 0.5753 - 95ms/epoch - 9ms/step\n",
      "Epoch 18/100\n",
      "11/11 - 0s - loss: 0.1532 - mae: 0.2573 - val_loss: 0.4941 - val_mae: 0.5616 - 90ms/epoch - 8ms/step\n",
      "Epoch 19/100\n",
      "11/11 - 0s - loss: 0.1328 - mae: 0.2458 - val_loss: 0.4509 - val_mae: 0.5298 - 88ms/epoch - 8ms/step\n",
      "Epoch 20/100\n",
      "11/11 - 0s - loss: 0.1391 - mae: 0.2470 - val_loss: 0.4468 - val_mae: 0.5245 - 94ms/epoch - 9ms/step\n",
      "Epoch 21/100\n",
      "11/11 - 0s - loss: 0.1309 - mae: 0.2383 - val_loss: 0.4164 - val_mae: 0.5060 - 103ms/epoch - 9ms/step\n",
      "Epoch 22/100\n",
      "11/11 - 0s - loss: 0.1260 - mae: 0.2348 - val_loss: 0.4353 - val_mae: 0.5040 - 97ms/epoch - 9ms/step\n",
      "Epoch 23/100\n",
      "11/11 - 0s - loss: 0.1306 - mae: 0.2448 - val_loss: 0.4141 - val_mae: 0.5066 - 101ms/epoch - 9ms/step\n",
      "Epoch 24/100\n",
      "11/11 - 0s - loss: 0.1188 - mae: 0.2375 - val_loss: 0.4274 - val_mae: 0.5051 - 96ms/epoch - 9ms/step\n",
      "Epoch 25/100\n",
      "11/11 - 0s - loss: 0.1269 - mae: 0.2312 - val_loss: 0.4011 - val_mae: 0.4784 - 95ms/epoch - 9ms/step\n",
      "Epoch 26/100\n",
      "11/11 - 0s - loss: 0.1264 - mae: 0.2361 - val_loss: 0.3975 - val_mae: 0.4984 - 117ms/epoch - 11ms/step\n",
      "Epoch 27/100\n",
      "11/11 - 0s - loss: 0.1193 - mae: 0.2404 - val_loss: 0.4254 - val_mae: 0.4947 - 124ms/epoch - 11ms/step\n",
      "Epoch 28/100\n",
      "11/11 - 0s - loss: 0.1242 - mae: 0.2490 - val_loss: 0.3771 - val_mae: 0.4856 - 113ms/epoch - 10ms/step\n",
      "Epoch 29/100\n",
      "11/11 - 0s - loss: 0.1250 - mae: 0.2587 - val_loss: 0.4005 - val_mae: 0.4891 - 92ms/epoch - 8ms/step\n",
      "Epoch 30/100\n",
      "11/11 - 0s - loss: 0.1080 - mae: 0.2220 - val_loss: 0.3885 - val_mae: 0.4866 - 104ms/epoch - 9ms/step\n",
      "Epoch 31/100\n",
      "11/11 - 0s - loss: 0.1119 - mae: 0.2213 - val_loss: 0.3681 - val_mae: 0.4676 - 133ms/epoch - 12ms/step\n",
      "Epoch 32/100\n",
      "11/11 - 0s - loss: 0.1234 - mae: 0.2335 - val_loss: 0.4236 - val_mae: 0.5196 - 109ms/epoch - 10ms/step\n",
      "Epoch 33/100\n",
      "11/11 - 0s - loss: 0.1102 - mae: 0.2227 - val_loss: 0.3569 - val_mae: 0.4644 - 122ms/epoch - 11ms/step\n",
      "Epoch 34/100\n",
      "11/11 - 0s - loss: 0.1320 - mae: 0.2430 - val_loss: 0.4090 - val_mae: 0.5098 - 127ms/epoch - 12ms/step\n",
      "Epoch 35/100\n",
      "11/11 - 0s - loss: 0.1354 - mae: 0.2412 - val_loss: 0.3380 - val_mae: 0.4508 - 121ms/epoch - 11ms/step\n",
      "Epoch 36/100\n",
      "11/11 - 0s - loss: 0.1439 - mae: 0.2511 - val_loss: 0.4496 - val_mae: 0.5365 - 116ms/epoch - 11ms/step\n",
      "Epoch 37/100\n",
      "11/11 - 0s - loss: 0.1547 - mae: 0.2510 - val_loss: 0.3309 - val_mae: 0.4535 - 105ms/epoch - 10ms/step\n",
      "Epoch 38/100\n",
      "11/11 - 0s - loss: 0.1396 - mae: 0.2476 - val_loss: 0.5213 - val_mae: 0.5870 - 108ms/epoch - 10ms/step\n",
      "Epoch 39/100\n",
      "11/11 - 0s - loss: 0.1189 - mae: 0.2205 - val_loss: 0.3732 - val_mae: 0.4972 - 146ms/epoch - 13ms/step\n",
      "Epoch 40/100\n",
      "11/11 - 0s - loss: 0.1062 - mae: 0.2154 - val_loss: 0.4696 - val_mae: 0.5580 - 120ms/epoch - 11ms/step\n",
      "Epoch 41/100\n",
      "11/11 - 0s - loss: 0.0941 - mae: 0.1992 - val_loss: 0.3509 - val_mae: 0.4772 - 112ms/epoch - 10ms/step\n",
      "Epoch 42/100\n",
      "11/11 - 0s - loss: 0.0896 - mae: 0.1971 - val_loss: 0.3914 - val_mae: 0.5005 - 117ms/epoch - 11ms/step\n",
      "Epoch 43/100\n",
      "11/11 - 0s - loss: 0.1023 - mae: 0.2016 - val_loss: 0.3855 - val_mae: 0.4952 - 110ms/epoch - 10ms/step\n",
      "Epoch 44/100\n",
      "11/11 - 0s - loss: 0.0857 - mae: 0.1893 - val_loss: 0.3578 - val_mae: 0.4720 - 111ms/epoch - 10ms/step\n",
      "Epoch 45/100\n",
      "11/11 - 0s - loss: 0.0842 - mae: 0.1921 - val_loss: 0.3763 - val_mae: 0.4867 - 110ms/epoch - 10ms/step\n",
      "Epoch 46/100\n",
      "11/11 - 0s - loss: 0.0824 - mae: 0.1904 - val_loss: 0.3458 - val_mae: 0.4585 - 85ms/epoch - 8ms/step\n",
      "Epoch 47/100\n",
      "11/11 - 0s - loss: 0.0778 - mae: 0.1833 - val_loss: 0.3618 - val_mae: 0.4737 - 90ms/epoch - 8ms/step\n",
      "Epoch 48/100\n",
      "11/11 - 0s - loss: 0.0789 - mae: 0.1851 - val_loss: 0.3404 - val_mae: 0.4574 - 90ms/epoch - 8ms/step\n",
      "Epoch 49/100\n",
      "11/11 - 0s - loss: 0.0911 - mae: 0.1969 - val_loss: 0.3896 - val_mae: 0.5009 - 106ms/epoch - 10ms/step\n",
      "Epoch 50/100\n",
      "11/11 - 0s - loss: 0.0874 - mae: 0.1912 - val_loss: 0.3317 - val_mae: 0.4544 - 95ms/epoch - 9ms/step\n",
      "Epoch 51/100\n",
      "11/11 - 0s - loss: 0.1013 - mae: 0.2037 - val_loss: 0.4125 - val_mae: 0.5130 - 81ms/epoch - 7ms/step\n",
      "Epoch 52/100\n",
      "11/11 - 0s - loss: 0.0876 - mae: 0.1855 - val_loss: 0.3269 - val_mae: 0.4531 - 90ms/epoch - 8ms/step\n",
      "Epoch 53/100\n",
      "11/11 - 0s - loss: 0.0854 - mae: 0.1903 - val_loss: 0.3998 - val_mae: 0.5075 - 98ms/epoch - 9ms/step\n",
      "Epoch 54/100\n",
      "11/11 - 0s - loss: 0.0745 - mae: 0.1771 - val_loss: 0.3262 - val_mae: 0.4517 - 93ms/epoch - 8ms/step\n",
      "Epoch 55/100\n",
      "11/11 - 0s - loss: 0.0736 - mae: 0.1773 - val_loss: 0.3653 - val_mae: 0.4762 - 85ms/epoch - 8ms/step\n",
      "Epoch 56/100\n",
      "11/11 - 0s - loss: 0.0636 - mae: 0.1682 - val_loss: 0.3380 - val_mae: 0.4550 - 87ms/epoch - 8ms/step\n",
      "Epoch 57/100\n",
      "11/11 - 0s - loss: 0.0708 - mae: 0.1726 - val_loss: 0.3465 - val_mae: 0.4612 - 85ms/epoch - 8ms/step\n",
      "Epoch 58/100\n",
      "11/11 - 0s - loss: 0.0682 - mae: 0.1706 - val_loss: 0.3229 - val_mae: 0.4402 - 86ms/epoch - 8ms/step\n",
      "Epoch 59/100\n",
      "11/11 - 0s - loss: 0.0711 - mae: 0.1701 - val_loss: 0.3470 - val_mae: 0.4594 - 79ms/epoch - 7ms/step\n",
      "Epoch 60/100\n",
      "11/11 - 0s - loss: 0.0733 - mae: 0.1744 - val_loss: 0.3471 - val_mae: 0.4633 - 87ms/epoch - 8ms/step\n",
      "Epoch 61/100\n",
      "11/11 - 0s - loss: 0.0593 - mae: 0.1616 - val_loss: 0.3281 - val_mae: 0.4486 - 87ms/epoch - 8ms/step\n",
      "Epoch 62/100\n",
      "11/11 - 0s - loss: 0.0823 - mae: 0.1858 - val_loss: 0.3201 - val_mae: 0.4333 - 94ms/epoch - 9ms/step\n",
      "Epoch 63/100\n",
      "11/11 - 0s - loss: 0.1063 - mae: 0.2164 - val_loss: 0.3832 - val_mae: 0.5037 - 99ms/epoch - 9ms/step\n",
      "Epoch 64/100\n",
      "11/11 - 0s - loss: 0.1289 - mae: 0.2329 - val_loss: 0.3013 - val_mae: 0.4398 - 100ms/epoch - 9ms/step\n",
      "Epoch 65/100\n",
      "11/11 - 0s - loss: 0.1195 - mae: 0.2250 - val_loss: 0.4458 - val_mae: 0.5473 - 117ms/epoch - 11ms/step\n",
      "Epoch 66/100\n",
      "11/11 - 0s - loss: 0.1128 - mae: 0.2051 - val_loss: 0.3362 - val_mae: 0.4743 - 90ms/epoch - 8ms/step\n",
      "Epoch 67/100\n",
      "11/11 - 0s - loss: 0.1113 - mae: 0.2149 - val_loss: 0.4517 - val_mae: 0.5581 - 85ms/epoch - 8ms/step\n",
      "Epoch 68/100\n",
      "11/11 - 0s - loss: 0.0866 - mae: 0.1869 - val_loss: 0.3294 - val_mae: 0.4718 - 85ms/epoch - 8ms/step\n",
      "Epoch 69/100\n",
      "11/11 - 0s - loss: 0.0792 - mae: 0.1856 - val_loss: 0.4148 - val_mae: 0.5290 - 99ms/epoch - 9ms/step\n",
      "Epoch 70/100\n",
      "11/11 - 0s - loss: 0.0716 - mae: 0.1708 - val_loss: 0.3309 - val_mae: 0.4666 - 105ms/epoch - 10ms/step\n",
      "Epoch 71/100\n",
      "11/11 - 0s - loss: 0.0623 - mae: 0.1656 - val_loss: 0.3593 - val_mae: 0.4864 - 109ms/epoch - 10ms/step\n",
      "Epoch 72/100\n",
      "11/11 - 0s - loss: 0.0703 - mae: 0.1694 - val_loss: 0.3663 - val_mae: 0.4914 - 119ms/epoch - 11ms/step\n"
     ]
    },
    {
     "name": "stdout",
     "output_type": "stream",
     "text": [
      "Epoch 73/100\n",
      "11/11 - 0s - loss: 0.0671 - mae: 0.1655 - val_loss: 0.3409 - val_mae: 0.4708 - 116ms/epoch - 11ms/step\n",
      "Epoch 74/100\n",
      "11/11 - 0s - loss: 0.0660 - mae: 0.1693 - val_loss: 0.3501 - val_mae: 0.4748 - 105ms/epoch - 10ms/step\n",
      "Epoch 75/100\n",
      "11/11 - 0s - loss: 0.0656 - mae: 0.1623 - val_loss: 0.3305 - val_mae: 0.4583 - 105ms/epoch - 10ms/step\n",
      "Epoch 76/100\n",
      "11/11 - 0s - loss: 0.0713 - mae: 0.1673 - val_loss: 0.3496 - val_mae: 0.4726 - 126ms/epoch - 11ms/step\n",
      "Epoch 77/100\n",
      "11/11 - 0s - loss: 0.0640 - mae: 0.1630 - val_loss: 0.3164 - val_mae: 0.4438 - 116ms/epoch - 11ms/step\n",
      "Epoch 78/100\n",
      "11/11 - 0s - loss: 0.0575 - mae: 0.1605 - val_loss: 0.3570 - val_mae: 0.4759 - 106ms/epoch - 10ms/step\n",
      "Epoch 79/100\n",
      "11/11 - 0s - loss: 0.0629 - mae: 0.1600 - val_loss: 0.3254 - val_mae: 0.4536 - 102ms/epoch - 9ms/step\n",
      "Epoch 80/100\n",
      "11/11 - 0s - loss: 0.0613 - mae: 0.1630 - val_loss: 0.3580 - val_mae: 0.4808 - 115ms/epoch - 10ms/step\n",
      "Epoch 81/100\n",
      "11/11 - 0s - loss: 0.0693 - mae: 0.1648 - val_loss: 0.3145 - val_mae: 0.4449 - 124ms/epoch - 11ms/step\n",
      "Epoch 82/100\n",
      "11/11 - 0s - loss: 0.0654 - mae: 0.1623 - val_loss: 0.3562 - val_mae: 0.4791 - 118ms/epoch - 11ms/step\n",
      "Epoch 83/100\n",
      "11/11 - 0s - loss: 0.0566 - mae: 0.1528 - val_loss: 0.2984 - val_mae: 0.4339 - 111ms/epoch - 10ms/step\n",
      "Epoch 84/100\n",
      "11/11 - 0s - loss: 0.0569 - mae: 0.1554 - val_loss: 0.3567 - val_mae: 0.4809 - 80ms/epoch - 7ms/step\n",
      "Epoch 85/100\n",
      "11/11 - 0s - loss: 0.0636 - mae: 0.1592 - val_loss: 0.3042 - val_mae: 0.4392 - 87ms/epoch - 8ms/step\n",
      "Epoch 86/100\n",
      "11/11 - 0s - loss: 0.0588 - mae: 0.1577 - val_loss: 0.3668 - val_mae: 0.4869 - 87ms/epoch - 8ms/step\n",
      "Epoch 87/100\n",
      "11/11 - 0s - loss: 0.0592 - mae: 0.1576 - val_loss: 0.3127 - val_mae: 0.4489 - 83ms/epoch - 8ms/step\n",
      "Epoch 88/100\n",
      "11/11 - 0s - loss: 0.0591 - mae: 0.1611 - val_loss: 0.3550 - val_mae: 0.4778 - 89ms/epoch - 8ms/step\n",
      "Epoch 89/100\n",
      "11/11 - 0s - loss: 0.0528 - mae: 0.1496 - val_loss: 0.3319 - val_mae: 0.4592 - 79ms/epoch - 7ms/step\n",
      "Epoch 90/100\n",
      "11/11 - 0s - loss: 0.0509 - mae: 0.1467 - val_loss: 0.3214 - val_mae: 0.4481 - 95ms/epoch - 9ms/step\n",
      "Epoch 91/100\n",
      "11/11 - 0s - loss: 0.0570 - mae: 0.1570 - val_loss: 0.3451 - val_mae: 0.4683 - 90ms/epoch - 8ms/step\n",
      "Epoch 92/100\n",
      "11/11 - 0s - loss: 0.0572 - mae: 0.1502 - val_loss: 0.3104 - val_mae: 0.4409 - 83ms/epoch - 8ms/step\n",
      "Epoch 93/100\n",
      "11/11 - 0s - loss: 0.0494 - mae: 0.1460 - val_loss: 0.3316 - val_mae: 0.4515 - 82ms/epoch - 7ms/step\n",
      "Epoch 94/100\n",
      "11/11 - 0s - loss: 0.0488 - mae: 0.1496 - val_loss: 0.3380 - val_mae: 0.4601 - 76ms/epoch - 7ms/step\n",
      "Epoch 95/100\n",
      "11/11 - 0s - loss: 0.0520 - mae: 0.1473 - val_loss: 0.3157 - val_mae: 0.4433 - 80ms/epoch - 7ms/step\n",
      "Epoch 96/100\n",
      "11/11 - 0s - loss: 0.0599 - mae: 0.1532 - val_loss: 0.3211 - val_mae: 0.4437 - 89ms/epoch - 8ms/step\n",
      "Epoch 97/100\n",
      "11/11 - 0s - loss: 0.0538 - mae: 0.1476 - val_loss: 0.3259 - val_mae: 0.4509 - 86ms/epoch - 8ms/step\n",
      "Epoch 98/100\n",
      "11/11 - 0s - loss: 0.0586 - mae: 0.1569 - val_loss: 0.3156 - val_mae: 0.4417 - 84ms/epoch - 8ms/step\n",
      "Epoch 99/100\n",
      "11/11 - 0s - loss: 0.0569 - mae: 0.1573 - val_loss: 0.3622 - val_mae: 0.4809 - 87ms/epoch - 8ms/step\n",
      "Epoch 100/100\n",
      "11/11 - 0s - loss: 0.0525 - mae: 0.1505 - val_loss: 0.3075 - val_mae: 0.4339 - 78ms/epoch - 7ms/step\n"
     ]
    }
   ],
   "source": [
    "RNN_History = RNN_Model.fit(X_train,y_train,epochs=100,batch_size = 50,validation_data=(X_valid,y_valid),shuffle=False, \n",
    "                    verbose = 2)"
   ]
  },
  {
   "cell_type": "code",
   "execution_count": 22,
   "id": "3242dc06",
   "metadata": {},
   "outputs": [
    {
     "name": "stdout",
     "output_type": "stream",
     "text": [
      "Epoch 1/100\n",
      "11/11 - 5s - loss: 0.9745 - mae: 0.7424 - val_loss: 0.8045 - val_mae: 0.7187 - 5s/epoch - 438ms/step\n",
      "Epoch 2/100\n",
      "11/11 - 0s - loss: 0.8979 - mae: 0.7042 - val_loss: 0.7719 - val_mae: 0.6990 - 134ms/epoch - 12ms/step\n",
      "Epoch 3/100\n",
      "11/11 - 0s - loss: 0.7660 - mae: 0.6468 - val_loss: 0.7220 - val_mae: 0.6646 - 131ms/epoch - 12ms/step\n",
      "Epoch 4/100\n",
      "11/11 - 0s - loss: 0.5519 - mae: 0.5347 - val_loss: 0.6877 - val_mae: 0.6438 - 133ms/epoch - 12ms/step\n",
      "Epoch 5/100\n",
      "11/11 - 0s - loss: 0.3475 - mae: 0.3901 - val_loss: 0.7907 - val_mae: 0.7140 - 146ms/epoch - 13ms/step\n",
      "Epoch 6/100\n",
      "11/11 - 0s - loss: 0.2454 - mae: 0.3166 - val_loss: 0.9823 - val_mae: 0.8088 - 142ms/epoch - 13ms/step\n",
      "Epoch 7/100\n",
      "11/11 - 0s - loss: 0.1991 - mae: 0.2853 - val_loss: 0.9741 - val_mae: 0.8095 - 139ms/epoch - 13ms/step\n",
      "Epoch 8/100\n",
      "11/11 - 0s - loss: 0.1639 - mae: 0.2598 - val_loss: 0.8834 - val_mae: 0.7691 - 128ms/epoch - 12ms/step\n",
      "Epoch 9/100\n",
      "11/11 - 0s - loss: 0.1558 - mae: 0.2479 - val_loss: 0.8234 - val_mae: 0.7395 - 125ms/epoch - 11ms/step\n",
      "Epoch 10/100\n",
      "11/11 - 0s - loss: 0.1262 - mae: 0.2292 - val_loss: 0.8732 - val_mae: 0.7653 - 118ms/epoch - 11ms/step\n",
      "Epoch 11/100\n",
      "11/11 - 0s - loss: 0.1167 - mae: 0.2189 - val_loss: 0.8485 - val_mae: 0.7532 - 132ms/epoch - 12ms/step\n",
      "Epoch 12/100\n",
      "11/11 - 0s - loss: 0.1192 - mae: 0.2240 - val_loss: 0.8063 - val_mae: 0.7322 - 137ms/epoch - 12ms/step\n",
      "Epoch 13/100\n",
      "11/11 - 0s - loss: 0.1079 - mae: 0.2146 - val_loss: 0.8165 - val_mae: 0.7381 - 124ms/epoch - 11ms/step\n",
      "Epoch 14/100\n",
      "11/11 - 0s - loss: 0.1048 - mae: 0.2113 - val_loss: 0.8381 - val_mae: 0.7495 - 139ms/epoch - 13ms/step\n",
      "Epoch 15/100\n",
      "11/11 - 0s - loss: 0.1030 - mae: 0.2065 - val_loss: 0.7998 - val_mae: 0.7302 - 131ms/epoch - 12ms/step\n",
      "Epoch 16/100\n",
      "11/11 - 0s - loss: 0.1034 - mae: 0.2036 - val_loss: 0.8292 - val_mae: 0.7460 - 133ms/epoch - 12ms/step\n",
      "Epoch 17/100\n",
      "11/11 - 0s - loss: 0.0949 - mae: 0.1992 - val_loss: 0.7956 - val_mae: 0.7288 - 123ms/epoch - 11ms/step\n",
      "Epoch 18/100\n",
      "11/11 - 0s - loss: 0.0947 - mae: 0.1976 - val_loss: 0.8299 - val_mae: 0.7474 - 133ms/epoch - 12ms/step\n",
      "Epoch 19/100\n",
      "11/11 - 0s - loss: 0.0950 - mae: 0.1950 - val_loss: 0.8451 - val_mae: 0.7552 - 132ms/epoch - 12ms/step\n",
      "Epoch 20/100\n",
      "11/11 - 0s - loss: 0.0974 - mae: 0.1999 - val_loss: 0.7952 - val_mae: 0.7295 - 138ms/epoch - 13ms/step\n",
      "Epoch 21/100\n",
      "11/11 - 0s - loss: 0.0880 - mae: 0.1926 - val_loss: 0.8250 - val_mae: 0.7457 - 142ms/epoch - 13ms/step\n",
      "Epoch 22/100\n",
      "11/11 - 0s - loss: 0.0851 - mae: 0.1870 - val_loss: 0.7640 - val_mae: 0.7122 - 142ms/epoch - 13ms/step\n",
      "Epoch 23/100\n",
      "11/11 - 0s - loss: 0.0928 - mae: 0.1919 - val_loss: 0.7593 - val_mae: 0.7093 - 128ms/epoch - 12ms/step\n",
      "Epoch 24/100\n",
      "11/11 - 0s - loss: 0.0929 - mae: 0.1945 - val_loss: 0.8716 - val_mae: 0.7711 - 136ms/epoch - 12ms/step\n",
      "Epoch 25/100\n",
      "11/11 - 0s - loss: 0.0872 - mae: 0.1831 - val_loss: 0.7537 - val_mae: 0.7051 - 139ms/epoch - 13ms/step\n",
      "Epoch 26/100\n",
      "11/11 - 0s - loss: 0.0820 - mae: 0.1834 - val_loss: 0.8656 - val_mae: 0.7683 - 130ms/epoch - 12ms/step\n",
      "Epoch 27/100\n",
      "11/11 - 0s - loss: 0.0864 - mae: 0.1828 - val_loss: 0.8519 - val_mae: 0.7613 - 134ms/epoch - 12ms/step\n",
      "Epoch 28/100\n",
      "11/11 - 0s - loss: 0.0888 - mae: 0.1832 - val_loss: 0.7570 - val_mae: 0.7077 - 131ms/epoch - 12ms/step\n",
      "Epoch 29/100\n",
      "11/11 - 0s - loss: 0.0756 - mae: 0.1771 - val_loss: 0.8836 - val_mae: 0.7783 - 261ms/epoch - 24ms/step\n",
      "Epoch 30/100\n",
      "11/11 - 0s - loss: 0.0749 - mae: 0.1725 - val_loss: 0.8094 - val_mae: 0.7393 - 173ms/epoch - 16ms/step\n",
      "Epoch 31/100\n",
      "11/11 - 0s - loss: 0.0753 - mae: 0.1743 - val_loss: 0.8309 - val_mae: 0.7509 - 133ms/epoch - 12ms/step\n",
      "Epoch 32/100\n",
      "11/11 - 0s - loss: 0.0760 - mae: 0.1729 - val_loss: 0.7856 - val_mae: 0.7264 - 125ms/epoch - 11ms/step\n",
      "Epoch 33/100\n",
      "11/11 - 0s - loss: 0.0713 - mae: 0.1706 - val_loss: 0.8476 - val_mae: 0.7600 - 127ms/epoch - 12ms/step\n",
      "Epoch 34/100\n",
      "11/11 - 0s - loss: 0.0730 - mae: 0.1697 - val_loss: 0.7688 - val_mae: 0.7169 - 129ms/epoch - 12ms/step\n",
      "Epoch 35/100\n",
      "11/11 - 0s - loss: 0.0708 - mae: 0.1676 - val_loss: 0.7859 - val_mae: 0.7269 - 124ms/epoch - 11ms/step\n",
      "Epoch 36/100\n",
      "11/11 - 0s - loss: 0.0647 - mae: 0.1655 - val_loss: 0.8193 - val_mae: 0.7453 - 118ms/epoch - 11ms/step\n",
      "Epoch 37/100\n",
      "11/11 - 0s - loss: 0.0698 - mae: 0.1685 - val_loss: 0.7718 - val_mae: 0.7185 - 140ms/epoch - 13ms/step\n",
      "Epoch 38/100\n",
      "11/11 - 0s - loss: 0.0748 - mae: 0.1720 - val_loss: 0.8236 - val_mae: 0.7476 - 128ms/epoch - 12ms/step\n",
      "Epoch 39/100\n",
      "11/11 - 0s - loss: 0.0777 - mae: 0.1723 - val_loss: 0.7613 - val_mae: 0.7119 - 130ms/epoch - 12ms/step\n",
      "Epoch 40/100\n",
      "11/11 - 0s - loss: 0.0730 - mae: 0.1691 - val_loss: 0.8619 - val_mae: 0.7684 - 134ms/epoch - 12ms/step\n",
      "Epoch 41/100\n",
      "11/11 - 0s - loss: 0.0771 - mae: 0.1726 - val_loss: 0.7545 - val_mae: 0.7073 - 135ms/epoch - 12ms/step\n",
      "Epoch 42/100\n",
      "11/11 - 0s - loss: 0.0693 - mae: 0.1688 - val_loss: 0.8688 - val_mae: 0.7720 - 129ms/epoch - 12ms/step\n",
      "Epoch 43/100\n",
      "11/11 - 0s - loss: 0.0719 - mae: 0.1683 - val_loss: 0.7553 - val_mae: 0.7077 - 135ms/epoch - 12ms/step\n",
      "Epoch 44/100\n",
      "11/11 - 0s - loss: 0.0652 - mae: 0.1625 - val_loss: 0.8847 - val_mae: 0.7809 - 124ms/epoch - 11ms/step\n",
      "Epoch 45/100\n",
      "11/11 - 0s - loss: 0.0589 - mae: 0.1554 - val_loss: 0.8145 - val_mae: 0.7433 - 125ms/epoch - 11ms/step\n",
      "Epoch 46/100\n",
      "11/11 - 0s - loss: 0.0744 - mae: 0.1670 - val_loss: 0.7908 - val_mae: 0.7299 - 131ms/epoch - 12ms/step\n",
      "Epoch 47/100\n",
      "11/11 - 0s - loss: 0.0717 - mae: 0.1719 - val_loss: 0.9296 - val_mae: 0.8042 - 132ms/epoch - 12ms/step\n",
      "Epoch 48/100\n",
      "11/11 - 0s - loss: 0.0709 - mae: 0.1644 - val_loss: 0.7483 - val_mae: 0.7052 - 131ms/epoch - 12ms/step\n",
      "Epoch 49/100\n",
      "11/11 - 0s - loss: 0.0639 - mae: 0.1594 - val_loss: 0.7788 - val_mae: 0.7235 - 125ms/epoch - 11ms/step\n",
      "Epoch 50/100\n",
      "11/11 - 0s - loss: 0.0701 - mae: 0.1617 - val_loss: 0.7959 - val_mae: 0.7330 - 125ms/epoch - 11ms/step\n",
      "Epoch 51/100\n",
      "11/11 - 0s - loss: 0.0772 - mae: 0.1724 - val_loss: 0.8539 - val_mae: 0.7654 - 126ms/epoch - 11ms/step\n",
      "Epoch 52/100\n",
      "11/11 - 0s - loss: 0.0724 - mae: 0.1656 - val_loss: 0.7138 - val_mae: 0.6815 - 133ms/epoch - 12ms/step\n",
      "Epoch 53/100\n",
      "11/11 - 0s - loss: 0.0634 - mae: 0.1604 - val_loss: 0.8689 - val_mae: 0.7730 - 127ms/epoch - 12ms/step\n",
      "Epoch 54/100\n",
      "11/11 - 0s - loss: 0.0618 - mae: 0.1579 - val_loss: 0.7762 - val_mae: 0.7217 - 130ms/epoch - 12ms/step\n",
      "Epoch 55/100\n",
      "11/11 - 0s - loss: 0.0533 - mae: 0.1500 - val_loss: 0.8463 - val_mae: 0.7613 - 120ms/epoch - 11ms/step\n",
      "Epoch 56/100\n",
      "11/11 - 0s - loss: 0.0586 - mae: 0.1521 - val_loss: 0.8047 - val_mae: 0.7387 - 123ms/epoch - 11ms/step\n",
      "Epoch 57/100\n",
      "11/11 - 0s - loss: 0.0571 - mae: 0.1506 - val_loss: 0.7833 - val_mae: 0.7266 - 125ms/epoch - 11ms/step\n",
      "Epoch 58/100\n",
      "11/11 - 0s - loss: 0.0518 - mae: 0.1475 - val_loss: 0.8085 - val_mae: 0.7403 - 126ms/epoch - 11ms/step\n",
      "Epoch 59/100\n",
      "11/11 - 0s - loss: 0.0531 - mae: 0.1501 - val_loss: 0.7992 - val_mae: 0.7357 - 116ms/epoch - 11ms/step\n",
      "Epoch 60/100\n",
      "11/11 - 0s - loss: 0.0518 - mae: 0.1496 - val_loss: 0.7722 - val_mae: 0.7204 - 123ms/epoch - 11ms/step\n",
      "Epoch 61/100\n",
      "11/11 - 0s - loss: 0.0504 - mae: 0.1442 - val_loss: 0.7916 - val_mae: 0.7312 - 133ms/epoch - 12ms/step\n",
      "Epoch 62/100\n",
      "11/11 - 0s - loss: 0.0524 - mae: 0.1468 - val_loss: 0.7450 - val_mae: 0.7034 - 138ms/epoch - 13ms/step\n",
      "Epoch 63/100\n",
      "11/11 - 0s - loss: 0.0506 - mae: 0.1453 - val_loss: 0.8217 - val_mae: 0.7484 - 147ms/epoch - 13ms/step\n",
      "Epoch 64/100\n",
      "11/11 - 0s - loss: 0.0601 - mae: 0.1505 - val_loss: 0.7728 - val_mae: 0.7207 - 156ms/epoch - 14ms/step\n",
      "Epoch 65/100\n",
      "11/11 - 0s - loss: 0.0502 - mae: 0.1427 - val_loss: 0.8236 - val_mae: 0.7500 - 128ms/epoch - 12ms/step\n",
      "Epoch 66/100\n",
      "11/11 - 0s - loss: 0.0579 - mae: 0.1470 - val_loss: 0.7458 - val_mae: 0.7046 - 129ms/epoch - 12ms/step\n",
      "Epoch 67/100\n",
      "11/11 - 0s - loss: 0.0542 - mae: 0.1470 - val_loss: 0.8157 - val_mae: 0.7453 - 121ms/epoch - 11ms/step\n",
      "Epoch 68/100\n",
      "11/11 - 0s - loss: 0.0453 - mae: 0.1401 - val_loss: 0.7519 - val_mae: 0.7082 - 125ms/epoch - 11ms/step\n",
      "Epoch 69/100\n",
      "11/11 - 0s - loss: 0.0505 - mae: 0.1435 - val_loss: 0.8158 - val_mae: 0.7448 - 125ms/epoch - 11ms/step\n",
      "Epoch 70/100\n",
      "11/11 - 0s - loss: 0.0593 - mae: 0.1513 - val_loss: 0.8491 - val_mae: 0.7655 - 122ms/epoch - 11ms/step\n",
      "Epoch 71/100\n",
      "11/11 - 0s - loss: 0.0689 - mae: 0.1613 - val_loss: 0.7228 - val_mae: 0.6888 - 154ms/epoch - 14ms/step\n"
     ]
    },
    {
     "name": "stdout",
     "output_type": "stream",
     "text": [
      "Epoch 72/100\n",
      "11/11 - 0s - loss: 0.0553 - mae: 0.1520 - val_loss: 0.8945 - val_mae: 0.7879 - 261ms/epoch - 24ms/step\n",
      "Epoch 73/100\n",
      "11/11 - 0s - loss: 0.0480 - mae: 0.1418 - val_loss: 0.7587 - val_mae: 0.7124 - 125ms/epoch - 11ms/step\n",
      "Epoch 74/100\n",
      "11/11 - 0s - loss: 0.0519 - mae: 0.1448 - val_loss: 0.8144 - val_mae: 0.7441 - 118ms/epoch - 11ms/step\n",
      "Epoch 75/100\n",
      "11/11 - 0s - loss: 0.0480 - mae: 0.1413 - val_loss: 0.8081 - val_mae: 0.7414 - 143ms/epoch - 13ms/step\n",
      "Epoch 76/100\n",
      "11/11 - 0s - loss: 0.0574 - mae: 0.1476 - val_loss: 0.7644 - val_mae: 0.7164 - 203ms/epoch - 18ms/step\n",
      "Epoch 77/100\n",
      "11/11 - 0s - loss: 0.0520 - mae: 0.1461 - val_loss: 0.7901 - val_mae: 0.7315 - 127ms/epoch - 12ms/step\n",
      "Epoch 78/100\n",
      "11/11 - 0s - loss: 0.0491 - mae: 0.1439 - val_loss: 0.7616 - val_mae: 0.7143 - 125ms/epoch - 11ms/step\n",
      "Epoch 79/100\n",
      "11/11 - 0s - loss: 0.0538 - mae: 0.1475 - val_loss: 0.7891 - val_mae: 0.7301 - 168ms/epoch - 15ms/step\n",
      "Epoch 80/100\n",
      "11/11 - 0s - loss: 0.0471 - mae: 0.1400 - val_loss: 0.8415 - val_mae: 0.7624 - 146ms/epoch - 13ms/step\n",
      "Epoch 81/100\n",
      "11/11 - 0s - loss: 0.0516 - mae: 0.1443 - val_loss: 0.7453 - val_mae: 0.7056 - 151ms/epoch - 14ms/step\n",
      "Epoch 82/100\n",
      "11/11 - 0s - loss: 0.0554 - mae: 0.1472 - val_loss: 0.8020 - val_mae: 0.7378 - 136ms/epoch - 12ms/step\n",
      "Epoch 83/100\n",
      "11/11 - 0s - loss: 0.0474 - mae: 0.1416 - val_loss: 0.7636 - val_mae: 0.7162 - 157ms/epoch - 14ms/step\n",
      "Epoch 84/100\n",
      "11/11 - 0s - loss: 0.0487 - mae: 0.1436 - val_loss: 0.7941 - val_mae: 0.7339 - 149ms/epoch - 14ms/step\n",
      "Epoch 85/100\n",
      "11/11 - 0s - loss: 0.0425 - mae: 0.1341 - val_loss: 0.7668 - val_mae: 0.7186 - 127ms/epoch - 12ms/step\n",
      "Epoch 86/100\n",
      "11/11 - 0s - loss: 0.0404 - mae: 0.1304 - val_loss: 0.7649 - val_mae: 0.7171 - 126ms/epoch - 11ms/step\n",
      "Epoch 87/100\n",
      "11/11 - 0s - loss: 0.0423 - mae: 0.1310 - val_loss: 0.7803 - val_mae: 0.7266 - 119ms/epoch - 11ms/step\n",
      "Epoch 88/100\n",
      "11/11 - 0s - loss: 0.0465 - mae: 0.1360 - val_loss: 0.7672 - val_mae: 0.7192 - 122ms/epoch - 11ms/step\n",
      "Epoch 89/100\n",
      "11/11 - 0s - loss: 0.0507 - mae: 0.1405 - val_loss: 0.7675 - val_mae: 0.7190 - 124ms/epoch - 11ms/step\n",
      "Epoch 90/100\n",
      "11/11 - 0s - loss: 0.0434 - mae: 0.1359 - val_loss: 0.8093 - val_mae: 0.7446 - 123ms/epoch - 11ms/step\n",
      "Epoch 91/100\n",
      "11/11 - 0s - loss: 0.0443 - mae: 0.1360 - val_loss: 0.7390 - val_mae: 0.7033 - 119ms/epoch - 11ms/step\n",
      "Epoch 92/100\n",
      "11/11 - 0s - loss: 0.0592 - mae: 0.1500 - val_loss: 0.7526 - val_mae: 0.7095 - 144ms/epoch - 13ms/step\n",
      "Epoch 93/100\n",
      "11/11 - 0s - loss: 0.0473 - mae: 0.1382 - val_loss: 0.8259 - val_mae: 0.7546 - 140ms/epoch - 13ms/step\n",
      "Epoch 94/100\n",
      "11/11 - 0s - loss: 0.0529 - mae: 0.1438 - val_loss: 0.7518 - val_mae: 0.7109 - 142ms/epoch - 13ms/step\n",
      "Epoch 95/100\n",
      "11/11 - 0s - loss: 0.0430 - mae: 0.1351 - val_loss: 0.7899 - val_mae: 0.7325 - 131ms/epoch - 12ms/step\n",
      "Epoch 96/100\n",
      "11/11 - 0s - loss: 0.0395 - mae: 0.1287 - val_loss: 0.7393 - val_mae: 0.7028 - 123ms/epoch - 11ms/step\n",
      "Epoch 97/100\n",
      "11/11 - 0s - loss: 0.0450 - mae: 0.1356 - val_loss: 0.8226 - val_mae: 0.7522 - 121ms/epoch - 11ms/step\n",
      "Epoch 98/100\n",
      "11/11 - 0s - loss: 0.0468 - mae: 0.1360 - val_loss: 0.7680 - val_mae: 0.7206 - 122ms/epoch - 11ms/step\n",
      "Epoch 99/100\n",
      "11/11 - 0s - loss: 0.0476 - mae: 0.1372 - val_loss: 0.7865 - val_mae: 0.7321 - 128ms/epoch - 12ms/step\n",
      "Epoch 100/100\n",
      "11/11 - 0s - loss: 0.0438 - mae: 0.1327 - val_loss: 0.8077 - val_mae: 0.7454 - 122ms/epoch - 11ms/step\n"
     ]
    }
   ],
   "source": [
    "LSTM_History = LSTM_Model.fit(X_train,y_train,epochs=100,batch_size = 50,validation_data=(X_valid,y_valid),shuffle=False, \n",
    "                    verbose = 2)"
   ]
  },
  {
   "cell_type": "markdown",
   "id": "faf4ba73",
   "metadata": {},
   "source": [
    "## Make Predictions"
   ]
  },
  {
   "cell_type": "code",
   "execution_count": 23,
   "id": "a1de18c6",
   "metadata": {},
   "outputs": [],
   "source": [
    "RNN_Predictions = RNN_Model.predict(X_test)\n",
    "LSTM_predictions = LSTM_Model.predict(X_test)"
   ]
  },
  {
   "cell_type": "markdown",
   "id": "c4439bc0",
   "metadata": {},
   "source": [
    "## Inverse Transform the Values"
   ]
  },
  {
   "cell_type": "code",
   "execution_count": 24,
   "id": "e5a0787e",
   "metadata": {},
   "outputs": [],
   "source": [
    "RNN_act_prd = std_scalar.inverse_transform(RNN_Predictions)\n",
    "LSTM_act_prd = std_scalar.inverse_transform(LSTM_predictions)"
   ]
  },
  {
   "cell_type": "markdown",
   "id": "1351476f",
   "metadata": {},
   "source": [
    "## Evalation Metrics (RMSE and MAE)"
   ]
  },
  {
   "cell_type": "code",
   "execution_count": 25,
   "id": "22ee211a",
   "metadata": {},
   "outputs": [
    {
     "name": "stdout",
     "output_type": "stream",
     "text": [
      "### RNN Model ###\n",
      "RMSE 28.728600151721597\n",
      "MAE 21.959531690253588\n"
     ]
    }
   ],
   "source": [
    "print(\"### RNN Model ###\")\n",
    "Y_test_res_RNN = std_scalar.inverse_transform(y_test)\n",
    "pre_RNN = RNN_act_prd[:,:1]\n",
    "\n",
    "rmse=np.sqrt(np.mean(((pre_RNN- Y_test_res_RNN)**2)))\n",
    "print(f\"RMSE {rmse}\"  )\n",
    "\n",
    "print(f\"MAE {mean_absolute_error(Y_test_res_RNN, pre_RNN)}\")"
   ]
  },
  {
   "cell_type": "code",
   "execution_count": 26,
   "id": "21b80903",
   "metadata": {},
   "outputs": [
    {
     "name": "stdout",
     "output_type": "stream",
     "text": [
      "### LSTM Model ###\n",
      "RMSE 49.389150590109686\n",
      "MAE 39.67274450083248\n"
     ]
    }
   ],
   "source": [
    "print(\"### LSTM Model ###\")\n",
    "Y_test_res_LSTM = std_scalar.inverse_transform(y_test)\n",
    "pre_LSTM = LSTM_act_prd[:,:1]\n",
    "\n",
    "rmse=np.sqrt(np.mean(((pre_LSTM- Y_test_res_LSTM)**2)))\n",
    "print(f\"RMSE {rmse}\"  )\n",
    "\n",
    "print(f\"MAE {mean_absolute_error(Y_test_res_LSTM, pre_LSTM)}\")"
   ]
  },
  {
   "cell_type": "code",
   "execution_count": 27,
   "id": "5e5e8c5e",
   "metadata": {},
   "outputs": [
    {
     "data": {
      "image/png": "[encoded data removed]",
      "text/plain": [
       "<Figure size 432x288 with 1 Axes>"
      ]
     },
     "metadata": {
      "needs_background": "light"
     },
     "output_type": "display_data"
    }
   ],
   "source": [
    "plot =pd.DataFrame()\n",
    "plot[\"pred\"]=list(map(float, pre_LSTM))\n",
    "plot[\"real\"]=list(map(float, Y_test_res_LSTM))\n",
    "plot[\"date\"]=X_test_split.index[:-steps]\n",
    "plot.plot(kind=\"line\", x=\"date\", title=\"Plot curve of predicted and actual close prices using LSTM\")\n",
    "plt.show()"
   ]
  },
  {
   "cell_type": "code",
   "execution_count": 28,
   "id": "16738d2b",
   "metadata": {},
   "outputs": [
    {
     "data": {
      "image/png": "[encoded data removed]",
      "text/plain": [
       "<Figure size 432x288 with 1 Axes>"
      ]
     },
     "metadata": {
      "needs_background": "light"
     },
     "output_type": "display_data"
    }
   ],
   "source": [
    "plot =pd.DataFrame()\n",
    "plot[\"pred\"]=list(map(float, pre_RNN))\n",
    "plot[\"real\"]=list(map(float, Y_test_res_RNN))\n",
    "plot[\"date\"]=X_test_split.index[:-steps]\n",
    "plot.plot(kind=\"line\", x=\"date\", title=\"Plot curve of predicted and actual close prices using RNN\")\n",
    "plt.show()"
   ]
  },
  {
   "cell_type": "code",
   "execution_count": 29,
   "id": "6a9be8ed",
   "metadata": {},
   "outputs": [
    {
     "data": {
      "image/png": "[encoded data removed]",
      "text/plain": [
       "<Figure size 432x288 with 1 Axes>"
      ]
     },
     "metadata": {
      "needs_background": "light"
     },
     "output_type": "display_data"
    }
   ],
   "source": [
    "plt.plot(LSTM_History.history['loss'])\n",
    "plt.plot(LSTM_History.history['val_loss'])\n",
    "plt.title('Model Loss LSTM')\n",
    "plt.ylabel('Loss')\n",
    "plt.xlabel('Epochs')\n",
    "plt.legend(['Train', 'Validation'], loc='upper right')\n",
    "plt.show()"
   ]
  },
  {
   "cell_type": "code",
   "execution_count": 30,
   "id": "57b535a4",
   "metadata": {},
   "outputs": [
    {
     "data": {
      "image/png": "[encoded data removed]",
      "text/plain": [
       "<Figure size 432x288 with 1 Axes>"
      ]
     },
     "metadata": {
      "needs_background": "light"
     },
     "output_type": "display_data"
    }
   ],
   "source": [
    "plt.plot(RNN_History.history['loss'])\n",
    "plt.plot(RNN_History.history['val_loss'])\n",
    "plt.title('Model Loss RNN')\n",
    "plt.ylabel('Loss')\n",
    "plt.xlabel('Epoch')\n",
    "plt.legend(['Train', 'Validation'], loc='upper right')\n",
    "plt.show()"
   ]
  },
  {
   "cell_type": "code",
   "execution_count": 31,
   "id": "d301aca8",
   "metadata": {},
   "outputs": [
    {
     "data": {
      "image/png": "[encoded data removed]",
      "text/plain": [
       "<Figure size 432x288 with 1 Axes>"
      ]
     },
     "metadata": {
      "needs_background": "light"
     },
     "output_type": "display_data"
    }
   ],
   "source": [
    "plt.plot(LSTM_History.history['mae'])\n",
    "plt.plot(LSTM_History.history['val_mae'])\n",
    "plt.title('Model MAE  LSTM')\n",
    "plt.ylabel('MAE')\n",
    "plt.xlabel('Epochs')\n",
    "plt.legend(['Train', 'validation'], loc='upper right')\n",
    "plt.show()"
   ]
  },
  {
   "cell_type": "code",
   "execution_count": 32,
   "id": "54c98c45",
   "metadata": {},
   "outputs": [
    {
     "data": {
      "image/png": "[encoded data removed]",
      "text/plain": [
       "<Figure size 432x288 with 1 Axes>"
      ]
     },
     "metadata": {
      "needs_background": "light"
     },
     "output_type": "display_data"
    }
   ],
   "source": [
    "plt.plot(RNN_History.history['mae'])\n",
    "plt.plot(RNN_History.history['val_mae'])\n",
    "plt.title('Model MAE RNN')\n",
    "plt.ylabel('MAE')\n",
    "plt.xlabel('Epochs')\n",
    "plt.legend(['Train', 'Validation'], loc='upper left')\n",
    "plt.show()"
   ]
  },
  {
   "cell_type": "markdown",
   "id": "1da1e317",
   "metadata": {},
   "source": [
    "## Conclusion\n",
    "\n",
    "1. For UPPER LSTM and RNN Models used for Stock Price Prediction\n",
    "2. The Error is Low for RNN Model"
   ]
  }
 ],
 "metadata": {
  "kernelspec": {
   "display_name": "Python 3 (ipykernel)",
   "language": "python",
   "name": "python3"
  },
  "language_info": {
   "codemirror_mode": {
    "name": "ipython",
    "version": 3
   },
   "file_extension": ".py",
   "mimetype": "text/x-python",
   "name": "python",
   "nbconvert_exporter": "python",
   "pygments_lexer": "ipython3",
   "version": "3.8.10"
  }
 },
 "nbformat": 4,
 "nbformat_minor": 5
}
