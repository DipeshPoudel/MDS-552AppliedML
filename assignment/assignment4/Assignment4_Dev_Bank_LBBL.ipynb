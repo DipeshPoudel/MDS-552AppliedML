{
 "cells": [
  {
   "cell_type": "markdown",
   "id": "14bc04ea",
   "metadata": {},
   "source": [
    "# Stock Price Prediction of LBLL"
   ]
  },
  {
   "cell_type": "markdown",
   "id": "ef2a8339",
   "metadata": {},
   "source": [
    "## Import the Required Libraries"
   ]
  },
  {
   "cell_type": "code",
   "execution_count": 1,
   "id": "f78cccc9",
   "metadata": {},
   "outputs": [],
   "source": [
    "import warnings\n",
    "warnings.filterwarnings('ignore')"
   ]
  },
  {
   "cell_type": "code",
   "execution_count": 2,
   "id": "53ea5d1b",
   "metadata": {},
   "outputs": [
    {
     "name": "stderr",
     "output_type": "stream",
     "text": [
      "2022-07-30 05:13:12.061456: W tensorflow/stream_executor/platform/default/dso_loader.cc:64] Could not load dynamic library 'libcudart.so.11.0'; dlerror: libcudart.so.11.0: cannot open shared object file: No such file or directory\n",
      "2022-07-30 05:13:12.061495: I tensorflow/stream_executor/cuda/cudart_stub.cc:29] Ignore above cudart dlerror if you do not have a GPU set up on your machine.\n"
     ]
    }
   ],
   "source": [
    "import pandas as pd\n",
    "from keras import Sequential\n",
    "from keras.layers import GRU, LSTM, SimpleRNN,  Dense, Dropout\n",
    "from sklearn.model_selection import train_test_split\n",
    "import numpy as np\n",
    "from sklearn.metrics import accuracy_score, mean_absolute_error, mean_squared_error\n",
    "from sklearn.preprocessing import StandardScaler\n",
    "import matplotlib.pyplot as plt"
   ]
  },
  {
   "cell_type": "markdown",
   "id": "317f76e1",
   "metadata": {},
   "source": [
    "## Load Data"
   ]
  },
  {
   "cell_type": "code",
   "execution_count": 3,
   "id": "410d3020",
   "metadata": {},
   "outputs": [
    {
     "data": {
      "text/plain": [
       "(1877, 8)"
      ]
     },
     "execution_count": 3,
     "metadata": {},
     "output_type": "execute_result"
    }
   ],
   "source": [
    "lbbl_df = pd.read_csv(\"data/LBBL.csv\")\n",
    "lbbl_df.shape"
   ]
  },
  {
   "cell_type": "code",
   "execution_count": 4,
   "id": "27463371",
   "metadata": {},
   "outputs": [
    {
     "data": {
      "text/html": [
       "<div>\n",
       "<style scoped>\n",
       "    .dataframe tbody tr th:only-of-type {\n",
       "        vertical-align: middle;\n",
       "    }\n",
       "\n",
       "    .dataframe tbody tr th {\n",
       "        vertical-align: top;\n",
       "    }\n",
       "\n",
       "    .dataframe thead th {\n",
       "        text-align: right;\n",
       "    }\n",
       "</style>\n",
       "<table border=\"1\" class=\"dataframe\">\n",
       "  <thead>\n",
       "    <tr style=\"text-align: right;\">\n",
       "      <th></th>\n",
       "      <th>S.N.</th>\n",
       "      <th>Date</th>\n",
       "      <th>Total Transactions</th>\n",
       "      <th>Total Traded Shares</th>\n",
       "      <th>Total Traded Amount</th>\n",
       "      <th>Max. Price</th>\n",
       "      <th>Min. Price</th>\n",
       "      <th>Close Price</th>\n",
       "    </tr>\n",
       "  </thead>\n",
       "  <tbody>\n",
       "    <tr>\n",
       "      <th>0</th>\n",
       "      <td>1</td>\n",
       "      <td>2021-12-29</td>\n",
       "      <td>196</td>\n",
       "      <td>37355.0</td>\n",
       "      <td>16232734.3</td>\n",
       "      <td>445.7</td>\n",
       "      <td>427.0</td>\n",
       "      <td>430.2</td>\n",
       "    </tr>\n",
       "    <tr>\n",
       "      <th>1</th>\n",
       "      <td>2</td>\n",
       "      <td>2021-12-28</td>\n",
       "      <td>293</td>\n",
       "      <td>55587.0</td>\n",
       "      <td>24245227.0</td>\n",
       "      <td>448.0</td>\n",
       "      <td>422.0</td>\n",
       "      <td>437.0</td>\n",
       "    </tr>\n",
       "    <tr>\n",
       "      <th>2</th>\n",
       "      <td>3</td>\n",
       "      <td>2021-12-27</td>\n",
       "      <td>407</td>\n",
       "      <td>86428.0</td>\n",
       "      <td>37957307.7</td>\n",
       "      <td>461.0</td>\n",
       "      <td>427.0</td>\n",
       "      <td>429.9</td>\n",
       "    </tr>\n",
       "    <tr>\n",
       "      <th>3</th>\n",
       "      <td>4</td>\n",
       "      <td>2021-12-26</td>\n",
       "      <td>375</td>\n",
       "      <td>79223.0</td>\n",
       "      <td>36089623.0</td>\n",
       "      <td>465.0</td>\n",
       "      <td>446.0</td>\n",
       "      <td>453.0</td>\n",
       "    </tr>\n",
       "    <tr>\n",
       "      <th>4</th>\n",
       "      <td>5</td>\n",
       "      <td>2021-12-23</td>\n",
       "      <td>403</td>\n",
       "      <td>74536.0</td>\n",
       "      <td>34006761.4</td>\n",
       "      <td>468.0</td>\n",
       "      <td>441.1</td>\n",
       "      <td>451.0</td>\n",
       "    </tr>\n",
       "  </tbody>\n",
       "</table>\n",
       "</div>"
      ],
      "text/plain": [
       "   S.N.        Date  Total Transactions  Total Traded Shares  \\\n",
       "0     1  2021-12-29                 196              37355.0   \n",
       "1     2  2021-12-28                 293              55587.0   \n",
       "2     3  2021-12-27                 407              86428.0   \n",
       "3     4  2021-12-26                 375              79223.0   \n",
       "4     5  2021-12-23                 403              74536.0   \n",
       "\n",
       "   Total Traded Amount  Max. Price  Min. Price  Close Price  \n",
       "0           16232734.3       445.7       427.0        430.2  \n",
       "1           24245227.0       448.0       422.0        437.0  \n",
       "2           37957307.7       461.0       427.0        429.9  \n",
       "3           36089623.0       465.0       446.0        453.0  \n",
       "4           34006761.4       468.0       441.1        451.0  "
      ]
     },
     "execution_count": 4,
     "metadata": {},
     "output_type": "execute_result"
    }
   ],
   "source": [
    "lbbl_df.head()"
   ]
  },
  {
   "cell_type": "markdown",
   "id": "a36bd916",
   "metadata": {},
   "source": [
    "## Renaming the Columns "
   ]
  },
  {
   "cell_type": "code",
   "execution_count": 5,
   "id": "e003d377",
   "metadata": {},
   "outputs": [],
   "source": [
    "lbbl_df.columns = ['SN', 'Date', 'TTrans', 'TTS','TTA', 'MaxPrice', 'MinPrice', 'ClosePrice']"
   ]
  },
  {
   "cell_type": "code",
   "execution_count": 6,
   "id": "5757c133",
   "metadata": {},
   "outputs": [
    {
     "data": {
      "text/html": [
       "<div>\n",
       "<style scoped>\n",
       "    .dataframe tbody tr th:only-of-type {\n",
       "        vertical-align: middle;\n",
       "    }\n",
       "\n",
       "    .dataframe tbody tr th {\n",
       "        vertical-align: top;\n",
       "    }\n",
       "\n",
       "    .dataframe thead th {\n",
       "        text-align: right;\n",
       "    }\n",
       "</style>\n",
       "<table border=\"1\" class=\"dataframe\">\n",
       "  <thead>\n",
       "    <tr style=\"text-align: right;\">\n",
       "      <th></th>\n",
       "      <th>SN</th>\n",
       "      <th>Date</th>\n",
       "      <th>TTrans</th>\n",
       "      <th>TTS</th>\n",
       "      <th>TTA</th>\n",
       "      <th>MaxPrice</th>\n",
       "      <th>MinPrice</th>\n",
       "      <th>ClosePrice</th>\n",
       "    </tr>\n",
       "  </thead>\n",
       "  <tbody>\n",
       "    <tr>\n",
       "      <th>0</th>\n",
       "      <td>1</td>\n",
       "      <td>2021-12-29</td>\n",
       "      <td>196</td>\n",
       "      <td>37355.0</td>\n",
       "      <td>16232734.3</td>\n",
       "      <td>445.7</td>\n",
       "      <td>427.0</td>\n",
       "      <td>430.2</td>\n",
       "    </tr>\n",
       "    <tr>\n",
       "      <th>1</th>\n",
       "      <td>2</td>\n",
       "      <td>2021-12-28</td>\n",
       "      <td>293</td>\n",
       "      <td>55587.0</td>\n",
       "      <td>24245227.0</td>\n",
       "      <td>448.0</td>\n",
       "      <td>422.0</td>\n",
       "      <td>437.0</td>\n",
       "    </tr>\n",
       "    <tr>\n",
       "      <th>2</th>\n",
       "      <td>3</td>\n",
       "      <td>2021-12-27</td>\n",
       "      <td>407</td>\n",
       "      <td>86428.0</td>\n",
       "      <td>37957307.7</td>\n",
       "      <td>461.0</td>\n",
       "      <td>427.0</td>\n",
       "      <td>429.9</td>\n",
       "    </tr>\n",
       "    <tr>\n",
       "      <th>3</th>\n",
       "      <td>4</td>\n",
       "      <td>2021-12-26</td>\n",
       "      <td>375</td>\n",
       "      <td>79223.0</td>\n",
       "      <td>36089623.0</td>\n",
       "      <td>465.0</td>\n",
       "      <td>446.0</td>\n",
       "      <td>453.0</td>\n",
       "    </tr>\n",
       "    <tr>\n",
       "      <th>4</th>\n",
       "      <td>5</td>\n",
       "      <td>2021-12-23</td>\n",
       "      <td>403</td>\n",
       "      <td>74536.0</td>\n",
       "      <td>34006761.4</td>\n",
       "      <td>468.0</td>\n",
       "      <td>441.1</td>\n",
       "      <td>451.0</td>\n",
       "    </tr>\n",
       "  </tbody>\n",
       "</table>\n",
       "</div>"
      ],
      "text/plain": [
       "   SN        Date  TTrans      TTS         TTA  MaxPrice  MinPrice  ClosePrice\n",
       "0   1  2021-12-29     196  37355.0  16232734.3     445.7     427.0       430.2\n",
       "1   2  2021-12-28     293  55587.0  24245227.0     448.0     422.0       437.0\n",
       "2   3  2021-12-27     407  86428.0  37957307.7     461.0     427.0       429.9\n",
       "3   4  2021-12-26     375  79223.0  36089623.0     465.0     446.0       453.0\n",
       "4   5  2021-12-23     403  74536.0  34006761.4     468.0     441.1       451.0"
      ]
     },
     "execution_count": 6,
     "metadata": {},
     "output_type": "execute_result"
    }
   ],
   "source": [
    "lbbl_df.head()"
   ]
  },
  {
   "cell_type": "code",
   "execution_count": 7,
   "id": "3849eeae",
   "metadata": {},
   "outputs": [
    {
     "data": {
      "text/plain": [
       "(1877, 8)"
      ]
     },
     "execution_count": 7,
     "metadata": {},
     "output_type": "execute_result"
    }
   ],
   "source": [
    "lbbl_df.shape"
   ]
  },
  {
   "cell_type": "markdown",
   "id": "61f334f5",
   "metadata": {},
   "source": [
    "Converting the Date into Panda's Date Time "
   ]
  },
  {
   "cell_type": "code",
   "execution_count": 8,
   "id": "4d4ab0fe",
   "metadata": {},
   "outputs": [],
   "source": [
    "lbbl_df['Date'] = pd.to_datetime(lbbl_df['Date'])"
   ]
  },
  {
   "cell_type": "markdown",
   "id": "762decf1",
   "metadata": {},
   "source": [
    "## Sorting the Date by Date in Ascending Order"
   ]
  },
  {
   "cell_type": "code",
   "execution_count": 9,
   "id": "e824faea",
   "metadata": {},
   "outputs": [],
   "source": [
    "lbbl_df=lbbl_df.sort_values(by='Date')"
   ]
  },
  {
   "cell_type": "markdown",
   "id": "5fb2f0b6",
   "metadata": {},
   "source": [
    "## Setting Features and Target Column"
   ]
  },
  {
   "cell_type": "code",
   "execution_count": 10,
   "id": "55bbed92",
   "metadata": {},
   "outputs": [],
   "source": [
    "features = ['Date','ClosePrice']"
   ]
  },
  {
   "cell_type": "code",
   "execution_count": 11,
   "id": "0ed38d97",
   "metadata": {},
   "outputs": [],
   "source": [
    "X = lbbl_df[features]"
   ]
  },
  {
   "cell_type": "code",
   "execution_count": 12,
   "id": "0a6a9209",
   "metadata": {},
   "outputs": [],
   "source": [
    "X.set_index(\"Date\",inplace=True)"
   ]
  },
  {
   "cell_type": "markdown",
   "id": "0ec8ce87",
   "metadata": {},
   "source": [
    "## Splitting the Data Into Training, Validation and Test Set"
   ]
  },
  {
   "cell_type": "code",
   "execution_count": 13,
   "id": "9ef9afa9",
   "metadata": {},
   "outputs": [],
   "source": [
    "X_train_split, X_test_split = train_test_split(X, train_size=0.8,shuffle=False)\n",
    "X_test_split, X_valid_split = train_test_split(X_test_split, train_size=0.5,shuffle=False)"
   ]
  },
  {
   "cell_type": "markdown",
   "id": "db993070",
   "metadata": {},
   "source": [
    "## Fucntion to slice data to Predict next day’s closing price by looking into previous 5 day’s data"
   ]
  },
  {
   "cell_type": "code",
   "execution_count": 14,
   "id": "3ee0db51",
   "metadata": {},
   "outputs": [],
   "source": [
    "def SliceData(data,step):     \n",
    "    X,Y = [],[]\n",
    "    for i in range(len(data)-step):\n",
    "        X.append(data[i:(i+step),])\n",
    "        Y.append(data[(i+step),])\n",
    "    return np.array(X),np.array(Y)"
   ]
  },
  {
   "cell_type": "markdown",
   "id": "4f35f138",
   "metadata": {},
   "source": [
    "## Normalizing the Data Using Standard Scalar"
   ]
  },
  {
   "cell_type": "code",
   "execution_count": 15,
   "id": "d25228e5",
   "metadata": {},
   "outputs": [],
   "source": [
    "std_scalar = StandardScaler()\n",
    "X_train = std_scalar.fit_transform(X_train_split)\n",
    "X_valid = std_scalar.fit_transform(X_valid_split)\n",
    "X_test = std_scalar.fit_transform(X_test_split)"
   ]
  },
  {
   "cell_type": "markdown",
   "id": "698f3a82",
   "metadata": {},
   "source": [
    "## Getting the Sliced Data"
   ]
  },
  {
   "cell_type": "code",
   "execution_count": 16,
   "id": "1d24bd2d",
   "metadata": {},
   "outputs": [],
   "source": [
    "steps = 5\n",
    "X_train,y_train = SliceData(X_train,steps)\n",
    "X_test,y_test = SliceData(X_test,steps)\n",
    "X_valid,y_valid = SliceData(X_valid,steps)"
   ]
  },
  {
   "cell_type": "markdown",
   "id": "c1ffb863",
   "metadata": {},
   "source": [
    "## Building the RNN Model"
   ]
  },
  {
   "cell_type": "code",
   "execution_count": 17,
   "id": "cbc27e96",
   "metadata": {},
   "outputs": [
    {
     "name": "stderr",
     "output_type": "stream",
     "text": [
      "2022-07-30 05:13:14.661463: W tensorflow/stream_executor/platform/default/dso_loader.cc:64] Could not load dynamic library 'libcuda.so.1'; dlerror: libcuda.so.1: cannot open shared object file: No such file or directory\n",
      "2022-07-30 05:13:14.661532: W tensorflow/stream_executor/cuda/cuda_driver.cc:269] failed call to cuInit: UNKNOWN ERROR (303)\n",
      "2022-07-30 05:13:14.661565: I tensorflow/stream_executor/cuda/cuda_diagnostics.cc:156] kernel driver does not appear to be running on this host (xenon-Inspiron-3442): /proc/driver/nvidia/version does not exist\n",
      "2022-07-30 05:13:14.661966: I tensorflow/core/platform/cpu_feature_guard.cc:151] This TensorFlow binary is optimized with oneAPI Deep Neural Network Library (oneDNN) to use the following CPU instructions in performance-critical operations:  AVX2 FMA\n",
      "To enable them in other operations, rebuild TensorFlow with the appropriate compiler flags.\n"
     ]
    }
   ],
   "source": [
    "RNN_Model = Sequential()\n",
    "RNN_Model.add(SimpleRNN(50,input_shape=(steps,1),return_sequences=True ))\n",
    "RNN_Model.add(Dropout(0.5))\n",
    "RNN_Model.add(SimpleRNN(50))\n",
    "RNN_Model.add(Dropout(0.5))\n",
    "RNN_Model.add(Dense(50))\n",
    "RNN_Model.compile(optimizer='adam',loss='mean_squared_error', metrics=['mae'])"
   ]
  },
  {
   "cell_type": "code",
   "execution_count": 18,
   "id": "b711f875",
   "metadata": {},
   "outputs": [
    {
     "name": "stdout",
     "output_type": "stream",
     "text": [
      "Model: \"sequential\"\n",
      "_________________________________________________________________\n",
      " Layer (type)                Output Shape              Param #   \n",
      "=================================================================\n",
      " simple_rnn (SimpleRNN)      (None, 5, 50)             2600      \n",
      "                                                                 \n",
      " dropout (Dropout)           (None, 5, 50)             0         \n",
      "                                                                 \n",
      " simple_rnn_1 (SimpleRNN)    (None, 50)                5050      \n",
      "                                                                 \n",
      " dropout_1 (Dropout)         (None, 50)                0         \n",
      "                                                                 \n",
      " dense (Dense)               (None, 50)                2550      \n",
      "                                                                 \n",
      "=================================================================\n",
      "Total params: 10,200\n",
      "Trainable params: 10,200\n",
      "Non-trainable params: 0\n",
      "_________________________________________________________________\n"
     ]
    }
   ],
   "source": [
    "RNN_Model.summary()"
   ]
  },
  {
   "cell_type": "markdown",
   "id": "c57b2d0b",
   "metadata": {},
   "source": [
    "## Building LSTM Model"
   ]
  },
  {
   "cell_type": "code",
   "execution_count": 19,
   "id": "45454efa",
   "metadata": {},
   "outputs": [],
   "source": [
    "LSTM_Model = Sequential()\n",
    "LSTM_Model.add(LSTM(50,input_shape=(steps,1),return_sequences=True ))\n",
    "LSTM_Model.add(Dropout(0.5))\n",
    "LSTM_Model.add(LSTM(50))\n",
    "LSTM_Model.add(Dropout(0.5))\n",
    "LSTM_Model.add(Dense(50))\n",
    "LSTM_Model.compile(optimizer='adam',loss='mean_squared_error', metrics=['mae'])"
   ]
  },
  {
   "cell_type": "code",
   "execution_count": 20,
   "id": "104b1232",
   "metadata": {},
   "outputs": [
    {
     "name": "stdout",
     "output_type": "stream",
     "text": [
      "Model: \"sequential_1\"\n",
      "_________________________________________________________________\n",
      " Layer (type)                Output Shape              Param #   \n",
      "=================================================================\n",
      " lstm (LSTM)                 (None, 5, 50)             10400     \n",
      "                                                                 \n",
      " dropout_2 (Dropout)         (None, 5, 50)             0         \n",
      "                                                                 \n",
      " lstm_1 (LSTM)               (None, 50)                20200     \n",
      "                                                                 \n",
      " dropout_3 (Dropout)         (None, 50)                0         \n",
      "                                                                 \n",
      " dense_1 (Dense)             (None, 50)                2550      \n",
      "                                                                 \n",
      "=================================================================\n",
      "Total params: 33,150\n",
      "Trainable params: 33,150\n",
      "Non-trainable params: 0\n",
      "_________________________________________________________________\n"
     ]
    }
   ],
   "source": [
    "LSTM_Model.summary()"
   ]
  },
  {
   "cell_type": "markdown",
   "id": "0bf04f72",
   "metadata": {},
   "source": [
    "## Fitting the RNN Model"
   ]
  },
  {
   "cell_type": "code",
   "execution_count": 21,
   "id": "7d6c1562",
   "metadata": {},
   "outputs": [
    {
     "name": "stdout",
     "output_type": "stream",
     "text": [
      "Epoch 1/100\n",
      "30/30 - 3s - loss: 1.0524 - mae: 0.6914 - val_loss: 0.3640 - val_mae: 0.4768 - 3s/epoch - 86ms/step\n",
      "Epoch 2/100\n",
      "30/30 - 0s - loss: 0.6069 - mae: 0.5161 - val_loss: 0.2064 - val_mae: 0.3568 - 179ms/epoch - 6ms/step\n",
      "Epoch 3/100\n",
      "30/30 - 0s - loss: 0.4353 - mae: 0.4373 - val_loss: 0.1949 - val_mae: 0.3505 - 177ms/epoch - 6ms/step\n",
      "Epoch 4/100\n",
      "30/30 - 0s - loss: 0.3702 - mae: 0.4073 - val_loss: 0.1735 - val_mae: 0.3328 - 169ms/epoch - 6ms/step\n",
      "Epoch 5/100\n",
      "30/30 - 0s - loss: 0.3258 - mae: 0.3792 - val_loss: 0.1375 - val_mae: 0.2954 - 171ms/epoch - 6ms/step\n",
      "Epoch 6/100\n",
      "30/30 - 0s - loss: 0.2902 - mae: 0.3597 - val_loss: 0.1453 - val_mae: 0.3037 - 171ms/epoch - 6ms/step\n",
      "Epoch 7/100\n",
      "30/30 - 0s - loss: 0.2701 - mae: 0.3388 - val_loss: 0.1040 - val_mae: 0.2553 - 165ms/epoch - 5ms/step\n",
      "Epoch 8/100\n",
      "30/30 - 0s - loss: 0.2334 - mae: 0.3168 - val_loss: 0.0894 - val_mae: 0.2379 - 170ms/epoch - 6ms/step\n",
      "Epoch 9/100\n",
      "30/30 - 0s - loss: 0.1983 - mae: 0.2946 - val_loss: 0.0790 - val_mae: 0.2253 - 172ms/epoch - 6ms/step\n",
      "Epoch 10/100\n",
      "30/30 - 0s - loss: 0.1922 - mae: 0.2869 - val_loss: 0.0850 - val_mae: 0.2349 - 166ms/epoch - 6ms/step\n",
      "Epoch 11/100\n",
      "30/30 - 0s - loss: 0.1691 - mae: 0.2774 - val_loss: 0.0833 - val_mae: 0.2326 - 164ms/epoch - 5ms/step\n",
      "Epoch 12/100\n",
      "30/30 - 0s - loss: 0.1727 - mae: 0.2735 - val_loss: 0.0739 - val_mae: 0.2189 - 169ms/epoch - 6ms/step\n",
      "Epoch 13/100\n",
      "30/30 - 0s - loss: 0.1638 - mae: 0.2670 - val_loss: 0.0773 - val_mae: 0.2260 - 226ms/epoch - 8ms/step\n",
      "Epoch 14/100\n",
      "30/30 - 0s - loss: 0.1450 - mae: 0.2551 - val_loss: 0.0657 - val_mae: 0.2083 - 221ms/epoch - 7ms/step\n",
      "Epoch 15/100\n",
      "30/30 - 0s - loss: 0.1349 - mae: 0.2469 - val_loss: 0.0590 - val_mae: 0.1971 - 159ms/epoch - 5ms/step\n",
      "Epoch 16/100\n",
      "30/30 - 0s - loss: 0.1307 - mae: 0.2401 - val_loss: 0.0489 - val_mae: 0.1807 - 177ms/epoch - 6ms/step\n",
      "Epoch 17/100\n",
      "30/30 - 0s - loss: 0.1212 - mae: 0.2302 - val_loss: 0.0463 - val_mae: 0.1757 - 223ms/epoch - 7ms/step\n",
      "Epoch 18/100\n",
      "30/30 - 0s - loss: 0.1203 - mae: 0.2302 - val_loss: 0.0524 - val_mae: 0.1857 - 206ms/epoch - 7ms/step\n",
      "Epoch 19/100\n",
      "30/30 - 0s - loss: 0.1244 - mae: 0.2293 - val_loss: 0.0520 - val_mae: 0.1853 - 169ms/epoch - 6ms/step\n",
      "Epoch 20/100\n",
      "30/30 - 0s - loss: 0.1192 - mae: 0.2285 - val_loss: 0.0527 - val_mae: 0.1861 - 166ms/epoch - 6ms/step\n",
      "Epoch 21/100\n",
      "30/30 - 0s - loss: 0.1121 - mae: 0.2251 - val_loss: 0.0529 - val_mae: 0.1865 - 180ms/epoch - 6ms/step\n",
      "Epoch 22/100\n",
      "30/30 - 0s - loss: 0.1117 - mae: 0.2250 - val_loss: 0.0563 - val_mae: 0.1918 - 231ms/epoch - 8ms/step\n",
      "Epoch 23/100\n",
      "30/30 - 0s - loss: 0.1105 - mae: 0.2225 - val_loss: 0.0590 - val_mae: 0.1969 - 192ms/epoch - 6ms/step\n",
      "Epoch 24/100\n",
      "30/30 - 0s - loss: 0.1044 - mae: 0.2188 - val_loss: 0.0500 - val_mae: 0.1809 - 219ms/epoch - 7ms/step\n",
      "Epoch 25/100\n",
      "30/30 - 0s - loss: 0.0985 - mae: 0.2122 - val_loss: 0.0521 - val_mae: 0.1854 - 203ms/epoch - 7ms/step\n",
      "Epoch 26/100\n",
      "30/30 - 0s - loss: 0.0982 - mae: 0.2113 - val_loss: 0.0568 - val_mae: 0.1931 - 263ms/epoch - 9ms/step\n",
      "Epoch 27/100\n",
      "30/30 - 0s - loss: 0.0970 - mae: 0.2129 - val_loss: 0.0539 - val_mae: 0.1880 - 171ms/epoch - 6ms/step\n",
      "Epoch 28/100\n",
      "30/30 - 0s - loss: 0.0970 - mae: 0.2062 - val_loss: 0.0470 - val_mae: 0.1751 - 163ms/epoch - 5ms/step\n",
      "Epoch 29/100\n",
      "30/30 - 0s - loss: 0.0928 - mae: 0.2092 - val_loss: 0.0625 - val_mae: 0.2025 - 215ms/epoch - 7ms/step\n",
      "Epoch 30/100\n",
      "30/30 - 0s - loss: 0.0989 - mae: 0.2117 - val_loss: 0.0677 - val_mae: 0.2116 - 181ms/epoch - 6ms/step\n",
      "Epoch 31/100\n",
      "30/30 - 0s - loss: 0.0975 - mae: 0.2123 - val_loss: 0.0659 - val_mae: 0.2075 - 166ms/epoch - 6ms/step\n",
      "Epoch 32/100\n",
      "30/30 - 0s - loss: 0.0869 - mae: 0.1989 - val_loss: 0.0517 - val_mae: 0.1842 - 162ms/epoch - 5ms/step\n",
      "Epoch 33/100\n",
      "30/30 - 0s - loss: 0.0873 - mae: 0.1978 - val_loss: 0.0463 - val_mae: 0.1746 - 164ms/epoch - 5ms/step\n",
      "Epoch 34/100\n",
      "30/30 - 0s - loss: 0.0843 - mae: 0.1942 - val_loss: 0.0536 - val_mae: 0.1874 - 169ms/epoch - 6ms/step\n",
      "Epoch 35/100\n",
      "30/30 - 0s - loss: 0.0892 - mae: 0.2026 - val_loss: 0.0585 - val_mae: 0.1964 - 170ms/epoch - 6ms/step\n",
      "Epoch 36/100\n",
      "30/30 - 0s - loss: 0.0933 - mae: 0.2061 - val_loss: 0.0704 - val_mae: 0.2170 - 168ms/epoch - 6ms/step\n",
      "Epoch 37/100\n",
      "30/30 - 0s - loss: 0.0881 - mae: 0.2033 - val_loss: 0.0595 - val_mae: 0.1973 - 162ms/epoch - 5ms/step\n",
      "Epoch 38/100\n",
      "30/30 - 0s - loss: 0.0796 - mae: 0.1891 - val_loss: 0.0458 - val_mae: 0.1744 - 163ms/epoch - 5ms/step\n",
      "Epoch 39/100\n",
      "30/30 - 0s - loss: 0.0816 - mae: 0.1944 - val_loss: 0.0537 - val_mae: 0.1883 - 166ms/epoch - 6ms/step\n",
      "Epoch 40/100\n",
      "30/30 - 0s - loss: 0.0894 - mae: 0.1988 - val_loss: 0.0534 - val_mae: 0.1885 - 174ms/epoch - 6ms/step\n",
      "Epoch 41/100\n",
      "30/30 - 0s - loss: 0.0817 - mae: 0.1921 - val_loss: 0.0613 - val_mae: 0.2010 - 165ms/epoch - 6ms/step\n",
      "Epoch 42/100\n",
      "30/30 - 0s - loss: 0.0876 - mae: 0.1981 - val_loss: 0.0762 - val_mae: 0.2250 - 168ms/epoch - 6ms/step\n",
      "Epoch 43/100\n",
      "30/30 - 0s - loss: 0.0916 - mae: 0.1999 - val_loss: 0.0610 - val_mae: 0.2009 - 189ms/epoch - 6ms/step\n",
      "Epoch 44/100\n",
      "30/30 - 0s - loss: 0.0807 - mae: 0.1948 - val_loss: 0.0639 - val_mae: 0.2050 - 217ms/epoch - 7ms/step\n",
      "Epoch 45/100\n",
      "30/30 - 0s - loss: 0.0845 - mae: 0.1966 - val_loss: 0.0696 - val_mae: 0.2147 - 167ms/epoch - 6ms/step\n",
      "Epoch 46/100\n",
      "30/30 - 0s - loss: 0.0860 - mae: 0.2001 - val_loss: 0.0662 - val_mae: 0.2098 - 187ms/epoch - 6ms/step\n",
      "Epoch 47/100\n",
      "30/30 - 0s - loss: 0.0847 - mae: 0.1958 - val_loss: 0.0735 - val_mae: 0.2213 - 205ms/epoch - 7ms/step\n",
      "Epoch 48/100\n",
      "30/30 - 0s - loss: 0.0788 - mae: 0.1897 - val_loss: 0.0608 - val_mae: 0.1995 - 195ms/epoch - 7ms/step\n",
      "Epoch 49/100\n",
      "30/30 - 0s - loss: 0.0768 - mae: 0.1885 - val_loss: 0.0604 - val_mae: 0.1983 - 200ms/epoch - 7ms/step\n",
      "Epoch 50/100\n",
      "30/30 - 0s - loss: 0.0847 - mae: 0.1968 - val_loss: 0.0563 - val_mae: 0.1936 - 219ms/epoch - 7ms/step\n",
      "Epoch 51/100\n",
      "30/30 - 0s - loss: 0.0772 - mae: 0.1865 - val_loss: 0.0523 - val_mae: 0.1847 - 189ms/epoch - 6ms/step\n",
      "Epoch 52/100\n",
      "30/30 - 0s - loss: 0.0769 - mae: 0.1803 - val_loss: 0.0457 - val_mae: 0.1739 - 163ms/epoch - 5ms/step\n",
      "Epoch 53/100\n",
      "30/30 - 0s - loss: 0.0727 - mae: 0.1801 - val_loss: 0.0453 - val_mae: 0.1721 - 201ms/epoch - 7ms/step\n",
      "Epoch 54/100\n",
      "30/30 - 0s - loss: 0.0723 - mae: 0.1802 - val_loss: 0.0584 - val_mae: 0.1978 - 192ms/epoch - 6ms/step\n",
      "Epoch 55/100\n",
      "30/30 - 0s - loss: 0.0834 - mae: 0.1943 - val_loss: 0.0628 - val_mae: 0.2052 - 165ms/epoch - 5ms/step\n",
      "Epoch 56/100\n",
      "30/30 - 0s - loss: 0.0745 - mae: 0.1828 - val_loss: 0.0556 - val_mae: 0.1924 - 199ms/epoch - 7ms/step\n",
      "Epoch 57/100\n",
      "30/30 - 0s - loss: 0.0717 - mae: 0.1824 - val_loss: 0.0618 - val_mae: 0.2041 - 222ms/epoch - 7ms/step\n",
      "Epoch 58/100\n",
      "30/30 - 0s - loss: 0.0818 - mae: 0.1918 - val_loss: 0.0628 - val_mae: 0.2041 - 179ms/epoch - 6ms/step\n",
      "Epoch 59/100\n",
      "30/30 - 0s - loss: 0.0812 - mae: 0.1897 - val_loss: 0.0666 - val_mae: 0.2118 - 213ms/epoch - 7ms/step\n",
      "Epoch 60/100\n",
      "30/30 - 0s - loss: 0.0736 - mae: 0.1830 - val_loss: 0.0577 - val_mae: 0.1948 - 177ms/epoch - 6ms/step\n",
      "Epoch 61/100\n",
      "30/30 - 0s - loss: 0.0776 - mae: 0.1824 - val_loss: 0.0580 - val_mae: 0.1962 - 182ms/epoch - 6ms/step\n",
      "Epoch 62/100\n",
      "30/30 - 0s - loss: 0.0670 - mae: 0.1729 - val_loss: 0.0559 - val_mae: 0.1912 - 186ms/epoch - 6ms/step\n",
      "Epoch 63/100\n",
      "30/30 - 0s - loss: 0.0729 - mae: 0.1843 - val_loss: 0.0645 - val_mae: 0.2077 - 169ms/epoch - 6ms/step\n",
      "Epoch 64/100\n",
      "30/30 - 0s - loss: 0.0795 - mae: 0.1944 - val_loss: 0.0623 - val_mae: 0.2041 - 246ms/epoch - 8ms/step\n",
      "Epoch 65/100\n",
      "30/30 - 0s - loss: 0.0736 - mae: 0.1801 - val_loss: 0.0564 - val_mae: 0.1947 - 237ms/epoch - 8ms/step\n",
      "Epoch 66/100\n",
      "30/30 - 0s - loss: 0.0733 - mae: 0.1832 - val_loss: 0.0497 - val_mae: 0.1829 - 177ms/epoch - 6ms/step\n",
      "Epoch 67/100\n",
      "30/30 - 0s - loss: 0.0697 - mae: 0.1774 - val_loss: 0.0554 - val_mae: 0.1925 - 159ms/epoch - 5ms/step\n",
      "Epoch 68/100\n",
      "30/30 - 0s - loss: 0.0697 - mae: 0.1768 - val_loss: 0.0457 - val_mae: 0.1745 - 157ms/epoch - 5ms/step\n",
      "Epoch 69/100\n",
      "30/30 - 0s - loss: 0.0692 - mae: 0.1756 - val_loss: 0.0494 - val_mae: 0.1821 - 161ms/epoch - 5ms/step\n",
      "Epoch 70/100\n",
      "30/30 - 0s - loss: 0.0637 - mae: 0.1680 - val_loss: 0.0420 - val_mae: 0.1670 - 159ms/epoch - 5ms/step\n",
      "Epoch 71/100\n",
      "30/30 - 0s - loss: 0.0635 - mae: 0.1701 - val_loss: 0.0376 - val_mae: 0.1578 - 160ms/epoch - 5ms/step\n",
      "Epoch 72/100\n",
      "30/30 - 0s - loss: 0.0673 - mae: 0.1686 - val_loss: 0.0378 - val_mae: 0.1581 - 165ms/epoch - 6ms/step\n"
     ]
    },
    {
     "name": "stdout",
     "output_type": "stream",
     "text": [
      "Epoch 73/100\n",
      "30/30 - 0s - loss: 0.0658 - mae: 0.1647 - val_loss: 0.0413 - val_mae: 0.1652 - 160ms/epoch - 5ms/step\n",
      "Epoch 74/100\n",
      "30/30 - 0s - loss: 0.0649 - mae: 0.1702 - val_loss: 0.0437 - val_mae: 0.1698 - 156ms/epoch - 5ms/step\n",
      "Epoch 75/100\n",
      "30/30 - 0s - loss: 0.0614 - mae: 0.1625 - val_loss: 0.0469 - val_mae: 0.1756 - 157ms/epoch - 5ms/step\n",
      "Epoch 76/100\n",
      "30/30 - 0s - loss: 0.0664 - mae: 0.1696 - val_loss: 0.0455 - val_mae: 0.1739 - 175ms/epoch - 6ms/step\n",
      "Epoch 77/100\n",
      "30/30 - 0s - loss: 0.0612 - mae: 0.1652 - val_loss: 0.0463 - val_mae: 0.1744 - 175ms/epoch - 6ms/step\n",
      "Epoch 78/100\n",
      "30/30 - 0s - loss: 0.0634 - mae: 0.1696 - val_loss: 0.0499 - val_mae: 0.1822 - 168ms/epoch - 6ms/step\n",
      "Epoch 79/100\n",
      "30/30 - 0s - loss: 0.0652 - mae: 0.1724 - val_loss: 0.0543 - val_mae: 0.1909 - 335ms/epoch - 11ms/step\n",
      "Epoch 80/100\n",
      "30/30 - 0s - loss: 0.0658 - mae: 0.1750 - val_loss: 0.0566 - val_mae: 0.1932 - 177ms/epoch - 6ms/step\n",
      "Epoch 81/100\n",
      "30/30 - 0s - loss: 0.0704 - mae: 0.1727 - val_loss: 0.0504 - val_mae: 0.1828 - 159ms/epoch - 5ms/step\n",
      "Epoch 82/100\n",
      "30/30 - 0s - loss: 0.0616 - mae: 0.1647 - val_loss: 0.0505 - val_mae: 0.1827 - 218ms/epoch - 7ms/step\n",
      "Epoch 83/100\n",
      "30/30 - 0s - loss: 0.0678 - mae: 0.1773 - val_loss: 0.0680 - val_mae: 0.2112 - 201ms/epoch - 7ms/step\n",
      "Epoch 84/100\n",
      "30/30 - 0s - loss: 0.0636 - mae: 0.1733 - val_loss: 0.0571 - val_mae: 0.1935 - 159ms/epoch - 5ms/step\n",
      "Epoch 85/100\n",
      "30/30 - 0s - loss: 0.0632 - mae: 0.1717 - val_loss: 0.0631 - val_mae: 0.2025 - 196ms/epoch - 7ms/step\n",
      "Epoch 86/100\n",
      "30/30 - 0s - loss: 0.0683 - mae: 0.1812 - val_loss: 0.0639 - val_mae: 0.2047 - 197ms/epoch - 7ms/step\n",
      "Epoch 87/100\n",
      "30/30 - 0s - loss: 0.0728 - mae: 0.1812 - val_loss: 0.0696 - val_mae: 0.2137 - 194ms/epoch - 6ms/step\n",
      "Epoch 88/100\n",
      "30/30 - 0s - loss: 0.0723 - mae: 0.1778 - val_loss: 0.0696 - val_mae: 0.2128 - 165ms/epoch - 5ms/step\n",
      "Epoch 89/100\n",
      "30/30 - 0s - loss: 0.0692 - mae: 0.1807 - val_loss: 0.0716 - val_mae: 0.2159 - 297ms/epoch - 10ms/step\n",
      "Epoch 90/100\n",
      "30/30 - 0s - loss: 0.0687 - mae: 0.1772 - val_loss: 0.0637 - val_mae: 0.2047 - 384ms/epoch - 13ms/step\n",
      "Epoch 91/100\n",
      "30/30 - 0s - loss: 0.0732 - mae: 0.1824 - val_loss: 0.0740 - val_mae: 0.2191 - 240ms/epoch - 8ms/step\n",
      "Epoch 92/100\n",
      "30/30 - 0s - loss: 0.0749 - mae: 0.1866 - val_loss: 0.0760 - val_mae: 0.2263 - 334ms/epoch - 11ms/step\n",
      "Epoch 93/100\n",
      "30/30 - 0s - loss: 0.0716 - mae: 0.1825 - val_loss: 0.0753 - val_mae: 0.2200 - 178ms/epoch - 6ms/step\n",
      "Epoch 94/100\n",
      "30/30 - 0s - loss: 0.0729 - mae: 0.1823 - val_loss: 0.0599 - val_mae: 0.1998 - 314ms/epoch - 10ms/step\n",
      "Epoch 95/100\n",
      "30/30 - 0s - loss: 0.0687 - mae: 0.1776 - val_loss: 0.0609 - val_mae: 0.1980 - 178ms/epoch - 6ms/step\n",
      "Epoch 96/100\n",
      "30/30 - 0s - loss: 0.0714 - mae: 0.1796 - val_loss: 0.0663 - val_mae: 0.2099 - 164ms/epoch - 5ms/step\n",
      "Epoch 97/100\n",
      "30/30 - 0s - loss: 0.0651 - mae: 0.1780 - val_loss: 0.0596 - val_mae: 0.1982 - 159ms/epoch - 5ms/step\n",
      "Epoch 98/100\n",
      "30/30 - 0s - loss: 0.0714 - mae: 0.1767 - val_loss: 0.0506 - val_mae: 0.1834 - 167ms/epoch - 6ms/step\n",
      "Epoch 99/100\n",
      "30/30 - 0s - loss: 0.0712 - mae: 0.1781 - val_loss: 0.0473 - val_mae: 0.1783 - 170ms/epoch - 6ms/step\n",
      "Epoch 100/100\n",
      "30/30 - 0s - loss: 0.0624 - mae: 0.1684 - val_loss: 0.0385 - val_mae: 0.1605 - 161ms/epoch - 5ms/step\n"
     ]
    }
   ],
   "source": [
    "RNN_History = RNN_Model.fit(X_train,y_train,epochs=100,batch_size = 50,validation_data=(X_valid,y_valid),shuffle=False, \n",
    "                    verbose = 2)"
   ]
  },
  {
   "cell_type": "code",
   "execution_count": 22,
   "id": "3242dc06",
   "metadata": {},
   "outputs": [
    {
     "name": "stdout",
     "output_type": "stream",
     "text": [
      "Epoch 1/100\n",
      "30/30 - 6s - loss: 0.9566 - mae: 0.7277 - val_loss: 0.7364 - val_mae: 0.7396 - 6s/epoch - 190ms/step\n",
      "Epoch 2/100\n",
      "30/30 - 0s - loss: 0.6934 - mae: 0.5664 - val_loss: 0.2728 - val_mae: 0.4135 - 283ms/epoch - 9ms/step\n",
      "Epoch 3/100\n",
      "30/30 - 0s - loss: 0.3847 - mae: 0.4055 - val_loss: 0.1676 - val_mae: 0.3280 - 358ms/epoch - 12ms/step\n",
      "Epoch 4/100\n",
      "30/30 - 0s - loss: 0.2639 - mae: 0.3316 - val_loss: 0.1400 - val_mae: 0.2979 - 388ms/epoch - 13ms/step\n",
      "Epoch 5/100\n",
      "30/30 - 0s - loss: 0.2232 - mae: 0.3083 - val_loss: 0.1230 - val_mae: 0.2776 - 316ms/epoch - 11ms/step\n",
      "Epoch 6/100\n",
      "30/30 - 0s - loss: 0.1844 - mae: 0.2795 - val_loss: 0.1167 - val_mae: 0.2708 - 286ms/epoch - 10ms/step\n",
      "Epoch 7/100\n",
      "30/30 - 0s - loss: 0.1689 - mae: 0.2736 - val_loss: 0.1097 - val_mae: 0.2606 - 295ms/epoch - 10ms/step\n",
      "Epoch 8/100\n",
      "30/30 - 0s - loss: 0.1600 - mae: 0.2655 - val_loss: 0.0981 - val_mae: 0.2445 - 343ms/epoch - 11ms/step\n",
      "Epoch 9/100\n",
      "30/30 - 0s - loss: 0.1365 - mae: 0.2443 - val_loss: 0.0934 - val_mae: 0.2381 - 366ms/epoch - 12ms/step\n",
      "Epoch 10/100\n",
      "30/30 - 0s - loss: 0.1257 - mae: 0.2340 - val_loss: 0.0867 - val_mae: 0.2268 - 378ms/epoch - 13ms/step\n",
      "Epoch 11/100\n",
      "30/30 - 0s - loss: 0.1140 - mae: 0.2227 - val_loss: 0.0817 - val_mae: 0.2180 - 317ms/epoch - 11ms/step\n",
      "Epoch 12/100\n",
      "30/30 - 0s - loss: 0.1069 - mae: 0.2169 - val_loss: 0.0781 - val_mae: 0.2120 - 375ms/epoch - 13ms/step\n",
      "Epoch 13/100\n",
      "30/30 - 0s - loss: 0.0977 - mae: 0.2060 - val_loss: 0.0739 - val_mae: 0.2001 - 370ms/epoch - 12ms/step\n",
      "Epoch 14/100\n",
      "30/30 - 0s - loss: 0.0933 - mae: 0.2001 - val_loss: 0.0730 - val_mae: 0.2022 - 323ms/epoch - 11ms/step\n",
      "Epoch 15/100\n",
      "30/30 - 0s - loss: 0.0913 - mae: 0.1979 - val_loss: 0.0738 - val_mae: 0.2064 - 358ms/epoch - 12ms/step\n",
      "Epoch 16/100\n",
      "30/30 - 0s - loss: 0.0849 - mae: 0.1942 - val_loss: 0.0679 - val_mae: 0.1856 - 324ms/epoch - 11ms/step\n",
      "Epoch 17/100\n",
      "30/30 - 0s - loss: 0.0898 - mae: 0.1962 - val_loss: 0.0667 - val_mae: 0.1849 - 316ms/epoch - 11ms/step\n",
      "Epoch 18/100\n",
      "30/30 - 0s - loss: 0.0855 - mae: 0.1957 - val_loss: 0.0776 - val_mae: 0.2174 - 288ms/epoch - 10ms/step\n",
      "Epoch 19/100\n",
      "30/30 - 0s - loss: 0.0916 - mae: 0.1992 - val_loss: 0.0688 - val_mae: 0.1862 - 293ms/epoch - 10ms/step\n",
      "Epoch 20/100\n",
      "30/30 - 0s - loss: 0.0838 - mae: 0.1913 - val_loss: 0.0667 - val_mae: 0.1930 - 291ms/epoch - 10ms/step\n",
      "Epoch 21/100\n",
      "30/30 - 0s - loss: 0.0768 - mae: 0.1853 - val_loss: 0.0643 - val_mae: 0.1803 - 286ms/epoch - 10ms/step\n",
      "Epoch 22/100\n",
      "30/30 - 0s - loss: 0.0791 - mae: 0.1846 - val_loss: 0.0690 - val_mae: 0.2009 - 290ms/epoch - 10ms/step\n",
      "Epoch 23/100\n",
      "30/30 - 0s - loss: 0.0862 - mae: 0.1916 - val_loss: 0.0730 - val_mae: 0.2089 - 420ms/epoch - 14ms/step\n",
      "Epoch 24/100\n",
      "30/30 - 0s - loss: 0.0893 - mae: 0.2005 - val_loss: 0.0928 - val_mae: 0.2465 - 300ms/epoch - 10ms/step\n",
      "Epoch 25/100\n",
      "30/30 - 0s - loss: 0.0929 - mae: 0.2035 - val_loss: 0.0631 - val_mae: 0.1766 - 303ms/epoch - 10ms/step\n",
      "Epoch 26/100\n",
      "30/30 - 0s - loss: 0.0782 - mae: 0.1821 - val_loss: 0.0629 - val_mae: 0.1778 - 428ms/epoch - 14ms/step\n",
      "Epoch 27/100\n",
      "30/30 - 0s - loss: 0.0745 - mae: 0.1800 - val_loss: 0.0650 - val_mae: 0.1950 - 439ms/epoch - 15ms/step\n",
      "Epoch 28/100\n",
      "30/30 - 0s - loss: 0.0754 - mae: 0.1826 - val_loss: 0.0653 - val_mae: 0.1949 - 354ms/epoch - 12ms/step\n",
      "Epoch 29/100\n",
      "30/30 - 0s - loss: 0.0782 - mae: 0.1845 - val_loss: 0.0592 - val_mae: 0.1687 - 368ms/epoch - 12ms/step\n",
      "Epoch 30/100\n",
      "30/30 - 0s - loss: 0.0737 - mae: 0.1773 - val_loss: 0.0714 - val_mae: 0.2101 - 301ms/epoch - 10ms/step\n",
      "Epoch 31/100\n",
      "30/30 - 0s - loss: 0.0827 - mae: 0.1859 - val_loss: 0.0630 - val_mae: 0.1840 - 324ms/epoch - 11ms/step\n",
      "Epoch 32/100\n",
      "30/30 - 0s - loss: 0.0803 - mae: 0.1897 - val_loss: 0.0900 - val_mae: 0.2393 - 498ms/epoch - 17ms/step\n",
      "Epoch 33/100\n",
      "30/30 - 1s - loss: 0.0858 - mae: 0.1965 - val_loss: 0.0585 - val_mae: 0.1677 - 572ms/epoch - 19ms/step\n",
      "Epoch 34/100\n",
      "30/30 - 0s - loss: 0.0744 - mae: 0.1809 - val_loss: 0.0813 - val_mae: 0.2269 - 401ms/epoch - 13ms/step\n",
      "Epoch 35/100\n",
      "30/30 - 0s - loss: 0.0853 - mae: 0.1942 - val_loss: 0.0677 - val_mae: 0.1984 - 356ms/epoch - 12ms/step\n",
      "Epoch 36/100\n",
      "30/30 - 0s - loss: 0.0784 - mae: 0.1869 - val_loss: 0.0847 - val_mae: 0.2310 - 343ms/epoch - 11ms/step\n",
      "Epoch 37/100\n",
      "30/30 - 0s - loss: 0.0867 - mae: 0.1978 - val_loss: 0.0602 - val_mae: 0.1768 - 426ms/epoch - 14ms/step\n",
      "Epoch 38/100\n",
      "30/30 - 0s - loss: 0.0725 - mae: 0.1786 - val_loss: 0.0785 - val_mae: 0.2232 - 345ms/epoch - 11ms/step\n",
      "Epoch 39/100\n",
      "30/30 - 0s - loss: 0.0849 - mae: 0.1987 - val_loss: 0.0559 - val_mae: 0.1659 - 311ms/epoch - 10ms/step\n",
      "Epoch 40/100\n",
      "30/30 - 0s - loss: 0.0696 - mae: 0.1775 - val_loss: 0.0720 - val_mae: 0.2147 - 430ms/epoch - 14ms/step\n",
      "Epoch 41/100\n",
      "30/30 - 0s - loss: 0.0711 - mae: 0.1778 - val_loss: 0.0563 - val_mae: 0.1717 - 296ms/epoch - 10ms/step\n",
      "Epoch 42/100\n",
      "30/30 - 0s - loss: 0.0679 - mae: 0.1715 - val_loss: 0.0653 - val_mae: 0.2027 - 398ms/epoch - 13ms/step\n",
      "Epoch 43/100\n",
      "30/30 - 0s - loss: 0.0722 - mae: 0.1788 - val_loss: 0.0655 - val_mae: 0.1968 - 392ms/epoch - 13ms/step\n",
      "Epoch 44/100\n",
      "30/30 - 0s - loss: 0.0705 - mae: 0.1807 - val_loss: 0.0989 - val_mae: 0.2490 - 296ms/epoch - 10ms/step\n",
      "Epoch 45/100\n",
      "30/30 - 0s - loss: 0.0916 - mae: 0.2116 - val_loss: 0.0615 - val_mae: 0.1841 - 305ms/epoch - 10ms/step\n",
      "Epoch 46/100\n",
      "30/30 - 0s - loss: 0.0672 - mae: 0.1711 - val_loss: 0.0571 - val_mae: 0.1886 - 346ms/epoch - 12ms/step\n",
      "Epoch 47/100\n",
      "30/30 - 0s - loss: 0.0734 - mae: 0.1786 - val_loss: 0.0532 - val_mae: 0.1707 - 444ms/epoch - 15ms/step\n",
      "Epoch 48/100\n",
      "30/30 - 0s - loss: 0.0701 - mae: 0.1736 - val_loss: 0.0629 - val_mae: 0.1982 - 368ms/epoch - 12ms/step\n",
      "Epoch 49/100\n",
      "30/30 - 0s - loss: 0.0729 - mae: 0.1743 - val_loss: 0.0500 - val_mae: 0.1583 - 443ms/epoch - 15ms/step\n",
      "Epoch 50/100\n",
      "30/30 - 0s - loss: 0.0611 - mae: 0.1640 - val_loss: 0.0513 - val_mae: 0.1761 - 327ms/epoch - 11ms/step\n",
      "Epoch 51/100\n",
      "30/30 - 0s - loss: 0.0683 - mae: 0.1705 - val_loss: 0.0494 - val_mae: 0.1590 - 336ms/epoch - 11ms/step\n",
      "Epoch 52/100\n",
      "30/30 - 1s - loss: 0.0620 - mae: 0.1649 - val_loss: 0.0808 - val_mae: 0.2255 - 506ms/epoch - 17ms/step\n",
      "Epoch 53/100\n",
      "30/30 - 0s - loss: 0.0778 - mae: 0.1882 - val_loss: 0.0590 - val_mae: 0.1833 - 362ms/epoch - 12ms/step\n",
      "Epoch 54/100\n",
      "30/30 - 0s - loss: 0.0648 - mae: 0.1650 - val_loss: 0.0687 - val_mae: 0.2087 - 430ms/epoch - 14ms/step\n",
      "Epoch 55/100\n",
      "30/30 - 0s - loss: 0.0763 - mae: 0.1869 - val_loss: 0.0575 - val_mae: 0.1816 - 440ms/epoch - 15ms/step\n",
      "Epoch 56/100\n",
      "30/30 - 0s - loss: 0.0654 - mae: 0.1689 - val_loss: 0.0679 - val_mae: 0.2076 - 458ms/epoch - 15ms/step\n",
      "Epoch 57/100\n",
      "30/30 - 0s - loss: 0.0717 - mae: 0.1820 - val_loss: 0.0499 - val_mae: 0.1620 - 411ms/epoch - 14ms/step\n",
      "Epoch 58/100\n",
      "30/30 - 0s - loss: 0.0607 - mae: 0.1587 - val_loss: 0.0621 - val_mae: 0.1984 - 313ms/epoch - 10ms/step\n",
      "Epoch 59/100\n",
      "30/30 - 0s - loss: 0.0704 - mae: 0.1759 - val_loss: 0.0488 - val_mae: 0.1616 - 305ms/epoch - 10ms/step\n",
      "Epoch 60/100\n",
      "30/30 - 0s - loss: 0.0579 - mae: 0.1545 - val_loss: 0.0512 - val_mae: 0.1809 - 313ms/epoch - 10ms/step\n",
      "Epoch 61/100\n",
      "30/30 - 0s - loss: 0.0609 - mae: 0.1624 - val_loss: 0.0506 - val_mae: 0.1711 - 320ms/epoch - 11ms/step\n",
      "Epoch 62/100\n",
      "30/30 - 0s - loss: 0.0579 - mae: 0.1557 - val_loss: 0.0505 - val_mae: 0.1788 - 310ms/epoch - 10ms/step\n",
      "Epoch 63/100\n",
      "30/30 - 0s - loss: 0.0641 - mae: 0.1657 - val_loss: 0.0428 - val_mae: 0.1443 - 307ms/epoch - 10ms/step\n",
      "Epoch 64/100\n",
      "30/30 - 0s - loss: 0.0612 - mae: 0.1581 - val_loss: 0.0463 - val_mae: 0.1687 - 343ms/epoch - 11ms/step\n",
      "Epoch 65/100\n",
      "30/30 - 0s - loss: 0.0624 - mae: 0.1633 - val_loss: 0.0410 - val_mae: 0.1456 - 321ms/epoch - 11ms/step\n",
      "Epoch 66/100\n",
      "30/30 - 0s - loss: 0.0552 - mae: 0.1535 - val_loss: 0.0451 - val_mae: 0.1644 - 310ms/epoch - 10ms/step\n",
      "Epoch 67/100\n",
      "30/30 - 0s - loss: 0.0562 - mae: 0.1548 - val_loss: 0.0382 - val_mae: 0.1381 - 305ms/epoch - 10ms/step\n",
      "Epoch 68/100\n",
      "30/30 - 0s - loss: 0.0562 - mae: 0.1529 - val_loss: 0.0410 - val_mae: 0.1509 - 298ms/epoch - 10ms/step\n",
      "Epoch 69/100\n",
      "30/30 - 0s - loss: 0.0614 - mae: 0.1660 - val_loss: 0.0636 - val_mae: 0.2006 - 303ms/epoch - 10ms/step\n",
      "Epoch 70/100\n",
      "30/30 - 0s - loss: 0.0740 - mae: 0.1836 - val_loss: 0.0422 - val_mae: 0.1444 - 310ms/epoch - 10ms/step\n",
      "Epoch 71/100\n",
      "30/30 - 0s - loss: 0.0522 - mae: 0.1495 - val_loss: 0.0448 - val_mae: 0.1700 - 308ms/epoch - 10ms/step\n"
     ]
    },
    {
     "name": "stdout",
     "output_type": "stream",
     "text": [
      "Epoch 72/100\n",
      "30/30 - 0s - loss: 0.0582 - mae: 0.1548 - val_loss: 0.0437 - val_mae: 0.1581 - 307ms/epoch - 10ms/step\n",
      "Epoch 73/100\n",
      "30/30 - 0s - loss: 0.0552 - mae: 0.1534 - val_loss: 0.0450 - val_mae: 0.1699 - 309ms/epoch - 10ms/step\n",
      "Epoch 74/100\n",
      "30/30 - 0s - loss: 0.0581 - mae: 0.1592 - val_loss: 0.0389 - val_mae: 0.1420 - 300ms/epoch - 10ms/step\n",
      "Epoch 75/100\n",
      "30/30 - 0s - loss: 0.0639 - mae: 0.1682 - val_loss: 0.0675 - val_mae: 0.2102 - 301ms/epoch - 10ms/step\n",
      "Epoch 76/100\n",
      "30/30 - 0s - loss: 0.0706 - mae: 0.1816 - val_loss: 0.0454 - val_mae: 0.1586 - 308ms/epoch - 10ms/step\n",
      "Epoch 77/100\n",
      "30/30 - 0s - loss: 0.0573 - mae: 0.1554 - val_loss: 0.0424 - val_mae: 0.1639 - 298ms/epoch - 10ms/step\n",
      "Epoch 78/100\n",
      "30/30 - 0s - loss: 0.0660 - mae: 0.1671 - val_loss: 0.0702 - val_mae: 0.2094 - 301ms/epoch - 10ms/step\n",
      "Epoch 79/100\n",
      "30/30 - 0s - loss: 0.0727 - mae: 0.1822 - val_loss: 0.0895 - val_mae: 0.2323 - 294ms/epoch - 10ms/step\n",
      "Epoch 80/100\n",
      "30/30 - 0s - loss: 0.0924 - mae: 0.2171 - val_loss: 0.0537 - val_mae: 0.1768 - 300ms/epoch - 10ms/step\n",
      "Epoch 81/100\n",
      "30/30 - 0s - loss: 0.0634 - mae: 0.1627 - val_loss: 0.0569 - val_mae: 0.1897 - 294ms/epoch - 10ms/step\n",
      "Epoch 82/100\n",
      "30/30 - 0s - loss: 0.0699 - mae: 0.1745 - val_loss: 0.0364 - val_mae: 0.1332 - 313ms/epoch - 10ms/step\n",
      "Epoch 83/100\n",
      "30/30 - 0s - loss: 0.0574 - mae: 0.1555 - val_loss: 0.0338 - val_mae: 0.1285 - 313ms/epoch - 10ms/step\n",
      "Epoch 84/100\n",
      "30/30 - 0s - loss: 0.0559 - mae: 0.1582 - val_loss: 0.0447 - val_mae: 0.1693 - 299ms/epoch - 10ms/step\n",
      "Epoch 85/100\n",
      "30/30 - 0s - loss: 0.0603 - mae: 0.1632 - val_loss: 0.0352 - val_mae: 0.1344 - 306ms/epoch - 10ms/step\n",
      "Epoch 86/100\n",
      "30/30 - 0s - loss: 0.0511 - mae: 0.1456 - val_loss: 0.0328 - val_mae: 0.1312 - 302ms/epoch - 10ms/step\n",
      "Epoch 87/100\n",
      "30/30 - 0s - loss: 0.0479 - mae: 0.1438 - val_loss: 0.0329 - val_mae: 0.1354 - 299ms/epoch - 10ms/step\n",
      "Epoch 88/100\n",
      "30/30 - 0s - loss: 0.0484 - mae: 0.1425 - val_loss: 0.0324 - val_mae: 0.1296 - 326ms/epoch - 11ms/step\n",
      "Epoch 89/100\n",
      "30/30 - 0s - loss: 0.0523 - mae: 0.1465 - val_loss: 0.0351 - val_mae: 0.1457 - 303ms/epoch - 10ms/step\n",
      "Epoch 90/100\n",
      "30/30 - 0s - loss: 0.0548 - mae: 0.1491 - val_loss: 0.0341 - val_mae: 0.1331 - 293ms/epoch - 10ms/step\n",
      "Epoch 91/100\n",
      "30/30 - 0s - loss: 0.0482 - mae: 0.1436 - val_loss: 0.0389 - val_mae: 0.1567 - 294ms/epoch - 10ms/step\n",
      "Epoch 92/100\n",
      "30/30 - 0s - loss: 0.0584 - mae: 0.1596 - val_loss: 0.0334 - val_mae: 0.1321 - 310ms/epoch - 10ms/step\n",
      "Epoch 93/100\n",
      "30/30 - 0s - loss: 0.0483 - mae: 0.1443 - val_loss: 0.0330 - val_mae: 0.1377 - 311ms/epoch - 10ms/step\n",
      "Epoch 94/100\n",
      "30/30 - 0s - loss: 0.0516 - mae: 0.1494 - val_loss: 0.0317 - val_mae: 0.1271 - 302ms/epoch - 10ms/step\n",
      "Epoch 95/100\n",
      "30/30 - 0s - loss: 0.0475 - mae: 0.1417 - val_loss: 0.0305 - val_mae: 0.1270 - 293ms/epoch - 10ms/step\n",
      "Epoch 96/100\n",
      "30/30 - 0s - loss: 0.0531 - mae: 0.1462 - val_loss: 0.0313 - val_mae: 0.1314 - 314ms/epoch - 10ms/step\n",
      "Epoch 97/100\n",
      "30/30 - 0s - loss: 0.0496 - mae: 0.1430 - val_loss: 0.0307 - val_mae: 0.1274 - 292ms/epoch - 10ms/step\n",
      "Epoch 98/100\n",
      "30/30 - 0s - loss: 0.0472 - mae: 0.1392 - val_loss: 0.0305 - val_mae: 0.1292 - 296ms/epoch - 10ms/step\n",
      "Epoch 99/100\n",
      "30/30 - 0s - loss: 0.0488 - mae: 0.1438 - val_loss: 0.0324 - val_mae: 0.1365 - 326ms/epoch - 11ms/step\n",
      "Epoch 100/100\n",
      "30/30 - 0s - loss: 0.0486 - mae: 0.1429 - val_loss: 0.0305 - val_mae: 0.1260 - 285ms/epoch - 9ms/step\n"
     ]
    }
   ],
   "source": [
    "LSTM_History = LSTM_Model.fit(X_train,y_train,epochs=100,batch_size = 50,validation_data=(X_valid,y_valid),shuffle=False, \n",
    "                    verbose = 2)"
   ]
  },
  {
   "cell_type": "markdown",
   "id": "faf4ba73",
   "metadata": {},
   "source": [
    "## Make Predictions"
   ]
  },
  {
   "cell_type": "code",
   "execution_count": 23,
   "id": "a1de18c6",
   "metadata": {},
   "outputs": [],
   "source": [
    "RNN_Predictions = RNN_Model.predict(X_test)\n",
    "LSTM_predictions = LSTM_Model.predict(X_test)"
   ]
  },
  {
   "cell_type": "markdown",
   "id": "c4439bc0",
   "metadata": {},
   "source": [
    "## Inverse Transform the Values"
   ]
  },
  {
   "cell_type": "code",
   "execution_count": 24,
   "id": "e5a0787e",
   "metadata": {},
   "outputs": [],
   "source": [
    "RNN_act_prd = std_scalar.inverse_transform(RNN_Predictions)\n",
    "LSTM_act_prd = std_scalar.inverse_transform(LSTM_predictions)"
   ]
  },
  {
   "cell_type": "markdown",
   "id": "1351476f",
   "metadata": {},
   "source": [
    "## Evalation Metrics (RMSE and MAE)"
   ]
  },
  {
   "cell_type": "code",
   "execution_count": 25,
   "id": "22ee211a",
   "metadata": {},
   "outputs": [
    {
     "name": "stdout",
     "output_type": "stream",
     "text": [
      "### RNN Model ###\n",
      "RMSE 6.4697278074282405\n",
      "MAE 5.187774324677681\n"
     ]
    }
   ],
   "source": [
    "print(\"### RNN Model ###\")\n",
    "Y_test_res_RNN = std_scalar.inverse_transform(y_test)\n",
    "pre_RNN = RNN_act_prd[:,:1]\n",
    "\n",
    "rmse=np.sqrt(np.mean(((pre_RNN- Y_test_res_RNN)**2)))\n",
    "print(f\"RMSE {rmse}\"  )\n",
    "\n",
    "print(f\"MAE {mean_absolute_error(Y_test_res_RNN, pre_RNN)}\")"
   ]
  },
  {
   "cell_type": "code",
   "execution_count": 26,
   "id": "21b80903",
   "metadata": {},
   "outputs": [
    {
     "name": "stdout",
     "output_type": "stream",
     "text": [
      "### LSTM Model ###\n",
      "RMSE 5.652457303598954\n",
      "MAE 3.958984041474556\n"
     ]
    }
   ],
   "source": [
    "print(\"### LSTM Model ###\")\n",
    "Y_test_res_LSTM = std_scalar.inverse_transform(y_test)\n",
    "pre_LSTM = LSTM_act_prd[:,:1]\n",
    "\n",
    "rmse=np.sqrt(np.mean(((pre_LSTM- Y_test_res_LSTM)**2)))\n",
    "print(f\"RMSE {rmse}\"  )\n",
    "\n",
    "print(f\"MAE {mean_absolute_error(Y_test_res_LSTM, pre_LSTM)}\")"
   ]
  },
  {
   "cell_type": "code",
   "execution_count": 27,
   "id": "5e5e8c5e",
   "metadata": {},
   "outputs": [
    {
     "data": {
      "image/png": "[encoded data removed]",
      "text/plain": [
       "<Figure size 432x288 with 1 Axes>"
      ]
     },
     "metadata": {
      "needs_background": "light"
     },
     "output_type": "display_data"
    }
   ],
   "source": [
    "plot =pd.DataFrame()\n",
    "plot[\"pred\"]=list(map(float, pre_LSTM))\n",
    "plot[\"real\"]=list(map(float, Y_test_res_LSTM))\n",
    "plot[\"date\"]=X_test_split.index[:-steps]\n",
    "plot.plot(kind=\"line\", x=\"date\", title=\"Plot curve of predicted and actual close prices using LSTM\")\n",
    "plt.show()"
   ]
  },
  {
   "cell_type": "code",
   "execution_count": 28,
   "id": "16738d2b",
   "metadata": {},
   "outputs": [
    {
     "data": {
      "image/png": "[encoded data removed]",
      "text/plain": [
       "<Figure size 432x288 with 1 Axes>"
      ]
     },
     "metadata": {
      "needs_background": "light"
     },
     "output_type": "display_data"
    }
   ],
   "source": [
    "plot =pd.DataFrame()\n",
    "plot[\"pred\"]=list(map(float, pre_RNN))\n",
    "plot[\"real\"]=list(map(float, Y_test_res_RNN))\n",
    "plot[\"date\"]=X_test_split.index[:-steps]\n",
    "plot.plot(kind=\"line\", x=\"date\", title=\"Plot curve of predicted and actual close prices using RNN\")\n",
    "plt.show()"
   ]
  },
  {
   "cell_type": "code",
   "execution_count": 29,
   "id": "6a9be8ed",
   "metadata": {},
   "outputs": [
    {
     "data": {
      "image/png": "[encoded data removed]",
      "text/plain": [
       "<Figure size 432x288 with 1 Axes>"
      ]
     },
     "metadata": {
      "needs_background": "light"
     },
     "output_type": "display_data"
    }
   ],
   "source": [
    "plt.plot(LSTM_History.history['loss'])\n",
    "plt.plot(LSTM_History.history['val_loss'])\n",
    "plt.title('Model Loss LSTM')\n",
    "plt.ylabel('Loss')\n",
    "plt.xlabel('Epochs')\n",
    "plt.legend(['Train', 'Validation'], loc='upper right')\n",
    "plt.show()"
   ]
  },
  {
   "cell_type": "code",
   "execution_count": 30,
   "id": "57b535a4",
   "metadata": {},
   "outputs": [
    {
     "data": {
      "image/png": "[encoded data removed]",
      "text/plain": [
       "<Figure size 432x288 with 1 Axes>"
      ]
     },
     "metadata": {
      "needs_background": "light"
     },
     "output_type": "display_data"
    }
   ],
   "source": [
    "plt.plot(RNN_History.history['loss'])\n",
    "plt.plot(RNN_History.history['val_loss'])\n",
    "plt.title('Model Loss RNN')\n",
    "plt.ylabel('Loss')\n",
    "plt.xlabel('Epoch')\n",
    "plt.legend(['Train', 'Validation'], loc='upper right')\n",
    "plt.show()"
   ]
  },
  {
   "cell_type": "code",
   "execution_count": 31,
   "id": "d301aca8",
   "metadata": {},
   "outputs": [
    {
     "data": {
      "image/png": "[encoded data removed]",
      "text/plain": [
       "<Figure size 432x288 with 1 Axes>"
      ]
     },
     "metadata": {
      "needs_background": "light"
     },
     "output_type": "display_data"
    }
   ],
   "source": [
    "plt.plot(LSTM_History.history['mae'])\n",
    "plt.plot(LSTM_History.history['val_mae'])\n",
    "plt.title('Model MAE  LSTM')\n",
    "plt.ylabel('MAE')\n",
    "plt.xlabel('Epochs')\n",
    "plt.legend(['Train', 'validation'], loc='upper right')\n",
    "plt.show()"
   ]
  },
  {
   "cell_type": "code",
   "execution_count": 32,
   "id": "54c98c45",
   "metadata": {},
   "outputs": [
    {
     "data": {
      "image/png": "[encoded data removed]",
      "text/plain": [
       "<Figure size 432x288 with 1 Axes>"
      ]
     },
     "metadata": {
      "needs_background": "light"
     },
     "output_type": "display_data"
    }
   ],
   "source": [
    "plt.plot(RNN_History.history['mae'])\n",
    "plt.plot(RNN_History.history['val_mae'])\n",
    "plt.title('Model MAE RNN')\n",
    "plt.ylabel('MAE')\n",
    "plt.xlabel('Epochs')\n",
    "plt.legend(['Train', 'Validation'], loc='upper left')\n",
    "plt.show()"
   ]
  },
  {
   "cell_type": "markdown",
   "id": "1da1e317",
   "metadata": {},
   "source": [
    "## Conclusion\n",
    "\n",
    "1. For LBBL Bank LSTM and RNN Models used for Stock Price Prediction\n",
    "2. The Error is Low for LSTM Model"
   ]
  },
  {
   "cell_type": "code",
   "execution_count": null,
   "id": "37ba217a",
   "metadata": {},
   "outputs": [],
   "source": []
  }
 ],
 "metadata": {
  "kernelspec": {
   "display_name": "Python 3 (ipykernel)",
   "language": "python",
   "name": "python3"
  },
  "language_info": {
   "codemirror_mode": {
    "name": "ipython",
    "version": 3
   },
   "file_extension": ".py",
   "mimetype": "text/x-python",
   "name": "python",
   "nbconvert_exporter": "python",
   "pygments_lexer": "ipython3",
   "version": "3.8.10"
  }
 },
 "nbformat": 4,
 "nbformat_minor": 5
}
