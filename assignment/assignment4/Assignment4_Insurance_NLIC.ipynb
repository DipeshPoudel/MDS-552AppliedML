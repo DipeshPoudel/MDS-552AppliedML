{
 "cells": [
  {
   "cell_type": "markdown",
   "id": "14bc04ea",
   "metadata": {},
   "source": [
    "# Stock Price Prediction of NLIC"
   ]
  },
  {
   "cell_type": "markdown",
   "id": "ef2a8339",
   "metadata": {},
   "source": [
    "## Import the Required Libraries"
   ]
  },
  {
   "cell_type": "code",
   "execution_count": 1,
   "id": "f78cccc9",
   "metadata": {},
   "outputs": [],
   "source": [
    "import warnings\n",
    "warnings.filterwarnings('ignore')"
   ]
  },
  {
   "cell_type": "code",
   "execution_count": 2,
   "id": "53ea5d1b",
   "metadata": {},
   "outputs": [
    {
     "name": "stderr",
     "output_type": "stream",
     "text": [
      "2022-07-30 05:03:22.853369: W tensorflow/stream_executor/platform/default/dso_loader.cc:64] Could not load dynamic library 'libcudart.so.11.0'; dlerror: libcudart.so.11.0: cannot open shared object file: No such file or directory\n",
      "2022-07-30 05:03:22.853401: I tensorflow/stream_executor/cuda/cudart_stub.cc:29] Ignore above cudart dlerror if you do not have a GPU set up on your machine.\n"
     ]
    }
   ],
   "source": [
    "import pandas as pd\n",
    "from keras import Sequential\n",
    "from keras.layers import GRU, LSTM, SimpleRNN,  Dense, Dropout\n",
    "from sklearn.model_selection import train_test_split\n",
    "import numpy as np\n",
    "from sklearn.metrics import accuracy_score, mean_absolute_error, mean_squared_error\n",
    "from sklearn.preprocessing import StandardScaler\n",
    "import matplotlib.pyplot as plt"
   ]
  },
  {
   "cell_type": "markdown",
   "id": "317f76e1",
   "metadata": {},
   "source": [
    "## Load Data"
   ]
  },
  {
   "cell_type": "code",
   "execution_count": 3,
   "id": "410d3020",
   "metadata": {},
   "outputs": [
    {
     "data": {
      "text/plain": [
       "(2361, 8)"
      ]
     },
     "execution_count": 3,
     "metadata": {},
     "output_type": "execute_result"
    }
   ],
   "source": [
    "nlic_df = pd.read_csv(\"data/NLIC.csv\")\n",
    "nlic_df.shape"
   ]
  },
  {
   "cell_type": "code",
   "execution_count": 4,
   "id": "27463371",
   "metadata": {},
   "outputs": [
    {
     "data": {
      "text/html": [
       "<div>\n",
       "<style scoped>\n",
       "    .dataframe tbody tr th:only-of-type {\n",
       "        vertical-align: middle;\n",
       "    }\n",
       "\n",
       "    .dataframe tbody tr th {\n",
       "        vertical-align: top;\n",
       "    }\n",
       "\n",
       "    .dataframe thead th {\n",
       "        text-align: right;\n",
       "    }\n",
       "</style>\n",
       "<table border=\"1\" class=\"dataframe\">\n",
       "  <thead>\n",
       "    <tr style=\"text-align: right;\">\n",
       "      <th></th>\n",
       "      <th>S.N.</th>\n",
       "      <th>Date</th>\n",
       "      <th>Total Transactions</th>\n",
       "      <th>Total Traded Shares</th>\n",
       "      <th>Total Traded Amount</th>\n",
       "      <th>Max. Price</th>\n",
       "      <th>Min. Price</th>\n",
       "      <th>Close Price</th>\n",
       "    </tr>\n",
       "  </thead>\n",
       "  <tbody>\n",
       "    <tr>\n",
       "      <th>0</th>\n",
       "      <td>1</td>\n",
       "      <td>2021-12-29</td>\n",
       "      <td>617</td>\n",
       "      <td>34091.0</td>\n",
       "      <td>51845988.9</td>\n",
       "      <td>1550.0</td>\n",
       "      <td>1505.0</td>\n",
       "      <td>1510.0</td>\n",
       "    </tr>\n",
       "    <tr>\n",
       "      <th>1</th>\n",
       "      <td>2</td>\n",
       "      <td>2021-12-28</td>\n",
       "      <td>1009</td>\n",
       "      <td>64705.0</td>\n",
       "      <td>99059083.3</td>\n",
       "      <td>1570.0</td>\n",
       "      <td>1490.0</td>\n",
       "      <td>1535.0</td>\n",
       "    </tr>\n",
       "    <tr>\n",
       "      <th>2</th>\n",
       "      <td>3</td>\n",
       "      <td>2021-12-27</td>\n",
       "      <td>2842</td>\n",
       "      <td>156993.0</td>\n",
       "      <td>249797913.1</td>\n",
       "      <td>1652.0</td>\n",
       "      <td>1530.0</td>\n",
       "      <td>1540.0</td>\n",
       "    </tr>\n",
       "    <tr>\n",
       "      <th>3</th>\n",
       "      <td>4</td>\n",
       "      <td>2021-12-26</td>\n",
       "      <td>1765</td>\n",
       "      <td>125395.0</td>\n",
       "      <td>190751050.3</td>\n",
       "      <td>1533.4</td>\n",
       "      <td>1420.0</td>\n",
       "      <td>1533.0</td>\n",
       "    </tr>\n",
       "    <tr>\n",
       "      <th>4</th>\n",
       "      <td>5</td>\n",
       "      <td>2021-12-23</td>\n",
       "      <td>645</td>\n",
       "      <td>38404.0</td>\n",
       "      <td>53584721.2</td>\n",
       "      <td>1412.7</td>\n",
       "      <td>1375.0</td>\n",
       "      <td>1394.0</td>\n",
       "    </tr>\n",
       "  </tbody>\n",
       "</table>\n",
       "</div>"
      ],
      "text/plain": [
       "   S.N.        Date  Total Transactions  Total Traded Shares  \\\n",
       "0     1  2021-12-29                 617              34091.0   \n",
       "1     2  2021-12-28                1009              64705.0   \n",
       "2     3  2021-12-27                2842             156993.0   \n",
       "3     4  2021-12-26                1765             125395.0   \n",
       "4     5  2021-12-23                 645              38404.0   \n",
       "\n",
       "   Total Traded Amount  Max. Price  Min. Price  Close Price  \n",
       "0           51845988.9      1550.0      1505.0       1510.0  \n",
       "1           99059083.3      1570.0      1490.0       1535.0  \n",
       "2          249797913.1      1652.0      1530.0       1540.0  \n",
       "3          190751050.3      1533.4      1420.0       1533.0  \n",
       "4           53584721.2      1412.7      1375.0       1394.0  "
      ]
     },
     "execution_count": 4,
     "metadata": {},
     "output_type": "execute_result"
    }
   ],
   "source": [
    "nlic_df.head()"
   ]
  },
  {
   "cell_type": "markdown",
   "id": "a36bd916",
   "metadata": {},
   "source": [
    "## Renaming the Columns "
   ]
  },
  {
   "cell_type": "code",
   "execution_count": 5,
   "id": "e003d377",
   "metadata": {},
   "outputs": [],
   "source": [
    "nlic_df.columns = ['SN', 'Date', 'TTrans', 'TTS','TTA', 'MaxPrice', 'MinPrice', 'ClosePrice']"
   ]
  },
  {
   "cell_type": "code",
   "execution_count": 6,
   "id": "5757c133",
   "metadata": {},
   "outputs": [
    {
     "data": {
      "text/html": [
       "<div>\n",
       "<style scoped>\n",
       "    .dataframe tbody tr th:only-of-type {\n",
       "        vertical-align: middle;\n",
       "    }\n",
       "\n",
       "    .dataframe tbody tr th {\n",
       "        vertical-align: top;\n",
       "    }\n",
       "\n",
       "    .dataframe thead th {\n",
       "        text-align: right;\n",
       "    }\n",
       "</style>\n",
       "<table border=\"1\" class=\"dataframe\">\n",
       "  <thead>\n",
       "    <tr style=\"text-align: right;\">\n",
       "      <th></th>\n",
       "      <th>SN</th>\n",
       "      <th>Date</th>\n",
       "      <th>TTrans</th>\n",
       "      <th>TTS</th>\n",
       "      <th>TTA</th>\n",
       "      <th>MaxPrice</th>\n",
       "      <th>MinPrice</th>\n",
       "      <th>ClosePrice</th>\n",
       "    </tr>\n",
       "  </thead>\n",
       "  <tbody>\n",
       "    <tr>\n",
       "      <th>0</th>\n",
       "      <td>1</td>\n",
       "      <td>2021-12-29</td>\n",
       "      <td>617</td>\n",
       "      <td>34091.0</td>\n",
       "      <td>51845988.9</td>\n",
       "      <td>1550.0</td>\n",
       "      <td>1505.0</td>\n",
       "      <td>1510.0</td>\n",
       "    </tr>\n",
       "    <tr>\n",
       "      <th>1</th>\n",
       "      <td>2</td>\n",
       "      <td>2021-12-28</td>\n",
       "      <td>1009</td>\n",
       "      <td>64705.0</td>\n",
       "      <td>99059083.3</td>\n",
       "      <td>1570.0</td>\n",
       "      <td>1490.0</td>\n",
       "      <td>1535.0</td>\n",
       "    </tr>\n",
       "    <tr>\n",
       "      <th>2</th>\n",
       "      <td>3</td>\n",
       "      <td>2021-12-27</td>\n",
       "      <td>2842</td>\n",
       "      <td>156993.0</td>\n",
       "      <td>249797913.1</td>\n",
       "      <td>1652.0</td>\n",
       "      <td>1530.0</td>\n",
       "      <td>1540.0</td>\n",
       "    </tr>\n",
       "    <tr>\n",
       "      <th>3</th>\n",
       "      <td>4</td>\n",
       "      <td>2021-12-26</td>\n",
       "      <td>1765</td>\n",
       "      <td>125395.0</td>\n",
       "      <td>190751050.3</td>\n",
       "      <td>1533.4</td>\n",
       "      <td>1420.0</td>\n",
       "      <td>1533.0</td>\n",
       "    </tr>\n",
       "    <tr>\n",
       "      <th>4</th>\n",
       "      <td>5</td>\n",
       "      <td>2021-12-23</td>\n",
       "      <td>645</td>\n",
       "      <td>38404.0</td>\n",
       "      <td>53584721.2</td>\n",
       "      <td>1412.7</td>\n",
       "      <td>1375.0</td>\n",
       "      <td>1394.0</td>\n",
       "    </tr>\n",
       "  </tbody>\n",
       "</table>\n",
       "</div>"
      ],
      "text/plain": [
       "   SN        Date  TTrans       TTS          TTA  MaxPrice  MinPrice  \\\n",
       "0   1  2021-12-29     617   34091.0   51845988.9    1550.0    1505.0   \n",
       "1   2  2021-12-28    1009   64705.0   99059083.3    1570.0    1490.0   \n",
       "2   3  2021-12-27    2842  156993.0  249797913.1    1652.0    1530.0   \n",
       "3   4  2021-12-26    1765  125395.0  190751050.3    1533.4    1420.0   \n",
       "4   5  2021-12-23     645   38404.0   53584721.2    1412.7    1375.0   \n",
       "\n",
       "   ClosePrice  \n",
       "0      1510.0  \n",
       "1      1535.0  \n",
       "2      1540.0  \n",
       "3      1533.0  \n",
       "4      1394.0  "
      ]
     },
     "execution_count": 6,
     "metadata": {},
     "output_type": "execute_result"
    }
   ],
   "source": [
    "nlic_df.head()"
   ]
  },
  {
   "cell_type": "code",
   "execution_count": 7,
   "id": "3849eeae",
   "metadata": {},
   "outputs": [
    {
     "data": {
      "text/plain": [
       "(2361, 8)"
      ]
     },
     "execution_count": 7,
     "metadata": {},
     "output_type": "execute_result"
    }
   ],
   "source": [
    "nlic_df.shape"
   ]
  },
  {
   "cell_type": "markdown",
   "id": "61f334f5",
   "metadata": {},
   "source": [
    "Converting the Date into Panda's Date Time "
   ]
  },
  {
   "cell_type": "code",
   "execution_count": 9,
   "id": "4d4ab0fe",
   "metadata": {},
   "outputs": [],
   "source": [
    "nlic_df['Date'] = pd.to_datetime(nlic_df['Date'])"
   ]
  },
  {
   "cell_type": "markdown",
   "id": "762decf1",
   "metadata": {},
   "source": [
    "## Sorting the Date by Date in Ascending Order"
   ]
  },
  {
   "cell_type": "code",
   "execution_count": 13,
   "id": "e824faea",
   "metadata": {},
   "outputs": [],
   "source": [
    "nlic_df=nlic_df.sort_values(by='Date')"
   ]
  },
  {
   "cell_type": "markdown",
   "id": "5fb2f0b6",
   "metadata": {},
   "source": [
    "## Setting Features and Target Column"
   ]
  },
  {
   "cell_type": "code",
   "execution_count": 14,
   "id": "55bbed92",
   "metadata": {},
   "outputs": [],
   "source": [
    "features = ['Date','ClosePrice']"
   ]
  },
  {
   "cell_type": "code",
   "execution_count": 15,
   "id": "0ed38d97",
   "metadata": {},
   "outputs": [],
   "source": [
    "X = nlic_df[features]"
   ]
  },
  {
   "cell_type": "code",
   "execution_count": 16,
   "id": "0a6a9209",
   "metadata": {},
   "outputs": [],
   "source": [
    "X.set_index(\"Date\",inplace=True)"
   ]
  },
  {
   "cell_type": "markdown",
   "id": "0ec8ce87",
   "metadata": {},
   "source": [
    "## Splitting the Data Into Training, Validation and Test Set"
   ]
  },
  {
   "cell_type": "code",
   "execution_count": 17,
   "id": "9ef9afa9",
   "metadata": {},
   "outputs": [],
   "source": [
    "X_train_split, X_test_split = train_test_split(X, train_size=0.8,shuffle=False)\n",
    "X_test_split, X_valid_split = train_test_split(X_test_split, train_size=0.5,shuffle=False)"
   ]
  },
  {
   "cell_type": "markdown",
   "id": "db993070",
   "metadata": {},
   "source": [
    "## Fucntion to slice data to Predict next day’s closing price by looking into previous 5 day’s data"
   ]
  },
  {
   "cell_type": "code",
   "execution_count": 18,
   "id": "3ee0db51",
   "metadata": {},
   "outputs": [],
   "source": [
    "def SliceData(data,step):     \n",
    "    X,Y = [],[]\n",
    "    for i in range(len(data)-step):\n",
    "        X.append(data[i:(i+step),])\n",
    "        Y.append(data[(i+step),])\n",
    "    return np.array(X),np.array(Y)"
   ]
  },
  {
   "cell_type": "markdown",
   "id": "4f35f138",
   "metadata": {},
   "source": [
    "## Normalizing the Data Using Standard Scalar"
   ]
  },
  {
   "cell_type": "code",
   "execution_count": 19,
   "id": "d25228e5",
   "metadata": {},
   "outputs": [],
   "source": [
    "std_scalar = StandardScaler()\n",
    "X_train = std_scalar.fit_transform(X_train_split)\n",
    "X_valid = std_scalar.fit_transform(X_valid_split)\n",
    "X_test = std_scalar.fit_transform(X_test_split)"
   ]
  },
  {
   "cell_type": "markdown",
   "id": "698f3a82",
   "metadata": {},
   "source": [
    "## Getting the Sliced Data"
   ]
  },
  {
   "cell_type": "code",
   "execution_count": 20,
   "id": "1d24bd2d",
   "metadata": {},
   "outputs": [],
   "source": [
    "steps = 5\n",
    "X_train,y_train = SliceData(X_train,steps)\n",
    "X_test,y_test = SliceData(X_test,steps)\n",
    "X_valid,y_valid = SliceData(X_valid,steps)"
   ]
  },
  {
   "cell_type": "markdown",
   "id": "c1ffb863",
   "metadata": {},
   "source": [
    "## Building the RNN Model"
   ]
  },
  {
   "cell_type": "code",
   "execution_count": 21,
   "id": "cbc27e96",
   "metadata": {},
   "outputs": [
    {
     "name": "stderr",
     "output_type": "stream",
     "text": [
      "2022-07-30 05:03:47.508580: W tensorflow/stream_executor/platform/default/dso_loader.cc:64] Could not load dynamic library 'libcuda.so.1'; dlerror: libcuda.so.1: cannot open shared object file: No such file or directory\n",
      "2022-07-30 05:03:47.508629: W tensorflow/stream_executor/cuda/cuda_driver.cc:269] failed call to cuInit: UNKNOWN ERROR (303)\n",
      "2022-07-30 05:03:47.508674: I tensorflow/stream_executor/cuda/cuda_diagnostics.cc:156] kernel driver does not appear to be running on this host (xenon-Inspiron-3442): /proc/driver/nvidia/version does not exist\n",
      "2022-07-30 05:03:47.509017: I tensorflow/core/platform/cpu_feature_guard.cc:151] This TensorFlow binary is optimized with oneAPI Deep Neural Network Library (oneDNN) to use the following CPU instructions in performance-critical operations:  AVX2 FMA\n",
      "To enable them in other operations, rebuild TensorFlow with the appropriate compiler flags.\n"
     ]
    }
   ],
   "source": [
    "RNN_Model = Sequential()\n",
    "RNN_Model.add(SimpleRNN(50,input_shape=(steps,1),return_sequences=True ))\n",
    "RNN_Model.add(Dropout(0.5))\n",
    "RNN_Model.add(SimpleRNN(50))\n",
    "RNN_Model.add(Dropout(0.5))\n",
    "RNN_Model.add(Dense(50))\n",
    "RNN_Model.compile(optimizer='adam',loss='mean_squared_error', metrics=['mae'])"
   ]
  },
  {
   "cell_type": "code",
   "execution_count": 22,
   "id": "b711f875",
   "metadata": {},
   "outputs": [
    {
     "name": "stdout",
     "output_type": "stream",
     "text": [
      "Model: \"sequential\"\n",
      "_________________________________________________________________\n",
      " Layer (type)                Output Shape              Param #   \n",
      "=================================================================\n",
      " simple_rnn (SimpleRNN)      (None, 5, 50)             2600      \n",
      "                                                                 \n",
      " dropout (Dropout)           (None, 5, 50)             0         \n",
      "                                                                 \n",
      " simple_rnn_1 (SimpleRNN)    (None, 50)                5050      \n",
      "                                                                 \n",
      " dropout_1 (Dropout)         (None, 50)                0         \n",
      "                                                                 \n",
      " dense (Dense)               (None, 50)                2550      \n",
      "                                                                 \n",
      "=================================================================\n",
      "Total params: 10,200\n",
      "Trainable params: 10,200\n",
      "Non-trainable params: 0\n",
      "_________________________________________________________________\n"
     ]
    }
   ],
   "source": [
    "RNN_Model.summary()"
   ]
  },
  {
   "cell_type": "markdown",
   "id": "c57b2d0b",
   "metadata": {},
   "source": [
    "## Building LSTM Model"
   ]
  },
  {
   "cell_type": "code",
   "execution_count": 23,
   "id": "45454efa",
   "metadata": {},
   "outputs": [],
   "source": [
    "LSTM_Model = Sequential()\n",
    "LSTM_Model.add(LSTM(50,input_shape=(steps,1),return_sequences=True ))\n",
    "LSTM_Model.add(Dropout(0.5))\n",
    "LSTM_Model.add(LSTM(50))\n",
    "LSTM_Model.add(Dropout(0.5))\n",
    "LSTM_Model.add(Dense(50))\n",
    "LSTM_Model.compile(optimizer='adam',loss='mean_squared_error', metrics=['mae'])"
   ]
  },
  {
   "cell_type": "code",
   "execution_count": 24,
   "id": "104b1232",
   "metadata": {},
   "outputs": [
    {
     "name": "stdout",
     "output_type": "stream",
     "text": [
      "Model: \"sequential_1\"\n",
      "_________________________________________________________________\n",
      " Layer (type)                Output Shape              Param #   \n",
      "=================================================================\n",
      " lstm (LSTM)                 (None, 5, 50)             10400     \n",
      "                                                                 \n",
      " dropout_2 (Dropout)         (None, 5, 50)             0         \n",
      "                                                                 \n",
      " lstm_1 (LSTM)               (None, 50)                20200     \n",
      "                                                                 \n",
      " dropout_3 (Dropout)         (None, 50)                0         \n",
      "                                                                 \n",
      " dense_1 (Dense)             (None, 50)                2550      \n",
      "                                                                 \n",
      "=================================================================\n",
      "Total params: 33,150\n",
      "Trainable params: 33,150\n",
      "Non-trainable params: 0\n",
      "_________________________________________________________________\n"
     ]
    }
   ],
   "source": [
    "LSTM_Model.summary()"
   ]
  },
  {
   "cell_type": "markdown",
   "id": "0bf04f72",
   "metadata": {},
   "source": [
    "## Fitting the RNN Model"
   ]
  },
  {
   "cell_type": "code",
   "execution_count": 25,
   "id": "7d6c1562",
   "metadata": {},
   "outputs": [
    {
     "name": "stdout",
     "output_type": "stream",
     "text": [
      "Epoch 1/100\n",
      "38/38 - 2s - loss: 0.7605 - mae: 0.6460 - val_loss: 0.2494 - val_mae: 0.3208 - 2s/epoch - 60ms/step\n",
      "Epoch 2/100\n",
      "38/38 - 0s - loss: 0.3379 - mae: 0.4257 - val_loss: 0.1658 - val_mae: 0.2495 - 231ms/epoch - 6ms/step\n",
      "Epoch 3/100\n",
      "38/38 - 0s - loss: 0.2462 - mae: 0.3657 - val_loss: 0.1401 - val_mae: 0.2306 - 246ms/epoch - 6ms/step\n",
      "Epoch 4/100\n",
      "38/38 - 0s - loss: 0.1957 - mae: 0.3229 - val_loss: 0.1192 - val_mae: 0.2128 - 195ms/epoch - 5ms/step\n",
      "Epoch 5/100\n",
      "38/38 - 0s - loss: 0.1719 - mae: 0.3025 - val_loss: 0.1139 - val_mae: 0.2093 - 204ms/epoch - 5ms/step\n",
      "Epoch 6/100\n",
      "38/38 - 0s - loss: 0.1551 - mae: 0.2873 - val_loss: 0.1032 - val_mae: 0.1999 - 208ms/epoch - 5ms/step\n",
      "Epoch 7/100\n",
      "38/38 - 0s - loss: 0.1380 - mae: 0.2718 - val_loss: 0.1013 - val_mae: 0.2029 - 205ms/epoch - 5ms/step\n",
      "Epoch 8/100\n",
      "38/38 - 0s - loss: 0.1291 - mae: 0.2594 - val_loss: 0.0920 - val_mae: 0.1923 - 255ms/epoch - 7ms/step\n",
      "Epoch 9/100\n",
      "38/38 - 0s - loss: 0.1158 - mae: 0.2470 - val_loss: 0.0847 - val_mae: 0.1836 - 284ms/epoch - 7ms/step\n",
      "Epoch 10/100\n",
      "38/38 - 0s - loss: 0.1085 - mae: 0.2398 - val_loss: 0.0861 - val_mae: 0.1909 - 340ms/epoch - 9ms/step\n",
      "Epoch 11/100\n",
      "38/38 - 0s - loss: 0.1001 - mae: 0.2308 - val_loss: 0.0799 - val_mae: 0.1805 - 246ms/epoch - 6ms/step\n",
      "Epoch 12/100\n",
      "38/38 - 0s - loss: 0.0972 - mae: 0.2270 - val_loss: 0.0738 - val_mae: 0.1756 - 264ms/epoch - 7ms/step\n",
      "Epoch 13/100\n",
      "38/38 - 0s - loss: 0.0984 - mae: 0.2257 - val_loss: 0.0792 - val_mae: 0.1871 - 320ms/epoch - 8ms/step\n",
      "Epoch 14/100\n",
      "38/38 - 0s - loss: 0.0871 - mae: 0.2179 - val_loss: 0.0853 - val_mae: 0.1930 - 343ms/epoch - 9ms/step\n",
      "Epoch 15/100\n",
      "38/38 - 0s - loss: 0.0883 - mae: 0.2152 - val_loss: 0.0724 - val_mae: 0.1760 - 238ms/epoch - 6ms/step\n",
      "Epoch 16/100\n",
      "38/38 - 0s - loss: 0.0781 - mae: 0.2033 - val_loss: 0.0743 - val_mae: 0.1792 - 243ms/epoch - 6ms/step\n",
      "Epoch 17/100\n",
      "38/38 - 0s - loss: 0.0831 - mae: 0.2081 - val_loss: 0.0732 - val_mae: 0.1789 - 247ms/epoch - 7ms/step\n",
      "Epoch 18/100\n",
      "38/38 - 0s - loss: 0.0791 - mae: 0.2035 - val_loss: 0.0708 - val_mae: 0.1745 - 235ms/epoch - 6ms/step\n",
      "Epoch 19/100\n",
      "38/38 - 0s - loss: 0.0744 - mae: 0.1959 - val_loss: 0.0640 - val_mae: 0.1644 - 283ms/epoch - 7ms/step\n",
      "Epoch 20/100\n",
      "38/38 - 0s - loss: 0.0707 - mae: 0.1903 - val_loss: 0.0733 - val_mae: 0.1808 - 206ms/epoch - 5ms/step\n",
      "Epoch 21/100\n",
      "38/38 - 0s - loss: 0.0694 - mae: 0.1910 - val_loss: 0.0669 - val_mae: 0.1694 - 284ms/epoch - 7ms/step\n",
      "Epoch 22/100\n",
      "38/38 - 0s - loss: 0.0680 - mae: 0.1853 - val_loss: 0.0651 - val_mae: 0.1668 - 208ms/epoch - 5ms/step\n",
      "Epoch 23/100\n",
      "38/38 - 0s - loss: 0.0674 - mae: 0.1864 - val_loss: 0.0679 - val_mae: 0.1759 - 203ms/epoch - 5ms/step\n",
      "Epoch 24/100\n",
      "38/38 - 0s - loss: 0.0698 - mae: 0.1885 - val_loss: 0.0744 - val_mae: 0.1848 - 263ms/epoch - 7ms/step\n",
      "Epoch 25/100\n",
      "38/38 - 0s - loss: 0.0701 - mae: 0.1913 - val_loss: 0.0590 - val_mae: 0.1583 - 219ms/epoch - 6ms/step\n",
      "Epoch 26/100\n",
      "38/38 - 0s - loss: 0.0651 - mae: 0.1804 - val_loss: 0.0632 - val_mae: 0.1643 - 201ms/epoch - 5ms/step\n",
      "Epoch 27/100\n",
      "38/38 - 0s - loss: 0.0633 - mae: 0.1800 - val_loss: 0.0684 - val_mae: 0.1747 - 205ms/epoch - 5ms/step\n",
      "Epoch 28/100\n",
      "38/38 - 0s - loss: 0.0653 - mae: 0.1818 - val_loss: 0.0574 - val_mae: 0.1545 - 200ms/epoch - 5ms/step\n",
      "Epoch 29/100\n",
      "38/38 - 0s - loss: 0.0686 - mae: 0.1840 - val_loss: 0.0592 - val_mae: 0.1599 - 208ms/epoch - 5ms/step\n",
      "Epoch 30/100\n",
      "38/38 - 0s - loss: 0.0676 - mae: 0.1845 - val_loss: 0.0630 - val_mae: 0.1694 - 197ms/epoch - 5ms/step\n",
      "Epoch 31/100\n",
      "38/38 - 0s - loss: 0.0697 - mae: 0.1874 - val_loss: 0.0698 - val_mae: 0.1738 - 200ms/epoch - 5ms/step\n",
      "Epoch 32/100\n",
      "38/38 - 0s - loss: 0.0641 - mae: 0.1815 - val_loss: 0.0571 - val_mae: 0.1532 - 217ms/epoch - 6ms/step\n",
      "Epoch 33/100\n",
      "38/38 - 0s - loss: 0.0559 - mae: 0.1676 - val_loss: 0.0610 - val_mae: 0.1604 - 199ms/epoch - 5ms/step\n",
      "Epoch 34/100\n",
      "38/38 - 0s - loss: 0.0556 - mae: 0.1676 - val_loss: 0.0534 - val_mae: 0.1477 - 193ms/epoch - 5ms/step\n",
      "Epoch 35/100\n",
      "38/38 - 0s - loss: 0.0505 - mae: 0.1599 - val_loss: 0.0541 - val_mae: 0.1532 - 209ms/epoch - 5ms/step\n",
      "Epoch 36/100\n",
      "38/38 - 0s - loss: 0.0568 - mae: 0.1672 - val_loss: 0.0566 - val_mae: 0.1537 - 199ms/epoch - 5ms/step\n",
      "Epoch 37/100\n",
      "38/38 - 0s - loss: 0.0597 - mae: 0.1704 - val_loss: 0.0567 - val_mae: 0.1552 - 201ms/epoch - 5ms/step\n",
      "Epoch 38/100\n",
      "38/38 - 0s - loss: 0.0541 - mae: 0.1643 - val_loss: 0.0650 - val_mae: 0.1684 - 230ms/epoch - 6ms/step\n",
      "Epoch 39/100\n",
      "38/38 - 0s - loss: 0.0546 - mae: 0.1672 - val_loss: 0.0549 - val_mae: 0.1546 - 240ms/epoch - 6ms/step\n",
      "Epoch 40/100\n",
      "38/38 - 0s - loss: 0.0554 - mae: 0.1685 - val_loss: 0.0589 - val_mae: 0.1596 - 201ms/epoch - 5ms/step\n",
      "Epoch 41/100\n",
      "38/38 - 0s - loss: 0.0551 - mae: 0.1684 - val_loss: 0.0490 - val_mae: 0.1408 - 204ms/epoch - 5ms/step\n",
      "Epoch 42/100\n",
      "38/38 - 0s - loss: 0.0509 - mae: 0.1560 - val_loss: 0.0519 - val_mae: 0.1434 - 202ms/epoch - 5ms/step\n",
      "Epoch 43/100\n",
      "38/38 - 0s - loss: 0.0512 - mae: 0.1616 - val_loss: 0.0563 - val_mae: 0.1581 - 209ms/epoch - 6ms/step\n",
      "Epoch 44/100\n",
      "38/38 - 0s - loss: 0.0615 - mae: 0.1751 - val_loss: 0.0647 - val_mae: 0.1690 - 212ms/epoch - 6ms/step\n",
      "Epoch 45/100\n",
      "38/38 - 0s - loss: 0.0585 - mae: 0.1705 - val_loss: 0.0571 - val_mae: 0.1559 - 198ms/epoch - 5ms/step\n",
      "Epoch 46/100\n",
      "38/38 - 0s - loss: 0.0564 - mae: 0.1696 - val_loss: 0.0516 - val_mae: 0.1482 - 199ms/epoch - 5ms/step\n",
      "Epoch 47/100\n",
      "38/38 - 0s - loss: 0.0570 - mae: 0.1705 - val_loss: 0.0542 - val_mae: 0.1469 - 203ms/epoch - 5ms/step\n",
      "Epoch 48/100\n",
      "38/38 - 0s - loss: 0.0581 - mae: 0.1703 - val_loss: 0.0501 - val_mae: 0.1421 - 235ms/epoch - 6ms/step\n",
      "Epoch 49/100\n",
      "38/38 - 0s - loss: 0.0486 - mae: 0.1554 - val_loss: 0.0483 - val_mae: 0.1400 - 214ms/epoch - 6ms/step\n",
      "Epoch 50/100\n",
      "38/38 - 0s - loss: 0.0503 - mae: 0.1559 - val_loss: 0.0537 - val_mae: 0.1481 - 237ms/epoch - 6ms/step\n",
      "Epoch 51/100\n",
      "38/38 - 0s - loss: 0.0506 - mae: 0.1559 - val_loss: 0.0527 - val_mae: 0.1484 - 204ms/epoch - 5ms/step\n",
      "Epoch 52/100\n",
      "38/38 - 0s - loss: 0.0551 - mae: 0.1627 - val_loss: 0.0604 - val_mae: 0.1610 - 240ms/epoch - 6ms/step\n",
      "Epoch 53/100\n",
      "38/38 - 0s - loss: 0.0561 - mae: 0.1661 - val_loss: 0.0585 - val_mae: 0.1607 - 205ms/epoch - 5ms/step\n",
      "Epoch 54/100\n",
      "38/38 - 0s - loss: 0.0479 - mae: 0.1527 - val_loss: 0.0509 - val_mae: 0.1438 - 235ms/epoch - 6ms/step\n",
      "Epoch 55/100\n",
      "38/38 - 0s - loss: 0.0516 - mae: 0.1560 - val_loss: 0.0449 - val_mae: 0.1300 - 364ms/epoch - 10ms/step\n",
      "Epoch 56/100\n",
      "38/38 - 0s - loss: 0.0490 - mae: 0.1518 - val_loss: 0.0409 - val_mae: 0.1218 - 276ms/epoch - 7ms/step\n",
      "Epoch 57/100\n",
      "38/38 - 0s - loss: 0.0483 - mae: 0.1566 - val_loss: 0.0531 - val_mae: 0.1469 - 202ms/epoch - 5ms/step\n",
      "Epoch 58/100\n",
      "38/38 - 0s - loss: 0.0510 - mae: 0.1615 - val_loss: 0.0584 - val_mae: 0.1548 - 269ms/epoch - 7ms/step\n",
      "Epoch 59/100\n",
      "38/38 - 0s - loss: 0.0484 - mae: 0.1566 - val_loss: 0.0540 - val_mae: 0.1528 - 235ms/epoch - 6ms/step\n",
      "Epoch 60/100\n",
      "38/38 - 0s - loss: 0.0505 - mae: 0.1578 - val_loss: 0.0557 - val_mae: 0.1519 - 182ms/epoch - 5ms/step\n",
      "Epoch 61/100\n",
      "38/38 - 0s - loss: 0.0500 - mae: 0.1539 - val_loss: 0.0614 - val_mae: 0.1663 - 242ms/epoch - 6ms/step\n",
      "Epoch 62/100\n",
      "38/38 - 0s - loss: 0.0569 - mae: 0.1717 - val_loss: 0.0514 - val_mae: 0.1492 - 286ms/epoch - 8ms/step\n",
      "Epoch 63/100\n",
      "38/38 - 0s - loss: 0.0578 - mae: 0.1664 - val_loss: 0.0490 - val_mae: 0.1367 - 218ms/epoch - 6ms/step\n",
      "Epoch 64/100\n",
      "38/38 - 0s - loss: 0.0485 - mae: 0.1540 - val_loss: 0.0454 - val_mae: 0.1304 - 261ms/epoch - 7ms/step\n",
      "Epoch 65/100\n",
      "38/38 - 0s - loss: 0.0484 - mae: 0.1544 - val_loss: 0.0570 - val_mae: 0.1558 - 180ms/epoch - 5ms/step\n",
      "Epoch 66/100\n",
      "38/38 - 0s - loss: 0.0520 - mae: 0.1607 - val_loss: 0.0507 - val_mae: 0.1453 - 182ms/epoch - 5ms/step\n",
      "Epoch 67/100\n",
      "38/38 - 0s - loss: 0.0487 - mae: 0.1534 - val_loss: 0.0558 - val_mae: 0.1548 - 177ms/epoch - 5ms/step\n",
      "Epoch 68/100\n",
      "38/38 - 0s - loss: 0.0486 - mae: 0.1550 - val_loss: 0.0521 - val_mae: 0.1470 - 245ms/epoch - 6ms/step\n",
      "Epoch 69/100\n",
      "38/38 - 0s - loss: 0.0512 - mae: 0.1563 - val_loss: 0.0500 - val_mae: 0.1420 - 277ms/epoch - 7ms/step\n",
      "Epoch 70/100\n",
      "38/38 - 0s - loss: 0.0489 - mae: 0.1501 - val_loss: 0.0524 - val_mae: 0.1442 - 285ms/epoch - 8ms/step\n",
      "Epoch 71/100\n",
      "38/38 - 0s - loss: 0.0425 - mae: 0.1422 - val_loss: 0.0454 - val_mae: 0.1308 - 296ms/epoch - 8ms/step\n",
      "Epoch 72/100\n",
      "38/38 - 0s - loss: 0.0441 - mae: 0.1455 - val_loss: 0.0533 - val_mae: 0.1497 - 223ms/epoch - 6ms/step\n"
     ]
    },
    {
     "name": "stdout",
     "output_type": "stream",
     "text": [
      "Epoch 73/100\n",
      "38/38 - 0s - loss: 0.0559 - mae: 0.1630 - val_loss: 0.0588 - val_mae: 0.1573 - 273ms/epoch - 7ms/step\n",
      "Epoch 74/100\n",
      "38/38 - 0s - loss: 0.0483 - mae: 0.1542 - val_loss: 0.0494 - val_mae: 0.1423 - 195ms/epoch - 5ms/step\n",
      "Epoch 75/100\n",
      "38/38 - 0s - loss: 0.0524 - mae: 0.1617 - val_loss: 0.0549 - val_mae: 0.1483 - 178ms/epoch - 5ms/step\n",
      "Epoch 76/100\n",
      "38/38 - 0s - loss: 0.0486 - mae: 0.1555 - val_loss: 0.0488 - val_mae: 0.1393 - 206ms/epoch - 5ms/step\n",
      "Epoch 77/100\n",
      "38/38 - 0s - loss: 0.0511 - mae: 0.1597 - val_loss: 0.0527 - val_mae: 0.1458 - 178ms/epoch - 5ms/step\n",
      "Epoch 78/100\n",
      "38/38 - 0s - loss: 0.0541 - mae: 0.1638 - val_loss: 0.0454 - val_mae: 0.1345 - 186ms/epoch - 5ms/step\n",
      "Epoch 79/100\n",
      "38/38 - 0s - loss: 0.0508 - mae: 0.1552 - val_loss: 0.0516 - val_mae: 0.1464 - 207ms/epoch - 5ms/step\n",
      "Epoch 80/100\n",
      "38/38 - 0s - loss: 0.0507 - mae: 0.1537 - val_loss: 0.0558 - val_mae: 0.1493 - 292ms/epoch - 8ms/step\n",
      "Epoch 81/100\n",
      "38/38 - 0s - loss: 0.0484 - mae: 0.1536 - val_loss: 0.0465 - val_mae: 0.1353 - 309ms/epoch - 8ms/step\n",
      "Epoch 82/100\n",
      "38/38 - 0s - loss: 0.0491 - mae: 0.1529 - val_loss: 0.0508 - val_mae: 0.1407 - 244ms/epoch - 6ms/step\n",
      "Epoch 83/100\n",
      "38/38 - 0s - loss: 0.0498 - mae: 0.1564 - val_loss: 0.0485 - val_mae: 0.1412 - 179ms/epoch - 5ms/step\n",
      "Epoch 84/100\n",
      "38/38 - 0s - loss: 0.0531 - mae: 0.1600 - val_loss: 0.0597 - val_mae: 0.1622 - 175ms/epoch - 5ms/step\n",
      "Epoch 85/100\n",
      "38/38 - 0s - loss: 0.0556 - mae: 0.1671 - val_loss: 0.0565 - val_mae: 0.1567 - 254ms/epoch - 7ms/step\n",
      "Epoch 86/100\n",
      "38/38 - 0s - loss: 0.0463 - mae: 0.1526 - val_loss: 0.0553 - val_mae: 0.1546 - 252ms/epoch - 7ms/step\n",
      "Epoch 87/100\n",
      "38/38 - 0s - loss: 0.0446 - mae: 0.1490 - val_loss: 0.0524 - val_mae: 0.1476 - 180ms/epoch - 5ms/step\n",
      "Epoch 88/100\n",
      "38/38 - 0s - loss: 0.0445 - mae: 0.1445 - val_loss: 0.0488 - val_mae: 0.1420 - 181ms/epoch - 5ms/step\n",
      "Epoch 89/100\n",
      "38/38 - 0s - loss: 0.0440 - mae: 0.1426 - val_loss: 0.0502 - val_mae: 0.1406 - 189ms/epoch - 5ms/step\n",
      "Epoch 90/100\n",
      "38/38 - 0s - loss: 0.0491 - mae: 0.1553 - val_loss: 0.0482 - val_mae: 0.1391 - 248ms/epoch - 7ms/step\n",
      "Epoch 91/100\n",
      "38/38 - 0s - loss: 0.0494 - mae: 0.1539 - val_loss: 0.0546 - val_mae: 0.1517 - 201ms/epoch - 5ms/step\n",
      "Epoch 92/100\n",
      "38/38 - 0s - loss: 0.0502 - mae: 0.1532 - val_loss: 0.0546 - val_mae: 0.1502 - 180ms/epoch - 5ms/step\n",
      "Epoch 93/100\n",
      "38/38 - 0s - loss: 0.0454 - mae: 0.1509 - val_loss: 0.0437 - val_mae: 0.1306 - 185ms/epoch - 5ms/step\n",
      "Epoch 94/100\n",
      "38/38 - 0s - loss: 0.0451 - mae: 0.1445 - val_loss: 0.0457 - val_mae: 0.1314 - 211ms/epoch - 6ms/step\n",
      "Epoch 95/100\n",
      "38/38 - 0s - loss: 0.0483 - mae: 0.1530 - val_loss: 0.0458 - val_mae: 0.1341 - 322ms/epoch - 8ms/step\n",
      "Epoch 96/100\n",
      "38/38 - 0s - loss: 0.0515 - mae: 0.1571 - val_loss: 0.0562 - val_mae: 0.1519 - 222ms/epoch - 6ms/step\n",
      "Epoch 97/100\n",
      "38/38 - 0s - loss: 0.0499 - mae: 0.1563 - val_loss: 0.0452 - val_mae: 0.1338 - 181ms/epoch - 5ms/step\n",
      "Epoch 98/100\n",
      "38/38 - 0s - loss: 0.0505 - mae: 0.1561 - val_loss: 0.0533 - val_mae: 0.1439 - 237ms/epoch - 6ms/step\n",
      "Epoch 99/100\n",
      "38/38 - 0s - loss: 0.0461 - mae: 0.1514 - val_loss: 0.0444 - val_mae: 0.1282 - 213ms/epoch - 6ms/step\n",
      "Epoch 100/100\n",
      "38/38 - 0s - loss: 0.0401 - mae: 0.1368 - val_loss: 0.0442 - val_mae: 0.1277 - 178ms/epoch - 5ms/step\n"
     ]
    }
   ],
   "source": [
    "RNN_History = RNN_Model.fit(X_train,y_train,epochs=100,batch_size = 50,validation_data=(X_valid,y_valid),shuffle=False, \n",
    "                    verbose = 2)"
   ]
  },
  {
   "cell_type": "code",
   "execution_count": 26,
   "id": "3242dc06",
   "metadata": {},
   "outputs": [
    {
     "name": "stdout",
     "output_type": "stream",
     "text": [
      "Epoch 1/100\n",
      "38/38 - 6s - loss: 0.8425 - mae: 0.7812 - val_loss: 0.4477 - val_mae: 0.4636 - 6s/epoch - 158ms/step\n",
      "Epoch 2/100\n",
      "38/38 - 0s - loss: 0.2807 - mae: 0.3981 - val_loss: 0.1832 - val_mae: 0.2948 - 345ms/epoch - 9ms/step\n",
      "Epoch 3/100\n",
      "38/38 - 0s - loss: 0.1445 - mae: 0.2747 - val_loss: 0.1790 - val_mae: 0.2597 - 355ms/epoch - 9ms/step\n",
      "Epoch 4/100\n",
      "38/38 - 0s - loss: 0.1368 - mae: 0.2726 - val_loss: 0.1420 - val_mae: 0.2368 - 482ms/epoch - 13ms/step\n",
      "Epoch 5/100\n",
      "38/38 - 0s - loss: 0.1077 - mae: 0.2373 - val_loss: 0.1477 - val_mae: 0.2384 - 362ms/epoch - 10ms/step\n",
      "Epoch 6/100\n",
      "38/38 - 0s - loss: 0.1120 - mae: 0.2427 - val_loss: 0.1342 - val_mae: 0.2281 - 399ms/epoch - 10ms/step\n",
      "Epoch 7/100\n",
      "38/38 - 1s - loss: 0.0976 - mae: 0.2258 - val_loss: 0.1216 - val_mae: 0.2178 - 552ms/epoch - 15ms/step\n",
      "Epoch 8/100\n",
      "38/38 - 0s - loss: 0.0918 - mae: 0.2159 - val_loss: 0.1245 - val_mae: 0.2228 - 485ms/epoch - 13ms/step\n",
      "Epoch 9/100\n",
      "38/38 - 0s - loss: 0.0939 - mae: 0.2209 - val_loss: 0.1222 - val_mae: 0.2217 - 341ms/epoch - 9ms/step\n",
      "Epoch 10/100\n",
      "38/38 - 0s - loss: 0.0910 - mae: 0.2174 - val_loss: 0.1148 - val_mae: 0.2156 - 346ms/epoch - 9ms/step\n",
      "Epoch 11/100\n",
      "38/38 - 0s - loss: 0.0843 - mae: 0.2048 - val_loss: 0.1089 - val_mae: 0.2111 - 345ms/epoch - 9ms/step\n",
      "Epoch 12/100\n",
      "38/38 - 0s - loss: 0.0768 - mae: 0.1948 - val_loss: 0.1007 - val_mae: 0.2022 - 347ms/epoch - 9ms/step\n",
      "Epoch 13/100\n",
      "38/38 - 0s - loss: 0.0715 - mae: 0.1877 - val_loss: 0.0987 - val_mae: 0.2004 - 404ms/epoch - 11ms/step\n",
      "Epoch 14/100\n",
      "38/38 - 0s - loss: 0.0723 - mae: 0.1901 - val_loss: 0.0980 - val_mae: 0.2014 - 380ms/epoch - 10ms/step\n",
      "Epoch 15/100\n",
      "38/38 - 0s - loss: 0.0668 - mae: 0.1824 - val_loss: 0.0919 - val_mae: 0.1948 - 335ms/epoch - 9ms/step\n",
      "Epoch 16/100\n",
      "38/38 - 0s - loss: 0.0651 - mae: 0.1778 - val_loss: 0.0924 - val_mae: 0.1938 - 364ms/epoch - 10ms/step\n",
      "Epoch 17/100\n",
      "38/38 - 0s - loss: 0.0700 - mae: 0.1869 - val_loss: 0.0938 - val_mae: 0.1986 - 336ms/epoch - 9ms/step\n",
      "Epoch 18/100\n",
      "38/38 - 0s - loss: 0.0649 - mae: 0.1801 - val_loss: 0.0910 - val_mae: 0.1951 - 480ms/epoch - 13ms/step\n",
      "Epoch 19/100\n",
      "38/38 - 0s - loss: 0.0685 - mae: 0.1829 - val_loss: 0.0851 - val_mae: 0.1875 - 385ms/epoch - 10ms/step\n",
      "Epoch 20/100\n",
      "38/38 - 0s - loss: 0.0606 - mae: 0.1731 - val_loss: 0.0813 - val_mae: 0.1826 - 378ms/epoch - 10ms/step\n",
      "Epoch 21/100\n",
      "38/38 - 0s - loss: 0.0577 - mae: 0.1692 - val_loss: 0.0807 - val_mae: 0.1812 - 393ms/epoch - 10ms/step\n",
      "Epoch 22/100\n",
      "38/38 - 0s - loss: 0.0600 - mae: 0.1704 - val_loss: 0.0784 - val_mae: 0.1785 - 410ms/epoch - 11ms/step\n",
      "Epoch 23/100\n",
      "38/38 - 0s - loss: 0.0558 - mae: 0.1639 - val_loss: 0.0765 - val_mae: 0.1764 - 411ms/epoch - 11ms/step\n",
      "Epoch 24/100\n",
      "38/38 - 0s - loss: 0.0499 - mae: 0.1582 - val_loss: 0.0725 - val_mae: 0.1689 - 371ms/epoch - 10ms/step\n",
      "Epoch 25/100\n",
      "38/38 - 0s - loss: 0.0540 - mae: 0.1635 - val_loss: 0.0730 - val_mae: 0.1699 - 392ms/epoch - 10ms/step\n",
      "Epoch 26/100\n",
      "38/38 - 0s - loss: 0.0497 - mae: 0.1576 - val_loss: 0.0727 - val_mae: 0.1687 - 425ms/epoch - 11ms/step\n",
      "Epoch 27/100\n",
      "38/38 - 0s - loss: 0.0526 - mae: 0.1632 - val_loss: 0.0718 - val_mae: 0.1711 - 398ms/epoch - 10ms/step\n",
      "Epoch 28/100\n",
      "38/38 - 0s - loss: 0.0494 - mae: 0.1589 - val_loss: 0.0737 - val_mae: 0.1760 - 410ms/epoch - 11ms/step\n",
      "Epoch 29/100\n",
      "38/38 - 0s - loss: 0.0487 - mae: 0.1570 - val_loss: 0.0719 - val_mae: 0.1788 - 376ms/epoch - 10ms/step\n",
      "Epoch 30/100\n",
      "38/38 - 0s - loss: 0.0489 - mae: 0.1592 - val_loss: 0.0704 - val_mae: 0.1718 - 358ms/epoch - 9ms/step\n",
      "Epoch 31/100\n",
      "38/38 - 0s - loss: 0.0534 - mae: 0.1648 - val_loss: 0.0758 - val_mae: 0.1815 - 362ms/epoch - 10ms/step\n",
      "Epoch 32/100\n",
      "38/38 - 0s - loss: 0.0497 - mae: 0.1595 - val_loss: 0.0771 - val_mae: 0.1904 - 459ms/epoch - 12ms/step\n",
      "Epoch 33/100\n",
      "38/38 - 0s - loss: 0.0503 - mae: 0.1584 - val_loss: 0.0748 - val_mae: 0.1914 - 356ms/epoch - 9ms/step\n",
      "Epoch 34/100\n",
      "38/38 - 0s - loss: 0.0506 - mae: 0.1588 - val_loss: 0.0699 - val_mae: 0.1822 - 372ms/epoch - 10ms/step\n",
      "Epoch 35/100\n",
      "38/38 - 0s - loss: 0.0478 - mae: 0.1557 - val_loss: 0.0715 - val_mae: 0.1787 - 431ms/epoch - 11ms/step\n",
      "Epoch 36/100\n",
      "38/38 - 1s - loss: 0.0505 - mae: 0.1653 - val_loss: 0.0675 - val_mae: 0.1727 - 536ms/epoch - 14ms/step\n",
      "Epoch 37/100\n",
      "38/38 - 0s - loss: 0.0467 - mae: 0.1529 - val_loss: 0.0692 - val_mae: 0.1732 - 398ms/epoch - 10ms/step\n",
      "Epoch 38/100\n",
      "38/38 - 0s - loss: 0.0459 - mae: 0.1518 - val_loss: 0.0671 - val_mae: 0.1736 - 335ms/epoch - 9ms/step\n",
      "Epoch 39/100\n",
      "38/38 - 0s - loss: 0.0438 - mae: 0.1477 - val_loss: 0.0685 - val_mae: 0.1693 - 337ms/epoch - 9ms/step\n",
      "Epoch 40/100\n",
      "38/38 - 0s - loss: 0.0483 - mae: 0.1540 - val_loss: 0.0761 - val_mae: 0.1824 - 323ms/epoch - 8ms/step\n",
      "Epoch 41/100\n",
      "38/38 - 0s - loss: 0.0496 - mae: 0.1568 - val_loss: 0.0768 - val_mae: 0.1834 - 325ms/epoch - 9ms/step\n",
      "Epoch 42/100\n",
      "38/38 - 0s - loss: 0.0532 - mae: 0.1641 - val_loss: 0.0826 - val_mae: 0.1922 - 324ms/epoch - 9ms/step\n",
      "Epoch 43/100\n",
      "38/38 - 0s - loss: 0.0591 - mae: 0.1708 - val_loss: 0.0870 - val_mae: 0.1964 - 328ms/epoch - 9ms/step\n",
      "Epoch 44/100\n",
      "38/38 - 0s - loss: 0.0628 - mae: 0.1754 - val_loss: 0.0858 - val_mae: 0.1961 - 317ms/epoch - 8ms/step\n",
      "Epoch 45/100\n",
      "38/38 - 0s - loss: 0.0594 - mae: 0.1713 - val_loss: 0.0783 - val_mae: 0.1842 - 441ms/epoch - 12ms/step\n",
      "Epoch 46/100\n",
      "38/38 - 0s - loss: 0.0569 - mae: 0.1654 - val_loss: 0.0769 - val_mae: 0.1839 - 380ms/epoch - 10ms/step\n",
      "Epoch 47/100\n",
      "38/38 - 0s - loss: 0.0501 - mae: 0.1581 - val_loss: 0.0772 - val_mae: 0.1839 - 389ms/epoch - 10ms/step\n",
      "Epoch 48/100\n",
      "38/38 - 1s - loss: 0.0537 - mae: 0.1609 - val_loss: 0.0776 - val_mae: 0.1831 - 586ms/epoch - 15ms/step\n",
      "Epoch 49/100\n",
      "38/38 - 0s - loss: 0.0514 - mae: 0.1585 - val_loss: 0.0698 - val_mae: 0.1731 - 368ms/epoch - 10ms/step\n",
      "Epoch 50/100\n",
      "38/38 - 0s - loss: 0.0508 - mae: 0.1536 - val_loss: 0.0787 - val_mae: 0.1849 - 350ms/epoch - 9ms/step\n",
      "Epoch 51/100\n",
      "38/38 - 0s - loss: 0.0587 - mae: 0.1730 - val_loss: 0.0753 - val_mae: 0.1814 - 336ms/epoch - 9ms/step\n",
      "Epoch 52/100\n",
      "38/38 - 0s - loss: 0.0573 - mae: 0.1663 - val_loss: 0.0744 - val_mae: 0.1861 - 325ms/epoch - 9ms/step\n",
      "Epoch 53/100\n",
      "38/38 - 0s - loss: 0.0493 - mae: 0.1565 - val_loss: 0.0715 - val_mae: 0.1851 - 331ms/epoch - 9ms/step\n",
      "Epoch 54/100\n",
      "38/38 - 0s - loss: 0.0494 - mae: 0.1549 - val_loss: 0.0724 - val_mae: 0.1835 - 329ms/epoch - 9ms/step\n",
      "Epoch 55/100\n",
      "38/38 - 0s - loss: 0.0496 - mae: 0.1549 - val_loss: 0.0749 - val_mae: 0.1840 - 325ms/epoch - 9ms/step\n",
      "Epoch 56/100\n",
      "38/38 - 0s - loss: 0.0539 - mae: 0.1682 - val_loss: 0.0722 - val_mae: 0.1823 - 326ms/epoch - 9ms/step\n",
      "Epoch 57/100\n",
      "38/38 - 0s - loss: 0.0491 - mae: 0.1557 - val_loss: 0.0659 - val_mae: 0.1695 - 320ms/epoch - 8ms/step\n",
      "Epoch 58/100\n",
      "38/38 - 0s - loss: 0.0475 - mae: 0.1498 - val_loss: 0.0653 - val_mae: 0.1680 - 328ms/epoch - 9ms/step\n",
      "Epoch 59/100\n",
      "38/38 - 0s - loss: 0.0471 - mae: 0.1499 - val_loss: 0.0615 - val_mae: 0.1646 - 322ms/epoch - 8ms/step\n",
      "Epoch 60/100\n",
      "38/38 - 0s - loss: 0.0400 - mae: 0.1395 - val_loss: 0.0606 - val_mae: 0.1618 - 337ms/epoch - 9ms/step\n",
      "Epoch 61/100\n",
      "38/38 - 0s - loss: 0.0428 - mae: 0.1433 - val_loss: 0.0583 - val_mae: 0.1554 - 332ms/epoch - 9ms/step\n",
      "Epoch 62/100\n",
      "38/38 - 0s - loss: 0.0438 - mae: 0.1457 - val_loss: 0.0586 - val_mae: 0.1571 - 316ms/epoch - 8ms/step\n",
      "Epoch 63/100\n",
      "38/38 - 0s - loss: 0.0419 - mae: 0.1405 - val_loss: 0.0581 - val_mae: 0.1566 - 322ms/epoch - 8ms/step\n",
      "Epoch 64/100\n",
      "38/38 - 0s - loss: 0.0396 - mae: 0.1378 - val_loss: 0.0558 - val_mae: 0.1499 - 320ms/epoch - 8ms/step\n",
      "Epoch 65/100\n",
      "38/38 - 0s - loss: 0.0420 - mae: 0.1395 - val_loss: 0.0563 - val_mae: 0.1515 - 338ms/epoch - 9ms/step\n",
      "Epoch 66/100\n",
      "38/38 - 0s - loss: 0.0385 - mae: 0.1335 - val_loss: 0.0557 - val_mae: 0.1497 - 338ms/epoch - 9ms/step\n",
      "Epoch 67/100\n",
      "38/38 - 0s - loss: 0.0411 - mae: 0.1387 - val_loss: 0.0578 - val_mae: 0.1540 - 342ms/epoch - 9ms/step\n",
      "Epoch 68/100\n",
      "38/38 - 0s - loss: 0.0423 - mae: 0.1424 - val_loss: 0.0556 - val_mae: 0.1511 - 333ms/epoch - 9ms/step\n",
      "Epoch 69/100\n",
      "38/38 - 0s - loss: 0.0432 - mae: 0.1408 - val_loss: 0.0542 - val_mae: 0.1494 - 325ms/epoch - 9ms/step\n",
      "Epoch 70/100\n",
      "38/38 - 0s - loss: 0.0397 - mae: 0.1384 - val_loss: 0.0548 - val_mae: 0.1494 - 325ms/epoch - 9ms/step\n",
      "Epoch 71/100\n",
      "38/38 - 0s - loss: 0.0428 - mae: 0.1399 - val_loss: 0.0522 - val_mae: 0.1444 - 350ms/epoch - 9ms/step\n",
      "Epoch 72/100\n"
     ]
    },
    {
     "name": "stdout",
     "output_type": "stream",
     "text": [
      "38/38 - 0s - loss: 0.0395 - mae: 0.1359 - val_loss: 0.0502 - val_mae: 0.1424 - 324ms/epoch - 9ms/step\n",
      "Epoch 73/100\n",
      "38/38 - 0s - loss: 0.0380 - mae: 0.1316 - val_loss: 0.0511 - val_mae: 0.1442 - 337ms/epoch - 9ms/step\n",
      "Epoch 74/100\n",
      "38/38 - 1s - loss: 0.0387 - mae: 0.1342 - val_loss: 0.0499 - val_mae: 0.1405 - 512ms/epoch - 13ms/step\n",
      "Epoch 75/100\n",
      "38/38 - 0s - loss: 0.0365 - mae: 0.1322 - val_loss: 0.0496 - val_mae: 0.1420 - 321ms/epoch - 8ms/step\n",
      "Epoch 76/100\n",
      "38/38 - 0s - loss: 0.0365 - mae: 0.1298 - val_loss: 0.0488 - val_mae: 0.1396 - 332ms/epoch - 9ms/step\n",
      "Epoch 77/100\n",
      "38/38 - 0s - loss: 0.0401 - mae: 0.1371 - val_loss: 0.0491 - val_mae: 0.1391 - 404ms/epoch - 11ms/step\n",
      "Epoch 78/100\n",
      "38/38 - 0s - loss: 0.0385 - mae: 0.1369 - val_loss: 0.0498 - val_mae: 0.1405 - 392ms/epoch - 10ms/step\n",
      "Epoch 79/100\n",
      "38/38 - 0s - loss: 0.0419 - mae: 0.1443 - val_loss: 0.0481 - val_mae: 0.1373 - 469ms/epoch - 12ms/step\n",
      "Epoch 80/100\n",
      "38/38 - 0s - loss: 0.0371 - mae: 0.1344 - val_loss: 0.0472 - val_mae: 0.1453 - 376ms/epoch - 10ms/step\n",
      "Epoch 81/100\n",
      "38/38 - 0s - loss: 0.0390 - mae: 0.1371 - val_loss: 0.0447 - val_mae: 0.1428 - 322ms/epoch - 8ms/step\n",
      "Epoch 82/100\n",
      "38/38 - 0s - loss: 0.0420 - mae: 0.1446 - val_loss: 0.0467 - val_mae: 0.1437 - 366ms/epoch - 10ms/step\n",
      "Epoch 83/100\n",
      "38/38 - 0s - loss: 0.0404 - mae: 0.1472 - val_loss: 0.0555 - val_mae: 0.1625 - 381ms/epoch - 10ms/step\n",
      "Epoch 84/100\n",
      "38/38 - 0s - loss: 0.0440 - mae: 0.1529 - val_loss: 0.0536 - val_mae: 0.1693 - 318ms/epoch - 8ms/step\n",
      "Epoch 85/100\n",
      "38/38 - 0s - loss: 0.0431 - mae: 0.1482 - val_loss: 0.0464 - val_mae: 0.1518 - 317ms/epoch - 8ms/step\n",
      "Epoch 86/100\n",
      "38/38 - 0s - loss: 0.0395 - mae: 0.1447 - val_loss: 0.0482 - val_mae: 0.1542 - 317ms/epoch - 8ms/step\n",
      "Epoch 87/100\n",
      "38/38 - 0s - loss: 0.0373 - mae: 0.1387 - val_loss: 0.0483 - val_mae: 0.1530 - 315ms/epoch - 8ms/step\n",
      "Epoch 88/100\n",
      "38/38 - 0s - loss: 0.0407 - mae: 0.1418 - val_loss: 0.0480 - val_mae: 0.1524 - 315ms/epoch - 8ms/step\n",
      "Epoch 89/100\n",
      "38/38 - 0s - loss: 0.0399 - mae: 0.1400 - val_loss: 0.0466 - val_mae: 0.1498 - 322ms/epoch - 8ms/step\n",
      "Epoch 90/100\n",
      "38/38 - 0s - loss: 0.0425 - mae: 0.1460 - val_loss: 0.0526 - val_mae: 0.1542 - 347ms/epoch - 9ms/step\n",
      "Epoch 91/100\n",
      "38/38 - 0s - loss: 0.0421 - mae: 0.1461 - val_loss: 0.0498 - val_mae: 0.1508 - 346ms/epoch - 9ms/step\n",
      "Epoch 92/100\n",
      "38/38 - 0s - loss: 0.0423 - mae: 0.1466 - val_loss: 0.0481 - val_mae: 0.1468 - 345ms/epoch - 9ms/step\n",
      "Epoch 93/100\n",
      "38/38 - 0s - loss: 0.0409 - mae: 0.1438 - val_loss: 0.0483 - val_mae: 0.1483 - 336ms/epoch - 9ms/step\n",
      "Epoch 94/100\n",
      "38/38 - 0s - loss: 0.0389 - mae: 0.1425 - val_loss: 0.0461 - val_mae: 0.1443 - 318ms/epoch - 8ms/step\n",
      "Epoch 95/100\n",
      "38/38 - 0s - loss: 0.0401 - mae: 0.1406 - val_loss: 0.0477 - val_mae: 0.1502 - 320ms/epoch - 8ms/step\n",
      "Epoch 96/100\n",
      "38/38 - 0s - loss: 0.0395 - mae: 0.1389 - val_loss: 0.0472 - val_mae: 0.1541 - 346ms/epoch - 9ms/step\n",
      "Epoch 97/100\n",
      "38/38 - 0s - loss: 0.0384 - mae: 0.1355 - val_loss: 0.0470 - val_mae: 0.1554 - 358ms/epoch - 9ms/step\n",
      "Epoch 98/100\n",
      "38/38 - 0s - loss: 0.0391 - mae: 0.1361 - val_loss: 0.0451 - val_mae: 0.1492 - 354ms/epoch - 9ms/step\n",
      "Epoch 99/100\n",
      "38/38 - 0s - loss: 0.0382 - mae: 0.1395 - val_loss: 0.0463 - val_mae: 0.1516 - 348ms/epoch - 9ms/step\n",
      "Epoch 100/100\n",
      "38/38 - 0s - loss: 0.0393 - mae: 0.1398 - val_loss: 0.0460 - val_mae: 0.1523 - 337ms/epoch - 9ms/step\n"
     ]
    }
   ],
   "source": [
    "LSTM_History = LSTM_Model.fit(X_train,y_train,epochs=100,batch_size = 50,validation_data=(X_valid,y_valid),shuffle=False, \n",
    "                    verbose = 2)"
   ]
  },
  {
   "cell_type": "markdown",
   "id": "faf4ba73",
   "metadata": {},
   "source": [
    "## Make Predictions"
   ]
  },
  {
   "cell_type": "code",
   "execution_count": 27,
   "id": "a1de18c6",
   "metadata": {},
   "outputs": [],
   "source": [
    "RNN_Predictions = RNN_Model.predict(X_test)\n",
    "LSTM_predictions = LSTM_Model.predict(X_test)"
   ]
  },
  {
   "cell_type": "markdown",
   "id": "c4439bc0",
   "metadata": {},
   "source": [
    "## Inverse Transform the Values"
   ]
  },
  {
   "cell_type": "code",
   "execution_count": 28,
   "id": "e5a0787e",
   "metadata": {},
   "outputs": [],
   "source": [
    "RNN_act_prd = std_scalar.inverse_transform(RNN_Predictions)\n",
    "LSTM_act_prd = std_scalar.inverse_transform(LSTM_predictions)"
   ]
  },
  {
   "cell_type": "markdown",
   "id": "1351476f",
   "metadata": {},
   "source": [
    "## Evalation Metrics (RMSE and MAE)"
   ]
  },
  {
   "cell_type": "code",
   "execution_count": 29,
   "id": "22ee211a",
   "metadata": {},
   "outputs": [
    {
     "name": "stdout",
     "output_type": "stream",
     "text": [
      "### RNN Model ###\n",
      "RMSE 76.88429113784437\n",
      "MAE 46.06268971100514\n"
     ]
    }
   ],
   "source": [
    "print(\"### RNN Model ###\")\n",
    "Y_test_res_RNN = std_scalar.inverse_transform(y_test)\n",
    "pre_RNN = RNN_act_prd[:,:1]\n",
    "\n",
    "rmse=np.sqrt(np.mean(((pre_RNN- Y_test_res_RNN)**2)))\n",
    "print(f\"RMSE {rmse}\"  )\n",
    "\n",
    "print(f\"MAE {mean_absolute_error(Y_test_res_RNN, pre_RNN)}\")"
   ]
  },
  {
   "cell_type": "code",
   "execution_count": 30,
   "id": "21b80903",
   "metadata": {},
   "outputs": [
    {
     "name": "stdout",
     "output_type": "stream",
     "text": [
      "### LSTM Model ###\n",
      "RMSE 63.479235264203794\n",
      "MAE 40.0531029639306\n"
     ]
    }
   ],
   "source": [
    "print(\"### LSTM Model ###\")\n",
    "Y_test_res_LSTM = std_scalar.inverse_transform(y_test)\n",
    "pre_LSTM = LSTM_act_prd[:,:1]\n",
    "\n",
    "rmse=np.sqrt(np.mean(((pre_LSTM- Y_test_res_LSTM)**2)))\n",
    "print(f\"RMSE {rmse}\"  )\n",
    "\n",
    "print(f\"MAE {mean_absolute_error(Y_test_res_LSTM, pre_LSTM)}\")"
   ]
  },
  {
   "cell_type": "code",
   "execution_count": 31,
   "id": "5e5e8c5e",
   "metadata": {},
   "outputs": [
    {
     "data": {
      "image/png": "[encoded data removed]",
      "text/plain": [
       "<Figure size 432x288 with 1 Axes>"
      ]
     },
     "metadata": {
      "needs_background": "light"
     },
     "output_type": "display_data"
    }
   ],
   "source": [
    "plot =pd.DataFrame()\n",
    "plot[\"pred\"]=list(map(float, pre_LSTM))\n",
    "plot[\"real\"]=list(map(float, Y_test_res_LSTM))\n",
    "plot[\"date\"]=X_test_split.index[:-steps]\n",
    "plot.plot(kind=\"line\", x=\"date\", title=\"Plot curve of predicted and actual close prices using LSTM\")\n",
    "plt.show()"
   ]
  },
  {
   "cell_type": "code",
   "execution_count": 32,
   "id": "16738d2b",
   "metadata": {},
   "outputs": [
    {
     "data": {
      "image/png": "[encoded data removed]",
      "text/plain": [
       "<Figure size 432x288 with 1 Axes>"
      ]
     },
     "metadata": {
      "needs_background": "light"
     },
     "output_type": "display_data"
    }
   ],
   "source": [
    "plot =pd.DataFrame()\n",
    "plot[\"pred\"]=list(map(float, pre_RNN))\n",
    "plot[\"real\"]=list(map(float, Y_test_res_RNN))\n",
    "plot[\"date\"]=X_test_split.index[:-steps]\n",
    "plot.plot(kind=\"line\", x=\"date\", title=\"Plot curve of predicted and actual close prices using RNN\")\n",
    "plt.show()"
   ]
  },
  {
   "cell_type": "code",
   "execution_count": 33,
   "id": "6a9be8ed",
   "metadata": {},
   "outputs": [
    {
     "data": {
      "image/png": "[encoded data removed]",
      "text/plain": [
       "<Figure size 432x288 with 1 Axes>"
      ]
     },
     "metadata": {
      "needs_background": "light"
     },
     "output_type": "display_data"
    }
   ],
   "source": [
    "plt.plot(LSTM_History.history['loss'])\n",
    "plt.plot(LSTM_History.history['val_loss'])\n",
    "plt.title('Model Loss LSTM')\n",
    "plt.ylabel('Loss')\n",
    "plt.xlabel('Epochs')\n",
    "plt.legend(['Train', 'Validation'], loc='upper right')\n",
    "plt.show()"
   ]
  },
  {
   "cell_type": "code",
   "execution_count": 34,
   "id": "57b535a4",
   "metadata": {},
   "outputs": [
    {
     "data": {
      "image/png": "[encoded data removed]",
      "text/plain": [
       "<Figure size 432x288 with 1 Axes>"
      ]
     },
     "metadata": {
      "needs_background": "light"
     },
     "output_type": "display_data"
    }
   ],
   "source": [
    "plt.plot(RNN_History.history['loss'])\n",
    "plt.plot(RNN_History.history['val_loss'])\n",
    "plt.title('Model Loss RNN')\n",
    "plt.ylabel('Loss')\n",
    "plt.xlabel('Epoch')\n",
    "plt.legend(['Train', 'Validation'], loc='upper right')\n",
    "plt.show()"
   ]
  },
  {
   "cell_type": "code",
   "execution_count": 35,
   "id": "d301aca8",
   "metadata": {},
   "outputs": [
    {
     "data": {
      "image/png": "[encoded data removed]",
      "text/plain": [
       "<Figure size 432x288 with 1 Axes>"
      ]
     },
     "metadata": {
      "needs_background": "light"
     },
     "output_type": "display_data"
    }
   ],
   "source": [
    "plt.plot(LSTM_History.history['mae'])\n",
    "plt.plot(LSTM_History.history['val_mae'])\n",
    "plt.title('Model MAE  LSTM')\n",
    "plt.ylabel('MAE')\n",
    "plt.xlabel('Epochs')\n",
    "plt.legend(['Train', 'validation'], loc='upper right')\n",
    "plt.show()"
   ]
  },
  {
   "cell_type": "code",
   "execution_count": 36,
   "id": "54c98c45",
   "metadata": {},
   "outputs": [
    {
     "data": {
      "image/png": "[encoded data removed]",
      "text/plain": [
       "<Figure size 432x288 with 1 Axes>"
      ]
     },
     "metadata": {
      "needs_background": "light"
     },
     "output_type": "display_data"
    }
   ],
   "source": [
    "plt.plot(RNN_History.history['mae'])\n",
    "plt.plot(RNN_History.history['val_mae'])\n",
    "plt.title('Model MAE RNN')\n",
    "plt.ylabel('MAE')\n",
    "plt.xlabel('Epochs')\n",
    "plt.legend(['Train', 'Validation'], loc='upper left')\n",
    "plt.show()"
   ]
  },
  {
   "cell_type": "markdown",
   "id": "1da1e317",
   "metadata": {},
   "source": [
    "## Conclusion\n",
    "\n",
    "1. For NLIC LSTM and RNN Models used for Stock Price Prediction\n",
    "2. The Error is Low for LSTM Model"
   ]
  }
 ],
 "metadata": {
  "kernelspec": {
   "display_name": "Python 3 (ipykernel)",
   "language": "python",
   "name": "python3"
  },
  "language_info": {
   "codemirror_mode": {
    "name": "ipython",
    "version": 3
   },
   "file_extension": ".py",
   "mimetype": "text/x-python",
   "name": "python",
   "nbconvert_exporter": "python",
   "pygments_lexer": "ipython3",
   "version": "3.8.10"
  }
 },
 "nbformat": 4,
 "nbformat_minor": 5
}
