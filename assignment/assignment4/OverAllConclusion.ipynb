{
 "cells": [
  {
   "cell_type": "markdown",
   "id": "85eac6c8",
   "metadata": {},
   "source": [
    "# Overall Conclusion"
   ]
  },
  {
   "cell_type": "markdown",
   "id": "a210daad",
   "metadata": {},
   "source": [
    "We can see the values of RMSE and MAE for 5 diffrent companies using RNN and LSTM Model from table below. From the table we can see that RNN performed well for ADBL,NABIL and UPPER and LSTM performed well for LBLL and NLIC.  "
   ]
  },
  {
   "cell_type": "markdown",
   "id": "407fc1d7",
   "metadata": {},
   "source": [
    "\n",
    "\n",
    "| **S.N** | **Company Name** | **Model** | **RMSE** | **MAE** |\n",
    "|---------|------------------|-----------|----------|---------|\n",
    "| 1   | ADBL         | RNN   | 9.71   | 6.33  |\n",
    "| 2   | ADBL         | LSTM  | 11.51  | 7.43  |\n",
    "| 3   | LBLL         | RNN   | 6.46   | 3.95  |\n",
    "| 4   | LBLL         | LSTM  | 5.65   | 3.95  |\n",
    "| 5   | NABIL        | RNN   | 38.98  | 24.33 |\n",
    "| 6   | NABIL        | LSTM  | 46.422 | 30.29 |\n",
    "| 7   | NLIC         | RNN   | 76.88  | 46.06 |\n",
    "| 8   | NLIC         | LSTM  | 63.47  | 40.05 |\n",
    "| 9   | UPPER        | RNN   | 28.72  | 21.95 |\n",
    "| 10  | UPPER        | LSTM  | 49.72  | 39.95 |"
   ]
  }
 ],
 "metadata": {
  "kernelspec": {
   "display_name": "Python 3 (ipykernel)",
   "language": "python",
   "name": "python3"
  },
  "language_info": {
   "codemirror_mode": {
    "name": "ipython",
    "version": 3
   },
   "file_extension": ".py",
   "mimetype": "text/x-python",
   "name": "python",
   "nbconvert_exporter": "python",
   "pygments_lexer": "ipython3",
   "version": "3.8.10"
  }
 },
 "nbformat": 4,
 "nbformat_minor": 5
}
