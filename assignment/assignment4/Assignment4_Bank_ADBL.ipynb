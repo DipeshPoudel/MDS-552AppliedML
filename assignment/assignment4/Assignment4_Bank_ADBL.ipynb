{
 "cells": [
  {
   "cell_type": "markdown",
   "id": "14bc04ea",
   "metadata": {},
   "source": [
    "# Stock Price Prediction of ADBL"
   ]
  },
  {
   "cell_type": "markdown",
   "id": "ef2a8339",
   "metadata": {},
   "source": [
    "## Import the Required Libraries"
   ]
  },
  {
   "cell_type": "code",
   "execution_count": 1,
   "id": "f78cccc9",
   "metadata": {},
   "outputs": [],
   "source": [
    "import warnings\n",
    "warnings.filterwarnings('ignore')"
   ]
  },
  {
   "cell_type": "code",
   "execution_count": 2,
   "id": "53ea5d1b",
   "metadata": {},
   "outputs": [
    {
     "name": "stderr",
     "output_type": "stream",
     "text": [
      "2022-07-30 04:57:34.192669: W tensorflow/stream_executor/platform/default/dso_loader.cc:64] Could not load dynamic library 'libcudart.so.11.0'; dlerror: libcudart.so.11.0: cannot open shared object file: No such file or directory\n",
      "2022-07-30 04:57:34.192711: I tensorflow/stream_executor/cuda/cudart_stub.cc:29] Ignore above cudart dlerror if you do not have a GPU set up on your machine.\n"
     ]
    }
   ],
   "source": [
    "import pandas as pd\n",
    "from keras import Sequential\n",
    "from keras.layers import GRU, LSTM, SimpleRNN,  Dense, Dropout\n",
    "from sklearn.model_selection import train_test_split\n",
    "import numpy as np\n",
    "from sklearn.metrics import accuracy_score, mean_absolute_error, mean_squared_error\n",
    "from sklearn.preprocessing import StandardScaler\n",
    "import matplotlib.pyplot as plt"
   ]
  },
  {
   "cell_type": "markdown",
   "id": "317f76e1",
   "metadata": {},
   "source": [
    "## Load Data"
   ]
  },
  {
   "cell_type": "code",
   "execution_count": 3,
   "id": "410d3020",
   "metadata": {},
   "outputs": [
    {
     "data": {
      "text/plain": [
       "(2572, 8)"
      ]
     },
     "execution_count": 3,
     "metadata": {},
     "output_type": "execute_result"
    }
   ],
   "source": [
    "adbl_df = pd.read_csv(\"data/ADBL.csv\")\n",
    "adbl_df.shape"
   ]
  },
  {
   "cell_type": "code",
   "execution_count": 4,
   "id": "27463371",
   "metadata": {},
   "outputs": [
    {
     "data": {
      "text/html": [
       "<div>\n",
       "<style scoped>\n",
       "    .dataframe tbody tr th:only-of-type {\n",
       "        vertical-align: middle;\n",
       "    }\n",
       "\n",
       "    .dataframe tbody tr th {\n",
       "        vertical-align: top;\n",
       "    }\n",
       "\n",
       "    .dataframe thead th {\n",
       "        text-align: right;\n",
       "    }\n",
       "</style>\n",
       "<table border=\"1\" class=\"dataframe\">\n",
       "  <thead>\n",
       "    <tr style=\"text-align: right;\">\n",
       "      <th></th>\n",
       "      <th>S.N.</th>\n",
       "      <th>Date</th>\n",
       "      <th>Total Transactions</th>\n",
       "      <th>Total Traded Shares</th>\n",
       "      <th>Total Traded Amount</th>\n",
       "      <th>Max. Price</th>\n",
       "      <th>Min. Price</th>\n",
       "      <th>Close Price</th>\n",
       "    </tr>\n",
       "  </thead>\n",
       "  <tbody>\n",
       "    <tr>\n",
       "      <th>0</th>\n",
       "      <td>1</td>\n",
       "      <td>2021-12-29</td>\n",
       "      <td>1013</td>\n",
       "      <td>200533.0</td>\n",
       "      <td>98526860.8</td>\n",
       "      <td>499.0</td>\n",
       "      <td>488.0</td>\n",
       "      <td>492.0</td>\n",
       "    </tr>\n",
       "    <tr>\n",
       "      <th>1</th>\n",
       "      <td>2</td>\n",
       "      <td>2021-12-28</td>\n",
       "      <td>659</td>\n",
       "      <td>91046.0</td>\n",
       "      <td>44737396.5</td>\n",
       "      <td>498.0</td>\n",
       "      <td>488.0</td>\n",
       "      <td>494.0</td>\n",
       "    </tr>\n",
       "    <tr>\n",
       "      <th>2</th>\n",
       "      <td>3</td>\n",
       "      <td>2021-12-27</td>\n",
       "      <td>816</td>\n",
       "      <td>88858.0</td>\n",
       "      <td>44186856.3</td>\n",
       "      <td>510.0</td>\n",
       "      <td>491.0</td>\n",
       "      <td>493.0</td>\n",
       "    </tr>\n",
       "    <tr>\n",
       "      <th>3</th>\n",
       "      <td>4</td>\n",
       "      <td>2021-12-26</td>\n",
       "      <td>1002</td>\n",
       "      <td>130801.0</td>\n",
       "      <td>65306688.9</td>\n",
       "      <td>502.0</td>\n",
       "      <td>495.0</td>\n",
       "      <td>500.0</td>\n",
       "    </tr>\n",
       "    <tr>\n",
       "      <th>4</th>\n",
       "      <td>5</td>\n",
       "      <td>2021-12-23</td>\n",
       "      <td>714</td>\n",
       "      <td>77234.0</td>\n",
       "      <td>38044401.2</td>\n",
       "      <td>497.0</td>\n",
       "      <td>481.0</td>\n",
       "      <td>496.0</td>\n",
       "    </tr>\n",
       "  </tbody>\n",
       "</table>\n",
       "</div>"
      ],
      "text/plain": [
       "   S.N.        Date  Total Transactions  Total Traded Shares  \\\n",
       "0     1  2021-12-29                1013             200533.0   \n",
       "1     2  2021-12-28                 659              91046.0   \n",
       "2     3  2021-12-27                 816              88858.0   \n",
       "3     4  2021-12-26                1002             130801.0   \n",
       "4     5  2021-12-23                 714              77234.0   \n",
       "\n",
       "   Total Traded Amount  Max. Price  Min. Price  Close Price  \n",
       "0           98526860.8       499.0       488.0        492.0  \n",
       "1           44737396.5       498.0       488.0        494.0  \n",
       "2           44186856.3       510.0       491.0        493.0  \n",
       "3           65306688.9       502.0       495.0        500.0  \n",
       "4           38044401.2       497.0       481.0        496.0  "
      ]
     },
     "execution_count": 4,
     "metadata": {},
     "output_type": "execute_result"
    }
   ],
   "source": [
    "adbl_df.head()"
   ]
  },
  {
   "cell_type": "markdown",
   "id": "a36bd916",
   "metadata": {},
   "source": [
    "## Renaming the Columns "
   ]
  },
  {
   "cell_type": "code",
   "execution_count": 5,
   "id": "e003d377",
   "metadata": {},
   "outputs": [],
   "source": [
    "adbl_df.columns = ['SN', 'Date', 'TTrans', 'TTS','TTA', 'MaxPrice', 'MinPrice', 'ClosePrice']"
   ]
  },
  {
   "cell_type": "code",
   "execution_count": 6,
   "id": "5757c133",
   "metadata": {},
   "outputs": [
    {
     "data": {
      "text/html": [
       "<div>\n",
       "<style scoped>\n",
       "    .dataframe tbody tr th:only-of-type {\n",
       "        vertical-align: middle;\n",
       "    }\n",
       "\n",
       "    .dataframe tbody tr th {\n",
       "        vertical-align: top;\n",
       "    }\n",
       "\n",
       "    .dataframe thead th {\n",
       "        text-align: right;\n",
       "    }\n",
       "</style>\n",
       "<table border=\"1\" class=\"dataframe\">\n",
       "  <thead>\n",
       "    <tr style=\"text-align: right;\">\n",
       "      <th></th>\n",
       "      <th>SN</th>\n",
       "      <th>Date</th>\n",
       "      <th>TTrans</th>\n",
       "      <th>TTS</th>\n",
       "      <th>TTA</th>\n",
       "      <th>MaxPrice</th>\n",
       "      <th>MinPrice</th>\n",
       "      <th>ClosePrice</th>\n",
       "    </tr>\n",
       "  </thead>\n",
       "  <tbody>\n",
       "    <tr>\n",
       "      <th>0</th>\n",
       "      <td>1</td>\n",
       "      <td>2021-12-29</td>\n",
       "      <td>1013</td>\n",
       "      <td>200533.0</td>\n",
       "      <td>98526860.8</td>\n",
       "      <td>499.0</td>\n",
       "      <td>488.0</td>\n",
       "      <td>492.0</td>\n",
       "    </tr>\n",
       "    <tr>\n",
       "      <th>1</th>\n",
       "      <td>2</td>\n",
       "      <td>2021-12-28</td>\n",
       "      <td>659</td>\n",
       "      <td>91046.0</td>\n",
       "      <td>44737396.5</td>\n",
       "      <td>498.0</td>\n",
       "      <td>488.0</td>\n",
       "      <td>494.0</td>\n",
       "    </tr>\n",
       "    <tr>\n",
       "      <th>2</th>\n",
       "      <td>3</td>\n",
       "      <td>2021-12-27</td>\n",
       "      <td>816</td>\n",
       "      <td>88858.0</td>\n",
       "      <td>44186856.3</td>\n",
       "      <td>510.0</td>\n",
       "      <td>491.0</td>\n",
       "      <td>493.0</td>\n",
       "    </tr>\n",
       "    <tr>\n",
       "      <th>3</th>\n",
       "      <td>4</td>\n",
       "      <td>2021-12-26</td>\n",
       "      <td>1002</td>\n",
       "      <td>130801.0</td>\n",
       "      <td>65306688.9</td>\n",
       "      <td>502.0</td>\n",
       "      <td>495.0</td>\n",
       "      <td>500.0</td>\n",
       "    </tr>\n",
       "    <tr>\n",
       "      <th>4</th>\n",
       "      <td>5</td>\n",
       "      <td>2021-12-23</td>\n",
       "      <td>714</td>\n",
       "      <td>77234.0</td>\n",
       "      <td>38044401.2</td>\n",
       "      <td>497.0</td>\n",
       "      <td>481.0</td>\n",
       "      <td>496.0</td>\n",
       "    </tr>\n",
       "  </tbody>\n",
       "</table>\n",
       "</div>"
      ],
      "text/plain": [
       "   SN        Date  TTrans       TTS         TTA  MaxPrice  MinPrice  \\\n",
       "0   1  2021-12-29    1013  200533.0  98526860.8     499.0     488.0   \n",
       "1   2  2021-12-28     659   91046.0  44737396.5     498.0     488.0   \n",
       "2   3  2021-12-27     816   88858.0  44186856.3     510.0     491.0   \n",
       "3   4  2021-12-26    1002  130801.0  65306688.9     502.0     495.0   \n",
       "4   5  2021-12-23     714   77234.0  38044401.2     497.0     481.0   \n",
       "\n",
       "   ClosePrice  \n",
       "0       492.0  \n",
       "1       494.0  \n",
       "2       493.0  \n",
       "3       500.0  \n",
       "4       496.0  "
      ]
     },
     "execution_count": 6,
     "metadata": {},
     "output_type": "execute_result"
    }
   ],
   "source": [
    "adbl_df.head()"
   ]
  },
  {
   "cell_type": "code",
   "execution_count": 7,
   "id": "3849eeae",
   "metadata": {},
   "outputs": [
    {
     "data": {
      "text/plain": [
       "(2572, 8)"
      ]
     },
     "execution_count": 7,
     "metadata": {},
     "output_type": "execute_result"
    }
   ],
   "source": [
    "adbl_df.shape"
   ]
  },
  {
   "cell_type": "markdown",
   "id": "61f334f5",
   "metadata": {},
   "source": [
    "Converting the Date into Panda's Date Time "
   ]
  },
  {
   "cell_type": "code",
   "execution_count": 8,
   "id": "4d4ab0fe",
   "metadata": {},
   "outputs": [],
   "source": [
    "adbl_df['Date'] = pd.to_datetime(adbl_df['Date'])"
   ]
  },
  {
   "cell_type": "markdown",
   "id": "762decf1",
   "metadata": {},
   "source": [
    "## Sorting the Date by Date in Ascending Order"
   ]
  },
  {
   "cell_type": "code",
   "execution_count": 9,
   "id": "e824faea",
   "metadata": {},
   "outputs": [],
   "source": [
    "adbl_df=adbl_df.sort_values(by='Date')"
   ]
  },
  {
   "cell_type": "markdown",
   "id": "5fb2f0b6",
   "metadata": {},
   "source": [
    "## Setting Features and Target Column"
   ]
  },
  {
   "cell_type": "code",
   "execution_count": 10,
   "id": "55bbed92",
   "metadata": {},
   "outputs": [],
   "source": [
    "features = ['Date','ClosePrice']"
   ]
  },
  {
   "cell_type": "code",
   "execution_count": 11,
   "id": "0ed38d97",
   "metadata": {},
   "outputs": [],
   "source": [
    "X = adbl_df[features]"
   ]
  },
  {
   "cell_type": "code",
   "execution_count": 12,
   "id": "0a6a9209",
   "metadata": {},
   "outputs": [],
   "source": [
    "X.set_index(\"Date\",inplace=True)"
   ]
  },
  {
   "cell_type": "markdown",
   "id": "0ec8ce87",
   "metadata": {},
   "source": [
    "## Splitting the Data Into Training, Validation and Test Set"
   ]
  },
  {
   "cell_type": "code",
   "execution_count": 13,
   "id": "9ef9afa9",
   "metadata": {},
   "outputs": [],
   "source": [
    "X_train_split, X_test_split = train_test_split(X, train_size=0.8,shuffle=False)\n",
    "X_test_split, X_valid_split = train_test_split(X_test_split, train_size=0.5,shuffle=False)"
   ]
  },
  {
   "cell_type": "markdown",
   "id": "db993070",
   "metadata": {},
   "source": [
    "## Fucntion to slice data to Predict next day’s closing price by looking into previous 5 day’s data"
   ]
  },
  {
   "cell_type": "code",
   "execution_count": 14,
   "id": "3ee0db51",
   "metadata": {},
   "outputs": [],
   "source": [
    "def SliceData(data,step):     \n",
    "    X,Y = [],[]\n",
    "    for i in range(len(data)-step):\n",
    "        X.append(data[i:(i+step),])\n",
    "        Y.append(data[(i+step),])\n",
    "    return np.array(X),np.array(Y)"
   ]
  },
  {
   "cell_type": "markdown",
   "id": "4f35f138",
   "metadata": {},
   "source": [
    "## Normalizing the Data Using Standard Scalar"
   ]
  },
  {
   "cell_type": "code",
   "execution_count": 15,
   "id": "d25228e5",
   "metadata": {},
   "outputs": [],
   "source": [
    "std_scalar = StandardScaler()\n",
    "X_train = std_scalar.fit_transform(X_train_split)\n",
    "X_valid = std_scalar.fit_transform(X_valid_split)\n",
    "X_test = std_scalar.fit_transform(X_test_split)"
   ]
  },
  {
   "cell_type": "markdown",
   "id": "698f3a82",
   "metadata": {},
   "source": [
    "## Getting the Sliced Data"
   ]
  },
  {
   "cell_type": "code",
   "execution_count": 16,
   "id": "1d24bd2d",
   "metadata": {},
   "outputs": [],
   "source": [
    "steps = 5\n",
    "X_train,y_train = SliceData(X_train,steps)\n",
    "X_test,y_test = SliceData(X_test,steps)\n",
    "X_valid,y_valid = SliceData(X_valid,steps)"
   ]
  },
  {
   "cell_type": "markdown",
   "id": "c1ffb863",
   "metadata": {},
   "source": [
    "## Building the RNN Model"
   ]
  },
  {
   "cell_type": "code",
   "execution_count": 17,
   "id": "cbc27e96",
   "metadata": {},
   "outputs": [
    {
     "name": "stderr",
     "output_type": "stream",
     "text": [
      "2022-07-30 04:57:36.425982: W tensorflow/stream_executor/platform/default/dso_loader.cc:64] Could not load dynamic library 'libcuda.so.1'; dlerror: libcuda.so.1: cannot open shared object file: No such file or directory\n",
      "2022-07-30 04:57:36.426040: W tensorflow/stream_executor/cuda/cuda_driver.cc:269] failed call to cuInit: UNKNOWN ERROR (303)\n",
      "2022-07-30 04:57:36.426075: I tensorflow/stream_executor/cuda/cuda_diagnostics.cc:156] kernel driver does not appear to be running on this host (xenon-Inspiron-3442): /proc/driver/nvidia/version does not exist\n",
      "2022-07-30 04:57:36.426481: I tensorflow/core/platform/cpu_feature_guard.cc:151] This TensorFlow binary is optimized with oneAPI Deep Neural Network Library (oneDNN) to use the following CPU instructions in performance-critical operations:  AVX2 FMA\n",
      "To enable them in other operations, rebuild TensorFlow with the appropriate compiler flags.\n"
     ]
    }
   ],
   "source": [
    "RNN_Model = Sequential()\n",
    "RNN_Model.add(SimpleRNN(50,input_shape=(steps,1),return_sequences=True ))\n",
    "RNN_Model.add(Dropout(0.5))\n",
    "RNN_Model.add(SimpleRNN(50))\n",
    "RNN_Model.add(Dropout(0.5))\n",
    "RNN_Model.add(Dense(50))\n",
    "RNN_Model.compile(optimizer='adam',loss='mean_squared_error', metrics=['mae'])"
   ]
  },
  {
   "cell_type": "code",
   "execution_count": 18,
   "id": "b711f875",
   "metadata": {},
   "outputs": [
    {
     "name": "stdout",
     "output_type": "stream",
     "text": [
      "Model: \"sequential\"\n",
      "_________________________________________________________________\n",
      " Layer (type)                Output Shape              Param #   \n",
      "=================================================================\n",
      " simple_rnn (SimpleRNN)      (None, 5, 50)             2600      \n",
      "                                                                 \n",
      " dropout (Dropout)           (None, 5, 50)             0         \n",
      "                                                                 \n",
      " simple_rnn_1 (SimpleRNN)    (None, 50)                5050      \n",
      "                                                                 \n",
      " dropout_1 (Dropout)         (None, 50)                0         \n",
      "                                                                 \n",
      " dense (Dense)               (None, 50)                2550      \n",
      "                                                                 \n",
      "=================================================================\n",
      "Total params: 10,200\n",
      "Trainable params: 10,200\n",
      "Non-trainable params: 0\n",
      "_________________________________________________________________\n"
     ]
    }
   ],
   "source": [
    "RNN_Model.summary()"
   ]
  },
  {
   "cell_type": "markdown",
   "id": "c57b2d0b",
   "metadata": {},
   "source": [
    "## Building LSTM Model"
   ]
  },
  {
   "cell_type": "code",
   "execution_count": 19,
   "id": "45454efa",
   "metadata": {},
   "outputs": [],
   "source": [
    "LSTM_Model = Sequential()\n",
    "LSTM_Model.add(LSTM(50,input_shape=(steps,1),return_sequences=True ))\n",
    "LSTM_Model.add(Dropout(0.5))\n",
    "LSTM_Model.add(LSTM(50))\n",
    "LSTM_Model.add(Dropout(0.5))\n",
    "LSTM_Model.add(Dense(50))\n",
    "LSTM_Model.compile(optimizer='adam',loss='mean_squared_error', metrics=['mae'])"
   ]
  },
  {
   "cell_type": "code",
   "execution_count": 20,
   "id": "104b1232",
   "metadata": {},
   "outputs": [
    {
     "name": "stdout",
     "output_type": "stream",
     "text": [
      "Model: \"sequential_1\"\n",
      "_________________________________________________________________\n",
      " Layer (type)                Output Shape              Param #   \n",
      "=================================================================\n",
      " lstm (LSTM)                 (None, 5, 50)             10400     \n",
      "                                                                 \n",
      " dropout_2 (Dropout)         (None, 5, 50)             0         \n",
      "                                                                 \n",
      " lstm_1 (LSTM)               (None, 50)                20200     \n",
      "                                                                 \n",
      " dropout_3 (Dropout)         (None, 50)                0         \n",
      "                                                                 \n",
      " dense_1 (Dense)             (None, 50)                2550      \n",
      "                                                                 \n",
      "=================================================================\n",
      "Total params: 33,150\n",
      "Trainable params: 33,150\n",
      "Non-trainable params: 0\n",
      "_________________________________________________________________\n"
     ]
    }
   ],
   "source": [
    "LSTM_Model.summary()"
   ]
  },
  {
   "cell_type": "markdown",
   "id": "0bf04f72",
   "metadata": {},
   "source": [
    "## Fitting the RNN Model"
   ]
  },
  {
   "cell_type": "code",
   "execution_count": 21,
   "id": "7d6c1562",
   "metadata": {},
   "outputs": [
    {
     "name": "stdout",
     "output_type": "stream",
     "text": [
      "Epoch 1/100\n",
      "42/42 - 2s - loss: 0.8075 - mae: 0.6293 - val_loss: 0.2648 - val_mae: 0.3807 - 2s/epoch - 49ms/step\n",
      "Epoch 2/100\n",
      "42/42 - 0s - loss: 0.4086 - mae: 0.4325 - val_loss: 0.1636 - val_mae: 0.3003 - 275ms/epoch - 7ms/step\n",
      "Epoch 3/100\n",
      "42/42 - 0s - loss: 0.2826 - mae: 0.3585 - val_loss: 0.1417 - val_mae: 0.2838 - 247ms/epoch - 6ms/step\n",
      "Epoch 4/100\n",
      "42/42 - 0s - loss: 0.2341 - mae: 0.3232 - val_loss: 0.1184 - val_mae: 0.2571 - 288ms/epoch - 7ms/step\n",
      "Epoch 5/100\n",
      "42/42 - 0s - loss: 0.1906 - mae: 0.2914 - val_loss: 0.0920 - val_mae: 0.2185 - 343ms/epoch - 8ms/step\n",
      "Epoch 6/100\n",
      "42/42 - 0s - loss: 0.1630 - mae: 0.2732 - val_loss: 0.0820 - val_mae: 0.2068 - 238ms/epoch - 6ms/step\n",
      "Epoch 7/100\n",
      "42/42 - 0s - loss: 0.1471 - mae: 0.2570 - val_loss: 0.0833 - val_mae: 0.2143 - 254ms/epoch - 6ms/step\n",
      "Epoch 8/100\n",
      "42/42 - 0s - loss: 0.1337 - mae: 0.2469 - val_loss: 0.0871 - val_mae: 0.2238 - 273ms/epoch - 6ms/step\n",
      "Epoch 9/100\n",
      "42/42 - 0s - loss: 0.1184 - mae: 0.2373 - val_loss: 0.0848 - val_mae: 0.2230 - 286ms/epoch - 7ms/step\n",
      "Epoch 10/100\n",
      "42/42 - 0s - loss: 0.1112 - mae: 0.2237 - val_loss: 0.0901 - val_mae: 0.2341 - 220ms/epoch - 5ms/step\n",
      "Epoch 11/100\n",
      "42/42 - 0s - loss: 0.1120 - mae: 0.2258 - val_loss: 0.0854 - val_mae: 0.2274 - 216ms/epoch - 5ms/step\n",
      "Epoch 12/100\n",
      "42/42 - 0s - loss: 0.1056 - mae: 0.2210 - val_loss: 0.1376 - val_mae: 0.3084 - 267ms/epoch - 6ms/step\n",
      "Epoch 13/100\n",
      "42/42 - 0s - loss: 0.1112 - mae: 0.2239 - val_loss: 0.1219 - val_mae: 0.2881 - 256ms/epoch - 6ms/step\n",
      "Epoch 14/100\n",
      "42/42 - 0s - loss: 0.1011 - mae: 0.2124 - val_loss: 0.1112 - val_mae: 0.2725 - 303ms/epoch - 7ms/step\n",
      "Epoch 15/100\n",
      "42/42 - 0s - loss: 0.0975 - mae: 0.2067 - val_loss: 0.1242 - val_mae: 0.2918 - 222ms/epoch - 5ms/step\n",
      "Epoch 16/100\n",
      "42/42 - 0s - loss: 0.0995 - mae: 0.2130 - val_loss: 0.1393 - val_mae: 0.3125 - 282ms/epoch - 7ms/step\n",
      "Epoch 17/100\n",
      "42/42 - 0s - loss: 0.0974 - mae: 0.2114 - val_loss: 0.0813 - val_mae: 0.2244 - 252ms/epoch - 6ms/step\n",
      "Epoch 18/100\n",
      "42/42 - 0s - loss: 0.0821 - mae: 0.1862 - val_loss: 0.0591 - val_mae: 0.1791 - 361ms/epoch - 9ms/step\n",
      "Epoch 19/100\n",
      "42/42 - 0s - loss: 0.0785 - mae: 0.1845 - val_loss: 0.0882 - val_mae: 0.2373 - 223ms/epoch - 5ms/step\n",
      "Epoch 20/100\n",
      "42/42 - 0s - loss: 0.0779 - mae: 0.1869 - val_loss: 0.0923 - val_mae: 0.2447 - 279ms/epoch - 7ms/step\n",
      "Epoch 21/100\n",
      "42/42 - 0s - loss: 0.0725 - mae: 0.1819 - val_loss: 0.0624 - val_mae: 0.1879 - 219ms/epoch - 5ms/step\n",
      "Epoch 22/100\n",
      "42/42 - 0s - loss: 0.0697 - mae: 0.1739 - val_loss: 0.0751 - val_mae: 0.2128 - 219ms/epoch - 5ms/step\n",
      "Epoch 23/100\n",
      "42/42 - 0s - loss: 0.0654 - mae: 0.1740 - val_loss: 0.0852 - val_mae: 0.2309 - 288ms/epoch - 7ms/step\n",
      "Epoch 24/100\n",
      "42/42 - 0s - loss: 0.0768 - mae: 0.1865 - val_loss: 0.1291 - val_mae: 0.3000 - 228ms/epoch - 5ms/step\n",
      "Epoch 25/100\n",
      "42/42 - 0s - loss: 0.0789 - mae: 0.1884 - val_loss: 0.0656 - val_mae: 0.1946 - 321ms/epoch - 8ms/step\n",
      "Epoch 26/100\n",
      "42/42 - 0s - loss: 0.0724 - mae: 0.1798 - val_loss: 0.1135 - val_mae: 0.2770 - 238ms/epoch - 6ms/step\n",
      "Epoch 27/100\n",
      "42/42 - 0s - loss: 0.0723 - mae: 0.1831 - val_loss: 0.0977 - val_mae: 0.2534 - 272ms/epoch - 6ms/step\n",
      "Epoch 28/100\n",
      "42/42 - 0s - loss: 0.0719 - mae: 0.1814 - val_loss: 0.1113 - val_mae: 0.2746 - 256ms/epoch - 6ms/step\n",
      "Epoch 29/100\n",
      "42/42 - 0s - loss: 0.0672 - mae: 0.1723 - val_loss: 0.0609 - val_mae: 0.1837 - 305ms/epoch - 7ms/step\n",
      "Epoch 30/100\n",
      "42/42 - 0s - loss: 0.0649 - mae: 0.1655 - val_loss: 0.0740 - val_mae: 0.2121 - 263ms/epoch - 6ms/step\n",
      "Epoch 31/100\n",
      "42/42 - 0s - loss: 0.0617 - mae: 0.1654 - val_loss: 0.0771 - val_mae: 0.2183 - 289ms/epoch - 7ms/step\n",
      "Epoch 32/100\n",
      "42/42 - 0s - loss: 0.0676 - mae: 0.1715 - val_loss: 0.0963 - val_mae: 0.2513 - 225ms/epoch - 5ms/step\n",
      "Epoch 33/100\n",
      "42/42 - 0s - loss: 0.0648 - mae: 0.1726 - val_loss: 0.1132 - val_mae: 0.2769 - 273ms/epoch - 6ms/step\n",
      "Epoch 34/100\n",
      "42/42 - 0s - loss: 0.0703 - mae: 0.1761 - val_loss: 0.1236 - val_mae: 0.2909 - 224ms/epoch - 5ms/step\n",
      "Epoch 35/100\n",
      "42/42 - 0s - loss: 0.0699 - mae: 0.1793 - val_loss: 0.0898 - val_mae: 0.2405 - 227ms/epoch - 5ms/step\n",
      "Epoch 36/100\n",
      "42/42 - 0s - loss: 0.0679 - mae: 0.1711 - val_loss: 0.1248 - val_mae: 0.2935 - 228ms/epoch - 5ms/step\n",
      "Epoch 37/100\n",
      "42/42 - 0s - loss: 0.0598 - mae: 0.1655 - val_loss: 0.0714 - val_mae: 0.2065 - 300ms/epoch - 7ms/step\n",
      "Epoch 38/100\n",
      "42/42 - 0s - loss: 0.0589 - mae: 0.1596 - val_loss: 0.0953 - val_mae: 0.2477 - 224ms/epoch - 5ms/step\n",
      "Epoch 39/100\n",
      "42/42 - 0s - loss: 0.0683 - mae: 0.1746 - val_loss: 0.0912 - val_mae: 0.2415 - 232ms/epoch - 6ms/step\n",
      "Epoch 40/100\n",
      "42/42 - 0s - loss: 0.0600 - mae: 0.1661 - val_loss: 0.0976 - val_mae: 0.2528 - 268ms/epoch - 6ms/step\n",
      "Epoch 41/100\n",
      "42/42 - 0s - loss: 0.0564 - mae: 0.1563 - val_loss: 0.0790 - val_mae: 0.2201 - 318ms/epoch - 8ms/step\n",
      "Epoch 42/100\n",
      "42/42 - 0s - loss: 0.0624 - mae: 0.1646 - val_loss: 0.1145 - val_mae: 0.2764 - 263ms/epoch - 6ms/step\n",
      "Epoch 43/100\n",
      "42/42 - 0s - loss: 0.0707 - mae: 0.1788 - val_loss: 0.1467 - val_mae: 0.3189 - 237ms/epoch - 6ms/step\n",
      "Epoch 44/100\n",
      "42/42 - 0s - loss: 0.0705 - mae: 0.1774 - val_loss: 0.0975 - val_mae: 0.2512 - 307ms/epoch - 7ms/step\n",
      "Epoch 45/100\n",
      "42/42 - 0s - loss: 0.0636 - mae: 0.1647 - val_loss: 0.1041 - val_mae: 0.2605 - 297ms/epoch - 7ms/step\n",
      "Epoch 46/100\n",
      "42/42 - 0s - loss: 0.0627 - mae: 0.1662 - val_loss: 0.0955 - val_mae: 0.2477 - 227ms/epoch - 5ms/step\n",
      "Epoch 47/100\n",
      "42/42 - 0s - loss: 0.0594 - mae: 0.1583 - val_loss: 0.0628 - val_mae: 0.1875 - 283ms/epoch - 7ms/step\n",
      "Epoch 48/100\n",
      "42/42 - 0s - loss: 0.0546 - mae: 0.1546 - val_loss: 0.1093 - val_mae: 0.2687 - 228ms/epoch - 5ms/step\n",
      "Epoch 49/100\n",
      "42/42 - 0s - loss: 0.0610 - mae: 0.1631 - val_loss: 0.0703 - val_mae: 0.2043 - 271ms/epoch - 6ms/step\n",
      "Epoch 50/100\n",
      "42/42 - 0s - loss: 0.0527 - mae: 0.1494 - val_loss: 0.0993 - val_mae: 0.2528 - 295ms/epoch - 7ms/step\n",
      "Epoch 51/100\n",
      "42/42 - 0s - loss: 0.0585 - mae: 0.1604 - val_loss: 0.0736 - val_mae: 0.2095 - 297ms/epoch - 7ms/step\n",
      "Epoch 52/100\n",
      "42/42 - 0s - loss: 0.0520 - mae: 0.1503 - val_loss: 0.0850 - val_mae: 0.2292 - 237ms/epoch - 6ms/step\n",
      "Epoch 53/100\n",
      "42/42 - 0s - loss: 0.0529 - mae: 0.1543 - val_loss: 0.0839 - val_mae: 0.2282 - 219ms/epoch - 5ms/step\n",
      "Epoch 54/100\n",
      "42/42 - 0s - loss: 0.0564 - mae: 0.1560 - val_loss: 0.1093 - val_mae: 0.2680 - 254ms/epoch - 6ms/step\n",
      "Epoch 55/100\n",
      "42/42 - 0s - loss: 0.0553 - mae: 0.1585 - val_loss: 0.0738 - val_mae: 0.2096 - 245ms/epoch - 6ms/step\n",
      "Epoch 56/100\n",
      "42/42 - 0s - loss: 0.0567 - mae: 0.1520 - val_loss: 0.0758 - val_mae: 0.2134 - 217ms/epoch - 5ms/step\n",
      "Epoch 57/100\n",
      "42/42 - 0s - loss: 0.0594 - mae: 0.1611 - val_loss: 0.1260 - val_mae: 0.2922 - 256ms/epoch - 6ms/step\n",
      "Epoch 58/100\n",
      "42/42 - 0s - loss: 0.0572 - mae: 0.1625 - val_loss: 0.1079 - val_mae: 0.2651 - 284ms/epoch - 7ms/step\n",
      "Epoch 59/100\n",
      "42/42 - 0s - loss: 0.0604 - mae: 0.1650 - val_loss: 0.1356 - val_mae: 0.3049 - 349ms/epoch - 8ms/step\n",
      "Epoch 60/100\n",
      "42/42 - 0s - loss: 0.0589 - mae: 0.1639 - val_loss: 0.0948 - val_mae: 0.2458 - 324ms/epoch - 8ms/step\n",
      "Epoch 61/100\n",
      "42/42 - 0s - loss: 0.0512 - mae: 0.1462 - val_loss: 0.0825 - val_mae: 0.2248 - 276ms/epoch - 7ms/step\n",
      "Epoch 62/100\n",
      "42/42 - 0s - loss: 0.0537 - mae: 0.1498 - val_loss: 0.0810 - val_mae: 0.2213 - 263ms/epoch - 6ms/step\n",
      "Epoch 63/100\n",
      "42/42 - 0s - loss: 0.0502 - mae: 0.1451 - val_loss: 0.0860 - val_mae: 0.2301 - 238ms/epoch - 6ms/step\n",
      "Epoch 64/100\n",
      "42/42 - 0s - loss: 0.0588 - mae: 0.1564 - val_loss: 0.0764 - val_mae: 0.2116 - 345ms/epoch - 8ms/step\n",
      "Epoch 65/100\n",
      "42/42 - 0s - loss: 0.0539 - mae: 0.1564 - val_loss: 0.1206 - val_mae: 0.2810 - 230ms/epoch - 5ms/step\n",
      "Epoch 66/100\n",
      "42/42 - 0s - loss: 0.0541 - mae: 0.1533 - val_loss: 0.1026 - val_mae: 0.2563 - 225ms/epoch - 5ms/step\n",
      "Epoch 67/100\n",
      "42/42 - 0s - loss: 0.0551 - mae: 0.1548 - val_loss: 0.0763 - val_mae: 0.2138 - 310ms/epoch - 7ms/step\n",
      "Epoch 68/100\n",
      "42/42 - 0s - loss: 0.0513 - mae: 0.1490 - val_loss: 0.1305 - val_mae: 0.2930 - 399ms/epoch - 10ms/step\n",
      "Epoch 69/100\n",
      "42/42 - 0s - loss: 0.0616 - mae: 0.1630 - val_loss: 0.1006 - val_mae: 0.2500 - 313ms/epoch - 7ms/step\n",
      "Epoch 70/100\n",
      "42/42 - 0s - loss: 0.0519 - mae: 0.1496 - val_loss: 0.0879 - val_mae: 0.2332 - 218ms/epoch - 5ms/step\n",
      "Epoch 71/100\n",
      "42/42 - 0s - loss: 0.0555 - mae: 0.1574 - val_loss: 0.1275 - val_mae: 0.2906 - 222ms/epoch - 5ms/step\n",
      "Epoch 72/100\n",
      "42/42 - 0s - loss: 0.0602 - mae: 0.1663 - val_loss: 0.0850 - val_mae: 0.2292 - 321ms/epoch - 8ms/step\n"
     ]
    },
    {
     "name": "stdout",
     "output_type": "stream",
     "text": [
      "Epoch 73/100\n",
      "42/42 - 0s - loss: 0.0541 - mae: 0.1517 - val_loss: 0.1002 - val_mae: 0.2526 - 217ms/epoch - 5ms/step\n",
      "Epoch 74/100\n",
      "42/42 - 0s - loss: 0.0577 - mae: 0.1570 - val_loss: 0.0695 - val_mae: 0.1979 - 380ms/epoch - 9ms/step\n",
      "Epoch 75/100\n",
      "42/42 - 0s - loss: 0.0459 - mae: 0.1369 - val_loss: 0.0626 - val_mae: 0.1862 - 269ms/epoch - 6ms/step\n",
      "Epoch 76/100\n",
      "42/42 - 0s - loss: 0.0442 - mae: 0.1351 - val_loss: 0.0609 - val_mae: 0.1798 - 220ms/epoch - 5ms/step\n",
      "Epoch 77/100\n",
      "42/42 - 0s - loss: 0.0407 - mae: 0.1303 - val_loss: 0.0485 - val_mae: 0.1497 - 271ms/epoch - 6ms/step\n",
      "Epoch 78/100\n",
      "42/42 - 0s - loss: 0.0457 - mae: 0.1329 - val_loss: 0.0734 - val_mae: 0.2065 - 254ms/epoch - 6ms/step\n",
      "Epoch 79/100\n",
      "42/42 - 0s - loss: 0.0471 - mae: 0.1400 - val_loss: 0.0607 - val_mae: 0.1818 - 215ms/epoch - 5ms/step\n",
      "Epoch 80/100\n",
      "42/42 - 0s - loss: 0.0439 - mae: 0.1340 - val_loss: 0.0906 - val_mae: 0.2352 - 210ms/epoch - 5ms/step\n",
      "Epoch 81/100\n",
      "42/42 - 0s - loss: 0.0530 - mae: 0.1511 - val_loss: 0.1466 - val_mae: 0.3144 - 256ms/epoch - 6ms/step\n",
      "Epoch 82/100\n",
      "42/42 - 0s - loss: 0.0537 - mae: 0.1553 - val_loss: 0.0701 - val_mae: 0.1976 - 252ms/epoch - 6ms/step\n",
      "Epoch 83/100\n",
      "42/42 - 0s - loss: 0.0496 - mae: 0.1447 - val_loss: 0.1262 - val_mae: 0.2855 - 259ms/epoch - 6ms/step\n",
      "Epoch 84/100\n",
      "42/42 - 0s - loss: 0.0631 - mae: 0.1656 - val_loss: 0.1340 - val_mae: 0.2971 - 214ms/epoch - 5ms/step\n",
      "Epoch 85/100\n",
      "42/42 - 0s - loss: 0.0603 - mae: 0.1680 - val_loss: 0.0857 - val_mae: 0.2281 - 210ms/epoch - 5ms/step\n",
      "Epoch 86/100\n",
      "42/42 - 0s - loss: 0.0505 - mae: 0.1480 - val_loss: 0.0890 - val_mae: 0.2319 - 212ms/epoch - 5ms/step\n",
      "Epoch 87/100\n",
      "42/42 - 0s - loss: 0.0509 - mae: 0.1474 - val_loss: 0.0762 - val_mae: 0.2104 - 251ms/epoch - 6ms/step\n",
      "Epoch 88/100\n",
      "42/42 - 0s - loss: 0.0448 - mae: 0.1363 - val_loss: 0.0572 - val_mae: 0.1693 - 221ms/epoch - 5ms/step\n",
      "Epoch 89/100\n",
      "42/42 - 0s - loss: 0.0437 - mae: 0.1307 - val_loss: 0.0732 - val_mae: 0.2034 - 271ms/epoch - 6ms/step\n",
      "Epoch 90/100\n",
      "42/42 - 0s - loss: 0.0480 - mae: 0.1410 - val_loss: 0.0553 - val_mae: 0.1624 - 262ms/epoch - 6ms/step\n",
      "Epoch 91/100\n",
      "42/42 - 0s - loss: 0.0451 - mae: 0.1371 - val_loss: 0.0930 - val_mae: 0.2376 - 224ms/epoch - 5ms/step\n",
      "Epoch 92/100\n",
      "42/42 - 0s - loss: 0.0522 - mae: 0.1537 - val_loss: 0.1386 - val_mae: 0.3004 - 242ms/epoch - 6ms/step\n",
      "Epoch 93/100\n",
      "42/42 - 0s - loss: 0.0549 - mae: 0.1609 - val_loss: 0.0532 - val_mae: 0.1588 - 217ms/epoch - 5ms/step\n",
      "Epoch 94/100\n",
      "42/42 - 0s - loss: 0.0487 - mae: 0.1405 - val_loss: 0.1493 - val_mae: 0.3150 - 250ms/epoch - 6ms/step\n",
      "Epoch 95/100\n",
      "42/42 - 0s - loss: 0.0595 - mae: 0.1630 - val_loss: 0.0817 - val_mae: 0.2185 - 257ms/epoch - 6ms/step\n",
      "Epoch 96/100\n",
      "42/42 - 0s - loss: 0.0499 - mae: 0.1446 - val_loss: 0.1013 - val_mae: 0.2541 - 208ms/epoch - 5ms/step\n",
      "Epoch 97/100\n",
      "42/42 - 0s - loss: 0.0525 - mae: 0.1503 - val_loss: 0.1210 - val_mae: 0.2775 - 254ms/epoch - 6ms/step\n",
      "Epoch 98/100\n",
      "42/42 - 0s - loss: 0.0551 - mae: 0.1554 - val_loss: 0.1442 - val_mae: 0.3085 - 209ms/epoch - 5ms/step\n",
      "Epoch 99/100\n",
      "42/42 - 0s - loss: 0.0596 - mae: 0.1659 - val_loss: 0.0732 - val_mae: 0.2066 - 210ms/epoch - 5ms/step\n",
      "Epoch 100/100\n",
      "42/42 - 0s - loss: 0.0488 - mae: 0.1421 - val_loss: 0.0734 - val_mae: 0.2074 - 211ms/epoch - 5ms/step\n"
     ]
    }
   ],
   "source": [
    "RNN_History = RNN_Model.fit(X_train,y_train,epochs=100,batch_size = 50,validation_data=(X_valid,y_valid),shuffle=False, \n",
    "                    verbose = 2)"
   ]
  },
  {
   "cell_type": "code",
   "execution_count": 22,
   "id": "3242dc06",
   "metadata": {},
   "outputs": [
    {
     "name": "stdout",
     "output_type": "stream",
     "text": [
      "Epoch 1/100\n",
      "42/42 - 5s - loss: 0.8692 - mae: 0.7307 - val_loss: 0.4351 - val_mae: 0.5097 - 5s/epoch - 125ms/step\n",
      "Epoch 2/100\n",
      "42/42 - 0s - loss: 0.3558 - mae: 0.3989 - val_loss: 0.2074 - val_mae: 0.3397 - 372ms/epoch - 9ms/step\n",
      "Epoch 3/100\n",
      "42/42 - 0s - loss: 0.1888 - mae: 0.2754 - val_loss: 0.1902 - val_mae: 0.3285 - 371ms/epoch - 9ms/step\n",
      "Epoch 4/100\n",
      "42/42 - 0s - loss: 0.1625 - mae: 0.2759 - val_loss: 0.2000 - val_mae: 0.3343 - 371ms/epoch - 9ms/step\n",
      "Epoch 5/100\n",
      "42/42 - 0s - loss: 0.1468 - mae: 0.2659 - val_loss: 0.1914 - val_mae: 0.3263 - 370ms/epoch - 9ms/step\n",
      "Epoch 6/100\n",
      "42/42 - 0s - loss: 0.1317 - mae: 0.2495 - val_loss: 0.1763 - val_mae: 0.3101 - 378ms/epoch - 9ms/step\n",
      "Epoch 7/100\n",
      "42/42 - 0s - loss: 0.1140 - mae: 0.2321 - val_loss: 0.1614 - val_mae: 0.2922 - 368ms/epoch - 9ms/step\n",
      "Epoch 8/100\n",
      "42/42 - 0s - loss: 0.1004 - mae: 0.2158 - val_loss: 0.1525 - val_mae: 0.2817 - 431ms/epoch - 10ms/step\n",
      "Epoch 9/100\n",
      "42/42 - 0s - loss: 0.0891 - mae: 0.2035 - val_loss: 0.1404 - val_mae: 0.2659 - 400ms/epoch - 10ms/step\n",
      "Epoch 10/100\n",
      "42/42 - 0s - loss: 0.0812 - mae: 0.1875 - val_loss: 0.1480 - val_mae: 0.2758 - 485ms/epoch - 12ms/step\n",
      "Epoch 11/100\n",
      "42/42 - 1s - loss: 0.0760 - mae: 0.1822 - val_loss: 0.1336 - val_mae: 0.2640 - 572ms/epoch - 14ms/step\n",
      "Epoch 12/100\n",
      "42/42 - 0s - loss: 0.0740 - mae: 0.1807 - val_loss: 0.1337 - val_mae: 0.2590 - 384ms/epoch - 9ms/step\n",
      "Epoch 13/100\n",
      "42/42 - 0s - loss: 0.0652 - mae: 0.1657 - val_loss: 0.1311 - val_mae: 0.2549 - 385ms/epoch - 9ms/step\n",
      "Epoch 14/100\n",
      "42/42 - 0s - loss: 0.0683 - mae: 0.1681 - val_loss: 0.1275 - val_mae: 0.2521 - 385ms/epoch - 9ms/step\n",
      "Epoch 15/100\n",
      "42/42 - 0s - loss: 0.0628 - mae: 0.1627 - val_loss: 0.1258 - val_mae: 0.2516 - 372ms/epoch - 9ms/step\n",
      "Epoch 16/100\n",
      "42/42 - 0s - loss: 0.0606 - mae: 0.1591 - val_loss: 0.1273 - val_mae: 0.2519 - 389ms/epoch - 9ms/step\n",
      "Epoch 17/100\n",
      "42/42 - 1s - loss: 0.0640 - mae: 0.1637 - val_loss: 0.1308 - val_mae: 0.2593 - 517ms/epoch - 12ms/step\n",
      "Epoch 18/100\n",
      "42/42 - 0s - loss: 0.0621 - mae: 0.1616 - val_loss: 0.1259 - val_mae: 0.2558 - 386ms/epoch - 9ms/step\n",
      "Epoch 19/100\n",
      "42/42 - 0s - loss: 0.0634 - mae: 0.1640 - val_loss: 0.1311 - val_mae: 0.2591 - 370ms/epoch - 9ms/step\n",
      "Epoch 20/100\n",
      "42/42 - 0s - loss: 0.0579 - mae: 0.1583 - val_loss: 0.1437 - val_mae: 0.2809 - 382ms/epoch - 9ms/step\n",
      "Epoch 21/100\n",
      "42/42 - 0s - loss: 0.0674 - mae: 0.1744 - val_loss: 0.1399 - val_mae: 0.2668 - 375ms/epoch - 9ms/step\n",
      "Epoch 22/100\n",
      "42/42 - 0s - loss: 0.0565 - mae: 0.1531 - val_loss: 0.1297 - val_mae: 0.2594 - 386ms/epoch - 9ms/step\n",
      "Epoch 23/100\n",
      "42/42 - 0s - loss: 0.0545 - mae: 0.1538 - val_loss: 0.1245 - val_mae: 0.2522 - 380ms/epoch - 9ms/step\n",
      "Epoch 24/100\n",
      "42/42 - 0s - loss: 0.0576 - mae: 0.1590 - val_loss: 0.1259 - val_mae: 0.2566 - 371ms/epoch - 9ms/step\n",
      "Epoch 25/100\n",
      "42/42 - 0s - loss: 0.0565 - mae: 0.1556 - val_loss: 0.1202 - val_mae: 0.2487 - 383ms/epoch - 9ms/step\n",
      "Epoch 26/100\n",
      "42/42 - 0s - loss: 0.0572 - mae: 0.1561 - val_loss: 0.1546 - val_mae: 0.2905 - 382ms/epoch - 9ms/step\n",
      "Epoch 27/100\n",
      "42/42 - 0s - loss: 0.0577 - mae: 0.1609 - val_loss: 0.1260 - val_mae: 0.2626 - 386ms/epoch - 9ms/step\n",
      "Epoch 28/100\n",
      "42/42 - 0s - loss: 0.0541 - mae: 0.1580 - val_loss: 0.1469 - val_mae: 0.2800 - 370ms/epoch - 9ms/step\n",
      "Epoch 29/100\n",
      "42/42 - 0s - loss: 0.0522 - mae: 0.1496 - val_loss: 0.1236 - val_mae: 0.2584 - 378ms/epoch - 9ms/step\n",
      "Epoch 30/100\n",
      "42/42 - 0s - loss: 0.0559 - mae: 0.1559 - val_loss: 0.1472 - val_mae: 0.2797 - 376ms/epoch - 9ms/step\n",
      "Epoch 31/100\n",
      "42/42 - 0s - loss: 0.0512 - mae: 0.1455 - val_loss: 0.1177 - val_mae: 0.2497 - 371ms/epoch - 9ms/step\n",
      "Epoch 32/100\n",
      "42/42 - 0s - loss: 0.0521 - mae: 0.1519 - val_loss: 0.1460 - val_mae: 0.2809 - 376ms/epoch - 9ms/step\n",
      "Epoch 33/100\n",
      "42/42 - 0s - loss: 0.0589 - mae: 0.1582 - val_loss: 0.1470 - val_mae: 0.2882 - 386ms/epoch - 9ms/step\n",
      "Epoch 34/100\n",
      "42/42 - 0s - loss: 0.0526 - mae: 0.1528 - val_loss: 0.1194 - val_mae: 0.2523 - 375ms/epoch - 9ms/step\n",
      "Epoch 35/100\n",
      "42/42 - 0s - loss: 0.0524 - mae: 0.1517 - val_loss: 0.1161 - val_mae: 0.2468 - 377ms/epoch - 9ms/step\n",
      "Epoch 36/100\n",
      "42/42 - 0s - loss: 0.0552 - mae: 0.1573 - val_loss: 0.1533 - val_mae: 0.2909 - 388ms/epoch - 9ms/step\n",
      "Epoch 37/100\n",
      "42/42 - 0s - loss: 0.0533 - mae: 0.1513 - val_loss: 0.1298 - val_mae: 0.2707 - 371ms/epoch - 9ms/step\n",
      "Epoch 38/100\n",
      "42/42 - 0s - loss: 0.0565 - mae: 0.1598 - val_loss: 0.1568 - val_mae: 0.2893 - 372ms/epoch - 9ms/step\n",
      "Epoch 39/100\n",
      "42/42 - 0s - loss: 0.0509 - mae: 0.1476 - val_loss: 0.1118 - val_mae: 0.2438 - 384ms/epoch - 9ms/step\n",
      "Epoch 40/100\n",
      "42/42 - 1s - loss: 0.0504 - mae: 0.1449 - val_loss: 0.1160 - val_mae: 0.2419 - 651ms/epoch - 16ms/step\n",
      "Epoch 41/100\n",
      "42/42 - 0s - loss: 0.0479 - mae: 0.1380 - val_loss: 0.1070 - val_mae: 0.2332 - 376ms/epoch - 9ms/step\n",
      "Epoch 42/100\n",
      "42/42 - 0s - loss: 0.0441 - mae: 0.1385 - val_loss: 0.1326 - val_mae: 0.2624 - 493ms/epoch - 12ms/step\n",
      "Epoch 43/100\n",
      "42/42 - 0s - loss: 0.0469 - mae: 0.1405 - val_loss: 0.1158 - val_mae: 0.2501 - 424ms/epoch - 10ms/step\n",
      "Epoch 44/100\n",
      "42/42 - 1s - loss: 0.0465 - mae: 0.1447 - val_loss: 0.1379 - val_mae: 0.2694 - 627ms/epoch - 15ms/step\n",
      "Epoch 45/100\n",
      "42/42 - 0s - loss: 0.0494 - mae: 0.1433 - val_loss: 0.1088 - val_mae: 0.2412 - 420ms/epoch - 10ms/step\n",
      "Epoch 46/100\n",
      "42/42 - 0s - loss: 0.0498 - mae: 0.1439 - val_loss: 0.1307 - val_mae: 0.2631 - 411ms/epoch - 10ms/step\n",
      "Epoch 47/100\n",
      "42/42 - 0s - loss: 0.0439 - mae: 0.1387 - val_loss: 0.1108 - val_mae: 0.2448 - 371ms/epoch - 9ms/step\n",
      "Epoch 48/100\n",
      "42/42 - 0s - loss: 0.0462 - mae: 0.1437 - val_loss: 0.1026 - val_mae: 0.2265 - 369ms/epoch - 9ms/step\n",
      "Epoch 49/100\n",
      "42/42 - 0s - loss: 0.0456 - mae: 0.1344 - val_loss: 0.1013 - val_mae: 0.2250 - 384ms/epoch - 9ms/step\n",
      "Epoch 50/100\n",
      "42/42 - 0s - loss: 0.0453 - mae: 0.1386 - val_loss: 0.1118 - val_mae: 0.2403 - 382ms/epoch - 9ms/step\n",
      "Epoch 51/100\n",
      "42/42 - 0s - loss: 0.0398 - mae: 0.1305 - val_loss: 0.1034 - val_mae: 0.2331 - 389ms/epoch - 9ms/step\n",
      "Epoch 52/100\n",
      "42/42 - 1s - loss: 0.0440 - mae: 0.1384 - val_loss: 0.1070 - val_mae: 0.2365 - 528ms/epoch - 13ms/step\n",
      "Epoch 53/100\n",
      "42/42 - 0s - loss: 0.0419 - mae: 0.1332 - val_loss: 0.1019 - val_mae: 0.2306 - 423ms/epoch - 10ms/step\n",
      "Epoch 54/100\n",
      "42/42 - 0s - loss: 0.0435 - mae: 0.1381 - val_loss: 0.1125 - val_mae: 0.2453 - 363ms/epoch - 9ms/step\n",
      "Epoch 55/100\n",
      "42/42 - 0s - loss: 0.0435 - mae: 0.1368 - val_loss: 0.1190 - val_mae: 0.2604 - 365ms/epoch - 9ms/step\n",
      "Epoch 56/100\n",
      "42/42 - 0s - loss: 0.0484 - mae: 0.1476 - val_loss: 0.1176 - val_mae: 0.2476 - 365ms/epoch - 9ms/step\n",
      "Epoch 57/100\n",
      "42/42 - 0s - loss: 0.0426 - mae: 0.1326 - val_loss: 0.1081 - val_mae: 0.2432 - 358ms/epoch - 9ms/step\n",
      "Epoch 58/100\n",
      "42/42 - 0s - loss: 0.0465 - mae: 0.1405 - val_loss: 0.1326 - val_mae: 0.2658 - 357ms/epoch - 8ms/step\n",
      "Epoch 59/100\n",
      "42/42 - 0s - loss: 0.0454 - mae: 0.1366 - val_loss: 0.1125 - val_mae: 0.2477 - 366ms/epoch - 9ms/step\n",
      "Epoch 60/100\n",
      "42/42 - 0s - loss: 0.0460 - mae: 0.1406 - val_loss: 0.1643 - val_mae: 0.3002 - 360ms/epoch - 9ms/step\n",
      "Epoch 61/100\n",
      "42/42 - 0s - loss: 0.0506 - mae: 0.1511 - val_loss: 0.1484 - val_mae: 0.2959 - 351ms/epoch - 8ms/step\n",
      "Epoch 62/100\n",
      "42/42 - 0s - loss: 0.0527 - mae: 0.1537 - val_loss: 0.1269 - val_mae: 0.2691 - 355ms/epoch - 8ms/step\n",
      "Epoch 63/100\n",
      "42/42 - 0s - loss: 0.0494 - mae: 0.1452 - val_loss: 0.1013 - val_mae: 0.2335 - 360ms/epoch - 9ms/step\n",
      "Epoch 64/100\n",
      "42/42 - 0s - loss: 0.0468 - mae: 0.1414 - val_loss: 0.1094 - val_mae: 0.2423 - 350ms/epoch - 8ms/step\n",
      "Epoch 65/100\n",
      "42/42 - 0s - loss: 0.0422 - mae: 0.1337 - val_loss: 0.1694 - val_mae: 0.3034 - 363ms/epoch - 9ms/step\n",
      "Epoch 66/100\n",
      "42/42 - 0s - loss: 0.0510 - mae: 0.1494 - val_loss: 0.1224 - val_mae: 0.2652 - 357ms/epoch - 8ms/step\n",
      "Epoch 67/100\n",
      "42/42 - 0s - loss: 0.0465 - mae: 0.1404 - val_loss: 0.1074 - val_mae: 0.2435 - 349ms/epoch - 8ms/step\n",
      "Epoch 68/100\n",
      "42/42 - 0s - loss: 0.0484 - mae: 0.1425 - val_loss: 0.1016 - val_mae: 0.2348 - 350ms/epoch - 8ms/step\n",
      "Epoch 69/100\n",
      "42/42 - 0s - loss: 0.0426 - mae: 0.1348 - val_loss: 0.0984 - val_mae: 0.2230 - 355ms/epoch - 8ms/step\n",
      "Epoch 70/100\n",
      "42/42 - 0s - loss: 0.0381 - mae: 0.1235 - val_loss: 0.0901 - val_mae: 0.2112 - 351ms/epoch - 8ms/step\n",
      "Epoch 71/100\n",
      "42/42 - 0s - loss: 0.0427 - mae: 0.1338 - val_loss: 0.1776 - val_mae: 0.3060 - 351ms/epoch - 8ms/step\n",
      "Epoch 72/100\n",
      "42/42 - 0s - loss: 0.0428 - mae: 0.1366 - val_loss: 0.1120 - val_mae: 0.2524 - 356ms/epoch - 8ms/step\n"
     ]
    },
    {
     "name": "stdout",
     "output_type": "stream",
     "text": [
      "Epoch 73/100\n",
      "42/42 - 0s - loss: 0.0447 - mae: 0.1414 - val_loss: 0.1029 - val_mae: 0.2294 - 351ms/epoch - 8ms/step\n",
      "Epoch 74/100\n",
      "42/42 - 0s - loss: 0.0415 - mae: 0.1263 - val_loss: 0.0907 - val_mae: 0.2125 - 351ms/epoch - 8ms/step\n",
      "Epoch 75/100\n",
      "42/42 - 0s - loss: 0.0432 - mae: 0.1335 - val_loss: 0.0966 - val_mae: 0.2257 - 357ms/epoch - 9ms/step\n",
      "Epoch 76/100\n",
      "42/42 - 0s - loss: 0.0396 - mae: 0.1320 - val_loss: 0.0901 - val_mae: 0.2151 - 374ms/epoch - 9ms/step\n",
      "Epoch 77/100\n",
      "42/42 - 0s - loss: 0.0412 - mae: 0.1271 - val_loss: 0.0874 - val_mae: 0.2073 - 362ms/epoch - 9ms/step\n",
      "Epoch 78/100\n",
      "42/42 - 0s - loss: 0.0379 - mae: 0.1265 - val_loss: 0.1397 - val_mae: 0.2742 - 350ms/epoch - 8ms/step\n",
      "Epoch 79/100\n",
      "42/42 - 0s - loss: 0.0470 - mae: 0.1407 - val_loss: 0.1000 - val_mae: 0.2359 - 363ms/epoch - 9ms/step\n",
      "Epoch 80/100\n",
      "42/42 - 0s - loss: 0.0485 - mae: 0.1459 - val_loss: 0.1013 - val_mae: 0.2347 - 349ms/epoch - 8ms/step\n",
      "Epoch 81/100\n",
      "42/42 - 1s - loss: 0.0420 - mae: 0.1383 - val_loss: 0.1186 - val_mae: 0.2607 - 516ms/epoch - 12ms/step\n",
      "Epoch 82/100\n",
      "42/42 - 0s - loss: 0.0469 - mae: 0.1440 - val_loss: 0.1361 - val_mae: 0.2771 - 352ms/epoch - 8ms/step\n",
      "Epoch 83/100\n",
      "42/42 - 0s - loss: 0.0411 - mae: 0.1307 - val_loss: 0.0938 - val_mae: 0.2245 - 379ms/epoch - 9ms/step\n",
      "Epoch 84/100\n",
      "42/42 - 0s - loss: 0.0420 - mae: 0.1354 - val_loss: 0.0874 - val_mae: 0.2084 - 411ms/epoch - 10ms/step\n",
      "Epoch 85/100\n",
      "42/42 - 0s - loss: 0.0385 - mae: 0.1290 - val_loss: 0.1012 - val_mae: 0.2367 - 385ms/epoch - 9ms/step\n",
      "Epoch 86/100\n",
      "42/42 - 0s - loss: 0.0464 - mae: 0.1437 - val_loss: 0.1224 - val_mae: 0.2571 - 373ms/epoch - 9ms/step\n",
      "Epoch 87/100\n",
      "42/42 - 0s - loss: 0.0398 - mae: 0.1302 - val_loss: 0.0900 - val_mae: 0.2185 - 384ms/epoch - 9ms/step\n",
      "Epoch 88/100\n",
      "42/42 - 0s - loss: 0.0401 - mae: 0.1350 - val_loss: 0.0995 - val_mae: 0.2300 - 370ms/epoch - 9ms/step\n",
      "Epoch 89/100\n",
      "42/42 - 0s - loss: 0.0405 - mae: 0.1285 - val_loss: 0.0875 - val_mae: 0.2137 - 373ms/epoch - 9ms/step\n",
      "Epoch 90/100\n",
      "42/42 - 0s - loss: 0.0441 - mae: 0.1332 - val_loss: 0.1189 - val_mae: 0.2535 - 351ms/epoch - 8ms/step\n",
      "Epoch 91/100\n",
      "42/42 - 0s - loss: 0.0374 - mae: 0.1260 - val_loss: 0.0892 - val_mae: 0.2179 - 368ms/epoch - 9ms/step\n",
      "Epoch 92/100\n",
      "42/42 - 0s - loss: 0.0431 - mae: 0.1331 - val_loss: 0.0898 - val_mae: 0.2145 - 364ms/epoch - 9ms/step\n",
      "Epoch 93/100\n",
      "42/42 - 0s - loss: 0.0389 - mae: 0.1249 - val_loss: 0.1068 - val_mae: 0.2414 - 372ms/epoch - 9ms/step\n",
      "Epoch 94/100\n",
      "42/42 - 0s - loss: 0.0401 - mae: 0.1298 - val_loss: 0.0870 - val_mae: 0.2138 - 374ms/epoch - 9ms/step\n",
      "Epoch 95/100\n",
      "42/42 - 0s - loss: 0.0428 - mae: 0.1332 - val_loss: 0.1056 - val_mae: 0.2377 - 416ms/epoch - 10ms/step\n",
      "Epoch 96/100\n",
      "42/42 - 0s - loss: 0.0384 - mae: 0.1267 - val_loss: 0.0891 - val_mae: 0.2188 - 436ms/epoch - 10ms/step\n",
      "Epoch 97/100\n",
      "42/42 - 0s - loss: 0.0386 - mae: 0.1293 - val_loss: 0.0826 - val_mae: 0.2028 - 376ms/epoch - 9ms/step\n",
      "Epoch 98/100\n",
      "42/42 - 0s - loss: 0.0414 - mae: 0.1253 - val_loss: 0.0843 - val_mae: 0.2059 - 438ms/epoch - 10ms/step\n",
      "Epoch 99/100\n",
      "42/42 - 1s - loss: 0.0352 - mae: 0.1198 - val_loss: 0.1013 - val_mae: 0.2341 - 532ms/epoch - 13ms/step\n",
      "Epoch 100/100\n",
      "42/42 - 0s - loss: 0.0357 - mae: 0.1258 - val_loss: 0.0899 - val_mae: 0.2210 - 500ms/epoch - 12ms/step\n"
     ]
    }
   ],
   "source": [
    "LSTM_History = LSTM_Model.fit(X_train,y_train,epochs=100,batch_size = 50,validation_data=(X_valid,y_valid),shuffle=False, \n",
    "                    verbose = 2)"
   ]
  },
  {
   "cell_type": "markdown",
   "id": "faf4ba73",
   "metadata": {},
   "source": [
    "## Make Predictions"
   ]
  },
  {
   "cell_type": "code",
   "execution_count": 23,
   "id": "a1de18c6",
   "metadata": {},
   "outputs": [],
   "source": [
    "RNN_Predictions = RNN_Model.predict(X_test)\n",
    "LSTM_predictions = LSTM_Model.predict(X_test)"
   ]
  },
  {
   "cell_type": "markdown",
   "id": "c4439bc0",
   "metadata": {},
   "source": [
    "## Inverse Transform the Values"
   ]
  },
  {
   "cell_type": "code",
   "execution_count": 24,
   "id": "e5a0787e",
   "metadata": {},
   "outputs": [],
   "source": [
    "RNN_act_prd = std_scalar.inverse_transform(RNN_Predictions)\n",
    "LSTM_act_prd = std_scalar.inverse_transform(LSTM_predictions)"
   ]
  },
  {
   "cell_type": "markdown",
   "id": "1351476f",
   "metadata": {},
   "source": [
    "## Evalation Metrics (RMSE and MAE)"
   ]
  },
  {
   "cell_type": "code",
   "execution_count": 25,
   "id": "22ee211a",
   "metadata": {},
   "outputs": [
    {
     "name": "stdout",
     "output_type": "stream",
     "text": [
      "### RNN Model ###\n",
      "RMSE 9.715363292220541\n",
      "MAE 6.335043649824839\n"
     ]
    }
   ],
   "source": [
    "print(\"### RNN Model ###\")\n",
    "Y_test_res_RNN = std_scalar.inverse_transform(y_test)\n",
    "pre_RNN = RNN_act_prd[:,:1]\n",
    "\n",
    "rmse=np.sqrt(np.mean(((pre_RNN- Y_test_res_RNN)**2)))\n",
    "print(f\"RMSE {rmse}\"  )\n",
    "\n",
    "print(f\"MAE {mean_absolute_error(Y_test_res_RNN, pre_RNN)}\")"
   ]
  },
  {
   "cell_type": "code",
   "execution_count": 26,
   "id": "21b80903",
   "metadata": {},
   "outputs": [
    {
     "name": "stdout",
     "output_type": "stream",
     "text": [
      "### LSTM Model ###\n",
      "RMSE 11.515386909556055\n",
      "MAE 7.437573387509301\n"
     ]
    }
   ],
   "source": [
    "print(\"### LSTM Model ###\")\n",
    "Y_test_res_LSTM = std_scalar.inverse_transform(y_test)\n",
    "pre_LSTM = LSTM_act_prd[:,:1]\n",
    "\n",
    "rmse=np.sqrt(np.mean(((pre_LSTM- Y_test_res_LSTM)**2)))\n",
    "print(f\"RMSE {rmse}\"  )\n",
    "\n",
    "print(f\"MAE {mean_absolute_error(Y_test_res_LSTM, pre_LSTM)}\")"
   ]
  },
  {
   "cell_type": "code",
   "execution_count": 27,
   "id": "5e5e8c5e",
   "metadata": {},
   "outputs": [
    {
     "data": {
      "image/png": "[encoded data removed]",
      "text/plain": [
       "<Figure size 432x288 with 1 Axes>"
      ]
     },
     "metadata": {
      "needs_background": "light"
     },
     "output_type": "display_data"
    }
   ],
   "source": [
    "plot =pd.DataFrame()\n",
    "plot[\"pred\"]=list(map(float, pre_LSTM))\n",
    "plot[\"real\"]=list(map(float, Y_test_res_LSTM))\n",
    "plot[\"date\"]=X_test_split.index[:-steps]\n",
    "plot.plot(kind=\"line\", x=\"date\", title=\"Plot curve of predicted and actual close prices using LSTM\")\n",
    "plt.show()"
   ]
  },
  {
   "cell_type": "code",
   "execution_count": 28,
   "id": "16738d2b",
   "metadata": {},
   "outputs": [
    {
     "data": {
      "image/png": "[encoded data removed]",
      "text/plain": [
       "<Figure size 432x288 with 1 Axes>"
      ]
     },
     "metadata": {
      "needs_background": "light"
     },
     "output_type": "display_data"
    }
   ],
   "source": [
    "plot =pd.DataFrame()\n",
    "plot[\"pred\"]=list(map(float, pre_RNN))\n",
    "plot[\"real\"]=list(map(float, Y_test_res_RNN))\n",
    "plot[\"date\"]=X_test_split.index[:-steps]\n",
    "plot.plot(kind=\"line\", x=\"date\", title=\"Plot curve of predicted and actual close prices using RNN\")\n",
    "plt.show()"
   ]
  },
  {
   "cell_type": "code",
   "execution_count": 29,
   "id": "6a9be8ed",
   "metadata": {},
   "outputs": [
    {
     "data": {
      "image/png": "[encoded data removed]",
      "text/plain": [
       "<Figure size 432x288 with 1 Axes>"
      ]
     },
     "metadata": {
      "needs_background": "light"
     },
     "output_type": "display_data"
    }
   ],
   "source": [
    "plt.plot(LSTM_History.history['loss'])\n",
    "plt.plot(LSTM_History.history['val_loss'])\n",
    "plt.title('Model Loss LSTM')\n",
    "plt.ylabel('Loss')\n",
    "plt.xlabel('Epochs')\n",
    "plt.legend(['Train', 'Validation'], loc='upper right')\n",
    "plt.show()"
   ]
  },
  {
   "cell_type": "code",
   "execution_count": 30,
   "id": "57b535a4",
   "metadata": {},
   "outputs": [
    {
     "data": {
      "image/png": "[encoded data removed]",
      "text/plain": [
       "<Figure size 432x288 with 1 Axes>"
      ]
     },
     "metadata": {
      "needs_background": "light"
     },
     "output_type": "display_data"
    }
   ],
   "source": [
    "plt.plot(RNN_History.history['loss'])\n",
    "plt.plot(RNN_History.history['val_loss'])\n",
    "plt.title('Model Loss RNN')\n",
    "plt.ylabel('Loss')\n",
    "plt.xlabel('Epoch')\n",
    "plt.legend(['Train', 'Validation'], loc='upper right')\n",
    "plt.show()"
   ]
  },
  {
   "cell_type": "code",
   "execution_count": 31,
   "id": "d301aca8",
   "metadata": {},
   "outputs": [
    {
     "data": {
      "image/png": "[encoded data removed]",
      "text/plain": [
       "<Figure size 432x288 with 1 Axes>"
      ]
     },
     "metadata": {
      "needs_background": "light"
     },
     "output_type": "display_data"
    }
   ],
   "source": [
    "plt.plot(LSTM_History.history['mae'])\n",
    "plt.plot(LSTM_History.history['val_mae'])\n",
    "plt.title('Model MAE  LSTM')\n",
    "plt.ylabel('MAE')\n",
    "plt.xlabel('Epochs')\n",
    "plt.legend(['Train', 'validation'], loc='upper right')\n",
    "plt.show()"
   ]
  },
  {
   "cell_type": "code",
   "execution_count": 32,
   "id": "54c98c45",
   "metadata": {},
   "outputs": [
    {
     "data": {
      "image/png": "[encoded data removed]",
      "text/plain": [
       "<Figure size 432x288 with 1 Axes>"
      ]
     },
     "metadata": {
      "needs_background": "light"
     },
     "output_type": "display_data"
    }
   ],
   "source": [
    "plt.plot(RNN_History.history['mae'])\n",
    "plt.plot(RNN_History.history['val_mae'])\n",
    "plt.title('Model MAE RNN')\n",
    "plt.ylabel('MAE')\n",
    "plt.xlabel('Epochs')\n",
    "plt.legend(['Train', 'Validation'], loc='upper left')\n",
    "plt.show()"
   ]
  },
  {
   "cell_type": "markdown",
   "id": "1da1e317",
   "metadata": {},
   "source": [
    "## Conclusion\n",
    "\n",
    "1. For ADBL Bank LSTM and RNN Models used for Stock Price Prediction\n",
    "2. The Error is Low for RNN Model"
   ]
  }
 ],
 "metadata": {
  "kernelspec": {
   "display_name": "Python 3 (ipykernel)",
   "language": "python",
   "name": "python3"
  },
  "language_info": {
   "codemirror_mode": {
    "name": "ipython",
    "version": 3
   },
   "file_extension": ".py",
   "mimetype": "text/x-python",
   "name": "python",
   "nbconvert_exporter": "python",
   "pygments_lexer": "ipython3",
   "version": "3.8.10"
  }
 },
 "nbformat": 4,
 "nbformat_minor": 5
}
